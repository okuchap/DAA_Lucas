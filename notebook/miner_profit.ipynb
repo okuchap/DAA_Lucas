{
 "cells": [
  {
   "cell_type": "code",
   "execution_count": 1,
   "metadata": {
    "ExecuteTime": {
     "end_time": "2019-09-12T08:20:31.703871Z",
     "start_time": "2019-09-12T08:20:29.909256Z"
    }
   },
   "outputs": [],
   "source": [
    "%matplotlib inline\n",
    "%load_ext autoreload\n",
    "import numpy as np\n",
    "import matplotlib as mpl\n",
    "import matplotlib.pyplot as plt\n",
    "import pandas as pd\n",
    "import pathlib\n",
    "import time\n",
    "from datetime import datetime\n",
    "import scipy.optimize as opt\n",
    "np.set_printoptions(precision=3)\n",
    "np.set_printoptions(suppress=True)\n",
    "#plt.style.use(\"ggplot\")\n",
    "mpl.pyplot.rcParams['figure.figsize'] = (5.0, 4.0)\n",
    "plt.rcParams[\"font.size\"] = 13\n",
    "#mpl.rcParams[\"font.family\"] = 'Osaka'\n",
    "\n",
    "import sys\n",
    "sys.path.append('../code/')\n",
    "\n",
    "#from hash import *\n",
    "#from plot_path import *\n",
    "from simulation_additional import *"
   ]
  },
  {
   "cell_type": "markdown",
   "metadata": {},
   "source": [
    "## simulation for additional results"
   ]
  },
  {
   "cell_type": "markdown",
   "metadata": {},
   "source": [
    "### As for $w^*$\n",
    "\n",
    "* `opt_w` is a function that computes the optimal winning rate given a price.\n",
    "    - The function is implicitly defined; compute it in advance and save it as an array. (`opt_w.csv`)\n",
    "    - For range $[100, 11000]$, we have $w^*$ for every \\$50."
   ]
  },
  {
   "cell_type": "markdown",
   "metadata": {},
   "source": [
    "### As for miners' profits\n",
    "\n",
    "* Suppose that you have one unit (1 EHash/s) of mining facility with marginal cost $c$.\n",
    "\n",
    "* How much net profit can you earn for 84 days (12 weeks).\n",
    "\n",
    "* Given a price path and cost $c$, the 84-day expected net profit is $\\sum_t \\max\\{0, (R(t) - c)\\}$ under various DAAs．\n",
    "    - compute the average over all 5000 paths.\n",
    "    - for each $c$ in [0.5, 1, 1.5, ..., 4.0, 4.5].\n",
    "\n",
    "* Below, DAA-0 corresponds to the first-best DAA: it chooses $W^*(t)$ every period."
   ]
  },
  {
   "cell_type": "markdown",
   "metadata": {},
   "source": [
    "Rewrite the code in order to store the following data:\n",
    "1. realized winning rate $w$\n",
    "1. optimal winning rate $w^*$\n",
    "1. expected reward(/EHash) $R$ \n",
    "1. Hash rate $H$\n",
    "1. Block time $B$"
   ]
  },
  {
   "cell_type": "markdown",
   "metadata": {},
   "source": [
    "### Conduct simulations\n",
    "\n",
    "* All the functions used below are written in `simulation_additional.py`."
   ]
  },
  {
   "cell_type": "code",
   "execution_count": 3,
   "metadata": {
    "ExecuteTime": {
     "end_time": "2019-08-31T14:23:25.636304Z",
     "start_time": "2019-08-31T14:23:23.298609Z"
    }
   },
   "outputs": [],
   "source": [
    "dir_sim = '/Volumes/Data/research/BDA/simulation/'\n",
    "df_opt_w = pd.read_csv(dir_sim + 'opt_w.csv', index_col=0)"
   ]
  },
  {
   "cell_type": "code",
   "execution_count": 11,
   "metadata": {
    "ExecuteTime": {
     "end_time": "2019-08-31T00:58:04.590302Z",
     "start_time": "2019-08-31T00:58:04.579395Z"
    }
   },
   "outputs": [
    {
     "data": {
      "text/html": [
       "<div>\n",
       "<style scoped>\n",
       "    .dataframe tbody tr th:only-of-type {\n",
       "        vertical-align: middle;\n",
       "    }\n",
       "\n",
       "    .dataframe tbody tr th {\n",
       "        vertical-align: top;\n",
       "    }\n",
       "\n",
       "    .dataframe thead th {\n",
       "        text-align: right;\n",
       "    }\n",
       "</style>\n",
       "<table border=\"1\" class=\"dataframe\">\n",
       "  <thead>\n",
       "    <tr style=\"text-align: right;\">\n",
       "      <th></th>\n",
       "      <th>opt_w</th>\n",
       "    </tr>\n",
       "  </thead>\n",
       "  <tbody>\n",
       "    <tr>\n",
       "      <th>100</th>\n",
       "      <td>0.000480</td>\n",
       "    </tr>\n",
       "    <tr>\n",
       "      <th>150</th>\n",
       "      <td>0.000370</td>\n",
       "    </tr>\n",
       "    <tr>\n",
       "      <th>200</th>\n",
       "      <td>0.000306</td>\n",
       "    </tr>\n",
       "    <tr>\n",
       "      <th>250</th>\n",
       "      <td>0.000263</td>\n",
       "    </tr>\n",
       "    <tr>\n",
       "      <th>300</th>\n",
       "      <td>0.000232</td>\n",
       "    </tr>\n",
       "  </tbody>\n",
       "</table>\n",
       "</div>"
      ],
      "text/plain": [
       "        opt_w\n",
       "100  0.000480\n",
       "150  0.000370\n",
       "200  0.000306\n",
       "250  0.000263\n",
       "300  0.000232"
      ]
     },
     "execution_count": 11,
     "metadata": {},
     "output_type": "execute_result"
    }
   ],
   "source": [
    "df_opt_w.head()"
   ]
  },
  {
   "cell_type": "code",
   "execution_count": 21,
   "metadata": {
    "ExecuteTime": {
     "end_time": "2019-08-31T02:19:15.663940Z",
     "start_time": "2019-08-31T02:19:06.646407Z"
    }
   },
   "outputs": [],
   "source": [
    "df_price = pd.read_csv(dir_sim+'sim_prices_ps=0.csv')"
   ]
  },
  {
   "cell_type": "code",
   "execution_count": 5,
   "metadata": {
    "ExecuteTime": {
     "end_time": "2019-08-31T14:24:19.834361Z",
     "start_time": "2019-08-31T14:23:51.498487Z"
    }
   },
   "outputs": [],
   "source": [
    "# data for pre-simulation period\n",
    "path = '../data/BTCdata_presim.csv'\n",
    "df = pd.read_csv(path)\n",
    "df['time'] = pd.to_datetime(df['time'])\n",
    "df = df.rename(columns={'blocktime': 'block_times', 'price': 'prices', 'probability of success /Eh': 'winning_rates'})\n",
    "df.head()\n",
    "\n",
    "# test\n",
    "dir_sim = '/Volumes/Data/research/BDA/simulation/'\n",
    "df_opt_w = pd.read_csv(dir_sim + 'opt_w.csv', index_col=0)\n",
    "df_price = pd.read_csv(dir_sim+'sim_prices_ps=0.csv')\n",
    "df_exprvs = pd.read_csv(dir_sim+'sim_exprvs.csv')\n",
    "df_BTC = pd.DataFrame()"
   ]
  },
  {
   "cell_type": "code",
   "execution_count": 6,
   "metadata": {
    "ExecuteTime": {
     "end_time": "2019-08-31T14:24:23.664485Z",
     "start_time": "2019-08-31T14:24:22.586526Z"
    }
   },
   "outputs": [],
   "source": [
    "sim = simulation(prev_data=df)\n",
    "prices = df_price.loc[:, 'iter_0']\n",
    "exprvs = df_exprvs.loc[:, 'iter_0']\n",
    "sim.sim_DAA_1(prices=prices, exprvs=exprvs, df_opt_w=df_opt_w)"
   ]
  },
  {
   "cell_type": "code",
   "execution_count": 7,
   "metadata": {
    "ExecuteTime": {
     "end_time": "2019-08-31T14:24:28.416000Z",
     "start_time": "2019-08-31T14:24:28.376322Z"
    }
   },
   "outputs": [
    {
     "data": {
      "text/plain": [
       "array([ 1.183,  8.023, 25.506, ..., 11.547,  6.028,  8.499])"
      ]
     },
     "execution_count": 7,
     "metadata": {},
     "output_type": "execute_result"
    }
   ],
   "source": [
    "sim.block_times"
   ]
  },
  {
   "cell_type": "code",
   "execution_count": 8,
   "metadata": {
    "ExecuteTime": {
     "end_time": "2019-08-31T14:24:30.036612Z",
     "start_time": "2019-08-31T14:24:30.030997Z"
    }
   },
   "outputs": [
    {
     "data": {
      "text/plain": [
       "array([30.333, 30.299, 30.173, ..., 45.086, 45.069, 45.106])"
      ]
     },
     "execution_count": 8,
     "metadata": {},
     "output_type": "execute_result"
    }
   ],
   "source": [
    "sim.hash_rates"
   ]
  },
  {
   "cell_type": "code",
   "execution_count": 9,
   "metadata": {
    "ExecuteTime": {
     "end_time": "2019-08-31T14:24:33.681588Z",
     "start_time": "2019-08-31T14:24:33.676359Z"
    }
   },
   "outputs": [
    {
     "data": {
      "text/plain": [
       "array([1.569, 1.568, 1.565, ..., 2.005, 2.004, 2.006])"
      ]
     },
     "execution_count": 9,
     "metadata": {},
     "output_type": "execute_result"
    }
   ],
   "source": [
    "sim.expected_rewards"
   ]
  },
  {
   "cell_type": "code",
   "execution_count": 10,
   "metadata": {
    "ExecuteTime": {
     "end_time": "2019-08-31T14:24:38.097786Z",
     "start_time": "2019-08-31T14:24:38.090661Z"
    }
   },
   "outputs": [
    {
     "data": {
      "text/plain": [
       "array([0., 0., 0., ..., 0., 0., 0.])"
      ]
     },
     "execution_count": 10,
     "metadata": {},
     "output_type": "execute_result"
    }
   ],
   "source": [
    "sim.winning_rates"
   ]
  },
  {
   "cell_type": "code",
   "execution_count": 11,
   "metadata": {
    "ExecuteTime": {
     "end_time": "2019-08-31T14:24:41.977959Z",
     "start_time": "2019-08-31T14:24:41.971520Z"
    }
   },
   "outputs": [
    {
     "data": {
      "text/plain": [
       "array([0., 0., 0., ..., 0., 0., 0.])"
      ]
     },
     "execution_count": 11,
     "metadata": {},
     "output_type": "execute_result"
    }
   ],
   "source": [
    "sim.optimal_winning_rates"
   ]
  },
  {
   "cell_type": "code",
   "execution_count": 12,
   "metadata": {
    "ExecuteTime": {
     "end_time": "2019-08-31T14:24:49.868642Z",
     "start_time": "2019-08-31T14:24:48.395417Z"
    }
   },
   "outputs": [],
   "source": [
    "sim = simulation(prev_data=df)\n",
    "sim.sim_DAA_2(prices=prices, exprvs=exprvs, df_opt_w=df_opt_w)"
   ]
  },
  {
   "cell_type": "code",
   "execution_count": 13,
   "metadata": {
    "ExecuteTime": {
     "end_time": "2019-08-31T14:24:58.254396Z",
     "start_time": "2019-08-31T14:24:58.249001Z"
    }
   },
   "outputs": [
    {
     "data": {
      "text/plain": [
       "array([1.632, 1.612, 1.613, ..., 2.455, 2.457, 2.436])"
      ]
     },
     "execution_count": 13,
     "metadata": {},
     "output_type": "execute_result"
    }
   ],
   "source": [
    "sim.expected_rewards"
   ]
  },
  {
   "cell_type": "code",
   "execution_count": 4,
   "metadata": {
    "ExecuteTime": {
     "end_time": "2019-08-31T03:32:05.745087Z",
     "start_time": "2019-08-31T03:32:04.725946Z"
    }
   },
   "outputs": [],
   "source": [
    "sim = simulation(prev_data=df)\n",
    "sim.sim_DAA_0(prices=prices, exprvs=exprvs, df_opt_w=df_opt_w)"
   ]
  },
  {
   "cell_type": "markdown",
   "metadata": {},
   "source": [
    "### simulation with small dataset"
   ]
  },
  {
   "cell_type": "code",
   "execution_count": 2,
   "metadata": {
    "ExecuteTime": {
     "end_time": "2019-08-31T14:38:05.731232Z",
     "start_time": "2019-08-31T14:38:05.622041Z"
    }
   },
   "outputs": [
    {
     "data": {
      "text/html": [
       "<div>\n",
       "<style scoped>\n",
       "    .dataframe tbody tr th:only-of-type {\n",
       "        vertical-align: middle;\n",
       "    }\n",
       "\n",
       "    .dataframe tbody tr th {\n",
       "        vertical-align: top;\n",
       "    }\n",
       "\n",
       "    .dataframe thead th {\n",
       "        text-align: right;\n",
       "    }\n",
       "</style>\n",
       "<table border=\"1\" class=\"dataframe\">\n",
       "  <thead>\n",
       "    <tr style=\"text-align: right;\">\n",
       "      <th></th>\n",
       "      <th>height</th>\n",
       "      <th>time</th>\n",
       "      <th>block_times</th>\n",
       "      <th>prices</th>\n",
       "      <th>winning_rates</th>\n",
       "      <th>expected return (USD/Eh)</th>\n",
       "    </tr>\n",
       "  </thead>\n",
       "  <tbody>\n",
       "    <tr>\n",
       "      <th>0</th>\n",
       "      <td>549427</td>\n",
       "      <td>2018-11-09 19:26:14</td>\n",
       "      <td>5.783333</td>\n",
       "      <td>6343.32</td>\n",
       "      <td>0.000032</td>\n",
       "      <td>2.587754</td>\n",
       "    </tr>\n",
       "    <tr>\n",
       "      <th>1</th>\n",
       "      <td>549428</td>\n",
       "      <td>2018-11-09 19:26:20</td>\n",
       "      <td>0.100000</td>\n",
       "      <td>6343.32</td>\n",
       "      <td>0.000032</td>\n",
       "      <td>2.574300</td>\n",
       "    </tr>\n",
       "    <tr>\n",
       "      <th>2</th>\n",
       "      <td>549429</td>\n",
       "      <td>2018-11-09 19:37:51</td>\n",
       "      <td>11.516667</td>\n",
       "      <td>6341.26</td>\n",
       "      <td>0.000032</td>\n",
       "      <td>2.593078</td>\n",
       "    </tr>\n",
       "    <tr>\n",
       "      <th>3</th>\n",
       "      <td>549430</td>\n",
       "      <td>2018-11-09 19:45:57</td>\n",
       "      <td>8.100000</td>\n",
       "      <td>6341.26</td>\n",
       "      <td>0.000032</td>\n",
       "      <td>2.595087</td>\n",
       "    </tr>\n",
       "    <tr>\n",
       "      <th>4</th>\n",
       "      <td>549431</td>\n",
       "      <td>2018-11-09 19:54:51</td>\n",
       "      <td>8.900000</td>\n",
       "      <td>6341.26</td>\n",
       "      <td>0.000032</td>\n",
       "      <td>2.591786</td>\n",
       "    </tr>\n",
       "  </tbody>\n",
       "</table>\n",
       "</div>"
      ],
      "text/plain": [
       "   height                time  block_times   prices  winning_rates  \\\n",
       "0  549427 2018-11-09 19:26:14     5.783333  6343.32       0.000032   \n",
       "1  549428 2018-11-09 19:26:20     0.100000  6343.32       0.000032   \n",
       "2  549429 2018-11-09 19:37:51    11.516667  6341.26       0.000032   \n",
       "3  549430 2018-11-09 19:45:57     8.100000  6341.26       0.000032   \n",
       "4  549431 2018-11-09 19:54:51     8.900000  6341.26       0.000032   \n",
       "\n",
       "   expected return (USD/Eh)  \n",
       "0                  2.587754  \n",
       "1                  2.574300  \n",
       "2                  2.593078  \n",
       "3                  2.595087  \n",
       "4                  2.591786  "
      ]
     },
     "execution_count": 2,
     "metadata": {},
     "output_type": "execute_result"
    }
   ],
   "source": [
    "# data for pre-simulation period\n",
    "path = '../data/BTCdata_presim.csv'\n",
    "prev_data = pd.read_csv(path)\n",
    "prev_data['time'] = pd.to_datetime(prev_data['time'])\n",
    "prev_data = prev_data.rename(columns={'blocktime': 'block_times', 'price': 'prices', 'probability of success /Eh': 'winning_rates'})\n",
    "\n",
    "# test\n",
    "dir_sim = '/Volumes/Data/research/BDA/simulation/'\n",
    "df_opt_w = pd.read_csv(dir_sim + 'opt_w.csv', index_col=0)\n",
    "#df_price = pd.read_csv(dir_sim+'sim_prices_ps=0.csv')\n",
    "#df_exprvs = pd.read_csv(dir_sim+'sim_exprvs.csv')\n",
    "\n",
    "prev_data.head()"
   ]
  },
  {
   "cell_type": "code",
   "execution_count": 3,
   "metadata": {
    "ExecuteTime": {
     "end_time": "2019-08-31T14:41:49.698704Z",
     "start_time": "2019-08-31T14:38:19.064122Z"
    }
   },
   "outputs": [],
   "source": [
    "np.random.seed(2019831)\n",
    "generate_simulation_data(num_iter=5, prev_data=prev_data)"
   ]
  },
  {
   "cell_type": "markdown",
   "metadata": {},
   "source": [
    "### Simulation with large dataset"
   ]
  },
  {
   "cell_type": "code",
   "execution_count": 4,
   "metadata": {
    "ExecuteTime": {
     "end_time": "2019-09-01T04:58:00.840917Z",
     "start_time": "2019-08-31T14:49:45.471857Z"
    }
   },
   "outputs": [],
   "source": [
    "np.random.seed(2019831)\n",
    "generate_simulation_data(num_iter=5000, prev_data=prev_data)"
   ]
  },
  {
   "cell_type": "markdown",
   "metadata": {},
   "source": [
    "### The errors under various DAAs"
   ]
  },
  {
   "cell_type": "markdown",
   "metadata": {},
   "source": [
    "#### The errors under DAA-1, DAA-2"
   ]
  },
  {
   "cell_type": "markdown",
   "metadata": {},
   "source": [
    "Compute the sum of squeared error for each path $p_n$ $(n = 0, \\dots, 4999)$\n",
    "\\[\n",
    "e_n := \\sum_t [w(t) - w^*(t)]^2\n",
    "\\]\n",
    "and compute\n",
    "\\[\n",
    "\\frac{1}{5000} \\sum_{n} e_n\n",
    "\\]\n",
    "(MSE for a path)"
   ]
  },
  {
   "cell_type": "code",
   "execution_count": 71,
   "metadata": {
    "ExecuteTime": {
     "end_time": "2019-09-01T07:51:56.444096Z",
     "start_time": "2019-09-01T07:51:56.423195Z"
    }
   },
   "outputs": [],
   "source": [
    "def MSE(df1=pd.DataFrame(), df2=pd.DataFrame()):\n",
    "    '''\n",
    "    The name of columns should be iter_0, iter_2, ..., iter_4999.\n",
    "    '''\n",
    "    array1 = df1.values\n",
    "    array2 = df2.values\n",
    "    \n",
    "    array1[np.isnan(array1)] = 0\n",
    "    array2[np.isnan(array2)] = 0\n",
    "    \n",
    "    temp = array1 - array2\n",
    "    temp = temp**2\n",
    "    \n",
    "    temp = np.mean(temp, axis=0)\n",
    "    temp = np.mean(temp)\n",
    "    return temp"
   ]
  },
  {
   "cell_type": "code",
   "execution_count": 75,
   "metadata": {
    "ExecuteTime": {
     "end_time": "2019-09-01T07:54:33.821332Z",
     "start_time": "2019-09-01T07:53:44.096317Z"
    }
   },
   "outputs": [],
   "source": [
    "#dir_sim = '/Volumes/Data/research/BDA/simulation/'\n",
    "dir_sim = '/Users/kyo/prog/BDA/simulated_data/'\n",
    "df_daa1_winrate = pd.read_csv(dir_sim + 'DAA-1_winrate_ps0_5000obs.csv', index_col=0)\n",
    "df_daa1_optwinrate = pd.read_csv(dir_sim + 'DAA-1_optwinrate_ps0_5000obs.csv', index_col=0)"
   ]
  },
  {
   "cell_type": "code",
   "execution_count": 78,
   "metadata": {
    "ExecuteTime": {
     "end_time": "2019-09-01T07:55:59.253592Z",
     "start_time": "2019-09-01T07:55:58.533682Z"
    }
   },
   "outputs": [
    {
     "data": {
      "text/plain": [
       "1.35755571152717e-10"
      ]
     },
     "execution_count": 78,
     "metadata": {},
     "output_type": "execute_result"
    }
   ],
   "source": [
    "error_DAA1 = MSE(df1=df_daa1_winrate, df2=df_daa1_optwinrate)\n",
    "error_DAA1"
   ]
  },
  {
   "cell_type": "code",
   "execution_count": 79,
   "metadata": {
    "ExecuteTime": {
     "end_time": "2019-09-01T07:56:04.420162Z",
     "start_time": "2019-09-01T07:56:03.829941Z"
    }
   },
   "outputs": [
    {
     "data": {
      "text/plain": [
       "5433"
      ]
     },
     "execution_count": 79,
     "metadata": {},
     "output_type": "execute_result"
    }
   ],
   "source": [
    "# free up memory\n",
    "del df_daa1_optwinrate, df_daa1_winrate\n",
    "gc.collect()"
   ]
  },
  {
   "cell_type": "code",
   "execution_count": 80,
   "metadata": {
    "ExecuteTime": {
     "end_time": "2019-09-01T07:57:40.990994Z",
     "start_time": "2019-09-01T07:56:51.180884Z"
    }
   },
   "outputs": [
    {
     "data": {
      "text/plain": [
       "5.6909088461042424e-12"
      ]
     },
     "execution_count": 80,
     "metadata": {},
     "output_type": "execute_result"
    }
   ],
   "source": [
    "#dir_sim = '/Volumes/Data/research/BDA/simulation/'\n",
    "dir_sim = '/Users/kyo/prog/BDA/simulated_data/'\n",
    "df_daa2_winrate = pd.read_csv(dir_sim + 'DAA-2_winrate_ps0_5000obs.csv', index_col=0)\n",
    "df_daa2_optwinrate = pd.read_csv(dir_sim + 'DAA-2_optwinrate_ps0_5000obs.csv', index_col=0)\n",
    "\n",
    "error_DAA2 = MSE(df1=df_daa2_winrate, df2=df_daa2_optwinrate)\n",
    "error_DAA2"
   ]
  },
  {
   "cell_type": "markdown",
   "metadata": {},
   "source": [
    "* MSE under DAA-1 is $1.358 \\times 10^{-10}$.\n",
    "\n",
    "* MSE under DAA-2 is $5.691 \\times 10^{-12}$."
   ]
  },
  {
   "cell_type": "code",
   "execution_count": 82,
   "metadata": {
    "ExecuteTime": {
     "end_time": "2019-09-01T08:12:07.437489Z",
     "start_time": "2019-09-01T08:12:07.430788Z"
    }
   },
   "outputs": [
    {
     "data": {
      "text/plain": [
       "23.8548138485208"
      ]
     },
     "execution_count": 82,
     "metadata": {},
     "output_type": "execute_result"
    }
   ],
   "source": [
    "error_DAA1/error_DAA2"
   ]
  },
  {
   "cell_type": "markdown",
   "metadata": {},
   "source": [
    "### Miners' payoff"
   ]
  },
  {
   "cell_type": "code",
   "execution_count": 11,
   "metadata": {
    "ExecuteTime": {
     "end_time": "2019-09-01T22:47:49.166182Z",
     "start_time": "2019-09-01T22:47:49.158960Z"
    }
   },
   "outputs": [],
   "source": [
    "def MeanExpectedReward(df_expreward, miner_cost):\n",
    "    temp = df_expreward.values\n",
    "    temp[np.isnan(temp)] = 0\n",
    "    temp = temp - miner_cost\n",
    "    temp[temp < 0] = 0\n",
    "    column_sum = np.sum(temp, axis=0)\n",
    "    return np.mean(column_sum)"
   ]
  },
  {
   "cell_type": "code",
   "execution_count": 100,
   "metadata": {
    "ExecuteTime": {
     "end_time": "2019-09-01T08:29:37.872848Z",
     "start_time": "2019-09-01T08:29:37.866056Z"
    }
   },
   "outputs": [
    {
     "data": {
      "text/plain": [
       "473.41838940814387"
      ]
     },
     "execution_count": 100,
     "metadata": {},
     "output_type": "execute_result"
    }
   ],
   "source": [
    "MeanExpectedReward(df_expreward=df_test, miner_cost=1.5)"
   ]
  },
  {
   "cell_type": "code",
   "execution_count": 102,
   "metadata": {
    "ExecuteTime": {
     "end_time": "2019-09-01T08:30:09.245711Z",
     "start_time": "2019-09-01T08:30:09.240315Z"
    }
   },
   "outputs": [
    {
     "data": {
      "text/plain": [
       "1.0215292614066407"
      ]
     },
     "execution_count": 102,
     "metadata": {},
     "output_type": "execute_result"
    }
   ],
   "source": [
    "MeanExpectedReward(df_expreward=df_test, miner_cost=2.0)"
   ]
  },
  {
   "cell_type": "code",
   "execution_count": 103,
   "metadata": {
    "ExecuteTime": {
     "end_time": "2019-09-01T08:31:09.993453Z",
     "start_time": "2019-09-01T08:31:09.506338Z"
    }
   },
   "outputs": [
    {
     "data": {
      "text/plain": [
       "4412"
      ]
     },
     "execution_count": 103,
     "metadata": {},
     "output_type": "execute_result"
    }
   ],
   "source": [
    "del df_daa0_expreward\n",
    "gc.collect()"
   ]
  },
  {
   "cell_type": "code",
   "execution_count": 15,
   "metadata": {
    "ExecuteTime": {
     "end_time": "2019-09-01T23:11:40.187838Z",
     "start_time": "2019-09-01T23:06:51.519685Z"
    },
    "scrolled": true
   },
   "outputs": [
    {
     "data": {
      "text/html": [
       "<div>\n",
       "<style scoped>\n",
       "    .dataframe tbody tr th:only-of-type {\n",
       "        vertical-align: middle;\n",
       "    }\n",
       "\n",
       "    .dataframe tbody tr th {\n",
       "        vertical-align: top;\n",
       "    }\n",
       "\n",
       "    .dataframe thead th {\n",
       "        text-align: right;\n",
       "    }\n",
       "</style>\n",
       "<table border=\"1\" class=\"dataframe\">\n",
       "  <thead>\n",
       "    <tr style=\"text-align: right;\">\n",
       "      <th></th>\n",
       "      <th>DAA-1</th>\n",
       "      <th>DAA-2</th>\n",
       "      <th>DAA-0</th>\n",
       "    </tr>\n",
       "  </thead>\n",
       "  <tbody>\n",
       "    <tr>\n",
       "      <th>0.50</th>\n",
       "      <td>14956.682848</td>\n",
       "      <td>16519.253075</td>\n",
       "      <td>16696.948611</td>\n",
       "    </tr>\n",
       "    <tr>\n",
       "      <th>0.55</th>\n",
       "      <td>14461.986819</td>\n",
       "      <td>15916.581815</td>\n",
       "      <td>16084.928001</td>\n",
       "    </tr>\n",
       "    <tr>\n",
       "      <th>0.60</th>\n",
       "      <td>13967.313669</td>\n",
       "      <td>15313.910555</td>\n",
       "      <td>15472.907391</td>\n",
       "    </tr>\n",
       "    <tr>\n",
       "      <th>0.65</th>\n",
       "      <td>13472.686692</td>\n",
       "      <td>14711.239295</td>\n",
       "      <td>14860.886781</td>\n",
       "    </tr>\n",
       "    <tr>\n",
       "      <th>0.70</th>\n",
       "      <td>12978.147335</td>\n",
       "      <td>14108.568035</td>\n",
       "      <td>14248.866171</td>\n",
       "    </tr>\n",
       "    <tr>\n",
       "      <th>0.75</th>\n",
       "      <td>12483.770364</td>\n",
       "      <td>13505.896775</td>\n",
       "      <td>13636.845561</td>\n",
       "    </tr>\n",
       "    <tr>\n",
       "      <th>0.80</th>\n",
       "      <td>11989.660537</td>\n",
       "      <td>12903.225515</td>\n",
       "      <td>13024.824951</td>\n",
       "    </tr>\n",
       "    <tr>\n",
       "      <th>0.85</th>\n",
       "      <td>11495.992900</td>\n",
       "      <td>12300.554255</td>\n",
       "      <td>12412.804341</td>\n",
       "    </tr>\n",
       "    <tr>\n",
       "      <th>0.90</th>\n",
       "      <td>11002.996393</td>\n",
       "      <td>11697.882995</td>\n",
       "      <td>11800.783731</td>\n",
       "    </tr>\n",
       "    <tr>\n",
       "      <th>0.95</th>\n",
       "      <td>10510.958520</td>\n",
       "      <td>11095.211735</td>\n",
       "      <td>11188.763121</td>\n",
       "    </tr>\n",
       "    <tr>\n",
       "      <th>1.00</th>\n",
       "      <td>10020.309256</td>\n",
       "      <td>10492.540475</td>\n",
       "      <td>10576.742511</td>\n",
       "    </tr>\n",
       "    <tr>\n",
       "      <th>1.05</th>\n",
       "      <td>9531.583229</td>\n",
       "      <td>9889.869220</td>\n",
       "      <td>9964.721901</td>\n",
       "    </tr>\n",
       "    <tr>\n",
       "      <th>1.10</th>\n",
       "      <td>9045.321389</td>\n",
       "      <td>9287.198645</td>\n",
       "      <td>9352.701291</td>\n",
       "    </tr>\n",
       "    <tr>\n",
       "      <th>1.15</th>\n",
       "      <td>8562.258834</td>\n",
       "      <td>8684.534002</td>\n",
       "      <td>8740.680681</td>\n",
       "    </tr>\n",
       "    <tr>\n",
       "      <th>1.20</th>\n",
       "      <td>8083.287079</td>\n",
       "      <td>8081.899277</td>\n",
       "      <td>8128.660400</td>\n",
       "    </tr>\n",
       "    <tr>\n",
       "      <th>1.25</th>\n",
       "      <td>7609.486461</td>\n",
       "      <td>7479.395142</td>\n",
       "      <td>7516.658808</td>\n",
       "    </tr>\n",
       "    <tr>\n",
       "      <th>1.30</th>\n",
       "      <td>7142.185574</td>\n",
       "      <td>6877.299781</td>\n",
       "      <td>6904.766023</td>\n",
       "    </tr>\n",
       "    <tr>\n",
       "      <th>1.35</th>\n",
       "      <td>6683.040831</td>\n",
       "      <td>6276.240966</td>\n",
       "      <td>6293.276635</td>\n",
       "    </tr>\n",
       "    <tr>\n",
       "      <th>1.40</th>\n",
       "      <td>6233.944047</td>\n",
       "      <td>5677.508956</td>\n",
       "      <td>5682.879512</td>\n",
       "    </tr>\n",
       "    <tr>\n",
       "      <th>1.45</th>\n",
       "      <td>5796.965175</td>\n",
       "      <td>5083.462631</td>\n",
       "      <td>5075.211966</td>\n",
       "    </tr>\n",
       "    <tr>\n",
       "      <th>1.50</th>\n",
       "      <td>5374.535682</td>\n",
       "      <td>4497.921417</td>\n",
       "      <td>4473.235673</td>\n",
       "    </tr>\n",
       "    <tr>\n",
       "      <th>1.55</th>\n",
       "      <td>4969.275221</td>\n",
       "      <td>3926.479425</td>\n",
       "      <td>3881.713615</td>\n",
       "    </tr>\n",
       "    <tr>\n",
       "      <th>1.60</th>\n",
       "      <td>4583.960847</td>\n",
       "      <td>3376.607420</td>\n",
       "      <td>3308.013738</td>\n",
       "    </tr>\n",
       "    <tr>\n",
       "      <th>1.65</th>\n",
       "      <td>4219.761868</td>\n",
       "      <td>2857.401374</td>\n",
       "      <td>2761.173755</td>\n",
       "    </tr>\n",
       "    <tr>\n",
       "      <th>1.70</th>\n",
       "      <td>3875.422383</td>\n",
       "      <td>2378.668450</td>\n",
       "      <td>2252.533899</td>\n",
       "    </tr>\n",
       "    <tr>\n",
       "      <th>1.75</th>\n",
       "      <td>3549.567859</td>\n",
       "      <td>1949.645064</td>\n",
       "      <td>1794.189404</td>\n",
       "    </tr>\n",
       "    <tr>\n",
       "      <th>1.80</th>\n",
       "      <td>3241.176138</td>\n",
       "      <td>1577.299092</td>\n",
       "      <td>1398.530218</td>\n",
       "    </tr>\n",
       "    <tr>\n",
       "      <th>1.85</th>\n",
       "      <td>2949.756430</td>\n",
       "      <td>1264.319900</td>\n",
       "      <td>1076.491775</td>\n",
       "    </tr>\n",
       "    <tr>\n",
       "      <th>1.90</th>\n",
       "      <td>2675.073881</td>\n",
       "      <td>1008.692997</td>\n",
       "      <td>832.679828</td>\n",
       "    </tr>\n",
       "    <tr>\n",
       "      <th>1.95</th>\n",
       "      <td>2417.212567</td>\n",
       "      <td>804.544881</td>\n",
       "      <td>651.262286</td>\n",
       "    </tr>\n",
       "    <tr>\n",
       "      <th>...</th>\n",
       "      <td>...</td>\n",
       "      <td>...</td>\n",
       "      <td>...</td>\n",
       "    </tr>\n",
       "    <tr>\n",
       "      <th>3.55</th>\n",
       "      <td>50.367351</td>\n",
       "      <td>7.962821</td>\n",
       "      <td>6.330643</td>\n",
       "    </tr>\n",
       "    <tr>\n",
       "      <th>3.60</th>\n",
       "      <td>44.451642</td>\n",
       "      <td>7.239994</td>\n",
       "      <td>5.712189</td>\n",
       "    </tr>\n",
       "    <tr>\n",
       "      <th>3.65</th>\n",
       "      <td>39.182836</td>\n",
       "      <td>6.592574</td>\n",
       "      <td>5.157622</td>\n",
       "    </tr>\n",
       "    <tr>\n",
       "      <th>3.70</th>\n",
       "      <td>34.486897</td>\n",
       "      <td>6.010908</td>\n",
       "      <td>4.668701</td>\n",
       "    </tr>\n",
       "    <tr>\n",
       "      <th>3.75</th>\n",
       "      <td>30.306981</td>\n",
       "      <td>5.489089</td>\n",
       "      <td>4.242179</td>\n",
       "    </tr>\n",
       "    <tr>\n",
       "      <th>3.80</th>\n",
       "      <td>26.596575</td>\n",
       "      <td>5.021008</td>\n",
       "      <td>3.867462</td>\n",
       "    </tr>\n",
       "    <tr>\n",
       "      <th>3.85</th>\n",
       "      <td>23.326229</td>\n",
       "      <td>4.601268</td>\n",
       "      <td>3.537306</td>\n",
       "    </tr>\n",
       "    <tr>\n",
       "      <th>3.90</th>\n",
       "      <td>20.462873</td>\n",
       "      <td>4.226935</td>\n",
       "      <td>3.247191</td>\n",
       "    </tr>\n",
       "    <tr>\n",
       "      <th>3.95</th>\n",
       "      <td>17.949173</td>\n",
       "      <td>3.891969</td>\n",
       "      <td>2.991691</td>\n",
       "    </tr>\n",
       "    <tr>\n",
       "      <th>4.00</th>\n",
       "      <td>15.737593</td>\n",
       "      <td>3.590503</td>\n",
       "      <td>2.764863</td>\n",
       "    </tr>\n",
       "    <tr>\n",
       "      <th>4.05</th>\n",
       "      <td>13.783921</td>\n",
       "      <td>3.318520</td>\n",
       "      <td>2.559403</td>\n",
       "    </tr>\n",
       "    <tr>\n",
       "      <th>4.10</th>\n",
       "      <td>12.069034</td>\n",
       "      <td>3.071508</td>\n",
       "      <td>2.370249</td>\n",
       "    </tr>\n",
       "    <tr>\n",
       "      <th>4.15</th>\n",
       "      <td>10.576216</td>\n",
       "      <td>2.847141</td>\n",
       "      <td>2.194349</td>\n",
       "    </tr>\n",
       "    <tr>\n",
       "      <th>4.20</th>\n",
       "      <td>9.276862</td>\n",
       "      <td>2.642651</td>\n",
       "      <td>2.028758</td>\n",
       "    </tr>\n",
       "    <tr>\n",
       "      <th>4.25</th>\n",
       "      <td>8.143890</td>\n",
       "      <td>2.455018</td>\n",
       "      <td>1.871525</td>\n",
       "    </tr>\n",
       "    <tr>\n",
       "      <th>4.30</th>\n",
       "      <td>7.167315</td>\n",
       "      <td>2.282709</td>\n",
       "      <td>1.723574</td>\n",
       "    </tr>\n",
       "    <tr>\n",
       "      <th>4.35</th>\n",
       "      <td>6.328243</td>\n",
       "      <td>2.124536</td>\n",
       "      <td>1.585534</td>\n",
       "    </tr>\n",
       "    <tr>\n",
       "      <th>4.40</th>\n",
       "      <td>5.597388</td>\n",
       "      <td>1.979627</td>\n",
       "      <td>1.458587</td>\n",
       "    </tr>\n",
       "    <tr>\n",
       "      <th>4.45</th>\n",
       "      <td>4.948674</td>\n",
       "      <td>1.847123</td>\n",
       "      <td>1.342428</td>\n",
       "    </tr>\n",
       "    <tr>\n",
       "      <th>4.50</th>\n",
       "      <td>4.367224</td>\n",
       "      <td>1.725418</td>\n",
       "      <td>1.234837</td>\n",
       "    </tr>\n",
       "    <tr>\n",
       "      <th>4.55</th>\n",
       "      <td>3.850031</td>\n",
       "      <td>1.612248</td>\n",
       "      <td>1.135582</td>\n",
       "    </tr>\n",
       "    <tr>\n",
       "      <th>4.60</th>\n",
       "      <td>3.397037</td>\n",
       "      <td>1.506228</td>\n",
       "      <td>1.045228</td>\n",
       "    </tr>\n",
       "    <tr>\n",
       "      <th>4.65</th>\n",
       "      <td>3.004229</td>\n",
       "      <td>1.406475</td>\n",
       "      <td>0.964523</td>\n",
       "    </tr>\n",
       "    <tr>\n",
       "      <th>4.70</th>\n",
       "      <td>2.664606</td>\n",
       "      <td>1.312790</td>\n",
       "      <td>0.891283</td>\n",
       "    </tr>\n",
       "    <tr>\n",
       "      <th>4.75</th>\n",
       "      <td>2.370350</td>\n",
       "      <td>1.225091</td>\n",
       "      <td>0.822989</td>\n",
       "    </tr>\n",
       "    <tr>\n",
       "      <th>4.80</th>\n",
       "      <td>2.113836</td>\n",
       "      <td>1.143023</td>\n",
       "      <td>0.759604</td>\n",
       "    </tr>\n",
       "    <tr>\n",
       "      <th>4.85</th>\n",
       "      <td>1.891657</td>\n",
       "      <td>1.066124</td>\n",
       "      <td>0.701759</td>\n",
       "    </tr>\n",
       "    <tr>\n",
       "      <th>4.90</th>\n",
       "      <td>1.696638</td>\n",
       "      <td>0.994684</td>\n",
       "      <td>0.648986</td>\n",
       "    </tr>\n",
       "    <tr>\n",
       "      <th>4.95</th>\n",
       "      <td>1.526487</td>\n",
       "      <td>0.928615</td>\n",
       "      <td>0.601062</td>\n",
       "    </tr>\n",
       "    <tr>\n",
       "      <th>5.00</th>\n",
       "      <td>1.379706</td>\n",
       "      <td>0.867176</td>\n",
       "      <td>0.558409</td>\n",
       "    </tr>\n",
       "  </tbody>\n",
       "</table>\n",
       "<p>91 rows × 3 columns</p>\n",
       "</div>"
      ],
      "text/plain": [
       "             DAA-1         DAA-2         DAA-0\n",
       "0.50  14956.682848  16519.253075  16696.948611\n",
       "0.55  14461.986819  15916.581815  16084.928001\n",
       "0.60  13967.313669  15313.910555  15472.907391\n",
       "0.65  13472.686692  14711.239295  14860.886781\n",
       "0.70  12978.147335  14108.568035  14248.866171\n",
       "0.75  12483.770364  13505.896775  13636.845561\n",
       "0.80  11989.660537  12903.225515  13024.824951\n",
       "0.85  11495.992900  12300.554255  12412.804341\n",
       "0.90  11002.996393  11697.882995  11800.783731\n",
       "0.95  10510.958520  11095.211735  11188.763121\n",
       "1.00  10020.309256  10492.540475  10576.742511\n",
       "1.05   9531.583229   9889.869220   9964.721901\n",
       "1.10   9045.321389   9287.198645   9352.701291\n",
       "1.15   8562.258834   8684.534002   8740.680681\n",
       "1.20   8083.287079   8081.899277   8128.660400\n",
       "1.25   7609.486461   7479.395142   7516.658808\n",
       "1.30   7142.185574   6877.299781   6904.766023\n",
       "1.35   6683.040831   6276.240966   6293.276635\n",
       "1.40   6233.944047   5677.508956   5682.879512\n",
       "1.45   5796.965175   5083.462631   5075.211966\n",
       "1.50   5374.535682   4497.921417   4473.235673\n",
       "1.55   4969.275221   3926.479425   3881.713615\n",
       "1.60   4583.960847   3376.607420   3308.013738\n",
       "1.65   4219.761868   2857.401374   2761.173755\n",
       "1.70   3875.422383   2378.668450   2252.533899\n",
       "1.75   3549.567859   1949.645064   1794.189404\n",
       "1.80   3241.176138   1577.299092   1398.530218\n",
       "1.85   2949.756430   1264.319900   1076.491775\n",
       "1.90   2675.073881   1008.692997    832.679828\n",
       "1.95   2417.212567    804.544881    651.262286\n",
       "...            ...           ...           ...\n",
       "3.55     50.367351      7.962821      6.330643\n",
       "3.60     44.451642      7.239994      5.712189\n",
       "3.65     39.182836      6.592574      5.157622\n",
       "3.70     34.486897      6.010908      4.668701\n",
       "3.75     30.306981      5.489089      4.242179\n",
       "3.80     26.596575      5.021008      3.867462\n",
       "3.85     23.326229      4.601268      3.537306\n",
       "3.90     20.462873      4.226935      3.247191\n",
       "3.95     17.949173      3.891969      2.991691\n",
       "4.00     15.737593      3.590503      2.764863\n",
       "4.05     13.783921      3.318520      2.559403\n",
       "4.10     12.069034      3.071508      2.370249\n",
       "4.15     10.576216      2.847141      2.194349\n",
       "4.20      9.276862      2.642651      2.028758\n",
       "4.25      8.143890      2.455018      1.871525\n",
       "4.30      7.167315      2.282709      1.723574\n",
       "4.35      6.328243      2.124536      1.585534\n",
       "4.40      5.597388      1.979627      1.458587\n",
       "4.45      4.948674      1.847123      1.342428\n",
       "4.50      4.367224      1.725418      1.234837\n",
       "4.55      3.850031      1.612248      1.135582\n",
       "4.60      3.397037      1.506228      1.045228\n",
       "4.65      3.004229      1.406475      0.964523\n",
       "4.70      2.664606      1.312790      0.891283\n",
       "4.75      2.370350      1.225091      0.822989\n",
       "4.80      2.113836      1.143023      0.759604\n",
       "4.85      1.891657      1.066124      0.701759\n",
       "4.90      1.696638      0.994684      0.648986\n",
       "4.95      1.526487      0.928615      0.601062\n",
       "5.00      1.379706      0.867176      0.558409\n",
       "\n",
       "[91 rows x 3 columns]"
      ]
     },
     "execution_count": 15,
     "metadata": {},
     "output_type": "execute_result"
    }
   ],
   "source": [
    "#dir_sim = '/Volumes/Data/research/BDA/simulation/'\n",
    "dir_sim = '/Users/kyo/prog/BDA/simulated_data/'\n",
    "# df_daa0_expreward = pd.read_csv(dir_sim + 'DAA-0_expreward_ps0_5000obs.csv', index_col=0)\n",
    "# df_daa1_expreward = pd.read_csv(dir_sim + 'DAA-1_expreward_ps0_5000obs.csv', index_col=0)\n",
    "# df_daa2_expreward = pd.read_csv(dir_sim + 'DAA-2_expreward_ps0_5000obs.csv', index_col=0)\n",
    "\n",
    "#cost_list = [0.5, 1, 1.5, 2, 3.0, 3.5, 4.0, 4.5]\n",
    "cost_list = np.arange(0.5, 5.05, 0.05)\n",
    "daa_list = ['DAA-1', 'DAA-2', 'DAA-0']\n",
    "df_list = [df_daa1_expreward, df_daa2_expreward, df_daa0_expreward]\n",
    "\n",
    "table = pd.DataFrame()\n",
    "for daa, df in zip(daa_list, df_list):\n",
    "    for cost in cost_list:\n",
    "        reward_3months = MeanExpectedReward(df_expreward=df, miner_cost=cost)\n",
    "        table.loc[cost, daa] = reward_3months\n",
    "table"
   ]
  },
  {
   "cell_type": "code",
   "execution_count": 16,
   "metadata": {
    "ExecuteTime": {
     "end_time": "2019-09-01T23:14:22.828214Z",
     "start_time": "2019-09-01T23:14:22.813006Z"
    }
   },
   "outputs": [],
   "source": [
    "table.to_csv(dir_sim+'exprewards_miners.csv')"
   ]
  },
  {
   "cell_type": "code",
   "execution_count": 2,
   "metadata": {
    "ExecuteTime": {
     "end_time": "2019-09-12T08:20:47.001417Z",
     "start_time": "2019-09-12T08:20:46.868548Z"
    }
   },
   "outputs": [
    {
     "data": {
      "text/html": [
       "<div>\n",
       "<style scoped>\n",
       "    .dataframe tbody tr th:only-of-type {\n",
       "        vertical-align: middle;\n",
       "    }\n",
       "\n",
       "    .dataframe tbody tr th {\n",
       "        vertical-align: top;\n",
       "    }\n",
       "\n",
       "    .dataframe thead th {\n",
       "        text-align: right;\n",
       "    }\n",
       "</style>\n",
       "<table border=\"1\" class=\"dataframe\">\n",
       "  <thead>\n",
       "    <tr style=\"text-align: right;\">\n",
       "      <th></th>\n",
       "      <th>DAA-1(2016)</th>\n",
       "      <th>DAA-2(144)</th>\n",
       "      <th>first-best</th>\n",
       "    </tr>\n",
       "  </thead>\n",
       "  <tbody>\n",
       "    <tr>\n",
       "      <th>0.50</th>\n",
       "      <td>14956.682848</td>\n",
       "      <td>16519.253075</td>\n",
       "      <td>16696.948611</td>\n",
       "    </tr>\n",
       "    <tr>\n",
       "      <th>0.55</th>\n",
       "      <td>14461.986819</td>\n",
       "      <td>15916.581815</td>\n",
       "      <td>16084.928001</td>\n",
       "    </tr>\n",
       "    <tr>\n",
       "      <th>0.60</th>\n",
       "      <td>13967.313669</td>\n",
       "      <td>15313.910555</td>\n",
       "      <td>15472.907391</td>\n",
       "    </tr>\n",
       "    <tr>\n",
       "      <th>0.65</th>\n",
       "      <td>13472.686692</td>\n",
       "      <td>14711.239295</td>\n",
       "      <td>14860.886781</td>\n",
       "    </tr>\n",
       "    <tr>\n",
       "      <th>0.70</th>\n",
       "      <td>12978.147335</td>\n",
       "      <td>14108.568035</td>\n",
       "      <td>14248.866171</td>\n",
       "    </tr>\n",
       "  </tbody>\n",
       "</table>\n",
       "</div>"
      ],
      "text/plain": [
       "       DAA-1(2016)    DAA-2(144)    first-best\n",
       "0.50  14956.682848  16519.253075  16696.948611\n",
       "0.55  14461.986819  15916.581815  16084.928001\n",
       "0.60  13967.313669  15313.910555  15472.907391\n",
       "0.65  13472.686692  14711.239295  14860.886781\n",
       "0.70  12978.147335  14108.568035  14248.866171"
      ]
     },
     "execution_count": 2,
     "metadata": {},
     "output_type": "execute_result"
    }
   ],
   "source": [
    "dir_sim = '/Users/kyo/prog/BDA/simulated_data/'\n",
    "df_miner_rewards = pd.read_csv(dir_sim+'exprewards_miners.csv', index_col=0)\n",
    "df_miner_rewards = df_miner_rewards.rename(columns={'DAA-0':'first-best', 'DAA-1':'DAA-1(2016)', 'DAA-2':'DAA-2(144)'})\n",
    "df_miner_rewards.head()"
   ]
  },
  {
   "cell_type": "code",
   "execution_count": 4,
   "metadata": {
    "ExecuteTime": {
     "end_time": "2019-09-12T08:21:07.489943Z",
     "start_time": "2019-09-12T08:21:07.336876Z"
    },
    "scrolled": true
   },
   "outputs": [
    {
     "data": {
      "image/png": "[encoded data removed]",
      "text/plain": [
       "<Figure size 432x288 with 1 Axes>"
      ]
     },
     "metadata": {
      "needs_background": "light"
     },
     "output_type": "display_data"
    }
   ],
   "source": [
    "df_miner_rewards.plot()\n",
    "plt.xlabel('Cost (USD/Ehash)')\n",
    "plt.ylabel('Reward\\n(USD/Ehash)')\n",
    "plt.title('Miners\\' Net Profit\\nunder Different DAAs')\n",
    "plt.show()"
   ]
  },
  {
   "cell_type": "code",
   "execution_count": 4,
   "metadata": {
    "ExecuteTime": {
     "end_time": "2019-09-04T22:16:46.149569Z",
     "start_time": "2019-09-04T22:16:46.124073Z"
    }
   },
   "outputs": [
    {
     "data": {
      "text/html": [
       "<div>\n",
       "<style scoped>\n",
       "    .dataframe tbody tr th:only-of-type {\n",
       "        vertical-align: middle;\n",
       "    }\n",
       "\n",
       "    .dataframe tbody tr th {\n",
       "        vertical-align: top;\n",
       "    }\n",
       "\n",
       "    .dataframe thead th {\n",
       "        text-align: right;\n",
       "    }\n",
       "</style>\n",
       "<table border=\"1\" class=\"dataframe\">\n",
       "  <thead>\n",
       "    <tr style=\"text-align: right;\">\n",
       "      <th></th>\n",
       "      <th>Release</th>\n",
       "      <th>Power Efficiency (kWh/Eh)</th>\n",
       "      <th>Electricity Cost (USD/Eh)</th>\n",
       "    </tr>\n",
       "    <tr>\n",
       "      <th>Model</th>\n",
       "      <th></th>\n",
       "      <th></th>\n",
       "      <th></th>\n",
       "    </tr>\n",
       "  </thead>\n",
       "  <tbody>\n",
       "    <tr>\n",
       "      <th>ASICminer 8 Nano Pro</th>\n",
       "      <td>2018/05</td>\n",
       "      <td>14.6199</td>\n",
       "      <td>0.8772</td>\n",
       "    </tr>\n",
       "    <tr>\n",
       "      <th>MicroBT Whatsminer M10S</th>\n",
       "      <td>2018/09</td>\n",
       "      <td>17.6768</td>\n",
       "      <td>1.0606</td>\n",
       "    </tr>\n",
       "    <tr>\n",
       "      <th>MicroBT Whatsminer M10</th>\n",
       "      <td>2018/09</td>\n",
       "      <td>18.0556</td>\n",
       "      <td>1.0833</td>\n",
       "    </tr>\n",
       "    <tr>\n",
       "      <th>Innosilicon T2 Turbo+ 32T</th>\n",
       "      <td>2018/09</td>\n",
       "      <td>19.0972</td>\n",
       "      <td>1.1458</td>\n",
       "    </tr>\n",
       "    <tr>\n",
       "      <th>Innosilicon T2 Turbo</th>\n",
       "      <td>2018/08</td>\n",
       "      <td>22.9167</td>\n",
       "      <td>1.3750</td>\n",
       "    </tr>\n",
       "  </tbody>\n",
       "</table>\n",
       "</div>"
      ],
      "text/plain": [
       "                           Release  Power Efficiency (kWh/Eh)  \\\n",
       "Model                                                           \n",
       "ASICminer 8 Nano Pro       2018/05                    14.6199   \n",
       "MicroBT Whatsminer M10S    2018/09                    17.6768   \n",
       "MicroBT Whatsminer M10     2018/09                    18.0556   \n",
       "Innosilicon T2 Turbo+ 32T  2018/09                    19.0972   \n",
       "Innosilicon T2 Turbo       2018/08                    22.9167   \n",
       "\n",
       "                           Electricity Cost (USD/Eh)  \n",
       "Model                                                 \n",
       "ASICminer 8 Nano Pro                          0.8772  \n",
       "MicroBT Whatsminer M10S                       1.0606  \n",
       "MicroBT Whatsminer M10                        1.0833  \n",
       "Innosilicon T2 Turbo+ 32T                     1.1458  \n",
       "Innosilicon T2 Turbo                          1.3750  "
      ]
     },
     "execution_count": 4,
     "metadata": {},
     "output_type": "execute_result"
    }
   ],
   "source": [
    "dir_sim_2 = '/Users/kyo/prog/BDA/data/'\n",
    "df_asicspec = pd.read_csv(dir_sim_2+'asicefficiencySHA256.csv', index_col=0)\n",
    "df_asicspec.head()"
   ]
  },
  {
   "cell_type": "code",
   "execution_count": 6,
   "metadata": {
    "ExecuteTime": {
     "end_time": "2019-09-02T02:11:52.345455Z",
     "start_time": "2019-09-02T02:11:52.337893Z"
    }
   },
   "outputs": [
    {
     "data": {
      "text/plain": [
       "array([0.877, 1.061, 1.083, 1.146, 1.375, 1.417, 1.429, 1.438, 1.458,\n",
       "       1.521, 1.542, 1.552, 1.571, 1.581, 1.6  , 1.617, 1.641, 1.753,\n",
       "       1.833, 1.833, 2.733, 4.279])"
      ]
     },
     "execution_count": 6,
     "metadata": {},
     "output_type": "execute_result"
    }
   ],
   "source": [
    "df_asicspec['Electricity Cost (USD/Eh)'].values"
   ]
  },
  {
   "cell_type": "code",
   "execution_count": 5,
   "metadata": {
    "ExecuteTime": {
     "end_time": "2019-09-04T22:16:49.429963Z",
     "start_time": "2019-09-04T22:16:49.426366Z"
    }
   },
   "outputs": [],
   "source": [
    "asicspecs = df_asicspec['Electricity Cost (USD/Eh)'].values"
   ]
  },
  {
   "cell_type": "code",
   "execution_count": 7,
   "metadata": {
    "ExecuteTime": {
     "end_time": "2019-09-04T22:17:11.079586Z",
     "start_time": "2019-09-04T22:17:10.816387Z"
    },
    "scrolled": true
   },
   "outputs": [
    {
     "data": {
      "image/png": "[encoded data removed]",
      "text/plain": [
       "<Figure size 432x288 with 1 Axes>"
      ]
     },
     "metadata": {
      "needs_background": "light"
     },
     "output_type": "display_data"
    }
   ],
   "source": [
    "#plt.style.use('seaborn-bright')\n",
    "#plt.style.use('ggplot')\n",
    "plt.rcParams[\"font.size\"] = 13\n",
    "mpl.rcParams[\"font.family\"] = 'Osaka'\n",
    "\n",
    "df_miner_rewards[0.5:3.5].plot()\n",
    "min_y = df_miner_rewards[0.5:3.5].min().min()\n",
    "max_y = df_miner_rewards[0.5:3.5].max().max()\n",
    "for cost in asicspecs:\n",
    "    plt.vlines(cost, min_y, max_y, linestyle='--', linewidth=0.5, colors='gray')  # vertical line\n",
    "plt.xlabel('Marginal Cost (USD/Ehash)')\n",
    "plt.ylabel('12-week Net Profit\\n(USD/(Ehash/s))')\n",
    "plt.title('Miners\\' Net Profit\\nunder Different DAAs')\n",
    "plt.show()"
   ]
  },
  {
   "cell_type": "code",
   "execution_count": null,
   "metadata": {},
   "outputs": [],
   "source": []
  }
 ],
 "metadata": {
  "kernelspec": {
   "display_name": "Python 3",
   "language": "python",
   "name": "python3"
  },
  "language_info": {
   "codemirror_mode": {
    "name": "ipython",
    "version": 3
   },
   "file_extension": ".py",
   "mimetype": "text/x-python",
   "name": "python",
   "nbconvert_exporter": "python",
   "pygments_lexer": "ipython3",
   "version": "3.6.6"
  },
  "latex_envs": {
   "LaTeX_envs_menu_present": true,
   "autoclose": false,
   "autocomplete": true,
   "bibliofile": "biblio.bib",
   "cite_by": "apalike",
   "current_citInitial": 1,
   "eqLabelWithNumbers": true,
   "eqNumInitial": 1,
   "hotkeys": {
    "equation": "Ctrl-E",
    "itemize": "Ctrl-I"
   },
   "labels_anchors": false,
   "latex_user_defs": false,
   "report_style_numbering": false,
   "user_envs_cfg": false
  },
  "toc": {
   "base_numbering": 1,
   "nav_menu": {},
   "number_sections": true,
   "sideBar": true,
   "skip_h1_title": false,
   "title_cell": "Table of Contents",
   "title_sidebar": "Contents",
   "toc_cell": false,
   "toc_position": {},
   "toc_section_display": true,
   "toc_window_display": false
  }
 },
 "nbformat": 4,
 "nbformat_minor": 2
}
