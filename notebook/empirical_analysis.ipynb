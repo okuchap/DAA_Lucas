{
 "cells": [
  {
   "cell_type": "markdown",
   "metadata": {},
   "source": [
    "# Empirical Analysis"
   ]
  },
  {
   "cell_type": "markdown",
   "metadata": {},
   "source": [
    "* This notebook contains the codes to provide the data and analysis in Section 5.\n",
    "* You can view and download this notebook at my [github repo](https://github.com/okuchap/DAA_Lucas). (https://github.com/okuchap/DAA_Lucas)"
   ]
  },
  {
   "cell_type": "code",
   "execution_count": 1,
   "metadata": {
    "ExecuteTime": {
     "end_time": "2020-08-13T01:40:50.073409Z",
     "start_time": "2020-08-13T01:40:48.418540Z"
    }
   },
   "outputs": [],
   "source": [
    "%matplotlib inline\n",
    "import numpy as np\n",
    "import matplotlib as mpl\n",
    "import matplotlib.pyplot as plt\n",
    "import pandas as pd\n",
    "import pathlib\n",
    "import time\n",
    "from datetime import datetime\n",
    "import scipy.optimize as opt\n",
    "from sklearn.utils.extmath import cartesian\n",
    "#np.set_printoptions(precision=3)\n",
    "np.set_printoptions(suppress=True)\n",
    "plt.style.use(\"ggplot\")\n",
    "plt.rcParams[\"font.size\"] = 13\n",
    "mpl.rcParams[\"font.family\"] = 'Osaka'"
   ]
  },
  {
   "cell_type": "markdown",
   "metadata": {},
   "source": [
    "## Overview"
   ]
  },
  {
   "cell_type": "markdown",
   "metadata": {},
   "source": [
    "* Focus on the last quarter of 2018 (October 2018 to December 2018)\n",
    "\n",
    "* Assume that the hash supply is linear in reward:\n",
    "\n",
    "\\[\n",
    "H(t) = \\alpha + \\beta R(t)\n",
    "\\]\n",
    "\n",
    "The estimates we obtained are\n",
    "\n",
    "\\[\n",
    "\\hat{\\alpha} = 23.60, \\hat{\\beta} = 9.02, \\quad\n",
    "\\sigma(\\hat{\\alpha}) = 2.25, \\sigma(\\hat{\\beta}) = 0.99\n",
    "\\]"
   ]
  },
  {
   "cell_type": "markdown",
   "metadata": {},
   "source": [
    "## Method"
   ]
  },
  {
   "cell_type": "markdown",
   "metadata": {},
   "source": [
    "### Data Cleaning"
   ]
  },
  {
   "cell_type": "markdown",
   "metadata": {},
   "source": [
    "* Compute the block time using timestamps.\n",
    "\n",
    "* Basically, the time required to generate the $i$-th block is $\\Delta_i := t_i - t_{i-1}$.\n",
    "    - However, sometimes $\\Delta_i$ becomes negative due to inaccuracy.\n",
    "\n",
    "* We conduct our analysis as follows:\n",
    "\n",
    "Let $\\{t_i\\}_i$ be the times recorded in timestamps. For each $i$, let\n",
    "\n",
    "$$\n",
    "k^* = \\min_{k \\geq 1} \\{k \\colon t_i < t_{i+k}\\}\n",
    "$$\n",
    "and linearly interpolate $t_0, t_1, \\dots, t_k$ by the function `adjust_BGT`."
   ]
  },
  {
   "cell_type": "code",
   "execution_count": 2,
   "metadata": {
    "ExecuteTime": {
     "end_time": "2019-06-09T10:37:30.671971Z",
     "start_time": "2019-06-09T10:37:30.662643Z"
    }
   },
   "outputs": [],
   "source": [
    "def adjust_unixtime(raw_times):\n",
    "    '''\n",
    "    adjust block generation time.\n",
    "    Conduct linear interpolation if the order of time stamps are reversed.\n",
    "    \n",
    "    Parameters\n",
    "    ----------\n",
    "    raw_times:\n",
    "        pandas Series containing raw time stamps(unixtime)\n",
    "        The index should starts at zero.\n",
    "        \n",
    "    Returns\n",
    "    -------\n",
    "    times:\n",
    "        Adjusted time stamps.\n",
    "    '''\n",
    "    times = raw_times.copy()\n",
    "    for i in range(times.shape[0] - 1):\n",
    "        if times[i+1] - times[i] < 0:\n",
    "            count = 1\n",
    "            diff = -1\n",
    "            while diff < 0:\n",
    "                count += 1\n",
    "                diff = times[i+count] - times[i]\n",
    "            delta = times[i+count] - times[i]\n",
    "            for j in range(count-1):\n",
    "                times[i+j+1] = times[i] + (delta/count)*(j+1)\n",
    "\n",
    "    return times"
   ]
  },
  {
   "cell_type": "markdown",
   "metadata": {},
   "source": [
    "### Estimate the hash supply function in BTC system"
   ]
  },
  {
   "cell_type": "markdown",
   "metadata": {},
   "source": [
    "$$\n",
    "h(R) = \\alpha + \\beta R\n",
    "$$\n",
    "\n",
    "* The loglikelihood is\n",
    "\n",
    "$$\n",
    "\\log \\mathcal{L}(\\alpha,\\beta) = \\sum_{t} \\left\\{ \\log D(t) + \\log(\\alpha + \\beta R(t)) -D(t)(\\alpha + \\beta R(t))B(t) \\right\\}\n",
    "\\propto\n",
    "\\sum_{t} \\left\\{\\log(\\alpha + \\beta R(t)) -D(t)(\\alpha + \\beta R(t))B(t) \\right\\}\n",
    "$$\n"
   ]
  },
  {
   "cell_type": "markdown",
   "metadata": {},
   "source": [
    "* Focus on October 2018 to December 2018. Here, we include the transaction fee in expected reward.\n",
    "\n",
    "* The maximization of the likelihood function is done by brute-force search.\n",
    "    - NB: Iterative methods did not work well in this case."
   ]
  },
  {
   "cell_type": "markdown",
   "metadata": {
    "ExecuteTime": {
     "end_time": "2020-08-13T01:51:30.723243Z",
     "start_time": "2020-08-13T01:51:30.720501Z"
    }
   },
   "source": [
    "* The file `BTCdata_2.csv` contains the raw data."
   ]
  },
  {
   "cell_type": "code",
   "execution_count": 3,
   "metadata": {
    "ExecuteTime": {
     "end_time": "2019-06-09T10:37:35.535286Z",
     "start_time": "2019-06-09T10:37:33.717317Z"
    }
   },
   "outputs": [
    {
     "data": {
      "text/html": [
       "<div>\n",
       "<style scoped>\n",
       "    .dataframe tbody tr th:only-of-type {\n",
       "        vertical-align: middle;\n",
       "    }\n",
       "\n",
       "    .dataframe tbody tr th {\n",
       "        vertical-align: top;\n",
       "    }\n",
       "\n",
       "    .dataframe thead th {\n",
       "        text-align: right;\n",
       "    }\n",
       "</style>\n",
       "<table border=\"1\" class=\"dataframe\">\n",
       "  <thead>\n",
       "    <tr style=\"text-align: right;\">\n",
       "      <th></th>\n",
       "      <th>height</th>\n",
       "      <th>unixtime</th>\n",
       "      <th>probability of success /Eh</th>\n",
       "      <th>expected return (USD/Eh)</th>\n",
       "      <th>time</th>\n",
       "    </tr>\n",
       "  </thead>\n",
       "  <tbody>\n",
       "    <tr>\n",
       "      <th>0</th>\n",
       "      <td>450001</td>\n",
       "      <td>1485382343</td>\n",
       "      <td>0.000593</td>\n",
       "      <td>6.935004</td>\n",
       "      <td>2017-01-25 22:12:23</td>\n",
       "    </tr>\n",
       "    <tr>\n",
       "      <th>1</th>\n",
       "      <td>450002</td>\n",
       "      <td>1485383957</td>\n",
       "      <td>0.000593</td>\n",
       "      <td>7.424957</td>\n",
       "      <td>2017-01-25 22:39:17</td>\n",
       "    </tr>\n",
       "    <tr>\n",
       "      <th>2</th>\n",
       "      <td>450003</td>\n",
       "      <td>1485384299</td>\n",
       "      <td>0.000593</td>\n",
       "      <td>7.184180</td>\n",
       "      <td>2017-01-25 22:44:59</td>\n",
       "    </tr>\n",
       "    <tr>\n",
       "      <th>3</th>\n",
       "      <td>450004</td>\n",
       "      <td>1485384419</td>\n",
       "      <td>0.000593</td>\n",
       "      <td>7.025926</td>\n",
       "      <td>2017-01-25 22:46:59</td>\n",
       "    </tr>\n",
       "    <tr>\n",
       "      <th>4</th>\n",
       "      <td>450005</td>\n",
       "      <td>1485384847</td>\n",
       "      <td>0.000593</td>\n",
       "      <td>7.086069</td>\n",
       "      <td>2017-01-25 22:54:07</td>\n",
       "    </tr>\n",
       "  </tbody>\n",
       "</table>\n",
       "</div>"
      ],
      "text/plain": [
       "   height    unixtime  probability of success /Eh  expected return (USD/Eh)  \\\n",
       "0  450001  1485382343                    0.000593                  6.935004   \n",
       "1  450002  1485383957                    0.000593                  7.424957   \n",
       "2  450003  1485384299                    0.000593                  7.184180   \n",
       "3  450004  1485384419                    0.000593                  7.025926   \n",
       "4  450005  1485384847                    0.000593                  7.086069   \n",
       "\n",
       "                 time  \n",
       "0 2017-01-25 22:12:23  \n",
       "1 2017-01-25 22:39:17  \n",
       "2 2017-01-25 22:44:59  \n",
       "3 2017-01-25 22:46:59  \n",
       "4 2017-01-25 22:54:07  "
      ]
     },
     "execution_count": 3,
     "metadata": {},
     "output_type": "execute_result"
    }
   ],
   "source": [
    "path = '../data/BTCdata_2.csv'\n",
    "df_BTC = pd.read_csv(path, header=0)\n",
    "df_BTC = df_BTC.rename(columns={'unixtime_precise': 'unixtime'})\n",
    "df_BTC = df_BTC.loc[: ,['height', 'unixtime', 'probability of success /Eh', 'expected return (USD/Eh)']]\n",
    "df_BTC['time'] = pd.to_datetime(df_BTC['unixtime'].astype(int), unit='s')\n",
    "df_BTC = df_BTC.sort_values(by='height', ascending=True)\n",
    "df_BTC.head()"
   ]
  },
  {
   "cell_type": "code",
   "execution_count": 4,
   "metadata": {
    "ExecuteTime": {
     "end_time": "2019-06-09T10:37:38.736865Z",
     "start_time": "2019-06-09T10:37:37.402673Z"
    }
   },
   "outputs": [
    {
     "data": {
      "text/html": [
       "<div>\n",
       "<style scoped>\n",
       "    .dataframe tbody tr th:only-of-type {\n",
       "        vertical-align: middle;\n",
       "    }\n",
       "\n",
       "    .dataframe tbody tr th {\n",
       "        vertical-align: top;\n",
       "    }\n",
       "\n",
       "    .dataframe thead th {\n",
       "        text-align: right;\n",
       "    }\n",
       "</style>\n",
       "<table border=\"1\" class=\"dataframe\">\n",
       "  <thead>\n",
       "    <tr style=\"text-align: right;\">\n",
       "      <th></th>\n",
       "      <th>height</th>\n",
       "      <th>unixtime</th>\n",
       "      <th>probability of success /Eh</th>\n",
       "      <th>expected return (USD/Eh)</th>\n",
       "      <th>time</th>\n",
       "      <th>adj_time</th>\n",
       "      <th>adj_block_gen_time(min)</th>\n",
       "    </tr>\n",
       "  </thead>\n",
       "  <tbody>\n",
       "    <tr>\n",
       "      <th>163</th>\n",
       "      <td>543835</td>\n",
       "      <td>1538352272</td>\n",
       "      <td>0.000033</td>\n",
       "      <td>2.720620</td>\n",
       "      <td>2018-10-01 00:04:32</td>\n",
       "      <td>1538352272</td>\n",
       "      <td>18.633333</td>\n",
       "    </tr>\n",
       "    <tr>\n",
       "      <th>164</th>\n",
       "      <td>543836</td>\n",
       "      <td>1538352799</td>\n",
       "      <td>0.000033</td>\n",
       "      <td>2.711797</td>\n",
       "      <td>2018-10-01 00:13:19</td>\n",
       "      <td>1538352799</td>\n",
       "      <td>8.783333</td>\n",
       "    </tr>\n",
       "    <tr>\n",
       "      <th>165</th>\n",
       "      <td>543837</td>\n",
       "      <td>1538352841</td>\n",
       "      <td>0.000033</td>\n",
       "      <td>2.694189</td>\n",
       "      <td>2018-10-01 00:14:01</td>\n",
       "      <td>1538352841</td>\n",
       "      <td>0.700000</td>\n",
       "    </tr>\n",
       "    <tr>\n",
       "      <th>166</th>\n",
       "      <td>543838</td>\n",
       "      <td>1538352940</td>\n",
       "      <td>0.000033</td>\n",
       "      <td>2.697526</td>\n",
       "      <td>2018-10-01 00:15:40</td>\n",
       "      <td>1538352940</td>\n",
       "      <td>1.650000</td>\n",
       "    </tr>\n",
       "    <tr>\n",
       "      <th>167</th>\n",
       "      <td>543839</td>\n",
       "      <td>1538353463</td>\n",
       "      <td>0.000033</td>\n",
       "      <td>2.714195</td>\n",
       "      <td>2018-10-01 00:24:23</td>\n",
       "      <td>1538353463</td>\n",
       "      <td>8.716667</td>\n",
       "    </tr>\n",
       "  </tbody>\n",
       "</table>\n",
       "</div>"
      ],
      "text/plain": [
       "     height    unixtime  probability of success /Eh  expected return (USD/Eh)  \\\n",
       "163  543835  1538352272                    0.000033                  2.720620   \n",
       "164  543836  1538352799                    0.000033                  2.711797   \n",
       "165  543837  1538352841                    0.000033                  2.694189   \n",
       "166  543838  1538352940                    0.000033                  2.697526   \n",
       "167  543839  1538353463                    0.000033                  2.714195   \n",
       "\n",
       "                   time    adj_time  adj_block_gen_time(min)  \n",
       "163 2018-10-01 00:04:32  1538352272                18.633333  \n",
       "164 2018-10-01 00:13:19  1538352799                 8.783333  \n",
       "165 2018-10-01 00:14:01  1538352841                 0.700000  \n",
       "166 2018-10-01 00:15:40  1538352940                 1.650000  \n",
       "167 2018-10-01 00:24:23  1538353463                 8.716667  "
      ]
     },
     "execution_count": 4,
     "metadata": {},
     "output_type": "execute_result"
    }
   ],
   "source": [
    "df_BTC_2018OctDec = df_BTC[(df_BTC['time'] >= datetime(2018,9,30)) & (df_BTC['time'] <= datetime(2019,1,1))]\n",
    "df_BTC_2018OctDec = df_BTC_2018OctDec.reset_index(drop=True)\n",
    "BTC_times = df_BTC_2018OctDec['unixtime']\n",
    "df_BTC_2018OctDec['adj_time'] = adjust_unixtime(BTC_times)\n",
    "df_BTC_2018OctDec['adj_block_gen_time(min)'] = df_BTC_2018OctDec['adj_time'].diff()/60\n",
    "df_BTC_2018OctDec = df_BTC_2018OctDec[df_BTC_2018OctDec['time'] >= datetime(2018,10,1)]\n",
    "df_BTC_2018OctDec.head()"
   ]
  },
  {
   "cell_type": "code",
   "execution_count": 5,
   "metadata": {
    "ExecuteTime": {
     "end_time": "2019-06-09T10:37:41.642970Z",
     "start_time": "2019-06-09T10:37:41.625632Z"
    },
    "scrolled": true
   },
   "outputs": [
    {
     "data": {
      "text/html": [
       "<div>\n",
       "<style scoped>\n",
       "    .dataframe tbody tr th:only-of-type {\n",
       "        vertical-align: middle;\n",
       "    }\n",
       "\n",
       "    .dataframe tbody tr th {\n",
       "        vertical-align: top;\n",
       "    }\n",
       "\n",
       "    .dataframe thead th {\n",
       "        text-align: right;\n",
       "    }\n",
       "</style>\n",
       "<table border=\"1\" class=\"dataframe\">\n",
       "  <thead>\n",
       "    <tr style=\"text-align: right;\">\n",
       "      <th></th>\n",
       "      <th>adj_block_gen_time(min)</th>\n",
       "      <th>probability of success /Eh</th>\n",
       "      <th>expected return (USD/Eh)</th>\n",
       "      <th>adj_block_gen_time(hour)</th>\n",
       "    </tr>\n",
       "  </thead>\n",
       "  <tbody>\n",
       "    <tr>\n",
       "      <th>163</th>\n",
       "      <td>18.633333</td>\n",
       "      <td>0.000033</td>\n",
       "      <td>2.720620</td>\n",
       "      <td>0.310556</td>\n",
       "    </tr>\n",
       "    <tr>\n",
       "      <th>164</th>\n",
       "      <td>8.783333</td>\n",
       "      <td>0.000033</td>\n",
       "      <td>2.711797</td>\n",
       "      <td>0.146389</td>\n",
       "    </tr>\n",
       "    <tr>\n",
       "      <th>165</th>\n",
       "      <td>0.700000</td>\n",
       "      <td>0.000033</td>\n",
       "      <td>2.694189</td>\n",
       "      <td>0.011667</td>\n",
       "    </tr>\n",
       "    <tr>\n",
       "      <th>166</th>\n",
       "      <td>1.650000</td>\n",
       "      <td>0.000033</td>\n",
       "      <td>2.697526</td>\n",
       "      <td>0.027500</td>\n",
       "    </tr>\n",
       "    <tr>\n",
       "      <th>167</th>\n",
       "      <td>8.716667</td>\n",
       "      <td>0.000033</td>\n",
       "      <td>2.714195</td>\n",
       "      <td>0.145278</td>\n",
       "    </tr>\n",
       "  </tbody>\n",
       "</table>\n",
       "</div>"
      ],
      "text/plain": [
       "     adj_block_gen_time(min)  probability of success /Eh  \\\n",
       "163                18.633333                    0.000033   \n",
       "164                 8.783333                    0.000033   \n",
       "165                 0.700000                    0.000033   \n",
       "166                 1.650000                    0.000033   \n",
       "167                 8.716667                    0.000033   \n",
       "\n",
       "     expected return (USD/Eh)  adj_block_gen_time(hour)  \n",
       "163                  2.720620                  0.310556  \n",
       "164                  2.711797                  0.146389  \n",
       "165                  2.694189                  0.011667  \n",
       "166                  2.697526                  0.027500  \n",
       "167                  2.714195                  0.145278  "
      ]
     },
     "execution_count": 5,
     "metadata": {},
     "output_type": "execute_result"
    }
   ],
   "source": [
    "df = df_BTC_2018OctDec.loc[:, ['adj_block_gen_time(min)', 'probability of success /Eh', 'expected return (USD/Eh)']]\n",
    "df['adj_block_gen_time(hour)'] = df['adj_block_gen_time(min)']/60\n",
    "df.head()"
   ]
  },
  {
   "cell_type": "code",
   "execution_count": 7,
   "metadata": {
    "ExecuteTime": {
     "end_time": "2019-06-08T11:09:59.638449Z",
     "start_time": "2019-06-08T11:09:59.631723Z"
    }
   },
   "outputs": [],
   "source": [
    "def log_likelihood(params, block_times, block_gen_rates, exp_rewards):\n",
    "    '''\n",
    "    params = [a, b]\n",
    "    '''    \n",
    "    a = params[0]\n",
    "    b = params[1]\n",
    "    \n",
    "    temp = np.log(a + b * exp_rewards) \\\n",
    "        - (block_gen_rates * (a + b * exp_rewards) * block_times)\n",
    "    ll = np.sum(temp)\n",
    "    \n",
    "    return ll\n",
    "\n",
    "\n",
    "def greedy_max_ll(params_list, df):\n",
    "    block_times = df.loc[:, 'adj_block_gen_time(hour)'].values\n",
    "    block_gen_rates = df.loc[:, 'probability of success /Eh'].values\n",
    "    exp_rewards = df.loc[:, 'expected return (USD/Eh)'].values\n",
    "\n",
    "    opt_params = None\n",
    "    opt_ll = - np.inf\n",
    "    for params in params_list:\n",
    "        current_ll = log_likelihood(params, block_times, block_gen_rates, exp_rewards)\n",
    "        if current_ll > opt_ll:\n",
    "            opt_params = params\n",
    "            opt_ll = current_ll\n",
    "            \n",
    "    return opt_ll, opt_params"
   ]
  },
  {
   "cell_type": "code",
   "execution_count": 17,
   "metadata": {
    "ExecuteTime": {
     "end_time": "2019-06-04T08:40:16.971284Z",
     "start_time": "2019-06-04T08:32:45.922787Z"
    }
   },
   "outputs": [],
   "source": [
    "a = np.arange(80000, 90000, 10)\n",
    "b = np.arange(30000, 60000, 10)\n",
    "params_list = cartesian((a,b))\n",
    "opt_ll, opt_params = greedy_max_ll(params_list, df)"
   ]
  },
  {
   "cell_type": "code",
   "execution_count": 18,
   "metadata": {
    "ExecuteTime": {
     "end_time": "2019-06-04T08:40:40.502150Z",
     "start_time": "2019-06-04T08:40:40.497218Z"
    }
   },
   "outputs": [
    {
     "data": {
      "text/plain": [
       "138574.9971425061"
      ]
     },
     "execution_count": 18,
     "metadata": {},
     "output_type": "execute_result"
    }
   ],
   "source": [
    "opt_ll"
   ]
  },
  {
   "cell_type": "code",
   "execution_count": 19,
   "metadata": {
    "ExecuteTime": {
     "end_time": "2019-06-04T08:40:43.917559Z",
     "start_time": "2019-06-04T08:40:43.912440Z"
    }
   },
   "outputs": [
    {
     "data": {
      "text/plain": [
       "array([84940, 32480])"
      ]
     },
     "execution_count": 19,
     "metadata": {},
     "output_type": "execute_result"
    }
   ],
   "source": [
    "opt_params"
   ]
  },
  {
   "cell_type": "markdown",
   "metadata": {
    "ExecuteTime": {
     "end_time": "2019-06-04T08:41:41.782812Z",
     "start_time": "2019-06-04T08:41:41.778037Z"
    }
   },
   "source": [
    "Therefore, the MLE is\n",
    "$$\n",
    "\\hat{\\alpha} = 84940, \\hat{\\beta} = 32480\n",
    "$$"
   ]
  },
  {
   "cell_type": "code",
   "execution_count": 21,
   "metadata": {
    "ExecuteTime": {
     "end_time": "2019-06-04T08:41:52.414333Z",
     "start_time": "2019-06-04T08:41:52.409243Z"
    }
   },
   "outputs": [
    {
     "name": "stdout",
     "output_type": "stream",
     "text": [
      "23.594444444444445 9.022222222222222\n"
     ]
    }
   ],
   "source": [
    "# Rescale the unit in seconds.\n",
    "alpha = opt_params[0]/3600\n",
    "beta = opt_params[1]/3600\n",
    "print(alpha, beta)"
   ]
  },
  {
   "cell_type": "markdown",
   "metadata": {},
   "source": [
    "Therefore, we have\n",
    "$$\n",
    "\\hat{\\alpha} = 23.59, \\hat{\\beta} = 9.02\n",
    "$$"
   ]
  }
 ],
 "metadata": {
  "kernelspec": {
   "display_name": "Python 3",
   "language": "python",
   "name": "python3"
  },
  "language_info": {
   "codemirror_mode": {
    "name": "ipython",
    "version": 3
   },
   "file_extension": ".py",
   "mimetype": "text/x-python",
   "name": "python",
   "nbconvert_exporter": "python",
   "pygments_lexer": "ipython3",
   "version": "3.8.5"
  },
  "latex_envs": {
   "LaTeX_envs_menu_present": true,
   "autoclose": false,
   "autocomplete": true,
   "bibliofile": "biblio.bib",
   "cite_by": "apalike",
   "current_citInitial": 1,
   "eqLabelWithNumbers": true,
   "eqNumInitial": 1,
   "hotkeys": {
    "equation": "Ctrl-E",
    "itemize": "Ctrl-I"
   },
   "labels_anchors": false,
   "latex_user_defs": false,
   "report_style_numbering": false,
   "user_envs_cfg": false
  },
  "toc": {
   "base_numbering": 1,
   "nav_menu": {},
   "number_sections": true,
   "sideBar": true,
   "skip_h1_title": false,
   "title_cell": "Table of Contents",
   "title_sidebar": "Contents",
   "toc_cell": false,
   "toc_position": {},
   "toc_section_display": true,
   "toc_window_display": false
  },
  "varInspector": {
   "cols": {
    "lenName": 16,
    "lenType": 16,
    "lenVar": 40
   },
   "kernels_config": {
    "python": {
     "delete_cmd_postfix": "",
     "delete_cmd_prefix": "del ",
     "library": "var_list.py",
     "varRefreshCmd": "print(var_dic_list())"
    },
    "r": {
     "delete_cmd_postfix": ") ",
     "delete_cmd_prefix": "rm(",
     "library": "var_list.r",
     "varRefreshCmd": "cat(var_dic_list()) "
    }
   },
   "types_to_exclude": [
    "module",
    "function",
    "builtin_function_or_method",
    "instance",
    "_Feature"
   ],
   "window_display": false
  }
 },
 "nbformat": 4,
 "nbformat_minor": 2
}
