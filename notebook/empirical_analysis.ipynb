{
 "cells": [
  {
   "cell_type": "markdown",
   "metadata": {},
   "source": [
    "# Empirical Analysis"
   ]
  },
  {
   "cell_type": "markdown",
   "metadata": {},
   "source": [
    "* This notebook contains the codes to provide the data and analysis in Section 5.\n",
    "* You can view and download this notebook at my [github repo](https://github.com/okuchap/DAA_Lucas). (https://github.com/okuchap/DAA_Lucas)"
   ]
  },
  {
   "cell_type": "code",
   "execution_count": 1,
   "metadata": {
    "ExecuteTime": {
     "end_time": "2021-07-06T13:53:16.243650Z",
     "start_time": "2021-07-06T13:53:14.672693Z"
    }
   },
   "outputs": [],
   "source": [
    "%matplotlib inline\n",
    "import numpy as np\n",
    "import matplotlib as mpl\n",
    "import matplotlib.pyplot as plt\n",
    "import pandas as pd\n",
    "import pathlib\n",
    "import time\n",
    "from datetime import datetime\n",
    "from scipy.optimize import minimize\n",
    "\n",
    "# used for greedy optimization\n",
    "from sklearn.utils.extmath import cartesian\n",
    "\n",
    "#np.set_printoptions(precision=3)\n",
    "np.set_printoptions(suppress=True)\n",
    "# plt.style.use(\"ggplot\")\n",
    "# plt.rcParams[\"font.size\"] = 13\n",
    "mpl.rcParams[\"font.family\"] = 'Osaka'"
   ]
  },
  {
   "cell_type": "markdown",
   "metadata": {},
   "source": [
    "## Overview"
   ]
  },
  {
   "cell_type": "markdown",
   "metadata": {},
   "source": [
    "* Focus on the last quarter of 2018 (October 2018 to December 2018)\n",
    "\n",
    "* Assume that the hash supply is linear in reward:\n",
    "\n",
    "$$\n",
    "H(t) = \\alpha + \\beta R(t)\n",
    "$$\n",
    "\n",
    "The estimates we obtained are\n",
    "\n",
    "$$\n",
    "\\hat{\\alpha} = 23.60, \\hat{\\beta} = 9.02, \\quad\n",
    "\\sigma(\\hat{\\alpha}) = 2.25, \\sigma(\\hat{\\beta}) = 0.99\n",
    "$$"
   ]
  },
  {
   "cell_type": "markdown",
   "metadata": {},
   "source": [
    "## Method"
   ]
  },
  {
   "cell_type": "markdown",
   "metadata": {},
   "source": [
    "### Data Cleaning"
   ]
  },
  {
   "cell_type": "markdown",
   "metadata": {},
   "source": [
    "* Compute the block time using timestamps.\n",
    "\n",
    "* Basically, the time required to generate the $i$-th block is $\\Delta_i := t_i - t_{i-1}$.\n",
    "    - However, sometimes $\\Delta_i$ becomes negative due to inaccuracy.\n",
    "\n",
    "* We conduct our analysis as follows:\n",
    "\n",
    "Let $\\{t_i\\}_i$ be the times recorded in timestamps. For each $i$, let\n",
    "\n",
    "$$\n",
    "k^* = \\min_{k \\geq 1} \\{k \\colon t_i < t_{i+k}\\}\n",
    "$$\n",
    "and linearly interpolate $t_0, t_1, \\dots, t_k$ by the function `adjust_BGT`."
   ]
  },
  {
   "cell_type": "code",
   "execution_count": 2,
   "metadata": {
    "ExecuteTime": {
     "end_time": "2021-07-04T08:59:35.324172Z",
     "start_time": "2021-07-04T08:59:35.318303Z"
    },
    "code_folding": [
     0
    ]
   },
   "outputs": [],
   "source": [
    "def adjust_unixtime(raw_times):\n",
    "    '''\n",
    "    adjust block generation time.\n",
    "    Conduct linear interpolation if the order of time stamps are reversed.\n",
    "    \n",
    "    Parameters\n",
    "    ----------\n",
    "    raw_times:\n",
    "        pandas Series containing raw time stamps(unixtime)\n",
    "        The index should starts at zero.\n",
    "        \n",
    "    Returns\n",
    "    -------\n",
    "    times:\n",
    "        Adjusted time stamps.\n",
    "    '''\n",
    "    times = raw_times.copy()\n",
    "    for i in range(times.shape[0] - 1):\n",
    "        if times[i+1] - times[i] < 0:\n",
    "            count = 1\n",
    "            diff = -1\n",
    "            while diff < 0:\n",
    "                count += 1\n",
    "                diff = times[i+count] - times[i]\n",
    "            delta = times[i+count] - times[i]\n",
    "            for j in range(count-1):\n",
    "                times[i+j+1] = times[i] + (delta/count)*(j+1)\n",
    "\n",
    "    return times"
   ]
  },
  {
   "cell_type": "markdown",
   "metadata": {},
   "source": [
    "### Estimate the hash supply function in BTC system"
   ]
  },
  {
   "cell_type": "markdown",
   "metadata": {},
   "source": [
    "$$\n",
    "h(R) = \\alpha + \\beta R\n",
    "$$\n",
    "\n",
    "* The loglikelihood is\n",
    "\n",
    "$$\n",
    "\\log \\mathcal{L}(\\alpha,\\beta) = \\sum_{t} \\left\\{ \\log D(t) + \\log(\\alpha + \\beta R(t)) -D(t)(\\alpha + \\beta R(t))B(t) \\right\\}\n",
    "\\propto\n",
    "\\sum_{t} \\left\\{\\log(\\alpha + \\beta R(t)) -D(t)(\\alpha + \\beta R(t))B(t) \\right\\}\n",
    "$$\n"
   ]
  },
  {
   "cell_type": "markdown",
   "metadata": {},
   "source": [
    "* Focus on October 2018 to December 2018. Here, we include the transaction fee in expected reward."
   ]
  },
  {
   "cell_type": "markdown",
   "metadata": {
    "ExecuteTime": {
     "end_time": "2020-08-13T01:51:30.723243Z",
     "start_time": "2020-08-13T01:51:30.720501Z"
    }
   },
   "source": [
    "* The file `BTCdata_2.csv` contains the raw data."
   ]
  },
  {
   "cell_type": "code",
   "execution_count": 3,
   "metadata": {
    "ExecuteTime": {
     "end_time": "2021-07-04T08:59:38.573035Z",
     "start_time": "2021-07-04T08:59:38.322251Z"
    }
   },
   "outputs": [
    {
     "data": {
      "text/html": [
       "<div>\n",
       "<style scoped>\n",
       "    .dataframe tbody tr th:only-of-type {\n",
       "        vertical-align: middle;\n",
       "    }\n",
       "\n",
       "    .dataframe tbody tr th {\n",
       "        vertical-align: top;\n",
       "    }\n",
       "\n",
       "    .dataframe thead th {\n",
       "        text-align: right;\n",
       "    }\n",
       "</style>\n",
       "<table border=\"1\" class=\"dataframe\">\n",
       "  <thead>\n",
       "    <tr style=\"text-align: right;\">\n",
       "      <th></th>\n",
       "      <th>height</th>\n",
       "      <th>unixtime</th>\n",
       "      <th>probability of success /Eh</th>\n",
       "      <th>expected return (USD/Eh)</th>\n",
       "      <th>time</th>\n",
       "    </tr>\n",
       "  </thead>\n",
       "  <tbody>\n",
       "    <tr>\n",
       "      <th>0</th>\n",
       "      <td>450001</td>\n",
       "      <td>1485382343</td>\n",
       "      <td>0.000593</td>\n",
       "      <td>6.935004</td>\n",
       "      <td>2017-01-25 22:12:23</td>\n",
       "    </tr>\n",
       "    <tr>\n",
       "      <th>1</th>\n",
       "      <td>450002</td>\n",
       "      <td>1485383957</td>\n",
       "      <td>0.000593</td>\n",
       "      <td>7.424957</td>\n",
       "      <td>2017-01-25 22:39:17</td>\n",
       "    </tr>\n",
       "    <tr>\n",
       "      <th>2</th>\n",
       "      <td>450003</td>\n",
       "      <td>1485384299</td>\n",
       "      <td>0.000593</td>\n",
       "      <td>7.184180</td>\n",
       "      <td>2017-01-25 22:44:59</td>\n",
       "    </tr>\n",
       "    <tr>\n",
       "      <th>3</th>\n",
       "      <td>450004</td>\n",
       "      <td>1485384419</td>\n",
       "      <td>0.000593</td>\n",
       "      <td>7.025926</td>\n",
       "      <td>2017-01-25 22:46:59</td>\n",
       "    </tr>\n",
       "    <tr>\n",
       "      <th>4</th>\n",
       "      <td>450005</td>\n",
       "      <td>1485384847</td>\n",
       "      <td>0.000593</td>\n",
       "      <td>7.086069</td>\n",
       "      <td>2017-01-25 22:54:07</td>\n",
       "    </tr>\n",
       "  </tbody>\n",
       "</table>\n",
       "</div>"
      ],
      "text/plain": [
       "   height    unixtime  probability of success /Eh  expected return (USD/Eh)  \\\n",
       "0  450001  1485382343                    0.000593                  6.935004   \n",
       "1  450002  1485383957                    0.000593                  7.424957   \n",
       "2  450003  1485384299                    0.000593                  7.184180   \n",
       "3  450004  1485384419                    0.000593                  7.025926   \n",
       "4  450005  1485384847                    0.000593                  7.086069   \n",
       "\n",
       "                 time  \n",
       "0 2017-01-25 22:12:23  \n",
       "1 2017-01-25 22:39:17  \n",
       "2 2017-01-25 22:44:59  \n",
       "3 2017-01-25 22:46:59  \n",
       "4 2017-01-25 22:54:07  "
      ]
     },
     "execution_count": 3,
     "metadata": {},
     "output_type": "execute_result"
    }
   ],
   "source": [
    "path = '../data/BTCdata_2.csv'\n",
    "df_BTC = pd.read_csv(path, header=0)\n",
    "df_BTC = df_BTC.rename(columns={'unixtime_precise': 'unixtime'})\n",
    "df_BTC = df_BTC.loc[: ,['height', 'unixtime', 'probability of success /Eh', 'expected return (USD/Eh)']]\n",
    "df_BTC['time'] = pd.to_datetime(df_BTC['unixtime'].astype(int), unit='s')\n",
    "df_BTC = df_BTC.sort_values(by='height', ascending=True)\n",
    "df_BTC.head()"
   ]
  },
  {
   "cell_type": "code",
   "execution_count": 4,
   "metadata": {
    "ExecuteTime": {
     "end_time": "2021-07-04T08:59:42.108014Z",
     "start_time": "2021-07-04T08:59:41.972447Z"
    }
   },
   "outputs": [
    {
     "data": {
      "text/html": [
       "<div>\n",
       "<style scoped>\n",
       "    .dataframe tbody tr th:only-of-type {\n",
       "        vertical-align: middle;\n",
       "    }\n",
       "\n",
       "    .dataframe tbody tr th {\n",
       "        vertical-align: top;\n",
       "    }\n",
       "\n",
       "    .dataframe thead th {\n",
       "        text-align: right;\n",
       "    }\n",
       "</style>\n",
       "<table border=\"1\" class=\"dataframe\">\n",
       "  <thead>\n",
       "    <tr style=\"text-align: right;\">\n",
       "      <th></th>\n",
       "      <th>height</th>\n",
       "      <th>unixtime</th>\n",
       "      <th>probability of success /Eh</th>\n",
       "      <th>expected return (USD/Eh)</th>\n",
       "      <th>time</th>\n",
       "      <th>adj_time</th>\n",
       "      <th>adj_block_gen_time(min)</th>\n",
       "    </tr>\n",
       "  </thead>\n",
       "  <tbody>\n",
       "    <tr>\n",
       "      <th>163</th>\n",
       "      <td>543835</td>\n",
       "      <td>1538352272</td>\n",
       "      <td>0.000033</td>\n",
       "      <td>2.720620</td>\n",
       "      <td>2018-10-01 00:04:32</td>\n",
       "      <td>1538352272</td>\n",
       "      <td>18.633333</td>\n",
       "    </tr>\n",
       "    <tr>\n",
       "      <th>164</th>\n",
       "      <td>543836</td>\n",
       "      <td>1538352799</td>\n",
       "      <td>0.000033</td>\n",
       "      <td>2.711797</td>\n",
       "      <td>2018-10-01 00:13:19</td>\n",
       "      <td>1538352799</td>\n",
       "      <td>8.783333</td>\n",
       "    </tr>\n",
       "    <tr>\n",
       "      <th>165</th>\n",
       "      <td>543837</td>\n",
       "      <td>1538352841</td>\n",
       "      <td>0.000033</td>\n",
       "      <td>2.694189</td>\n",
       "      <td>2018-10-01 00:14:01</td>\n",
       "      <td>1538352841</td>\n",
       "      <td>0.700000</td>\n",
       "    </tr>\n",
       "    <tr>\n",
       "      <th>166</th>\n",
       "      <td>543838</td>\n",
       "      <td>1538352940</td>\n",
       "      <td>0.000033</td>\n",
       "      <td>2.697526</td>\n",
       "      <td>2018-10-01 00:15:40</td>\n",
       "      <td>1538352940</td>\n",
       "      <td>1.650000</td>\n",
       "    </tr>\n",
       "    <tr>\n",
       "      <th>167</th>\n",
       "      <td>543839</td>\n",
       "      <td>1538353463</td>\n",
       "      <td>0.000033</td>\n",
       "      <td>2.714195</td>\n",
       "      <td>2018-10-01 00:24:23</td>\n",
       "      <td>1538353463</td>\n",
       "      <td>8.716667</td>\n",
       "    </tr>\n",
       "  </tbody>\n",
       "</table>\n",
       "</div>"
      ],
      "text/plain": [
       "     height    unixtime  probability of success /Eh  expected return (USD/Eh)  \\\n",
       "163  543835  1538352272                    0.000033                  2.720620   \n",
       "164  543836  1538352799                    0.000033                  2.711797   \n",
       "165  543837  1538352841                    0.000033                  2.694189   \n",
       "166  543838  1538352940                    0.000033                  2.697526   \n",
       "167  543839  1538353463                    0.000033                  2.714195   \n",
       "\n",
       "                   time    adj_time  adj_block_gen_time(min)  \n",
       "163 2018-10-01 00:04:32  1538352272                18.633333  \n",
       "164 2018-10-01 00:13:19  1538352799                 8.783333  \n",
       "165 2018-10-01 00:14:01  1538352841                 0.700000  \n",
       "166 2018-10-01 00:15:40  1538352940                 1.650000  \n",
       "167 2018-10-01 00:24:23  1538353463                 8.716667  "
      ]
     },
     "execution_count": 4,
     "metadata": {},
     "output_type": "execute_result"
    }
   ],
   "source": [
    "df_BTC_2018OctDec = df_BTC[(df_BTC['time'] >= datetime(2018,9,30)) & (df_BTC['time'] <= datetime(2019,1,1))]\n",
    "df_BTC_2018OctDec = df_BTC_2018OctDec.reset_index(drop=True)\n",
    "BTC_times = df_BTC_2018OctDec['unixtime']\n",
    "df_BTC_2018OctDec['adj_time'] = adjust_unixtime(BTC_times)\n",
    "df_BTC_2018OctDec['adj_block_gen_time(min)'] = df_BTC_2018OctDec['adj_time'].diff()/60\n",
    "df_BTC_2018OctDec = df_BTC_2018OctDec[df_BTC_2018OctDec['time'] >= datetime(2018,10,1)]\n",
    "df_BTC_2018OctDec.head()"
   ]
  },
  {
   "cell_type": "code",
   "execution_count": 5,
   "metadata": {
    "ExecuteTime": {
     "end_time": "2021-07-04T08:59:45.603992Z",
     "start_time": "2021-07-04T08:59:45.592607Z"
    },
    "scrolled": true
   },
   "outputs": [
    {
     "data": {
      "text/html": [
       "<div>\n",
       "<style scoped>\n",
       "    .dataframe tbody tr th:only-of-type {\n",
       "        vertical-align: middle;\n",
       "    }\n",
       "\n",
       "    .dataframe tbody tr th {\n",
       "        vertical-align: top;\n",
       "    }\n",
       "\n",
       "    .dataframe thead th {\n",
       "        text-align: right;\n",
       "    }\n",
       "</style>\n",
       "<table border=\"1\" class=\"dataframe\">\n",
       "  <thead>\n",
       "    <tr style=\"text-align: right;\">\n",
       "      <th></th>\n",
       "      <th>adj_block_gen_time(min)</th>\n",
       "      <th>probability of success /Eh</th>\n",
       "      <th>expected return (USD/Eh)</th>\n",
       "      <th>adj_block_gen_time(sec)</th>\n",
       "    </tr>\n",
       "  </thead>\n",
       "  <tbody>\n",
       "    <tr>\n",
       "      <th>163</th>\n",
       "      <td>18.633333</td>\n",
       "      <td>0.000033</td>\n",
       "      <td>2.720620</td>\n",
       "      <td>1118.0</td>\n",
       "    </tr>\n",
       "    <tr>\n",
       "      <th>164</th>\n",
       "      <td>8.783333</td>\n",
       "      <td>0.000033</td>\n",
       "      <td>2.711797</td>\n",
       "      <td>527.0</td>\n",
       "    </tr>\n",
       "    <tr>\n",
       "      <th>165</th>\n",
       "      <td>0.700000</td>\n",
       "      <td>0.000033</td>\n",
       "      <td>2.694189</td>\n",
       "      <td>42.0</td>\n",
       "    </tr>\n",
       "    <tr>\n",
       "      <th>166</th>\n",
       "      <td>1.650000</td>\n",
       "      <td>0.000033</td>\n",
       "      <td>2.697526</td>\n",
       "      <td>99.0</td>\n",
       "    </tr>\n",
       "    <tr>\n",
       "      <th>167</th>\n",
       "      <td>8.716667</td>\n",
       "      <td>0.000033</td>\n",
       "      <td>2.714195</td>\n",
       "      <td>523.0</td>\n",
       "    </tr>\n",
       "  </tbody>\n",
       "</table>\n",
       "</div>"
      ],
      "text/plain": [
       "     adj_block_gen_time(min)  probability of success /Eh  \\\n",
       "163                18.633333                    0.000033   \n",
       "164                 8.783333                    0.000033   \n",
       "165                 0.700000                    0.000033   \n",
       "166                 1.650000                    0.000033   \n",
       "167                 8.716667                    0.000033   \n",
       "\n",
       "     expected return (USD/Eh)  adj_block_gen_time(sec)  \n",
       "163                  2.720620                   1118.0  \n",
       "164                  2.711797                    527.0  \n",
       "165                  2.694189                     42.0  \n",
       "166                  2.697526                     99.0  \n",
       "167                  2.714195                    523.0  "
      ]
     },
     "execution_count": 5,
     "metadata": {},
     "output_type": "execute_result"
    }
   ],
   "source": [
    "df = df_BTC_2018OctDec.loc[:, ['adj_block_gen_time(min)', 'probability of success /Eh', 'expected return (USD/Eh)']]\n",
    "df['adj_block_gen_time(sec)'] = df['adj_block_gen_time(min)']*60\n",
    "df.head()"
   ]
  },
  {
   "cell_type": "markdown",
   "metadata": {},
   "source": [
    "### Optimization via Scipy"
   ]
  },
  {
   "cell_type": "code",
   "execution_count": 7,
   "metadata": {
    "ExecuteTime": {
     "end_time": "2021-06-27T00:59:12.500449Z",
     "start_time": "2021-06-27T00:59:12.496148Z"
    }
   },
   "outputs": [],
   "source": [
    "block_times = df.loc[:, 'adj_block_gen_time(sec)'].values\n",
    "block_gen_rates = df.loc[:, 'probability of success /Eh'].values\n",
    "exp_rewards = df.loc[:, 'expected return (USD/Eh)'].values\n",
    "\n",
    "def log_likelihood(params):\n",
    "    '''\n",
    "    params = [a, b]\n",
    "    '''    \n",
    "    a = params[0]\n",
    "    b = params[1]\n",
    "    \n",
    "    temp = np.log(a + b * exp_rewards) \\\n",
    "        - (block_gen_rates * (a + b * exp_rewards) * block_times)\n",
    "    ll = np.sum(temp)\n",
    "    \n",
    "    return -ll"
   ]
  },
  {
   "cell_type": "code",
   "execution_count": 8,
   "metadata": {
    "ExecuteTime": {
     "end_time": "2021-06-27T00:59:34.403544Z",
     "start_time": "2021-06-27T00:59:34.390059Z"
    }
   },
   "outputs": [
    {
     "name": "stdout",
     "output_type": "stream",
     "text": [
      "      fun: -35200.9856368449\n",
      " hess_inv: <2x2 LbfgsInvHessProduct with dtype=float64>\n",
      "      jac: array([-0.0007276, -0.0007276])\n",
      "  message: b'CONVERGENCE: REL_REDUCTION_OF_F_<=_FACTR*EPSMCH'\n",
      "     nfev: 36\n",
      "      nit: 10\n",
      "     njev: 12\n",
      "   status: 0\n",
      "  success: True\n",
      "        x: array([23.58815554,  9.02489233])\n"
     ]
    }
   ],
   "source": [
    "x0 = np.array([24.0, 9.0])\n",
    "\n",
    "result = minimize(fun = log_likelihood,\n",
    "                  x0=x0, \n",
    "                  method=\"L-BFGS-B\")\n",
    "print(result)"
   ]
  },
  {
   "cell_type": "markdown",
   "metadata": {
    "ExecuteTime": {
     "end_time": "2021-06-27T00:59:53.006833Z",
     "start_time": "2021-06-27T00:59:53.003040Z"
    }
   },
   "source": [
    "Therefore, the MLE is\n",
    "$$\n",
    "\\hat{\\alpha} = 23.59, \\hat{\\beta} = 9.02.\n",
    "$$"
   ]
  },
  {
   "cell_type": "markdown",
   "metadata": {},
   "source": [
    "## Estimation via log-scaled variables"
   ]
  },
  {
   "cell_type": "markdown",
   "metadata": {},
   "source": [
    "* Assume the following linear model and estimate parameters $\\alpha, \\beta$ via MLE:\n",
    "$$\n",
    "\\log H(t) = \\alpha + \\beta \\log R(t),\n",
    "$$\n",
    "which is equivalent to\n",
    "$$\n",
    "H(t) = \\mathrm e^{\\alpha} R(t)^{\\beta}.\n",
    "$$\n",
    "* The likelihood function is\n",
    "$$\n",
    "\\mathcal{L} = \\prod_t W(t) \\left(\n",
    "\\mathrm e^{\\alpha} R(t)^{\\beta}\n",
    "\\right)\n",
    "\\exp \\left(-W(t) B(t) \\mathrm e^{\\alpha} R(t)^{\\beta}\\right).\n",
    "$$\n",
    "* The log-likelihood function is\n",
    "$$\n",
    "\\log \\mathcal{L} \\propto \\sum_t \\left[\\alpha + \\beta \\log R(t)  - W(t) B(t) \\mathrm e^{\\alpha} R(t)^{\\beta} \\right].\n",
    "$$"
   ]
  },
  {
   "cell_type": "markdown",
   "metadata": {},
   "source": [
    "We obtained the MLE such that\n",
    "$$\n",
    "\\hat \\alpha = 3.42, \\ \\hat \\beta = 0.45.\n",
    "$$"
   ]
  },
  {
   "cell_type": "markdown",
   "metadata": {},
   "source": [
    "### Computation"
   ]
  },
  {
   "cell_type": "code",
   "execution_count": 10,
   "metadata": {
    "ExecuteTime": {
     "end_time": "2021-06-27T01:03:20.065934Z",
     "start_time": "2021-06-27T01:03:20.061936Z"
    }
   },
   "outputs": [],
   "source": [
    "def log_likelihood_2(params):\n",
    "    '''\n",
    "    params = [a, b]\n",
    "    '''    \n",
    "    a = params[0]\n",
    "    b = params[1]\n",
    "    \n",
    "    temp = a + b*np.log(exp_rewards) - block_gen_rates*block_times*np.exp(a)*np.power(exp_rewards, b)\n",
    "    ll = np.sum(temp)\n",
    "    \n",
    "    return -ll"
   ]
  },
  {
   "cell_type": "code",
   "execution_count": 11,
   "metadata": {
    "ExecuteTime": {
     "end_time": "2021-06-27T01:03:24.325348Z",
     "start_time": "2021-06-27T01:03:24.299239Z"
    }
   },
   "outputs": [
    {
     "name": "stdout",
     "output_type": "stream",
     "text": [
      "      fun: -35200.493577691355\n",
      " hess_inv: <2x2 LbfgsInvHessProduct with dtype=float64>\n",
      "      jac: array([0.00800355, 0.00582077])\n",
      "  message: b'CONVERGENCE: REL_REDUCTION_OF_F_<=_FACTR*EPSMCH'\n",
      "     nfev: 39\n",
      "      nit: 11\n",
      "     njev: 13\n",
      "   status: 0\n",
      "  success: True\n",
      "        x: array([3.41878738, 0.45145085])\n"
     ]
    }
   ],
   "source": [
    "x0 = np.array([3.0, 0.5])\n",
    "\n",
    "result = minimize(fun = log_likelihood_2,\n",
    "                  x0=x0, \n",
    "                  bounds = ((0,np.inf),(0.01,np.inf)),\n",
    "                  method=\"L-BFGS-B\")\n",
    "print(result)"
   ]
  },
  {
   "cell_type": "markdown",
   "metadata": {},
   "source": [
    "Therefore, the MLE is\n",
    "$$\n",
    "\\hat \\alpha = 3.42, \\ \\hat \\beta = 0.45.\n",
    "$$"
   ]
  },
  {
   "cell_type": "markdown",
   "metadata": {},
   "source": [
    "### Variance-Covariance Matrix"
   ]
  },
  {
   "cell_type": "markdown",
   "metadata": {},
   "source": [
    "The Fisher information matrix is\n",
    "$$\n",
    "I(\\hat \\alpha, \\hat \\beta) = \n",
    "\\begin{bmatrix}\n",
    "\\sum_t 1 & \\sum_t \\log R(t) \\\\\n",
    "\\sum_t \\log R(t) & \\sum_t (\\log R(t))^2\n",
    "\\end{bmatrix}.\n",
    "$$\n",
    "Thus the variance-covariance matrix is\n",
    "$$\n",
    "V(\\hat \\alpha, \\hat \\beta) = (I (\\hat \\alpha, \\hat \\beta))^{-1}\n",
    "=\n",
    "\\begin{bmatrix}\n",
    "0.00223838 & -0.00263739 \\\\\n",
    "-0.00263739 & 0.00322153\n",
    "\\end{bmatrix}.\n",
    "$$"
   ]
  },
  {
   "cell_type": "code",
   "execution_count": 8,
   "metadata": {
    "ExecuteTime": {
     "end_time": "2021-07-04T09:04:17.880638Z",
     "start_time": "2021-07-04T09:04:17.878003Z"
    }
   },
   "outputs": [],
   "source": [
    "I = np.zeros((2,2))"
   ]
  },
  {
   "cell_type": "code",
   "execution_count": 9,
   "metadata": {
    "ExecuteTime": {
     "end_time": "2021-07-04T09:04:40.463492Z",
     "start_time": "2021-07-04T09:04:40.454160Z"
    }
   },
   "outputs": [
    {
     "data": {
      "text/html": [
       "<div>\n",
       "<style scoped>\n",
       "    .dataframe tbody tr th:only-of-type {\n",
       "        vertical-align: middle;\n",
       "    }\n",
       "\n",
       "    .dataframe tbody tr th {\n",
       "        vertical-align: top;\n",
       "    }\n",
       "\n",
       "    .dataframe thead th {\n",
       "        text-align: right;\n",
       "    }\n",
       "</style>\n",
       "<table border=\"1\" class=\"dataframe\">\n",
       "  <thead>\n",
       "    <tr style=\"text-align: right;\">\n",
       "      <th></th>\n",
       "      <th>adj_block_gen_time(min)</th>\n",
       "      <th>probability of success /Eh</th>\n",
       "      <th>expected return (USD/Eh)</th>\n",
       "      <th>adj_block_gen_time(sec)</th>\n",
       "    </tr>\n",
       "  </thead>\n",
       "  <tbody>\n",
       "    <tr>\n",
       "      <th>163</th>\n",
       "      <td>18.633333</td>\n",
       "      <td>0.000033</td>\n",
       "      <td>2.720620</td>\n",
       "      <td>1118.0</td>\n",
       "    </tr>\n",
       "    <tr>\n",
       "      <th>164</th>\n",
       "      <td>8.783333</td>\n",
       "      <td>0.000033</td>\n",
       "      <td>2.711797</td>\n",
       "      <td>527.0</td>\n",
       "    </tr>\n",
       "    <tr>\n",
       "      <th>165</th>\n",
       "      <td>0.700000</td>\n",
       "      <td>0.000033</td>\n",
       "      <td>2.694189</td>\n",
       "      <td>42.0</td>\n",
       "    </tr>\n",
       "    <tr>\n",
       "      <th>166</th>\n",
       "      <td>1.650000</td>\n",
       "      <td>0.000033</td>\n",
       "      <td>2.697526</td>\n",
       "      <td>99.0</td>\n",
       "    </tr>\n",
       "    <tr>\n",
       "      <th>167</th>\n",
       "      <td>8.716667</td>\n",
       "      <td>0.000033</td>\n",
       "      <td>2.714195</td>\n",
       "      <td>523.0</td>\n",
       "    </tr>\n",
       "  </tbody>\n",
       "</table>\n",
       "</div>"
      ],
      "text/plain": [
       "     adj_block_gen_time(min)  probability of success /Eh  \\\n",
       "163                18.633333                    0.000033   \n",
       "164                 8.783333                    0.000033   \n",
       "165                 0.700000                    0.000033   \n",
       "166                 1.650000                    0.000033   \n",
       "167                 8.716667                    0.000033   \n",
       "\n",
       "     expected return (USD/Eh)  adj_block_gen_time(sec)  \n",
       "163                  2.720620                   1118.0  \n",
       "164                  2.711797                    527.0  \n",
       "165                  2.694189                     42.0  \n",
       "166                  2.697526                     99.0  \n",
       "167                  2.714195                    523.0  "
      ]
     },
     "execution_count": 9,
     "metadata": {},
     "output_type": "execute_result"
    }
   ],
   "source": [
    "df.head()"
   ]
  },
  {
   "cell_type": "code",
   "execution_count": 13,
   "metadata": {
    "ExecuteTime": {
     "end_time": "2021-07-04T09:06:29.731224Z",
     "start_time": "2021-07-04T09:06:29.728220Z"
    }
   },
   "outputs": [],
   "source": [
    "logR = np.log(df['expected return (USD/Eh)'].values)"
   ]
  },
  {
   "cell_type": "code",
   "execution_count": 15,
   "metadata": {
    "ExecuteTime": {
     "end_time": "2021-07-04T09:06:53.125376Z",
     "start_time": "2021-07-04T09:06:53.120871Z"
    }
   },
   "outputs": [
    {
     "data": {
      "text/plain": [
       "array([1.00085961, 0.9976114 , 0.9910974 , ..., 0.65084736, 0.65284063,\n",
       "       0.65152842])"
      ]
     },
     "execution_count": 15,
     "metadata": {},
     "output_type": "execute_result"
    }
   ],
   "source": [
    "logR"
   ]
  },
  {
   "cell_type": "code",
   "execution_count": 16,
   "metadata": {
    "ExecuteTime": {
     "end_time": "2021-07-04T09:07:01.899985Z",
     "start_time": "2021-07-04T09:07:01.895426Z"
    }
   },
   "outputs": [
    {
     "data": {
      "text/plain": [
       "array([1.00171996, 0.9952285 , 0.98227406, ..., 0.42360228, 0.42620089,\n",
       "       0.42448928])"
      ]
     },
     "execution_count": 16,
     "metadata": {},
     "output_type": "execute_result"
    }
   ],
   "source": [
    "logR**2"
   ]
  },
  {
   "cell_type": "code",
   "execution_count": 20,
   "metadata": {
    "ExecuteTime": {
     "end_time": "2021-07-04T09:09:09.488870Z",
     "start_time": "2021-07-04T09:09:09.482259Z"
    }
   },
   "outputs": [
    {
     "data": {
      "text/plain": [
       "array([[12624.        , 10334.96759002],\n",
       "       [10334.96759002,  8771.40286181]])"
      ]
     },
     "execution_count": 20,
     "metadata": {},
     "output_type": "execute_result"
    }
   ],
   "source": [
    "T = df.shape[0]\n",
    "I[0,0] = T\n",
    "I[0,1] = np.sum(logR)\n",
    "I[1,0] = np.sum(logR)\n",
    "I[1,1] = np.sum(logR**2)\n",
    "I"
   ]
  },
  {
   "cell_type": "code",
   "execution_count": 21,
   "metadata": {
    "ExecuteTime": {
     "end_time": "2021-07-04T09:09:11.233566Z",
     "start_time": "2021-07-04T09:09:11.229008Z"
    }
   },
   "outputs": [
    {
     "data": {
      "text/plain": [
       "array([[ 0.00223838, -0.00263739],\n",
       "       [-0.00263739,  0.00322153]])"
      ]
     },
     "execution_count": 21,
     "metadata": {},
     "output_type": "execute_result"
    }
   ],
   "source": [
    "V = np.linalg.inv(I)\n",
    "V"
   ]
  },
  {
   "cell_type": "markdown",
   "metadata": {},
   "source": [
    "### Plot"
   ]
  },
  {
   "cell_type": "markdown",
   "metadata": {},
   "source": [
    "**Problem(?) July 5**\n",
    "\n",
    "* The graph below is the hash supply function with the log-log axis.\n",
    "* Why the slope is not monotonically decreasing, which must hold given the formula $\\epsilon(R)$ in the paper.\n",
    "\n",
    "**What I did**\n",
    "\n",
    "$$H = \\frac{55}{1 + \\exp(-3(R - 1.5))}$$\n",
    "\n",
    "$$\\log H = 55 - \\log (1 + \\exp(4.5 -3R)) = \\log 55 - \\log (1 + \\exp(4.5) \\exp(-3R)) =  55 - \\log (1 + e^{4.5} e^{-3 \\exp(\\log R)})$$\n",
    "\n",
    "* Then I plotted, with the usual $x$-$y$ axis, \n",
    "$$y = \\log 55 - \\log (1+e^{4.5} e^{-3\\exp(x)}),$$\n",
    "for $x \\in [-4.6, 1.1]$."
   ]
  },
  {
   "cell_type": "code",
   "execution_count": 2,
   "metadata": {
    "ExecuteTime": {
     "end_time": "2021-07-06T12:40:36.949824Z",
     "start_time": "2021-07-06T12:40:36.943061Z"
    }
   },
   "outputs": [],
   "source": [
    "@np.vectorize\n",
    "def log_hash_supply(log_x):\n",
    "    return np.log(55) - np.log(1 + np.exp(4.5)*np.exp(-3*np.exp(log_x)))"
   ]
  },
  {
   "cell_type": "code",
   "execution_count": 3,
   "metadata": {
    "ExecuteTime": {
     "end_time": "2021-07-06T12:40:38.553410Z",
     "start_time": "2021-07-06T12:40:38.542619Z"
    }
   },
   "outputs": [],
   "source": [
    "x = np.linspace(0.01, 3.0, 300)\n",
    "log_x = np.log(x)\n",
    "alpha = 3.42\n",
    "beta = 0.45\n",
    "y = log_hash_supply(log_x)\n",
    "y_est = alpha + beta * log_x\n",
    "flag = log_x > np.log(1.58)\n",
    "log_x_truncated = log_x[flag]\n",
    "y_est_truncated = y_est[flag]"
   ]
  },
  {
   "cell_type": "code",
   "execution_count": 5,
   "metadata": {
    "ExecuteTime": {
     "end_time": "2021-07-06T12:41:12.025537Z",
     "start_time": "2021-07-06T12:41:12.021785Z"
    }
   },
   "outputs": [
    {
     "name": "stdout",
     "output_type": "stream",
     "text": [
      "-4.605170185988091 1.0986122886681098\n"
     ]
    }
   ],
   "source": [
    "print(log_x[0], log_x[-1])"
   ]
  },
  {
   "cell_type": "code",
   "execution_count": 6,
   "metadata": {
    "ExecuteTime": {
     "end_time": "2021-07-06T12:41:50.182826Z",
     "start_time": "2021-07-06T12:41:49.939513Z"
    }
   },
   "outputs": [
    {
     "data": {
      "image/png": "[encoded data removed]",
      "text/plain": [
       "<Figure size 432x288 with 1 Axes>"
      ]
     },
     "metadata": {},
     "output_type": "display_data"
    }
   ],
   "source": [
    "plt.rcParams[\"font.size\"] = 12\n",
    "\n",
    "fig = plt.figure(facecolor='w')\n",
    "ax = fig.add_subplot(1,1,1, aspect='equal', title='Hash Supply Function')\n",
    "ax.plot(log_x, y, label='Assumed')\n",
    "ax.plot(log_x_truncated, y_est_truncated, label='Estimated', linestyle='--')\n",
    "ax.vlines(np.log(1.58), ymin=-0.5, ymax=4.05, linestyles='-', colors='gray')\n",
    "\n",
    "ax.set_xlabel('Log Reward Rate (USD/Ehash)')\n",
    "ax.set_ylabel('Log Hash Rate (EHash/second)')\n",
    "\n",
    "ax.legend()\n",
    "plt.show()"
   ]
  },
  {
   "cell_type": "code",
   "execution_count": 7,
   "metadata": {
    "ExecuteTime": {
     "end_time": "2021-07-06T12:43:20.922165Z",
     "start_time": "2021-07-06T12:43:20.762683Z"
    }
   },
   "outputs": [
    {
     "data": {
      "image/png": "[encoded data removed]",
      "text/plain": [
       "<Figure size 432x288 with 1 Axes>"
      ]
     },
     "metadata": {
      "needs_background": "light"
     },
     "output_type": "display_data"
    }
   ],
   "source": [
    "# the same as above\n",
    "z = np.linspace(-4.6, 1.1, 1000)\n",
    "w = log_hash_supply(z)\n",
    "plt.plot(z,w)\n",
    "plt.show()"
   ]
  },
  {
   "cell_type": "code",
   "execution_count": 2,
   "metadata": {
    "ExecuteTime": {
     "end_time": "2021-07-06T13:54:21.880760Z",
     "start_time": "2021-07-06T13:54:21.698460Z"
    }
   },
   "outputs": [
    {
     "data": {
      "image/png": "[encoded data removed]",
      "text/plain": [
       "<Figure size 432x288 with 1 Axes>"
      ]
     },
     "metadata": {
      "needs_background": "light"
     },
     "output_type": "display_data"
    }
   ],
   "source": [
    "x = np.linspace(0.01, 3.0, 300)\n",
    "y = 3*x*(np.exp(-3*x + 4.5))/(1 + np.exp(-3*x + 4.5))\n",
    "plt.plot(x,y)\n",
    "plt.show()"
   ]
  },
  {
   "cell_type": "code",
   "execution_count": 19,
   "metadata": {
    "ExecuteTime": {
     "end_time": "2021-07-06T14:35:28.732529Z",
     "start_time": "2021-07-06T14:35:28.723722Z"
    }
   },
   "outputs": [],
   "source": [
    "def hash_supply(x, center=1.5, slope=3, ubd=55):\n",
    "    return ubd/(1+np.exp(-slope*(x - center)))"
   ]
  },
  {
   "cell_type": "code",
   "execution_count": 20,
   "metadata": {
    "ExecuteTime": {
     "end_time": "2021-07-06T14:36:35.184948Z",
     "start_time": "2021-07-06T14:36:35.181229Z"
    }
   },
   "outputs": [],
   "source": [
    "def elasticity(x, center=1.5, slope=3, ubd=55):\n",
    "    return 3*x*(np.exp(-slope*x + slope*center))/(1 + np.exp(-slope*x + slope*center))"
   ]
  },
  {
   "cell_type": "code",
   "execution_count": 26,
   "metadata": {
    "ExecuteTime": {
     "end_time": "2021-07-06T14:39:49.689219Z",
     "start_time": "2021-07-06T14:39:49.685623Z"
    }
   },
   "outputs": [],
   "source": [
    "center, slope, ubd = 1.25, 4, 55\n",
    "x = np.linspace(0.1, 3.0, 300)\n",
    "y = hash_supply(x, center, slope, ubd)\n",
    "e = elasticity(x, center, slope, ubd)"
   ]
  },
  {
   "cell_type": "code",
   "execution_count": 5,
   "metadata": {
    "ExecuteTime": {
     "end_time": "2021-07-06T14:26:52.236281Z",
     "start_time": "2021-07-06T14:26:52.233090Z"
    }
   },
   "outputs": [],
   "source": [
    "y_est = np.exp(3.42)*np.power(x, 0.45)\n",
    "flag = x > 1.58\n",
    "x_truncated = x[flag]\n",
    "y_est_truncated = y_est[flag]\n",
    "e_est = (np.ones_like(x)*0.45)[flag]"
   ]
  },
  {
   "cell_type": "code",
   "execution_count": 32,
   "metadata": {
    "ExecuteTime": {
     "end_time": "2021-07-06T14:44:00.059956Z",
     "start_time": "2021-07-06T14:44:00.057285Z"
    }
   },
   "outputs": [],
   "source": [
    "center_list = np.arange(1.0, 1.5, 0.1)\n",
    "slope_list = np.arange(3.0, 5.0, 0.1)\n",
    "ubd_list = np.arange(55, 60, 1.0)"
   ]
  },
  {
   "cell_type": "code",
   "execution_count": 56,
   "metadata": {
    "ExecuteTime": {
     "end_time": "2021-07-06T14:54:46.478772Z",
     "start_time": "2021-07-06T14:54:46.104944Z"
    }
   },
   "outputs": [
    {
     "data": {
      "image/png": "[encoded data removed]",
      "text/plain": [
       "<Figure size 1152x432 with 2 Axes>"
      ]
     },
     "metadata": {},
     "output_type": "display_data"
    }
   ],
   "source": [
    "center, slope, ubd = 1.5, 3.0, 55\n",
    "\n",
    "x = np.linspace(0.1, 3.0, 300)\n",
    "y = hash_supply(x, center, slope, ubd)\n",
    "e = elasticity(x, center, slope, ubd)\n",
    "\n",
    "plt.rcParams[\"font.size\"] = 12\n",
    "\n",
    "fig = plt.figure(facecolor='w', figsize=(16, 6))\n",
    "ax = fig.add_subplot(1,2,1, title='Hash Supply Function')\n",
    "ax.plot(x, y, label='Assumed')\n",
    "ax.plot(x_truncated, y_est_truncated, label='Estimated', linestyle='--')\n",
    "ax.vlines(1.58, ymin=0.0, ymax=55, linestyles='-', colors='gray')\n",
    "ax.set_xlabel('Reward Rate (USD/Ehash)')\n",
    "ax.set_ylabel('Hash Rate (EHash/second)')\n",
    "ax.legend()\n",
    "\n",
    "ax2 = fig.add_subplot(1,2,2, title='Elasticity')\n",
    "ax2.plot(x, e, label='Assumed')\n",
    "ax2.plot(x_truncated, e_est, label='Estimated', linestyle='--')\n",
    "ax2.set_xlabel('Reward Rate (USD/Ehash)')\n",
    "ax2.set_ylabel('Elasticity')\n",
    "ax2.vlines(1.58, ymin=0.0, ymax=2.5, linestyles='-', colors='gray')\n",
    "ax2.legend()\n",
    "\n",
    "plt.show()"
   ]
  },
  {
   "cell_type": "code",
   "execution_count": 57,
   "metadata": {
    "ExecuteTime": {
     "end_time": "2021-07-06T14:55:04.884304Z",
     "start_time": "2021-07-06T14:55:04.509254Z"
    }
   },
   "outputs": [
    {
     "data": {
      "image/png": "[encoded data removed]",
      "text/plain": [
       "<Figure size 1152x432 with 2 Axes>"
      ]
     },
     "metadata": {},
     "output_type": "display_data"
    }
   ],
   "source": [
    "center, slope, ubd = 1.4, 3.5, 55\n",
    "\n",
    "x = np.linspace(0.1, 3.0, 300)\n",
    "y = hash_supply(x, center, slope, ubd)\n",
    "e = elasticity(x, center, slope, ubd)\n",
    "\n",
    "plt.rcParams[\"font.size\"] = 12\n",
    "\n",
    "fig = plt.figure(facecolor='w', figsize=(16, 6))\n",
    "ax = fig.add_subplot(1,2,1, title='Hash Supply Function')\n",
    "ax.plot(x, y, label='Assumed')\n",
    "ax.plot(x_truncated, y_est_truncated, label='Estimated', linestyle='--')\n",
    "ax.vlines(1.58, ymin=0.0, ymax=55, linestyles='-', colors='gray')\n",
    "ax.set_xlabel('Reward Rate (USD/Ehash)')\n",
    "ax.set_ylabel('Hash Rate (EHash/second)')\n",
    "ax.legend()\n",
    "\n",
    "ax2 = fig.add_subplot(1,2,2, title='Elasticity')\n",
    "ax2.plot(x, e, label='Assumed')\n",
    "ax2.plot(x_truncated, e_est, label='Estimated', linestyle='--')\n",
    "ax2.set_xlabel('Reward Rate (USD/Ehash)')\n",
    "ax2.set_ylabel('Elasticity')\n",
    "ax2.vlines(1.58, ymin=0.0, ymax=2.5, linestyles='-', colors='gray')\n",
    "ax2.legend()\n",
    "\n",
    "plt.show()"
   ]
  },
  {
   "cell_type": "code",
   "execution_count": null,
   "metadata": {},
   "outputs": [],
   "source": []
  }
 ],
 "metadata": {
  "kernelspec": {
   "display_name": "Python 3",
   "language": "python",
   "name": "python3"
  },
  "language_info": {
   "codemirror_mode": {
    "name": "ipython",
    "version": 3
   },
   "file_extension": ".py",
   "mimetype": "text/x-python",
   "name": "python",
   "nbconvert_exporter": "python",
   "pygments_lexer": "ipython3",
   "version": "3.8.8"
  },
  "latex_envs": {
   "LaTeX_envs_menu_present": true,
   "autoclose": false,
   "autocomplete": true,
   "bibliofile": "biblio.bib",
   "cite_by": "apalike",
   "current_citInitial": 1,
   "eqLabelWithNumbers": true,
   "eqNumInitial": 1,
   "hotkeys": {
    "equation": "Ctrl-E",
    "itemize": "Ctrl-I"
   },
   "labels_anchors": false,
   "latex_user_defs": false,
   "report_style_numbering": false,
   "user_envs_cfg": false
  },
  "toc": {
   "base_numbering": 1,
   "nav_menu": {},
   "number_sections": true,
   "sideBar": true,
   "skip_h1_title": false,
   "title_cell": "Table of Contents",
   "title_sidebar": "Contents",
   "toc_cell": false,
   "toc_position": {},
   "toc_section_display": true,
   "toc_window_display": false
  },
  "varInspector": {
   "cols": {
    "lenName": 16,
    "lenType": 16,
    "lenVar": 40
   },
   "kernels_config": {
    "python": {
     "delete_cmd_postfix": "",
     "delete_cmd_prefix": "del ",
     "library": "var_list.py",
     "varRefreshCmd": "print(var_dic_list())"
    },
    "r": {
     "delete_cmd_postfix": ") ",
     "delete_cmd_prefix": "rm(",
     "library": "var_list.r",
     "varRefreshCmd": "cat(var_dic_list()) "
    }
   },
   "types_to_exclude": [
    "module",
    "function",
    "builtin_function_or_method",
    "instance",
    "_Feature"
   ],
   "window_display": false
  }
 },
 "nbformat": 4,
 "nbformat_minor": 2
}
