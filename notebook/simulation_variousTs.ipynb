{
 "cells": [
  {
   "cell_type": "markdown",
   "metadata": {},
   "source": [
    "# Simulation for additional results (Variou $T$'s)"
   ]
  },
  {
   "cell_type": "markdown",
   "metadata": {},
   "source": [
    "* This notebook contains the codes for simulations that evaluates the effect of the length of time window in DAA.\n",
    "* You can view and download this notebook at my [github repo](https://github.com/okuchap/DAA_Lucas). (https://github.com/okuchap/DAA_Lucas)\n",
    "* See also other notebooks about simulation"
   ]
  },
  {
   "cell_type": "code",
   "execution_count": 1,
   "metadata": {
    "ExecuteTime": {
     "end_time": "2021-11-13T02:22:30.910231Z",
     "start_time": "2021-11-13T02:22:29.545326Z"
    }
   },
   "outputs": [],
   "source": [
    "%matplotlib inline\n",
    "%load_ext autoreload\n",
    "import numpy as np\n",
    "import matplotlib as mpl\n",
    "import matplotlib.pyplot as plt\n",
    "import pandas as pd\n",
    "import pathlib\n",
    "import time\n",
    "from datetime import datetime\n",
    "import scipy.optimize as opt\n",
    "np.set_printoptions(precision=3)\n",
    "np.set_printoptions(suppress=True)\n",
    "#plt.style.use(\"ggplot\")\n",
    "mpl.pyplot.rcParams['figure.figsize'] = (5.0, 4.0)\n",
    "plt.rcParams[\"font.size\"] = 13\n",
    "#mpl.rcParams[\"font.family\"] = 'Osaka'\n",
    "\n",
    "import sys\n",
    "sys.path.append('../code/')\n",
    "\n",
    "from simulation_additional import *\n",
    "from simulation_fixed_path import make_stats"
   ]
  },
  {
   "cell_type": "code",
   "execution_count": 6,
   "metadata": {
    "ExecuteTime": {
     "end_time": "2021-11-08T00:57:16.512561Z",
     "start_time": "2021-11-08T00:57:02.701458Z"
    }
   },
   "outputs": [],
   "source": [
    "# data for pre-simulation period\n",
    "path = '../data/BTCdata_presim.csv'\n",
    "df = pd.read_csv(path)\n",
    "df['time'] = pd.to_datetime(df['time'])\n",
    "df = df.rename(columns={'blocktime': 'block_times', 'price': 'prices', 'probability of success /Eh': 'winning_rates'})\n",
    "df.head()"
   ]
  },
  {
   "cell_type": "markdown",
   "metadata": {},
   "source": [
    "### Simulation"
   ]
  },
  {
   "cell_type": "code",
   "execution_count": 24,
   "metadata": {
    "ExecuteTime": {
     "end_time": "2021-11-10T02:32:01.823000Z",
     "start_time": "2021-11-08T01:25:22.537880Z"
    }
   },
   "outputs": [
    {
     "name": "stdout",
     "output_type": "stream",
     "text": [
      "Start: 2021-11-07 19:25:22.542451\n",
      "T=1 is done: 2021-11-07 19:33:56.997746\n",
      "T=10 is done: 2021-11-08 04:35:33.569705\n",
      "T=50 is done: 2021-11-08 13:18:36.527476\n",
      "T=100 is done: 2021-11-08 23:51:08.785655\n",
      "T=500 is done: 2021-11-09 08:10:11.842522\n",
      "T=1000 is done: 2021-11-09 20:32:01.665800\n"
     ]
    }
   ],
   "source": [
    "T_list = [1,10,50,100,500,1000]\n",
    "\n",
    "print('Start: {}'.format(datetime.now()))\n",
    "\n",
    "for T in T_list:\n",
    "    generate_simulation_data(num_iter=5000, prev_data=prev_data, T=T)\n",
    "    print('T={} is done: {}'.format(T, datetime.now()))"
   ]
  },
  {
   "cell_type": "markdown",
   "metadata": {},
   "source": [
    "### Block time statistics"
   ]
  },
  {
   "cell_type": "code",
   "execution_count": 3,
   "metadata": {},
   "outputs": [],
   "source": [
    "dir_sim = '/Volumes/Data/research/BDA/simulation/'\n",
    "filelist = [dir_sim+'DAA-1_blocktime_ps0_5000obs_T=1.csv',\n",
    "            dir_sim+'DAA-1_blocktime_ps0_5000obs_T=10.csv',\n",
    "            dir_sim+'DAA-1_blocktime_ps0_5000obs_T=50.csv',\n",
    "            dir_sim+'DAA-1_blocktime_ps0_5000obs_T=100.csv',\n",
    "            dir_sim+'DAA-1_blocktime_ps0_5000obs_T=500.csv',\n",
    "            dir_sim+'DAA-1_blocktime_ps0_5000obs_T=1000.csv',\n",
    "            dir_sim+'DAA-2_blocktime_ps0_5000obs_T=1.csv',\n",
    "            dir_sim+'DAA-2_blocktime_ps0_5000obs_T=10.csv',\n",
    "            dir_sim+'DAA-2_blocktime_ps0_5000obs_T=50.csv',\n",
    "            dir_sim+'DAA-2_blocktime_ps0_5000obs_T=100.csv',\n",
    "            dir_sim+'DAA-2_blocktime_ps0_5000obs_T=500.csv',\n",
    "            dir_sim+'DAA-2_blocktime_ps0_5000obs_T=1000.csv',\n",
    "            ]\n",
    "df_stats = make_stats(filelist=filelist, dir_sim=dir_sim)"
   ]
  },
  {
   "cell_type": "code",
   "execution_count": 4,
   "metadata": {},
   "outputs": [
    {
     "data": {
      "text/html": [
       "<div>\n",
       "<style scoped>\n",
       "    .dataframe tbody tr th:only-of-type {\n",
       "        vertical-align: middle;\n",
       "    }\n",
       "\n",
       "    .dataframe tbody tr th {\n",
       "        vertical-align: top;\n",
       "    }\n",
       "\n",
       "    .dataframe thead th {\n",
       "        text-align: right;\n",
       "    }\n",
       "</style>\n",
       "<table border=\"1\" class=\"dataframe\">\n",
       "  <thead>\n",
       "    <tr style=\"text-align: right;\">\n",
       "      <th></th>\n",
       "      <th>DAA-1_blocktime_ps0_5000obs_T=1.csv</th>\n",
       "      <th>DAA-1_blocktime_ps0_5000obs_T=10.csv</th>\n",
       "      <th>DAA-1_blocktime_ps0_5000obs_T=50.csv</th>\n",
       "      <th>DAA-1_blocktime_ps0_5000obs_T=100.csv</th>\n",
       "      <th>DAA-1_blocktime_ps0_5000obs_T=500.csv</th>\n",
       "      <th>DAA-1_blocktime_ps0_5000obs_T=1000.csv</th>\n",
       "      <th>DAA-2_blocktime_ps0_5000obs_T=1.csv</th>\n",
       "      <th>DAA-2_blocktime_ps0_5000obs_T=10.csv</th>\n",
       "      <th>DAA-2_blocktime_ps0_5000obs_T=50.csv</th>\n",
       "      <th>DAA-2_blocktime_ps0_5000obs_T=100.csv</th>\n",
       "      <th>DAA-2_blocktime_ps0_5000obs_T=500.csv</th>\n",
       "      <th>DAA-2_blocktime_ps0_5000obs_T=1000.csv</th>\n",
       "    </tr>\n",
       "  </thead>\n",
       "  <tbody>\n",
       "    <tr>\n",
       "      <th>mean</th>\n",
       "      <td>21859.597948</td>\n",
       "      <td>32.786073</td>\n",
       "      <td>18.872199</td>\n",
       "      <td>17.602932</td>\n",
       "      <td>14.806173</td>\n",
       "      <td>14.756136</td>\n",
       "      <td>21859.597948</td>\n",
       "      <td>11.835513</td>\n",
       "      <td>10.074432</td>\n",
       "      <td>10.041372</td>\n",
       "      <td>10.041386</td>\n",
       "      <td>10.056569</td>\n",
       "    </tr>\n",
       "    <tr>\n",
       "      <th>std</th>\n",
       "      <td>74762.272771</td>\n",
       "      <td>102.848884</td>\n",
       "      <td>35.421379</td>\n",
       "      <td>30.700983</td>\n",
       "      <td>23.862425</td>\n",
       "      <td>22.857462</td>\n",
       "      <td>74762.272771</td>\n",
       "      <td>33.750421</td>\n",
       "      <td>10.670332</td>\n",
       "      <td>10.313296</td>\n",
       "      <td>10.117893</td>\n",
       "      <td>10.132803</td>\n",
       "    </tr>\n",
       "    <tr>\n",
       "      <th>over60</th>\n",
       "      <td>1.000000</td>\n",
       "      <td>1.000000</td>\n",
       "      <td>1.000000</td>\n",
       "      <td>1.000000</td>\n",
       "      <td>1.000000</td>\n",
       "      <td>1.000000</td>\n",
       "      <td>1.000000</td>\n",
       "      <td>1.000000</td>\n",
       "      <td>1.000000</td>\n",
       "      <td>1.000000</td>\n",
       "      <td>1.000000</td>\n",
       "      <td>1.000000</td>\n",
       "    </tr>\n",
       "    <tr>\n",
       "      <th>over120</th>\n",
       "      <td>1.000000</td>\n",
       "      <td>1.000000</td>\n",
       "      <td>0.999400</td>\n",
       "      <td>0.991400</td>\n",
       "      <td>0.889800</td>\n",
       "      <td>0.902200</td>\n",
       "      <td>1.000000</td>\n",
       "      <td>1.000000</td>\n",
       "      <td>0.626800</td>\n",
       "      <td>0.261400</td>\n",
       "      <td>0.110800</td>\n",
       "      <td>0.114400</td>\n",
       "    </tr>\n",
       "    <tr>\n",
       "      <th>over180</th>\n",
       "      <td>1.000000</td>\n",
       "      <td>1.000000</td>\n",
       "      <td>0.983400</td>\n",
       "      <td>0.920200</td>\n",
       "      <td>0.726000</td>\n",
       "      <td>0.684000</td>\n",
       "      <td>1.000000</td>\n",
       "      <td>1.000000</td>\n",
       "      <td>0.048200</td>\n",
       "      <td>0.004400</td>\n",
       "      <td>0.000400</td>\n",
       "      <td>0.000800</td>\n",
       "    </tr>\n",
       "  </tbody>\n",
       "</table>\n",
       "</div>"
      ],
      "text/plain": [
       "         DAA-1_blocktime_ps0_5000obs_T=1.csv  \\\n",
       "mean                            21859.597948   \n",
       "std                             74762.272771   \n",
       "over60                              1.000000   \n",
       "over120                             1.000000   \n",
       "over180                             1.000000   \n",
       "\n",
       "         DAA-1_blocktime_ps0_5000obs_T=10.csv  \\\n",
       "mean                                32.786073   \n",
       "std                                102.848884   \n",
       "over60                               1.000000   \n",
       "over120                              1.000000   \n",
       "over180                              1.000000   \n",
       "\n",
       "         DAA-1_blocktime_ps0_5000obs_T=50.csv  \\\n",
       "mean                                18.872199   \n",
       "std                                 35.421379   \n",
       "over60                               1.000000   \n",
       "over120                              0.999400   \n",
       "over180                              0.983400   \n",
       "\n",
       "         DAA-1_blocktime_ps0_5000obs_T=100.csv  \\\n",
       "mean                                 17.602932   \n",
       "std                                  30.700983   \n",
       "over60                                1.000000   \n",
       "over120                               0.991400   \n",
       "over180                               0.920200   \n",
       "\n",
       "         DAA-1_blocktime_ps0_5000obs_T=500.csv  \\\n",
       "mean                                 14.806173   \n",
       "std                                  23.862425   \n",
       "over60                                1.000000   \n",
       "over120                               0.889800   \n",
       "over180                               0.726000   \n",
       "\n",
       "         DAA-1_blocktime_ps0_5000obs_T=1000.csv  \\\n",
       "mean                                  14.756136   \n",
       "std                                   22.857462   \n",
       "over60                                 1.000000   \n",
       "over120                                0.902200   \n",
       "over180                                0.684000   \n",
       "\n",
       "         DAA-2_blocktime_ps0_5000obs_T=1.csv  \\\n",
       "mean                            21859.597948   \n",
       "std                             74762.272771   \n",
       "over60                              1.000000   \n",
       "over120                             1.000000   \n",
       "over180                             1.000000   \n",
       "\n",
       "         DAA-2_blocktime_ps0_5000obs_T=10.csv  \\\n",
       "mean                                11.835513   \n",
       "std                                 33.750421   \n",
       "over60                               1.000000   \n",
       "over120                              1.000000   \n",
       "over180                              1.000000   \n",
       "\n",
       "         DAA-2_blocktime_ps0_5000obs_T=50.csv  \\\n",
       "mean                                10.074432   \n",
       "std                                 10.670332   \n",
       "over60                               1.000000   \n",
       "over120                              0.626800   \n",
       "over180                              0.048200   \n",
       "\n",
       "         DAA-2_blocktime_ps0_5000obs_T=100.csv  \\\n",
       "mean                                 10.041372   \n",
       "std                                  10.313296   \n",
       "over60                                1.000000   \n",
       "over120                               0.261400   \n",
       "over180                               0.004400   \n",
       "\n",
       "         DAA-2_blocktime_ps0_5000obs_T=500.csv  \\\n",
       "mean                                 10.041386   \n",
       "std                                  10.117893   \n",
       "over60                                1.000000   \n",
       "over120                               0.110800   \n",
       "over180                               0.000400   \n",
       "\n",
       "         DAA-2_blocktime_ps0_5000obs_T=1000.csv  \n",
       "mean                                  10.056569  \n",
       "std                                   10.132803  \n",
       "over60                                 1.000000  \n",
       "over120                                0.114400  \n",
       "over180                                0.000800  "
      ]
     },
     "execution_count": 4,
     "metadata": {},
     "output_type": "execute_result"
    }
   ],
   "source": [
    "df_stats"
   ]
  },
  {
   "cell_type": "markdown",
   "metadata": {},
   "source": [
    "### MSE for different $T$'s"
   ]
  },
  {
   "cell_type": "markdown",
   "metadata": {},
   "source": [
    "Compute the sum of squeared error for each path $p_n$ $(n = 0, \\dots, 4999)$\n",
    "$$\n",
    "e_n := \\sum_t [w(t) - w^*(t)]^2\n",
    "$$\n",
    "and compute\n",
    "$$\n",
    "\\frac{1}{5000} \\sum_{n} e_n\n",
    "$$\n",
    "(MSE for a path)"
   ]
  },
  {
   "cell_type": "code",
   "execution_count": 4,
   "metadata": {
    "ExecuteTime": {
     "end_time": "2021-11-13T02:27:14.872632Z",
     "start_time": "2021-11-13T02:27:14.869781Z"
    }
   },
   "outputs": [],
   "source": [
    "T_list = [1,10,50,100,500,1000]"
   ]
  },
  {
   "cell_type": "code",
   "execution_count": 7,
   "metadata": {
    "ExecuteTime": {
     "end_time": "2021-11-13T02:40:03.153621Z",
     "start_time": "2021-11-13T02:34:29.355085Z"
    }
   },
   "outputs": [],
   "source": [
    "dir_sim = '/Volumes/Data/research/BDA/simulation/'\n",
    "res_DAA1 = []\n",
    "res_DAA2 = []\n",
    "\n",
    "for T in T_list:\n",
    "    df_daa2_winrate = pd.read_csv(dir_sim + 'DAA-2_winrate_ps0_5000obs_T={}.csv'.format(T), index_col=0)\n",
    "    df_daa2_optwinrate = pd.read_csv(dir_sim + 'DAA-2_optwinrate_ps0_5000obs_T={}.csv'.format(T), index_col=0)\n",
    "    error_DAA2 = MSE(df1=df_daa2_winrate, df2=df_daa2_optwinrate)\n",
    "    res_DAA2.append(error_DAA2)\n",
    "    \n",
    "    df_daa1_winrate = pd.read_csv(dir_sim + 'DAA-1_winrate_ps0_5000obs_T={}.csv'.format(T), index_col=0)\n",
    "    df_daa1_optwinrate = pd.read_csv(dir_sim + 'DAA-1_optwinrate_ps0_5000obs_T={}.csv'.format(T), index_col=0)\n",
    "    error_DAA1 = MSE(df1=df_daa1_winrate, df2=df_daa1_optwinrate)\n",
    "    res_DAA1.append(error_DAA1)"
   ]
  },
  {
   "cell_type": "code",
   "execution_count": 13,
   "metadata": {
    "ExecuteTime": {
     "end_time": "2021-11-13T02:42:18.878793Z",
     "start_time": "2021-11-13T02:42:18.875769Z"
    }
   },
   "outputs": [],
   "source": [
    "mse_daa1 = np.array(res_DAA1)\n",
    "mse_daa2 = np.array(res_DAA2)\n",
    "Ts = np.array(T_list)"
   ]
  },
  {
   "cell_type": "code",
   "execution_count": 19,
   "metadata": {
    "ExecuteTime": {
     "end_time": "2021-11-13T02:49:47.493474Z",
     "start_time": "2021-11-13T02:49:47.310027Z"
    }
   },
   "outputs": [
    {
     "data": {
      "image/png": "[encoded data removed]",
      "text/plain": [
       "<Figure size 360x288 with 1 Axes>"
      ]
     },
     "metadata": {
      "needs_background": "light"
     },
     "output_type": "display_data"
    }
   ],
   "source": [
    "plt.plot(Ts[1:], res_DAA1[1:], label='DAA-1')\n",
    "plt.plot(Ts[1:], res_DAA2[1:], label='DAA-2')\n",
    "plt.title('MSE for different $T$\\'s ')\n",
    "plt.legend()\n",
    "plt.show()"
   ]
  },
  {
   "cell_type": "code",
   "execution_count": null,
   "metadata": {},
   "outputs": [],
   "source": []
  }
 ],
 "metadata": {
  "kernelspec": {
   "display_name": "Python 3",
   "language": "python",
   "name": "python3"
  },
  "language_info": {
   "codemirror_mode": {
    "name": "ipython",
    "version": 3
   },
   "file_extension": ".py",
   "mimetype": "text/x-python",
   "name": "python",
   "nbconvert_exporter": "python",
   "pygments_lexer": "ipython3",
   "version": "3.8.9"
  },
  "latex_envs": {
   "LaTeX_envs_menu_present": true,
   "autoclose": false,
   "autocomplete": true,
   "bibliofile": "biblio.bib",
   "cite_by": "apalike",
   "current_citInitial": 1,
   "eqLabelWithNumbers": true,
   "eqNumInitial": 1,
   "hotkeys": {
    "equation": "Ctrl-E",
    "itemize": "Ctrl-I"
   },
   "labels_anchors": false,
   "latex_user_defs": false,
   "report_style_numbering": false,
   "user_envs_cfg": false
  },
  "toc": {
   "base_numbering": 1,
   "nav_menu": {},
   "number_sections": true,
   "sideBar": true,
   "skip_h1_title": false,
   "title_cell": "Table of Contents",
   "title_sidebar": "Contents",
   "toc_cell": false,
   "toc_position": {},
   "toc_section_display": true,
   "toc_window_display": false
  },
  "varInspector": {
   "cols": {
    "lenName": 16,
    "lenType": 16,
    "lenVar": 40
   },
   "kernels_config": {
    "python": {
     "delete_cmd_postfix": "",
     "delete_cmd_prefix": "del ",
     "library": "var_list.py",
     "varRefreshCmd": "print(var_dic_list())"
    },
    "r": {
     "delete_cmd_postfix": ") ",
     "delete_cmd_prefix": "rm(",
     "library": "var_list.r",
     "varRefreshCmd": "cat(var_dic_list()) "
    }
   },
   "types_to_exclude": [
    "module",
    "function",
    "builtin_function_or_method",
    "instance",
    "_Feature"
   ],
   "window_display": false
  }
 },
 "nbformat": 4,
 "nbformat_minor": 2
}
