{
 "cells": [
  {
   "cell_type": "code",
   "execution_count": 1,
   "metadata": {},
   "outputs": [],
   "source": [
    "%matplotlib inline\n",
    "%load_ext autoreload\n",
    "import numpy as np\n",
    "import matplotlib as mpl\n",
    "import matplotlib.pyplot as plt\n",
    "import pandas as pd\n",
    "import pathlib\n",
    "import time\n",
    "from datetime import datetime\n",
    "import scipy.optimize as opt\n",
    "np.set_printoptions(precision=3)\n",
    "np.set_printoptions(suppress=True)\n",
    "plt.style.use(\"ggplot\")\n",
    "mpl.pyplot.rcParams['figure.figsize'] = (5.0, 4.0)\n",
    "plt.rcParams[\"font.size\"] = 13\n",
    "#mpl.rcParams[\"font.family\"] = 'Osaka'\n",
    "\n",
    "import sys\n",
    "sys.path.append('../code/')\n",
    "\n",
    "from simulation_hash_price import *\n",
    "from simulation_fixed_path import make_stats\n",
    "from hash import *\n",
    "from plot_path import *"
   ]
  },
  {
   "cell_type": "markdown",
   "metadata": {},
   "source": [
    "## 1. Compute the possible drift range"
   ]
  },
  {
   "cell_type": "markdown",
   "metadata": {},
   "source": [
    "* Split the dataset from Oct 2018 to Dec 2018 into 10 periods with equal length.\n",
    "  - each period contains approx. 220 data points\n",
    "* Then estimate the empirical drift(/hour) in each period\n",
    "* the estimated drift range is $[-0.00183, 0.00063]$."
   ]
  },
  {
   "cell_type": "code",
   "execution_count": 2,
   "metadata": {},
   "outputs": [],
   "source": [
    "path = '../data/return_and_volatility.csv'\n",
    "df = pd.read_csv(path)\n",
    "df = df.dropna()"
   ]
  },
  {
   "cell_type": "code",
   "execution_count": 3,
   "metadata": {},
   "outputs": [
    {
     "data": {
      "text/html": [
       "<div>\n",
       "<style scoped>\n",
       "    .dataframe tbody tr th:only-of-type {\n",
       "        vertical-align: middle;\n",
       "    }\n",
       "\n",
       "    .dataframe tbody tr th {\n",
       "        vertical-align: top;\n",
       "    }\n",
       "\n",
       "    .dataframe thead th {\n",
       "        text-align: right;\n",
       "    }\n",
       "</style>\n",
       "<table border=\"1\" class=\"dataframe\">\n",
       "  <thead>\n",
       "    <tr style=\"text-align: right;\">\n",
       "      <th></th>\n",
       "      <th>Unix Timestamp</th>\n",
       "      <th>Date</th>\n",
       "      <th>Symbol</th>\n",
       "      <th>Open</th>\n",
       "      <th>High</th>\n",
       "      <th>Low</th>\n",
       "      <th>Close</th>\n",
       "      <th>Volume</th>\n",
       "      <th>[S(t+1) - S(t)]/S(t)</th>\n",
       "      <th>deviation^2</th>\n",
       "    </tr>\n",
       "  </thead>\n",
       "  <tbody>\n",
       "    <tr>\n",
       "      <th>1</th>\n",
       "      <td>1.538360e+12</td>\n",
       "      <td>43374.04167</td>\n",
       "      <td>BTCUSD</td>\n",
       "      <td>6621.30</td>\n",
       "      <td>6639.05</td>\n",
       "      <td>6607.91</td>\n",
       "      <td>6609.99</td>\n",
       "      <td>59.028481</td>\n",
       "      <td>-0.001708</td>\n",
       "      <td>2.193410e-06</td>\n",
       "    </tr>\n",
       "    <tr>\n",
       "      <th>2</th>\n",
       "      <td>1.538360e+12</td>\n",
       "      <td>43374.08333</td>\n",
       "      <td>BTCUSD</td>\n",
       "      <td>6609.99</td>\n",
       "      <td>6620.30</td>\n",
       "      <td>6609.75</td>\n",
       "      <td>6613.17</td>\n",
       "      <td>32.324636</td>\n",
       "      <td>0.000481</td>\n",
       "      <td>5.015410e-07</td>\n",
       "    </tr>\n",
       "    <tr>\n",
       "      <th>3</th>\n",
       "      <td>1.538360e+12</td>\n",
       "      <td>43374.12500</td>\n",
       "      <td>BTCUSD</td>\n",
       "      <td>6613.17</td>\n",
       "      <td>6630.00</td>\n",
       "      <td>6611.12</td>\n",
       "      <td>6625.35</td>\n",
       "      <td>32.193978</td>\n",
       "      <td>0.001842</td>\n",
       "      <td>4.280280e-06</td>\n",
       "    </tr>\n",
       "    <tr>\n",
       "      <th>4</th>\n",
       "      <td>1.538370e+12</td>\n",
       "      <td>43374.16667</td>\n",
       "      <td>BTCUSD</td>\n",
       "      <td>6625.35</td>\n",
       "      <td>6629.96</td>\n",
       "      <td>6596.40</td>\n",
       "      <td>6603.02</td>\n",
       "      <td>53.909761</td>\n",
       "      <td>-0.003370</td>\n",
       "      <td>9.880220e-06</td>\n",
       "    </tr>\n",
       "    <tr>\n",
       "      <th>5</th>\n",
       "      <td>1.538370e+12</td>\n",
       "      <td>43374.20833</td>\n",
       "      <td>BTCUSD</td>\n",
       "      <td>6603.02</td>\n",
       "      <td>6603.02</td>\n",
       "      <td>6592.64</td>\n",
       "      <td>6599.55</td>\n",
       "      <td>41.811981</td>\n",
       "      <td>-0.000526</td>\n",
       "      <td>8.904950e-08</td>\n",
       "    </tr>\n",
       "  </tbody>\n",
       "</table>\n",
       "</div>"
      ],
      "text/plain": [
       "   Unix Timestamp         Date  Symbol     Open     High      Low    Close  \\\n",
       "1    1.538360e+12  43374.04167  BTCUSD  6621.30  6639.05  6607.91  6609.99   \n",
       "2    1.538360e+12  43374.08333  BTCUSD  6609.99  6620.30  6609.75  6613.17   \n",
       "3    1.538360e+12  43374.12500  BTCUSD  6613.17  6630.00  6611.12  6625.35   \n",
       "4    1.538370e+12  43374.16667  BTCUSD  6625.35  6629.96  6596.40  6603.02   \n",
       "5    1.538370e+12  43374.20833  BTCUSD  6603.02  6603.02  6592.64  6599.55   \n",
       "\n",
       "      Volume  [S(t+1) - S(t)]/S(t)   deviation^2  \n",
       "1  59.028481             -0.001708  2.193410e-06  \n",
       "2  32.324636              0.000481  5.015410e-07  \n",
       "3  32.193978              0.001842  4.280280e-06  \n",
       "4  53.909761             -0.003370  9.880220e-06  \n",
       "5  41.811981             -0.000526  8.904950e-08  "
      ]
     },
     "execution_count": 3,
     "metadata": {},
     "output_type": "execute_result"
    }
   ],
   "source": [
    "df.head()"
   ]
  },
  {
   "cell_type": "code",
   "execution_count": 5,
   "metadata": {},
   "outputs": [
    {
     "data": {
      "text/plain": [
       "(2207, 10)"
      ]
     },
     "execution_count": 5,
     "metadata": {},
     "output_type": "execute_result"
    }
   ],
   "source": [
    "df.shape"
   ]
  },
  {
   "cell_type": "code",
   "execution_count": 6,
   "metadata": {},
   "outputs": [],
   "source": [
    "# split df into N=10 periods\n",
    "nbins = 10\n",
    "period_list = []\n",
    "for i in range(nbins):\n",
    "    period_list.append(i)"
   ]
  },
  {
   "cell_type": "code",
   "execution_count": 7,
   "metadata": {},
   "outputs": [
    {
     "data": {
      "text/html": [
       "<div>\n",
       "<style scoped>\n",
       "    .dataframe tbody tr th:only-of-type {\n",
       "        vertical-align: middle;\n",
       "    }\n",
       "\n",
       "    .dataframe tbody tr th {\n",
       "        vertical-align: top;\n",
       "    }\n",
       "\n",
       "    .dataframe thead th {\n",
       "        text-align: right;\n",
       "    }\n",
       "</style>\n",
       "<table border=\"1\" class=\"dataframe\">\n",
       "  <thead>\n",
       "    <tr style=\"text-align: right;\">\n",
       "      <th></th>\n",
       "      <th>Unix Timestamp</th>\n",
       "      <th>Date</th>\n",
       "      <th>Symbol</th>\n",
       "      <th>Open</th>\n",
       "      <th>High</th>\n",
       "      <th>Low</th>\n",
       "      <th>Close</th>\n",
       "      <th>Volume</th>\n",
       "      <th>[S(t+1) - S(t)]/S(t)</th>\n",
       "      <th>deviation^2</th>\n",
       "      <th>period</th>\n",
       "    </tr>\n",
       "  </thead>\n",
       "  <tbody>\n",
       "    <tr>\n",
       "      <th>1</th>\n",
       "      <td>1.538360e+12</td>\n",
       "      <td>43374.04167</td>\n",
       "      <td>BTCUSD</td>\n",
       "      <td>6621.30</td>\n",
       "      <td>6639.05</td>\n",
       "      <td>6607.91</td>\n",
       "      <td>6609.99</td>\n",
       "      <td>59.028481</td>\n",
       "      <td>-0.001708</td>\n",
       "      <td>2.193410e-06</td>\n",
       "      <td>0</td>\n",
       "    </tr>\n",
       "    <tr>\n",
       "      <th>2</th>\n",
       "      <td>1.538360e+12</td>\n",
       "      <td>43374.08333</td>\n",
       "      <td>BTCUSD</td>\n",
       "      <td>6609.99</td>\n",
       "      <td>6620.30</td>\n",
       "      <td>6609.75</td>\n",
       "      <td>6613.17</td>\n",
       "      <td>32.324636</td>\n",
       "      <td>0.000481</td>\n",
       "      <td>5.015410e-07</td>\n",
       "      <td>0</td>\n",
       "    </tr>\n",
       "    <tr>\n",
       "      <th>3</th>\n",
       "      <td>1.538360e+12</td>\n",
       "      <td>43374.12500</td>\n",
       "      <td>BTCUSD</td>\n",
       "      <td>6613.17</td>\n",
       "      <td>6630.00</td>\n",
       "      <td>6611.12</td>\n",
       "      <td>6625.35</td>\n",
       "      <td>32.193978</td>\n",
       "      <td>0.001842</td>\n",
       "      <td>4.280280e-06</td>\n",
       "      <td>0</td>\n",
       "    </tr>\n",
       "    <tr>\n",
       "      <th>4</th>\n",
       "      <td>1.538370e+12</td>\n",
       "      <td>43374.16667</td>\n",
       "      <td>BTCUSD</td>\n",
       "      <td>6625.35</td>\n",
       "      <td>6629.96</td>\n",
       "      <td>6596.40</td>\n",
       "      <td>6603.02</td>\n",
       "      <td>53.909761</td>\n",
       "      <td>-0.003370</td>\n",
       "      <td>9.880220e-06</td>\n",
       "      <td>0</td>\n",
       "    </tr>\n",
       "    <tr>\n",
       "      <th>5</th>\n",
       "      <td>1.538370e+12</td>\n",
       "      <td>43374.20833</td>\n",
       "      <td>BTCUSD</td>\n",
       "      <td>6603.02</td>\n",
       "      <td>6603.02</td>\n",
       "      <td>6592.64</td>\n",
       "      <td>6599.55</td>\n",
       "      <td>41.811981</td>\n",
       "      <td>-0.000526</td>\n",
       "      <td>8.904950e-08</td>\n",
       "      <td>0</td>\n",
       "    </tr>\n",
       "  </tbody>\n",
       "</table>\n",
       "</div>"
      ],
      "text/plain": [
       "   Unix Timestamp         Date  Symbol     Open     High      Low    Close  \\\n",
       "1    1.538360e+12  43374.04167  BTCUSD  6621.30  6639.05  6607.91  6609.99   \n",
       "2    1.538360e+12  43374.08333  BTCUSD  6609.99  6620.30  6609.75  6613.17   \n",
       "3    1.538360e+12  43374.12500  BTCUSD  6613.17  6630.00  6611.12  6625.35   \n",
       "4    1.538370e+12  43374.16667  BTCUSD  6625.35  6629.96  6596.40  6603.02   \n",
       "5    1.538370e+12  43374.20833  BTCUSD  6603.02  6603.02  6592.64  6599.55   \n",
       "\n",
       "      Volume  [S(t+1) - S(t)]/S(t)   deviation^2 period  \n",
       "1  59.028481             -0.001708  2.193410e-06      0  \n",
       "2  32.324636              0.000481  5.015410e-07      0  \n",
       "3  32.193978              0.001842  4.280280e-06      0  \n",
       "4  53.909761             -0.003370  9.880220e-06      0  \n",
       "5  41.811981             -0.000526  8.904950e-08      0  "
      ]
     },
     "execution_count": 7,
     "metadata": {},
     "output_type": "execute_result"
    }
   ],
   "source": [
    "s_qcut = pd.qcut(df['Date'], nbins, labels=period_list)\n",
    "df['period'] = s_qcut\n",
    "df.head()"
   ]
  },
  {
   "cell_type": "code",
   "execution_count": 9,
   "metadata": {},
   "outputs": [],
   "source": [
    "def empirical_estimate(df):\n",
    "    diff = df['[S(t+1) - S(t)]/S(t)'].values\n",
    "    mu = np.mean(diff)\n",
    "    sigma = np.sqrt(np.var(diff, ddof=1))\n",
    "    return mu, sigma"
   ]
  },
  {
   "cell_type": "code",
   "execution_count": 10,
   "metadata": {},
   "outputs": [
    {
     "data": {
      "text/plain": [
       "(-0.0002271055617127322, 0.008657880544230548)"
      ]
     },
     "execution_count": 10,
     "metadata": {},
     "output_type": "execute_result"
    }
   ],
   "source": [
    "empirical_estimate(df)"
   ]
  },
  {
   "cell_type": "code",
   "execution_count": 11,
   "metadata": {},
   "outputs": [
    {
     "data": {
      "text/plain": [
       "0.0011177275720419373"
      ]
     },
     "execution_count": 11,
     "metadata": {},
     "output_type": "execute_result"
    }
   ],
   "source": [
    "mu, sigma = empirical_estimate(df)\n",
    "sigma/np.sqrt(60)"
   ]
  },
  {
   "cell_type": "code",
   "execution_count": 12,
   "metadata": {},
   "outputs": [],
   "source": [
    "mu_list = []\n",
    "sigma_list = []\n",
    "for i in range(nbins):\n",
    "    df_temp = df[df['period']==i]\n",
    "    mu, sigma = empirical_estimate(df_temp)\n",
    "    mu_list.append(mu)\n",
    "    sigma_list.append(sigma)"
   ]
  },
  {
   "cell_type": "code",
   "execution_count": 14,
   "metadata": {},
   "outputs": [
    {
     "data": {
      "text/plain": [
       "(-0.00183907665, 0.000631057355158371)"
      ]
     },
     "execution_count": 14,
     "metadata": {},
     "output_type": "execute_result"
    }
   ],
   "source": [
    "mu_list = np.array(mu_list)\n",
    "mu_list.min(), mu_list.max()"
   ]
  },
  {
   "cell_type": "markdown",
   "metadata": {},
   "source": [
    "## 2. Simulation with variable drift"
   ]
  },
  {
   "cell_type": "markdown",
   "metadata": {},
   "source": [
    "* Assume a positive relation between hash rate and drift\n",
    "  - more hash rate -> less probability of system's collapse -> the present value of bitcoin goes up\n",
    "* Let $\\mu(t)$ be period-$t$ drift and assume the following version of geometric Brownian motion:\n",
    "$$\n",
    "S(t+1) - S(t) = \\mu(t) S(t) B(t) + \\sigma S(t) \\sqrt{B(t)} \\epsilon (t),\n",
    "$$\n",
    "where $\\epsilon(t)$ i.i.d.-drawn from $\\mathcal{N}(0,1)$.\n",
    "* We assume the following functional form:\n",
    "$$\n",
    "\\mu(t) = \\mu_{min} + \\frac{\\mu_{max}-\\mu_{min}}{H_{max} - H_{min}}(H(t) - H_{min}).\n",
    "$$"
   ]
  },
  {
   "cell_type": "code",
   "execution_count": 15,
   "metadata": {},
   "outputs": [
    {
     "data": {
      "text/plain": [
       "(-3.06512775e-05, 1.051762258597285e-05)"
      ]
     },
     "execution_count": 15,
     "metadata": {},
     "output_type": "execute_result"
    }
   ],
   "source": [
    "# Rescale the unit of drift to per minute:\n",
    "mu_list_min = mu_list/60\n",
    "mu_list_min.min(), mu_list_min.max()"
   ]
  },
  {
   "cell_type": "code",
   "execution_count": 20,
   "metadata": {},
   "outputs": [
    {
     "data": {
      "text/plain": [
       "(-3.06512775e-05, 1.051762258597285e-05)"
      ]
     },
     "execution_count": 20,
     "metadata": {},
     "output_type": "execute_result"
    }
   ],
   "source": [
    "(-3.06512775e-05, 1.051762258597285e-05)"
   ]
  },
  {
   "cell_type": "code",
   "execution_count": 13,
   "metadata": {},
   "outputs": [
    {
     "name": "stderr",
     "output_type": "stream",
     "text": [
      "/var/folders/st/whqq9b792k79l_xbsbn054pm0000gn/T/ipykernel_12056/3923294646.py:6: PerformanceWarning: DataFrame is highly fragmented.  This is usually the result of calling `frame.insert` many times, which has poor performance.  Consider joining all columns at once using pd.concat(axis=1) instead.  To get a de-fragmented frame, use `newframe = frame.copy()`\n",
      "  df_epsilon['iter_{}'.format(iter)] = np.random.normal(size=20000)\n"
     ]
    }
   ],
   "source": [
    "# generate epsilons\n",
    "num_iter = 5000\n",
    "\n",
    "df_epsilon = pd.DataFrame()\n",
    "for iter in range(num_iter):\n",
    "    df_epsilon['iter_{}'.format(iter)] = np.random.normal(size=20000)\n",
    "df_epsilon.to_csv('/Volumes/Data/research/BDA/simulation/sim_epsilons_{}obs.csv'.format(num_iter), index=False)    "
   ]
  },
  {
   "cell_type": "code",
   "execution_count": 14,
   "metadata": {},
   "outputs": [],
   "source": [
    "df_epsilon = pd.read_csv('/Volumes/Data/research/BDA/simulation/sim_epsilons_{}obs.csv'.format(num_iter))"
   ]
  },
  {
   "cell_type": "code",
   "execution_count": 15,
   "metadata": {},
   "outputs": [
    {
     "data": {
      "text/plain": [
       "(20000, 5000)"
      ]
     },
     "execution_count": 15,
     "metadata": {},
     "output_type": "execute_result"
    }
   ],
   "source": [
    "df_epsilon.shape"
   ]
  },
  {
   "cell_type": "code",
   "execution_count": 2,
   "metadata": {},
   "outputs": [],
   "source": [
    "path = '../data/BTCdata_presim.csv'\n",
    "df = pd.read_csv(path)\n",
    "df['time'] = pd.to_datetime(df['time'])\n",
    "df = df.rename(columns={'blocktime': 'block_times', 'price': 'prices', 'probability of success /Eh': 'winning_rates'})"
   ]
  },
  {
   "cell_type": "code",
   "execution_count": 17,
   "metadata": {},
   "outputs": [],
   "source": [
    "# test with small number of iter\n",
    "generate_simulation_data_asert(num_iter=2, prev_data=df)"
   ]
  },
  {
   "cell_type": "code",
   "execution_count": 19,
   "metadata": {},
   "outputs": [
    {
     "name": "stdout",
     "output_type": "stream",
     "text": [
      "2022-02-05 20:58:41.180275\n"
     ]
    }
   ],
   "source": [
    "print(datetime.now())"
   ]
  },
  {
   "cell_type": "code",
   "execution_count": 7,
   "metadata": {},
   "outputs": [
    {
     "name": "stdout",
     "output_type": "stream",
     "text": [
      "2022-02-06 23:42:34.958555\n",
      "2022-02-07 03:11:15.430810\n",
      "2022-02-07 05:08:10.639728\n",
      "2022-02-07 07:02:05.218612\n"
     ]
    }
   ],
   "source": [
    "# takes ?? hours\n",
    "print(datetime.now())\n",
    "generate_simulation_data(num_iter=5000, prev_data=df)\n",
    "print(datetime.now())\n",
    "generate_simulation_data_DAA0(num_iter=5000, prev_data=df)\n",
    "print(datetime.now())\n",
    "generate_simulation_data_asert(num_iter=5000, prev_data=df)\n",
    "print(datetime.now())"
   ]
  },
  {
   "cell_type": "markdown",
   "metadata": {},
   "source": [
    "## 3. Compute statistics"
   ]
  },
  {
   "cell_type": "code",
   "execution_count": 2,
   "metadata": {},
   "outputs": [],
   "source": [
    "dir_sim = '/Volumes/Data/research/BDA/simulation/'\n",
    "filelist = [dir_sim+'hash-price_DAA_asert_blocktime_ps0_5000obs_T=None.csv',\n",
    "            dir_sim+'hash-price_DAA-0_blocktime_ps0_5000obs.csv',\n",
    "            dir_sim+'hash-price_DAA-1_blocktime_ps0_5000obs_T=None.csv',\n",
    "            dir_sim+'hash-price_DAA-2_blocktime_ps0_5000obs_T=None.csv']\n",
    "df_stats = make_stats(filelist=filelist, dir_sim=dir_sim)"
   ]
  },
  {
   "cell_type": "code",
   "execution_count": 3,
   "metadata": {},
   "outputs": [
    {
     "data": {
      "text/html": [
       "<div>\n",
       "<style scoped>\n",
       "    .dataframe tbody tr th:only-of-type {\n",
       "        vertical-align: middle;\n",
       "    }\n",
       "\n",
       "    .dataframe tbody tr th {\n",
       "        vertical-align: top;\n",
       "    }\n",
       "\n",
       "    .dataframe thead th {\n",
       "        text-align: right;\n",
       "    }\n",
       "</style>\n",
       "<table border=\"1\" class=\"dataframe\">\n",
       "  <thead>\n",
       "    <tr style=\"text-align: right;\">\n",
       "      <th></th>\n",
       "      <th>hash-price_DAA_asert_blocktime_ps0_5000obs_T=None.csv</th>\n",
       "      <th>hash-price_DAA-0_blocktime_ps0_5000obs.csv</th>\n",
       "      <th>hash-price_DAA-1_blocktime_ps0_5000obs_T=None.csv</th>\n",
       "      <th>hash-price_DAA-2_blocktime_ps0_5000obs_T=None.csv</th>\n",
       "    </tr>\n",
       "  </thead>\n",
       "  <tbody>\n",
       "    <tr>\n",
       "      <th>mean</th>\n",
       "      <td>10.150479</td>\n",
       "      <td>9.817022</td>\n",
       "      <td>30.197126</td>\n",
       "      <td>10.057853</td>\n",
       "    </tr>\n",
       "    <tr>\n",
       "      <th>std</th>\n",
       "      <td>10.224103</td>\n",
       "      <td>9.820488</td>\n",
       "      <td>72.783264</td>\n",
       "      <td>10.256323</td>\n",
       "    </tr>\n",
       "    <tr>\n",
       "      <th>over60</th>\n",
       "      <td>1.000000</td>\n",
       "      <td>1.000000</td>\n",
       "      <td>1.000000</td>\n",
       "      <td>1.000000</td>\n",
       "    </tr>\n",
       "    <tr>\n",
       "      <th>over120</th>\n",
       "      <td>0.122600</td>\n",
       "      <td>0.055800</td>\n",
       "      <td>0.916800</td>\n",
       "      <td>0.188600</td>\n",
       "    </tr>\n",
       "    <tr>\n",
       "      <th>over180</th>\n",
       "      <td>0.000400</td>\n",
       "      <td>0.000000</td>\n",
       "      <td>0.855000</td>\n",
       "      <td>0.001400</td>\n",
       "    </tr>\n",
       "  </tbody>\n",
       "</table>\n",
       "</div>"
      ],
      "text/plain": [
       "         hash-price_DAA_asert_blocktime_ps0_5000obs_T=None.csv  \\\n",
       "mean                                             10.150479       \n",
       "std                                              10.224103       \n",
       "over60                                            1.000000       \n",
       "over120                                           0.122600       \n",
       "over180                                           0.000400       \n",
       "\n",
       "         hash-price_DAA-0_blocktime_ps0_5000obs.csv  \\\n",
       "mean                                       9.817022   \n",
       "std                                        9.820488   \n",
       "over60                                     1.000000   \n",
       "over120                                    0.055800   \n",
       "over180                                    0.000000   \n",
       "\n",
       "         hash-price_DAA-1_blocktime_ps0_5000obs_T=None.csv  \\\n",
       "mean                                             30.197126   \n",
       "std                                              72.783264   \n",
       "over60                                            1.000000   \n",
       "over120                                           0.916800   \n",
       "over180                                           0.855000   \n",
       "\n",
       "         hash-price_DAA-2_blocktime_ps0_5000obs_T=None.csv  \n",
       "mean                                             10.057853  \n",
       "std                                              10.256323  \n",
       "over60                                            1.000000  \n",
       "over120                                           0.188600  \n",
       "over180                                           0.001400  "
      ]
     },
     "execution_count": 3,
     "metadata": {},
     "output_type": "execute_result"
    }
   ],
   "source": [
    "df_stats"
   ]
  },
  {
   "cell_type": "markdown",
   "metadata": {},
   "source": []
  }
 ],
 "metadata": {
  "interpreter": {
   "hash": "a66e7875295d9875495ad4b4e3c5ee51b4682ae77f4a737838e183715ad654b5"
  },
  "kernelspec": {
   "display_name": "Python 3.8.9 64-bit ('DAA_Lucas-fRXnFA3j': pipenv)",
   "language": "python",
   "name": "python3"
  },
  "language_info": {
   "codemirror_mode": {
    "name": "ipython",
    "version": 3
   },
   "file_extension": ".py",
   "mimetype": "text/x-python",
   "name": "python",
   "nbconvert_exporter": "python",
   "pygments_lexer": "ipython3",
   "version": "3.8.9"
  },
  "orig_nbformat": 4
 },
 "nbformat": 4,
 "nbformat_minor": 2
}
