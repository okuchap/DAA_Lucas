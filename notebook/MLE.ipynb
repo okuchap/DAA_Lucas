{
 "cells": [
  {
   "cell_type": "code",
   "execution_count": 1,
   "metadata": {
    "ExecuteTime": {
     "end_time": "2019-06-09T10:37:23.773567Z",
     "start_time": "2019-06-09T10:37:21.704042Z"
    }
   },
   "outputs": [],
   "source": [
    "%matplotlib inline\n",
    "import numpy as np\n",
    "import matplotlib as mpl\n",
    "import matplotlib.pyplot as plt\n",
    "import pandas as pd\n",
    "import pathlib\n",
    "import time\n",
    "from datetime import datetime\n",
    "import scipy.optimize as opt\n",
    "from sklearn.utils.extmath import cartesian\n",
    "#np.set_printoptions(precision=3)\n",
    "np.set_printoptions(suppress=True)\n",
    "plt.style.use(\"ggplot\")\n",
    "plt.rcParams[\"font.size\"] = 13\n",
    "mpl.rcParams[\"font.family\"] = 'Osaka'"
   ]
  },
  {
   "cell_type": "markdown",
   "metadata": {},
   "source": [
    "## Overview"
   ]
  },
  {
   "cell_type": "markdown",
   "metadata": {},
   "source": [
    "* Focus on the last quarter of 2018 (October 2018 to December 2018)\n",
    "\n",
    "* Assume that the hash supply is linear in reward:\n",
    "\n",
    "\\[\n",
    "H(t) = \\alpha + \\beta R(t)\n",
    "\\]\n",
    "\n",
    "The estimators are\n",
    "\n",
    "\\[\n",
    "\\hat{\\alpha} = 23.60, \\hat{\\beta} = 9.02, \\quad\n",
    "\\sigma(\\hat{\\alpha}) = 2.25, \\sigma(\\hat{\\beta}) = 0.99\n",
    "\\]"
   ]
  },
  {
   "cell_type": "markdown",
   "metadata": {},
   "source": [
    "## Method"
   ]
  },
  {
   "cell_type": "markdown",
   "metadata": {},
   "source": [
    "### Data Cleaning"
   ]
  },
  {
   "cell_type": "markdown",
   "metadata": {},
   "source": [
    "* Compute the block time using timestamps.\n",
    "\n",
    "* Basically, the time required to generate the $i$-th block is $\\Delta_i := t_i - t_{i-1}$.\n",
    "    - However, sometimes $\\Delta_i$ becomes negative due to inaccuracy.\n",
    "\n",
    "* We conduct our analysis as follows:\n",
    "\n",
    "Let $\\{t_i\\}_i$ be the times recorded in timestamps. For each $i$, let\n",
    "\n",
    "$$\n",
    "k^* = \\min_{k \\geq 1} \\{k \\colon t_i < t_{i+k}\\}\n",
    "$$\n",
    "and linearly interpolate $t_0, t_1, \\dots, t_k$ by the function `adjust_BGT`."
   ]
  },
  {
   "cell_type": "code",
   "execution_count": 2,
   "metadata": {
    "ExecuteTime": {
     "end_time": "2019-06-09T10:37:30.671971Z",
     "start_time": "2019-06-09T10:37:30.662643Z"
    }
   },
   "outputs": [],
   "source": [
    "def adjust_BGT(raw_times):\n",
    "    '''\n",
    "    adjust block generation time.\n",
    "    Conduct linear interpolation if the order of time stamps are reversed.\n",
    "    \n",
    "    Parameters\n",
    "    ----------\n",
    "    raw_times:\n",
    "        pandas Series containing raw time stamps(unixtime)\n",
    "        The index should starts at zero.\n",
    "        \n",
    "    Returns\n",
    "    -------\n",
    "    times:\n",
    "        Adjusted time stamps.\n",
    "    '''\n",
    "    times = raw_times.copy()\n",
    "    for i in range(times.shape[0] - 1):\n",
    "        if times[i+1] - times[i] < 0:\n",
    "            count = 1\n",
    "            diff = -1\n",
    "            while diff < 0:\n",
    "                count += 1\n",
    "                diff = times[i+count] - times[i]\n",
    "            delta = times[i+count] - times[i]\n",
    "            for j in range(count-1):\n",
    "                times[i+j+1] = times[i] + (delta/count)*(j+1)\n",
    "\n",
    "    return times"
   ]
  },
  {
   "cell_type": "markdown",
   "metadata": {},
   "source": [
    "### Estimate the hash supply function in BTC system"
   ]
  },
  {
   "cell_type": "markdown",
   "metadata": {},
   "source": [
    "$$\n",
    "h(R) = \\alpha + \\beta R\n",
    "$$\n",
    "\n",
    "* The loglikelihood is\n",
    "\n",
    "$$\n",
    "\\log \\mathcal{L}(\\alpha,\\beta) = \\sum_{t} \\left\\{ \\log D(t) + \\log(\\alpha + \\beta R(t)) -D(t)(\\alpha + \\beta R(t))B(t) \\right\\}\n",
    "\\propto\n",
    "\\sum_{t} \\left\\{\\log(\\alpha + \\beta R(t)) -D(t)(\\alpha + \\beta R(t))B(t) \\right\\}\n",
    "$$\n"
   ]
  },
  {
   "cell_type": "markdown",
   "metadata": {},
   "source": [
    "* Focus on October 2018 to December 2018. Here, we include the transaction fee in expected reward.\n",
    "\n",
    "* The maximization of the likelihood function is done by brute-force search.\n",
    "    - NB: Iterative methods did not work well in this case."
   ]
  },
  {
   "cell_type": "code",
   "execution_count": 3,
   "metadata": {
    "ExecuteTime": {
     "end_time": "2019-06-09T10:37:35.535286Z",
     "start_time": "2019-06-09T10:37:33.717317Z"
    }
   },
   "outputs": [
    {
     "data": {
      "text/html": [
       "<div>\n",
       "<style scoped>\n",
       "    .dataframe tbody tr th:only-of-type {\n",
       "        vertical-align: middle;\n",
       "    }\n",
       "\n",
       "    .dataframe tbody tr th {\n",
       "        vertical-align: top;\n",
       "    }\n",
       "\n",
       "    .dataframe thead th {\n",
       "        text-align: right;\n",
       "    }\n",
       "</style>\n",
       "<table border=\"1\" class=\"dataframe\">\n",
       "  <thead>\n",
       "    <tr style=\"text-align: right;\">\n",
       "      <th></th>\n",
       "      <th>height</th>\n",
       "      <th>unixtime</th>\n",
       "      <th>probability of success /Eh</th>\n",
       "      <th>expected return (USD/Eh)</th>\n",
       "      <th>time</th>\n",
       "    </tr>\n",
       "  </thead>\n",
       "  <tbody>\n",
       "    <tr>\n",
       "      <th>0</th>\n",
       "      <td>450001</td>\n",
       "      <td>1485382343</td>\n",
       "      <td>0.000593</td>\n",
       "      <td>6.935004</td>\n",
       "      <td>2017-01-25 22:12:23</td>\n",
       "    </tr>\n",
       "    <tr>\n",
       "      <th>1</th>\n",
       "      <td>450002</td>\n",
       "      <td>1485383957</td>\n",
       "      <td>0.000593</td>\n",
       "      <td>7.424957</td>\n",
       "      <td>2017-01-25 22:39:17</td>\n",
       "    </tr>\n",
       "    <tr>\n",
       "      <th>2</th>\n",
       "      <td>450003</td>\n",
       "      <td>1485384299</td>\n",
       "      <td>0.000593</td>\n",
       "      <td>7.184180</td>\n",
       "      <td>2017-01-25 22:44:59</td>\n",
       "    </tr>\n",
       "    <tr>\n",
       "      <th>3</th>\n",
       "      <td>450004</td>\n",
       "      <td>1485384419</td>\n",
       "      <td>0.000593</td>\n",
       "      <td>7.025926</td>\n",
       "      <td>2017-01-25 22:46:59</td>\n",
       "    </tr>\n",
       "    <tr>\n",
       "      <th>4</th>\n",
       "      <td>450005</td>\n",
       "      <td>1485384847</td>\n",
       "      <td>0.000593</td>\n",
       "      <td>7.086069</td>\n",
       "      <td>2017-01-25 22:54:07</td>\n",
       "    </tr>\n",
       "  </tbody>\n",
       "</table>\n",
       "</div>"
      ],
      "text/plain": [
       "   height    unixtime  probability of success /Eh  expected return (USD/Eh)  \\\n",
       "0  450001  1485382343                    0.000593                  6.935004   \n",
       "1  450002  1485383957                    0.000593                  7.424957   \n",
       "2  450003  1485384299                    0.000593                  7.184180   \n",
       "3  450004  1485384419                    0.000593                  7.025926   \n",
       "4  450005  1485384847                    0.000593                  7.086069   \n",
       "\n",
       "                 time  \n",
       "0 2017-01-25 22:12:23  \n",
       "1 2017-01-25 22:39:17  \n",
       "2 2017-01-25 22:44:59  \n",
       "3 2017-01-25 22:46:59  \n",
       "4 2017-01-25 22:54:07  "
      ]
     },
     "execution_count": 3,
     "metadata": {},
     "output_type": "execute_result"
    }
   ],
   "source": [
    "path = '../data/BTCdata_2.csv'\n",
    "df_BTC = pd.read_csv(path, header=0)\n",
    "df_BTC = df_BTC.rename(columns={'unixtime_precise': 'unixtime'})\n",
    "df_BTC = df_BTC.loc[: ,['height', 'unixtime', 'probability of success /Eh', 'expected return (USD/Eh)']]\n",
    "df_BTC['time'] = pd.to_datetime(df_BTC['unixtime'].astype(int), unit='s')\n",
    "df_BTC = df_BTC.sort_values(by='height', ascending=True)\n",
    "df_BTC.head()"
   ]
  },
  {
   "cell_type": "code",
   "execution_count": 4,
   "metadata": {
    "ExecuteTime": {
     "end_time": "2019-06-09T10:37:38.736865Z",
     "start_time": "2019-06-09T10:37:37.402673Z"
    }
   },
   "outputs": [
    {
     "data": {
      "text/html": [
       "<div>\n",
       "<style scoped>\n",
       "    .dataframe tbody tr th:only-of-type {\n",
       "        vertical-align: middle;\n",
       "    }\n",
       "\n",
       "    .dataframe tbody tr th {\n",
       "        vertical-align: top;\n",
       "    }\n",
       "\n",
       "    .dataframe thead th {\n",
       "        text-align: right;\n",
       "    }\n",
       "</style>\n",
       "<table border=\"1\" class=\"dataframe\">\n",
       "  <thead>\n",
       "    <tr style=\"text-align: right;\">\n",
       "      <th></th>\n",
       "      <th>height</th>\n",
       "      <th>unixtime</th>\n",
       "      <th>probability of success /Eh</th>\n",
       "      <th>expected return (USD/Eh)</th>\n",
       "      <th>time</th>\n",
       "      <th>adj_time</th>\n",
       "      <th>adj_block_gen_time(min)</th>\n",
       "    </tr>\n",
       "  </thead>\n",
       "  <tbody>\n",
       "    <tr>\n",
       "      <th>163</th>\n",
       "      <td>543835</td>\n",
       "      <td>1538352272</td>\n",
       "      <td>0.000033</td>\n",
       "      <td>2.720620</td>\n",
       "      <td>2018-10-01 00:04:32</td>\n",
       "      <td>1538352272</td>\n",
       "      <td>18.633333</td>\n",
       "    </tr>\n",
       "    <tr>\n",
       "      <th>164</th>\n",
       "      <td>543836</td>\n",
       "      <td>1538352799</td>\n",
       "      <td>0.000033</td>\n",
       "      <td>2.711797</td>\n",
       "      <td>2018-10-01 00:13:19</td>\n",
       "      <td>1538352799</td>\n",
       "      <td>8.783333</td>\n",
       "    </tr>\n",
       "    <tr>\n",
       "      <th>165</th>\n",
       "      <td>543837</td>\n",
       "      <td>1538352841</td>\n",
       "      <td>0.000033</td>\n",
       "      <td>2.694189</td>\n",
       "      <td>2018-10-01 00:14:01</td>\n",
       "      <td>1538352841</td>\n",
       "      <td>0.700000</td>\n",
       "    </tr>\n",
       "    <tr>\n",
       "      <th>166</th>\n",
       "      <td>543838</td>\n",
       "      <td>1538352940</td>\n",
       "      <td>0.000033</td>\n",
       "      <td>2.697526</td>\n",
       "      <td>2018-10-01 00:15:40</td>\n",
       "      <td>1538352940</td>\n",
       "      <td>1.650000</td>\n",
       "    </tr>\n",
       "    <tr>\n",
       "      <th>167</th>\n",
       "      <td>543839</td>\n",
       "      <td>1538353463</td>\n",
       "      <td>0.000033</td>\n",
       "      <td>2.714195</td>\n",
       "      <td>2018-10-01 00:24:23</td>\n",
       "      <td>1538353463</td>\n",
       "      <td>8.716667</td>\n",
       "    </tr>\n",
       "  </tbody>\n",
       "</table>\n",
       "</div>"
      ],
      "text/plain": [
       "     height    unixtime  probability of success /Eh  expected return (USD/Eh)  \\\n",
       "163  543835  1538352272                    0.000033                  2.720620   \n",
       "164  543836  1538352799                    0.000033                  2.711797   \n",
       "165  543837  1538352841                    0.000033                  2.694189   \n",
       "166  543838  1538352940                    0.000033                  2.697526   \n",
       "167  543839  1538353463                    0.000033                  2.714195   \n",
       "\n",
       "                   time    adj_time  adj_block_gen_time(min)  \n",
       "163 2018-10-01 00:04:32  1538352272                18.633333  \n",
       "164 2018-10-01 00:13:19  1538352799                 8.783333  \n",
       "165 2018-10-01 00:14:01  1538352841                 0.700000  \n",
       "166 2018-10-01 00:15:40  1538352940                 1.650000  \n",
       "167 2018-10-01 00:24:23  1538353463                 8.716667  "
      ]
     },
     "execution_count": 4,
     "metadata": {},
     "output_type": "execute_result"
    }
   ],
   "source": [
    "df_BTC_2018OctDec = df_BTC[(df_BTC['time'] >= datetime(2018,9,30)) & (df_BTC['time'] <= datetime(2019,1,1))]\n",
    "df_BTC_2018OctDec = df_BTC_2018OctDec.reset_index(drop=True)\n",
    "BTC_times = df_BTC_2018OctDec['unixtime']\n",
    "df_BTC_2018OctDec['adj_time'] = adjust_BGT(BTC_times)\n",
    "df_BTC_2018OctDec['adj_block_gen_time(min)'] = df_BTC_2018OctDec['adj_time'].diff()/60\n",
    "df_BTC_2018OctDec = df_BTC_2018OctDec[df_BTC_2018OctDec['time'] >= datetime(2018,10,1)]\n",
    "df_BTC_2018OctDec.head()"
   ]
  },
  {
   "cell_type": "code",
   "execution_count": 5,
   "metadata": {
    "ExecuteTime": {
     "end_time": "2019-06-09T10:37:41.642970Z",
     "start_time": "2019-06-09T10:37:41.625632Z"
    },
    "scrolled": true
   },
   "outputs": [
    {
     "data": {
      "text/html": [
       "<div>\n",
       "<style scoped>\n",
       "    .dataframe tbody tr th:only-of-type {\n",
       "        vertical-align: middle;\n",
       "    }\n",
       "\n",
       "    .dataframe tbody tr th {\n",
       "        vertical-align: top;\n",
       "    }\n",
       "\n",
       "    .dataframe thead th {\n",
       "        text-align: right;\n",
       "    }\n",
       "</style>\n",
       "<table border=\"1\" class=\"dataframe\">\n",
       "  <thead>\n",
       "    <tr style=\"text-align: right;\">\n",
       "      <th></th>\n",
       "      <th>adj_block_gen_time(min)</th>\n",
       "      <th>probability of success /Eh</th>\n",
       "      <th>expected return (USD/Eh)</th>\n",
       "      <th>adj_block_gen_time(hour)</th>\n",
       "    </tr>\n",
       "  </thead>\n",
       "  <tbody>\n",
       "    <tr>\n",
       "      <th>163</th>\n",
       "      <td>18.633333</td>\n",
       "      <td>0.000033</td>\n",
       "      <td>2.720620</td>\n",
       "      <td>0.310556</td>\n",
       "    </tr>\n",
       "    <tr>\n",
       "      <th>164</th>\n",
       "      <td>8.783333</td>\n",
       "      <td>0.000033</td>\n",
       "      <td>2.711797</td>\n",
       "      <td>0.146389</td>\n",
       "    </tr>\n",
       "    <tr>\n",
       "      <th>165</th>\n",
       "      <td>0.700000</td>\n",
       "      <td>0.000033</td>\n",
       "      <td>2.694189</td>\n",
       "      <td>0.011667</td>\n",
       "    </tr>\n",
       "    <tr>\n",
       "      <th>166</th>\n",
       "      <td>1.650000</td>\n",
       "      <td>0.000033</td>\n",
       "      <td>2.697526</td>\n",
       "      <td>0.027500</td>\n",
       "    </tr>\n",
       "    <tr>\n",
       "      <th>167</th>\n",
       "      <td>8.716667</td>\n",
       "      <td>0.000033</td>\n",
       "      <td>2.714195</td>\n",
       "      <td>0.145278</td>\n",
       "    </tr>\n",
       "  </tbody>\n",
       "</table>\n",
       "</div>"
      ],
      "text/plain": [
       "     adj_block_gen_time(min)  probability of success /Eh  \\\n",
       "163                18.633333                    0.000033   \n",
       "164                 8.783333                    0.000033   \n",
       "165                 0.700000                    0.000033   \n",
       "166                 1.650000                    0.000033   \n",
       "167                 8.716667                    0.000033   \n",
       "\n",
       "     expected return (USD/Eh)  adj_block_gen_time(hour)  \n",
       "163                  2.720620                  0.310556  \n",
       "164                  2.711797                  0.146389  \n",
       "165                  2.694189                  0.011667  \n",
       "166                  2.697526                  0.027500  \n",
       "167                  2.714195                  0.145278  "
      ]
     },
     "execution_count": 5,
     "metadata": {},
     "output_type": "execute_result"
    }
   ],
   "source": [
    "df = df_BTC_2018OctDec.loc[:, ['adj_block_gen_time(min)', 'probability of success /Eh', 'expected return (USD/Eh)']]\n",
    "df['adj_block_gen_time(hour)'] = df['adj_block_gen_time(min)']/60\n",
    "df.head()"
   ]
  },
  {
   "cell_type": "code",
   "execution_count": 7,
   "metadata": {
    "ExecuteTime": {
     "end_time": "2019-06-08T11:09:59.638449Z",
     "start_time": "2019-06-08T11:09:59.631723Z"
    }
   },
   "outputs": [],
   "source": [
    "def log_likelihood(params, block_times, block_gen_rates, exp_rewards):\n",
    "    '''\n",
    "    params = [a, b]\n",
    "    '''    \n",
    "    a = params[0]\n",
    "    b = params[1]\n",
    "    \n",
    "    temp = np.log(a + b * exp_rewards) \\\n",
    "        - (block_gen_rates * (a + b * exp_rewards) * block_times)\n",
    "    ll = np.sum(temp)\n",
    "    \n",
    "    return ll\n",
    "\n",
    "\n",
    "def greedy_max_ll(params_list, df):\n",
    "    block_times = df.loc[:, 'adj_block_gen_time(hour)'].values\n",
    "    block_gen_rates = df.loc[:, 'probability of success /Eh'].values\n",
    "    exp_rewards = df.loc[:, 'expected return (USD/Eh)'].values\n",
    "\n",
    "    opt_params = None\n",
    "    opt_ll = - np.inf\n",
    "    for params in params_list:\n",
    "        current_ll = log_likelihood(params, block_times, block_gen_rates, exp_rewards)\n",
    "        if current_ll > opt_ll:\n",
    "            opt_params = params\n",
    "            opt_ll = current_ll\n",
    "            \n",
    "    return opt_ll, opt_params"
   ]
  },
  {
   "cell_type": "code",
   "execution_count": 17,
   "metadata": {
    "ExecuteTime": {
     "end_time": "2019-06-04T08:40:16.971284Z",
     "start_time": "2019-06-04T08:32:45.922787Z"
    }
   },
   "outputs": [],
   "source": [
    "a = np.arange(80000, 90000, 10)\n",
    "b = np.arange(30000, 60000, 10)\n",
    "params_list = cartesian((a,b))\n",
    "opt_ll, opt_params = greedy_max_ll(params_list, df)"
   ]
  },
  {
   "cell_type": "code",
   "execution_count": 18,
   "metadata": {
    "ExecuteTime": {
     "end_time": "2019-06-04T08:40:40.502150Z",
     "start_time": "2019-06-04T08:40:40.497218Z"
    }
   },
   "outputs": [
    {
     "data": {
      "text/plain": [
       "138574.9971425061"
      ]
     },
     "execution_count": 18,
     "metadata": {},
     "output_type": "execute_result"
    }
   ],
   "source": [
    "opt_ll"
   ]
  },
  {
   "cell_type": "code",
   "execution_count": 19,
   "metadata": {
    "ExecuteTime": {
     "end_time": "2019-06-04T08:40:43.917559Z",
     "start_time": "2019-06-04T08:40:43.912440Z"
    }
   },
   "outputs": [
    {
     "data": {
      "text/plain": [
       "array([84940, 32480])"
      ]
     },
     "execution_count": 19,
     "metadata": {},
     "output_type": "execute_result"
    }
   ],
   "source": [
    "opt_params"
   ]
  },
  {
   "cell_type": "markdown",
   "metadata": {
    "ExecuteTime": {
     "end_time": "2019-06-04T08:41:41.782812Z",
     "start_time": "2019-06-04T08:41:41.778037Z"
    }
   },
   "source": [
    "Therefore, the MLE is\n",
    "$$\n",
    "\\hat{\\alpha} = 84940, \\hat{\\beta} = 32480\n",
    "$$"
   ]
  },
  {
   "cell_type": "code",
   "execution_count": 21,
   "metadata": {
    "ExecuteTime": {
     "end_time": "2019-06-04T08:41:52.414333Z",
     "start_time": "2019-06-04T08:41:52.409243Z"
    }
   },
   "outputs": [
    {
     "name": "stdout",
     "output_type": "stream",
     "text": [
      "23.594444444444445 9.022222222222222\n"
     ]
    }
   ],
   "source": [
    "# Rescale the unit in seconds.\n",
    "alpha = opt_params[0]/3600\n",
    "beta = opt_params[1]/3600\n",
    "print(alpha, beta)"
   ]
  },
  {
   "cell_type": "code",
   "execution_count": 8,
   "metadata": {
    "ExecuteTime": {
     "end_time": "2019-06-04T08:24:55.063343Z",
     "start_time": "2019-06-04T08:24:55.060205Z"
    }
   },
   "outputs": [],
   "source": [
    "# save the rescaled result\n",
    "alpha = 23.5944\n",
    "beta = 9.0222"
   ]
  },
  {
   "cell_type": "code",
   "execution_count": 22,
   "metadata": {
    "ExecuteTime": {
     "end_time": "2019-06-04T08:42:17.388783Z",
     "start_time": "2019-06-04T08:42:17.383182Z"
    },
    "scrolled": true
   },
   "outputs": [
    {
     "data": {
      "text/plain": [
       "1.5776613819999998"
      ]
     },
     "execution_count": 22,
     "metadata": {},
     "output_type": "execute_result"
    }
   ],
   "source": [
    "df['expected return (USD/Eh)'].min()"
   ]
  },
  {
   "cell_type": "code",
   "execution_count": 23,
   "metadata": {
    "ExecuteTime": {
     "end_time": "2019-06-04T08:42:19.513109Z",
     "start_time": "2019-06-04T08:42:19.507319Z"
    }
   },
   "outputs": [
    {
     "data": {
      "text/plain": [
       "3.1193656539999997"
      ]
     },
     "execution_count": 23,
     "metadata": {},
     "output_type": "execute_result"
    }
   ],
   "source": [
    "df['expected return (USD/Eh)'].max()"
   ]
  },
  {
   "cell_type": "code",
   "execution_count": null,
   "metadata": {},
   "outputs": [],
   "source": [
    "df"
   ]
  },
  {
   "cell_type": "markdown",
   "metadata": {},
   "source": [
    "The graph looks like as follows:"
   ]
  },
  {
   "cell_type": "code",
   "execution_count": 3,
   "metadata": {
    "ExecuteTime": {
     "end_time": "2019-06-04T08:19:58.642626Z",
     "start_time": "2019-06-04T08:19:58.637719Z"
    }
   },
   "outputs": [],
   "source": [
    "@np.vectorize\n",
    "def sigmoid(x):\n",
    "    sigmoid_range = 34.538776394910684\n",
    "\n",
    "    if x <= -sigmoid_range:\n",
    "        return 1e-15\n",
    "    if x >= sigmoid_range:\n",
    "        return 1.0 - 1e-15\n",
    "\n",
    "    return 1.0 / (1.0 + np.exp(-x))\n",
    "\n",
    "\n",
    "center = 1.5\n",
    "@np.vectorize\n",
    "# hash_ubd=55, hash_slope=3, hash_center=1.5\n",
    "def hash(exp_reward):\n",
    "    return 55 * sigmoid(3 * (exp_reward - center))"
   ]
  },
  {
   "cell_type": "code",
   "execution_count": 24,
   "metadata": {
    "ExecuteTime": {
     "end_time": "2019-06-04T08:42:24.944084Z",
     "start_time": "2019-06-04T08:42:24.758195Z"
    },
    "scrolled": true
   },
   "outputs": [
    {
     "data": {
      "image/png": "[encoded data removed]",
      "text/plain": [
       "<Figure size 432x288 with 1 Axes>"
      ]
     },
     "metadata": {},
     "output_type": "display_data"
    }
   ],
   "source": [
    "#plot\n",
    "x = np.arange(0,3.5,0.02)\n",
    "y = hash(x)\n",
    "plt.plot(x,y, label='sigmoid')\n",
    "z = alpha + x * beta\n",
    "plt.plot(x,z, label='MLE')\n",
    "plt.title('Hash supply(EH/Expected Reward(USD/EH)), center={}'.format(center))\n",
    "plt.legend()\n",
    "testx = [1.578, 3.12, 3.12, 1.578]\n",
    "testy = [0, 0, 55, 55]\n",
    "plt.fill(testx,testy,color=\"y\",alpha=0.3)\n",
    "plt.show()"
   ]
  },
  {
   "cell_type": "markdown",
   "metadata": {},
   "source": [
    "## Appendix"
   ]
  },
  {
   "cell_type": "markdown",
   "metadata": {},
   "source": [
    "### Compute the standard deviation\n",
    "\n",
    "* Here, we compute the standard deviation via bootstrap.\n",
    "    - http://www.math.s.chiba-u.ac.jp/~wang/bootstrap.pdf\n",
    "    - https://qiita.com/katsu1110/items/23b8a37ac400dd0eaad2\n",
    "\n",
    "* Let $T$ be the number of trials.\n",
    "* In each step $t \\in [T]$, draw $n$ samples  with replacement and compute the statistics.\n",
    "* After obtaining $T$ statistics, we compute the average and standard deviation."
   ]
  },
  {
   "cell_type": "code",
   "execution_count": 19,
   "metadata": {
    "ExecuteTime": {
     "end_time": "2019-06-08T11:12:15.045198Z",
     "start_time": "2019-06-08T11:12:14.066654Z"
    }
   },
   "outputs": [
    {
     "data": {
      "text/html": [
       "<div>\n",
       "<style scoped>\n",
       "    .dataframe tbody tr th:only-of-type {\n",
       "        vertical-align: middle;\n",
       "    }\n",
       "\n",
       "    .dataframe tbody tr th {\n",
       "        vertical-align: top;\n",
       "    }\n",
       "\n",
       "    .dataframe thead th {\n",
       "        text-align: right;\n",
       "    }\n",
       "</style>\n",
       "<table border=\"1\" class=\"dataframe\">\n",
       "  <thead>\n",
       "    <tr style=\"text-align: right;\">\n",
       "      <th></th>\n",
       "      <th>adj_block_gen_time(min)</th>\n",
       "      <th>probability of success /Eh</th>\n",
       "      <th>expected return (USD/Eh)</th>\n",
       "      <th>adj_block_gen_time(hour)</th>\n",
       "    </tr>\n",
       "  </thead>\n",
       "  <tbody>\n",
       "    <tr>\n",
       "      <th>163</th>\n",
       "      <td>18.633333</td>\n",
       "      <td>0.000033</td>\n",
       "      <td>2.720620</td>\n",
       "      <td>0.310556</td>\n",
       "    </tr>\n",
       "    <tr>\n",
       "      <th>164</th>\n",
       "      <td>8.783333</td>\n",
       "      <td>0.000033</td>\n",
       "      <td>2.711797</td>\n",
       "      <td>0.146389</td>\n",
       "    </tr>\n",
       "    <tr>\n",
       "      <th>165</th>\n",
       "      <td>0.700000</td>\n",
       "      <td>0.000033</td>\n",
       "      <td>2.694189</td>\n",
       "      <td>0.011667</td>\n",
       "    </tr>\n",
       "    <tr>\n",
       "      <th>166</th>\n",
       "      <td>1.650000</td>\n",
       "      <td>0.000033</td>\n",
       "      <td>2.697526</td>\n",
       "      <td>0.027500</td>\n",
       "    </tr>\n",
       "    <tr>\n",
       "      <th>167</th>\n",
       "      <td>8.716667</td>\n",
       "      <td>0.000033</td>\n",
       "      <td>2.714195</td>\n",
       "      <td>0.145278</td>\n",
       "    </tr>\n",
       "  </tbody>\n",
       "</table>\n",
       "</div>"
      ],
      "text/plain": [
       "     adj_block_gen_time(min)  probability of success /Eh  \\\n",
       "163                18.633333                    0.000033   \n",
       "164                 8.783333                    0.000033   \n",
       "165                 0.700000                    0.000033   \n",
       "166                 1.650000                    0.000033   \n",
       "167                 8.716667                    0.000033   \n",
       "\n",
       "     expected return (USD/Eh)  adj_block_gen_time(hour)  \n",
       "163                  2.720620                  0.310556  \n",
       "164                  2.711797                  0.146389  \n",
       "165                  2.694189                  0.011667  \n",
       "166                  2.697526                  0.027500  \n",
       "167                  2.714195                  0.145278  "
      ]
     },
     "execution_count": 19,
     "metadata": {},
     "output_type": "execute_result"
    }
   ],
   "source": [
    "# import data\n",
    "\n",
    "path = '../data/BTCdata_2.csv'\n",
    "df_BTC = pd.read_csv(path, header=0)\n",
    "df_BTC = df_BTC.rename(columns={'unixtime_precise': 'unixtime'})\n",
    "df_BTC = df_BTC.loc[: ,['height', 'unixtime', 'probability of success /Eh', 'expected return (USD/Eh)']]\n",
    "df_BTC['time'] = pd.to_datetime(df_BTC['unixtime'].astype(int), unit='s')\n",
    "df_BTC = df_BTC.sort_values(by='height', ascending=True)\n",
    "df_BTC_2018OctDec = df_BTC[(df_BTC['time'] >= datetime(2018,9,30)) & (df_BTC['time'] <= datetime(2019,1,1))]\n",
    "df_BTC_2018OctDec = df_BTC_2018OctDec.reset_index(drop=True)\n",
    "BTC_times = df_BTC_2018OctDec['unixtime']\n",
    "df_BTC_2018OctDec['adj_time'] = adjust_BGT(BTC_times)\n",
    "df_BTC_2018OctDec['adj_block_gen_time(min)'] = df_BTC_2018OctDec['adj_time'].diff()/60\n",
    "df_BTC_2018OctDec = df_BTC_2018OctDec[df_BTC_2018OctDec['time'] >= datetime(2018,10,1)]\n",
    "df = df_BTC_2018OctDec.loc[:, ['adj_block_gen_time(min)', 'probability of success /Eh', 'expected return (USD/Eh)']]\n",
    "df['adj_block_gen_time(hour)'] = df['adj_block_gen_time(min)']/60\n",
    "df.head()"
   ]
  },
  {
   "cell_type": "code",
   "execution_count": 20,
   "metadata": {
    "ExecuteTime": {
     "end_time": "2019-06-08T11:12:53.465236Z",
     "start_time": "2019-06-08T11:12:53.454515Z"
    }
   },
   "outputs": [
    {
     "data": {
      "text/html": [
       "<div>\n",
       "<style scoped>\n",
       "    .dataframe tbody tr th:only-of-type {\n",
       "        vertical-align: middle;\n",
       "    }\n",
       "\n",
       "    .dataframe tbody tr th {\n",
       "        vertical-align: top;\n",
       "    }\n",
       "\n",
       "    .dataframe thead th {\n",
       "        text-align: right;\n",
       "    }\n",
       "</style>\n",
       "<table border=\"1\" class=\"dataframe\">\n",
       "  <thead>\n",
       "    <tr style=\"text-align: right;\">\n",
       "      <th></th>\n",
       "      <th>adj_block_gen_time(min)</th>\n",
       "      <th>probability of success /Eh</th>\n",
       "      <th>expected return (USD/Eh)</th>\n",
       "      <th>adj_block_gen_time(hour)</th>\n",
       "    </tr>\n",
       "  </thead>\n",
       "  <tbody>\n",
       "    <tr>\n",
       "      <th>0</th>\n",
       "      <td>18.633333</td>\n",
       "      <td>0.000033</td>\n",
       "      <td>2.720620</td>\n",
       "      <td>0.310556</td>\n",
       "    </tr>\n",
       "    <tr>\n",
       "      <th>1</th>\n",
       "      <td>8.783333</td>\n",
       "      <td>0.000033</td>\n",
       "      <td>2.711797</td>\n",
       "      <td>0.146389</td>\n",
       "    </tr>\n",
       "    <tr>\n",
       "      <th>2</th>\n",
       "      <td>0.700000</td>\n",
       "      <td>0.000033</td>\n",
       "      <td>2.694189</td>\n",
       "      <td>0.011667</td>\n",
       "    </tr>\n",
       "    <tr>\n",
       "      <th>3</th>\n",
       "      <td>1.650000</td>\n",
       "      <td>0.000033</td>\n",
       "      <td>2.697526</td>\n",
       "      <td>0.027500</td>\n",
       "    </tr>\n",
       "    <tr>\n",
       "      <th>4</th>\n",
       "      <td>8.716667</td>\n",
       "      <td>0.000033</td>\n",
       "      <td>2.714195</td>\n",
       "      <td>0.145278</td>\n",
       "    </tr>\n",
       "  </tbody>\n",
       "</table>\n",
       "</div>"
      ],
      "text/plain": [
       "   adj_block_gen_time(min)  probability of success /Eh  \\\n",
       "0                18.633333                    0.000033   \n",
       "1                 8.783333                    0.000033   \n",
       "2                 0.700000                    0.000033   \n",
       "3                 1.650000                    0.000033   \n",
       "4                 8.716667                    0.000033   \n",
       "\n",
       "   expected return (USD/Eh)  adj_block_gen_time(hour)  \n",
       "0                  2.720620                  0.310556  \n",
       "1                  2.711797                  0.146389  \n",
       "2                  2.694189                  0.011667  \n",
       "3                  2.697526                  0.027500  \n",
       "4                  2.714195                  0.145278  "
      ]
     },
     "execution_count": 20,
     "metadata": {},
     "output_type": "execute_result"
    }
   ],
   "source": [
    "df = df.reset_index(drop=True)\n",
    "df.head()"
   ]
  },
  {
   "cell_type": "markdown",
   "metadata": {},
   "source": [
    "https://stackoverflow.com/questions/31502958/drawing-a-bootstrap-sample-from-a-pandas-dataframe"
   ]
  },
  {
   "cell_type": "code",
   "execution_count": 50,
   "metadata": {
    "ExecuteTime": {
     "end_time": "2019-06-08T11:46:54.252311Z",
     "start_time": "2019-06-08T11:46:54.246189Z"
    }
   },
   "outputs": [],
   "source": [
    "def bootstrap(df, a_lbd=75000, a_ubd=95000, b_lbd=28000, b_ubd=38000, num_draw=1000, grid_size=100):\n",
    "    alpha_list = []\n",
    "    beta_list = []\n",
    "    for _ in range(num_draw):\n",
    "        randlist = pd.DataFrame(index=np.random.randint(df.shape[0], size=df.shape[0]))\n",
    "        df_temp = df.merge(randlist, left_index=True, right_index=True, how='right')\n",
    "        a = np.arange(a_lbd, a_ubd, grid_size)\n",
    "        b = np.arange(b_lbd, b_ubd, grid_size)\n",
    "        params_list = cartesian((a,b))\n",
    "        opt_ll, opt_params = greedy_max_ll(params_list, df_temp)\n",
    "        alpha_list.append(opt_params[0])\n",
    "        beta_list.append(opt_params[1])\n",
    "    return np.array(alpha_list), np.array(beta_list)"
   ]
  },
  {
   "cell_type": "code",
   "execution_count": 33,
   "metadata": {
    "ExecuteTime": {
     "end_time": "2019-06-08T11:28:23.793786Z",
     "start_time": "2019-06-08T11:28:17.900102Z"
    }
   },
   "outputs": [
    {
     "data": {
      "text/plain": [
       "([87100, 86000], [31600, 32700])"
      ]
     },
     "execution_count": 33,
     "metadata": {},
     "output_type": "execute_result"
    }
   ],
   "source": [
    "bootstrap(df, num_draw=2)"
   ]
  },
  {
   "cell_type": "code",
   "execution_count": 39,
   "metadata": {
    "ExecuteTime": {
     "end_time": "2019-06-08T11:40:16.751362Z",
     "start_time": "2019-06-08T11:39:55.260849Z"
    }
   },
   "outputs": [
    {
     "data": {
      "text/plain": [
       "([80000, 94900, 94900, 94900, 80000, 94900, 93600, 80000, 80000, 86100],\n",
       " [34800, 28400, 28900, 29500, 34300, 28800, 28200, 34700, 34600, 32300])"
      ]
     },
     "execution_count": 39,
     "metadata": {},
     "output_type": "execute_result"
    }
   ],
   "source": [
    "bootstrap(df, num_draw=10)"
   ]
  },
  {
   "cell_type": "code",
   "execution_count": 42,
   "metadata": {
    "ExecuteTime": {
     "end_time": "2019-06-08T11:41:50.407215Z",
     "start_time": "2019-06-08T11:41:21.551849Z"
    }
   },
   "outputs": [
    {
     "data": {
      "text/plain": [
       "([81900, 75600, 75100, 81800, 87600, 78200, 88800, 88600, 91400, 94300],\n",
       " [33400, 36700, 35500, 33400, 32400, 36100, 30100, 32400, 28700, 28000])"
      ]
     },
     "execution_count": 42,
     "metadata": {},
     "output_type": "execute_result"
    }
   ],
   "source": [
    "bootstrap(df, a_lbd=75000, a_ubd=95000, b_lbd=28000, b_ubd=38000, num_draw=10, grid_size=100)"
   ]
  },
  {
   "cell_type": "code",
   "execution_count": 51,
   "metadata": {
    "ExecuteTime": {
     "end_time": "2019-06-08T11:48:00.588604Z",
     "start_time": "2019-06-08T11:47:31.907678Z"
    }
   },
   "outputs": [
    {
     "name": "stdout",
     "output_type": "stream",
     "text": [
      "[93200 83700 87000 79600 94900 94900 75000 81000 78900 76400]\n",
      "[29600 33400 31800 35000 28400 28400 37500 34200 34600 36700]\n"
     ]
    }
   ],
   "source": [
    "alphas, betas = bootstrap(df, a_lbd=75000, a_ubd=95000, b_lbd=28000, b_ubd=38000, num_draw=10, grid_size=100)\n",
    "print(alphas)\n",
    "print(betas)"
   ]
  },
  {
   "cell_type": "code",
   "execution_count": 52,
   "metadata": {
    "ExecuteTime": {
     "end_time": "2019-06-08T11:51:50.348230Z",
     "start_time": "2019-06-08T11:51:07.096943Z"
    }
   },
   "outputs": [
    {
     "name": "stdout",
     "output_type": "stream",
     "text": [
      "[94500 80600 87500 80700 84400 71700 91200 98200 95200 94800]\n",
      "[28000 34400 31500 34500 31700 37900 29500 28000 28000 28000]\n"
     ]
    }
   ],
   "source": [
    "alphas, betas = bootstrap(df, a_lbd=70000, a_ubd=100000, b_lbd=28000, b_ubd=38000, num_draw=10, grid_size=100)\n",
    "print(alphas)\n",
    "print(betas)"
   ]
  },
  {
   "cell_type": "code",
   "execution_count": 53,
   "metadata": {
    "ExecuteTime": {
     "end_time": "2019-06-08T11:53:57.209043Z",
     "start_time": "2019-06-08T11:52:30.610695Z"
    }
   },
   "outputs": [
    {
     "name": "stdout",
     "output_type": "stream",
     "text": [
      "[72700 92900 70000 86200 78100 82600 75600 92000 85600 83400]\n",
      "[37400 28800 38300 31300 34600 34300 35900 29400 32700 34100]\n"
     ]
    }
   ],
   "source": [
    "alphas, betas = bootstrap(df, a_lbd=70000, a_ubd=100000, b_lbd=20000, b_ubd=40000, num_draw=10, grid_size=100)\n",
    "print(alphas)\n",
    "print(betas)"
   ]
  },
  {
   "cell_type": "markdown",
   "metadata": {},
   "source": [
    "* It seems that alpha should be in [70000, 100000], beta should be in [20000, 40000]."
   ]
  },
  {
   "cell_type": "code",
   "execution_count": 55,
   "metadata": {
    "ExecuteTime": {
     "end_time": "2019-06-08T14:53:25.448354Z",
     "start_time": "2019-06-08T12:27:47.285570Z"
    },
    "scrolled": true
   },
   "outputs": [
    {
     "name": "stdout",
     "output_type": "stream",
     "text": [
      "8093.372757546299 3547.3910107264724\n"
     ]
    }
   ],
   "source": [
    "alphas, betas = bootstrap(df, a_lbd=70000, a_ubd=100000, b_lbd=20000, b_ubd=40000, num_draw=1000, grid_size=100)\n",
    "alpha_std = np.std(alphas, ddof=1)\n",
    "beta_std = np.std(betas, ddof=1)\n",
    "print(alpha_std, beta_std)"
   ]
  },
  {
   "cell_type": "code",
   "execution_count": 56,
   "metadata": {
    "ExecuteTime": {
     "end_time": "2019-06-09T03:23:43.033599Z",
     "start_time": "2019-06-09T03:23:43.027751Z"
    },
    "scrolled": true
   },
   "outputs": [
    {
     "data": {
      "text/plain": [
       "84949.7"
      ]
     },
     "execution_count": 56,
     "metadata": {},
     "output_type": "execute_result"
    }
   ],
   "source": [
    "alphas.mean()"
   ]
  },
  {
   "cell_type": "markdown",
   "metadata": {},
   "source": [
    "Therefore, the standard deviation of MLE $\\hat{\\alpha}, \\hat{\\beta}$ is\n",
    "\\[\n",
    "\\sigma(\\hat{\\alpha}) = 8093.37, \\sigma(\\hat{\\beta}) = 3547.39\n",
    "\\]"
   ]
  },
  {
   "cell_type": "code",
   "execution_count": 60,
   "metadata": {
    "ExecuteTime": {
     "end_time": "2019-06-09T03:36:17.332792Z",
     "start_time": "2019-06-09T03:36:17.324739Z"
    },
    "scrolled": false
   },
   "outputs": [
    {
     "data": {
      "text/html": [
       "<div>\n",
       "<style scoped>\n",
       "    .dataframe tbody tr th:only-of-type {\n",
       "        vertical-align: middle;\n",
       "    }\n",
       "\n",
       "    .dataframe tbody tr th {\n",
       "        vertical-align: top;\n",
       "    }\n",
       "\n",
       "    .dataframe thead th {\n",
       "        text-align: right;\n",
       "    }\n",
       "</style>\n",
       "<table border=\"1\" class=\"dataframe\">\n",
       "  <thead>\n",
       "    <tr style=\"text-align: right;\">\n",
       "      <th></th>\n",
       "      <th>alphas</th>\n",
       "      <th>betas</th>\n",
       "    </tr>\n",
       "  </thead>\n",
       "  <tbody>\n",
       "    <tr>\n",
       "      <th>0</th>\n",
       "      <td>86200</td>\n",
       "      <td>31900</td>\n",
       "    </tr>\n",
       "    <tr>\n",
       "      <th>1</th>\n",
       "      <td>76300</td>\n",
       "      <td>37000</td>\n",
       "    </tr>\n",
       "    <tr>\n",
       "      <th>2</th>\n",
       "      <td>91800</td>\n",
       "      <td>30100</td>\n",
       "    </tr>\n",
       "    <tr>\n",
       "      <th>3</th>\n",
       "      <td>83300</td>\n",
       "      <td>32900</td>\n",
       "    </tr>\n",
       "    <tr>\n",
       "      <th>4</th>\n",
       "      <td>70100</td>\n",
       "      <td>38600</td>\n",
       "    </tr>\n",
       "  </tbody>\n",
       "</table>\n",
       "</div>"
      ],
      "text/plain": [
       "   alphas  betas\n",
       "0   86200  31900\n",
       "1   76300  37000\n",
       "2   91800  30100\n",
       "3   83300  32900\n",
       "4   70100  38600"
      ]
     },
     "execution_count": 60,
     "metadata": {},
     "output_type": "execute_result"
    }
   ],
   "source": [
    "df_MLE = pd.DataFrame({'alphas' : alphas, 'betas': betas})\n",
    "df_MLE.head()"
   ]
  },
  {
   "cell_type": "code",
   "execution_count": 61,
   "metadata": {
    "ExecuteTime": {
     "end_time": "2019-06-09T03:37:57.956311Z",
     "start_time": "2019-06-09T03:37:57.936951Z"
    }
   },
   "outputs": [],
   "source": [
    "# save the result\n",
    "df_MLE.to_csv('../data/mle_bootstrap.csv')"
   ]
  }
 ],
 "metadata": {
  "kernelspec": {
   "display_name": "Python 3",
   "language": "python",
   "name": "python3"
  },
  "language_info": {
   "codemirror_mode": {
    "name": "ipython",
    "version": 3
   },
   "file_extension": ".py",
   "mimetype": "text/x-python",
   "name": "python",
   "nbconvert_exporter": "python",
   "pygments_lexer": "ipython3",
   "version": "3.6.6"
  },
  "latex_envs": {
   "LaTeX_envs_menu_present": true,
   "autoclose": false,
   "autocomplete": true,
   "bibliofile": "biblio.bib",
   "cite_by": "apalike",
   "current_citInitial": 1,
   "eqLabelWithNumbers": true,
   "eqNumInitial": 1,
   "hotkeys": {
    "equation": "Ctrl-E",
    "itemize": "Ctrl-I"
   },
   "labels_anchors": false,
   "latex_user_defs": false,
   "report_style_numbering": false,
   "user_envs_cfg": false
  },
  "toc": {
   "base_numbering": 1,
   "nav_menu": {},
   "number_sections": true,
   "sideBar": true,
   "skip_h1_title": false,
   "title_cell": "Table of Contents",
   "title_sidebar": "Contents",
   "toc_cell": false,
   "toc_position": {},
   "toc_section_display": true,
   "toc_window_display": false
  }
 },
 "nbformat": 4,
 "nbformat_minor": 2
}
