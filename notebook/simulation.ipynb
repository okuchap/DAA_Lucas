{
 "cells": [
  {
   "cell_type": "markdown",
   "metadata": {},
   "source": [
    "# Simulation\n",
    "\n",
    "* This notebook contains the codes to conduct simulation in Section 6.\n",
    "  - Codes for Section 6.4 are in another notebook. See [the notebook for miners' profit](https://github.com/okuchap/BDA/blob/master/notebook/miner_profit.ipynb)\n",
    "* You can view and download this notebook at my [github repo](https://github.com/okuchap/DAA_Lucas). (https://github.com/okuchap/DAA_Lucas)"
   ]
  },
  {
   "cell_type": "code",
   "execution_count": 1,
   "metadata": {
    "ExecuteTime": {
     "end_time": "2020-08-13T01:56:06.182909Z",
     "start_time": "2020-08-13T01:56:05.274842Z"
    }
   },
   "outputs": [],
   "source": [
    "%matplotlib inline\n",
    "%load_ext autoreload\n",
    "import numpy as np\n",
    "import matplotlib as mpl\n",
    "import matplotlib.pyplot as plt\n",
    "import pandas as pd\n",
    "import pathlib\n",
    "import time\n",
    "from datetime import datetime\n",
    "import scipy.optimize as opt\n",
    "np.set_printoptions(precision=3)\n",
    "np.set_printoptions(suppress=True)\n",
    "plt.style.use(\"ggplot\")\n",
    "mpl.pyplot.rcParams['figure.figsize'] = (5.0, 4.0)\n",
    "plt.rcParams[\"font.size\"] = 13\n",
    "#mpl.rcParams[\"font.family\"] = 'Osaka'\n",
    "\n",
    "import sys\n",
    "sys.path.append('../code/')\n",
    "\n",
    "from simulation_fixed_path import *\n",
    "from hash import *\n",
    "from plot_path import *"
   ]
  },
  {
   "cell_type": "markdown",
   "metadata": {},
   "source": [
    "## Specification of Hash function"
   ]
  },
  {
   "cell_type": "markdown",
   "metadata": {},
   "source": [
    "* We need to tune the shape of the hash supply function $\\Phi$.\n",
    "\n",
    "\n",
    "* Use BTC data from October 2018 to December 2018 to obtain MLS.\n",
    "    - See also [the notebook for empirical analysis](https://github.com/okuchap/BDA/blob/master/notebook/empirical_analysis.ipynb)\n",
    "    - We have estimated the shape of the hash supply function:\n",
    "$$\n",
    "\\hat{\\Phi}(R) := 23.59 + 9.02 R\n",
    "$$\n",
    "    - Note that the range of expected return in the target period is $[1.58, 3.12]$.\n",
    "\n",
    "\n",
    "* The upper bound of the hash supply is set to be 55 EHash.\n",
    "\n",
    "\n",
    "* Other properties that the hash supply function is expected to satisfy:\n",
    "    - the supply should be almost 0 in case $R < 0.8$.\n",
    "    - the supply increases rapidly on the interval $[1, 2]$.\n",
    "    - ubd=55, center=1.5, slope=3 seems to work well.\n",
    "    \n",
    "* We have decided to use the following hash supply function that sarisfies the conditions above in our simulation:\n",
    "\\[\n",
    "\\Phi(R) := \\frac{55}{1 + \\mathrm{e}^{-3(R - 1.5)}}\n",
    "\\]\n",
    "\n",
    "\n",
    "* See the graph below for its shape:"
   ]
  },
  {
   "cell_type": "code",
   "execution_count": 2,
   "metadata": {
    "ExecuteTime": {
     "end_time": "2020-08-06T10:39:26.900781Z",
     "start_time": "2020-08-06T10:39:26.672110Z"
    }
   },
   "outputs": [
    {
     "data": {
      "image/png": "[encoded data removed]",
      "text/plain": [
       "<Figure size 360x288 with 1 Axes>"
      ]
     },
     "metadata": {},
     "output_type": "display_data"
    }
   ],
   "source": [
    "plot_hash(center=1.5, slope=3, ubd=55)"
   ]
  },
  {
   "cell_type": "markdown",
   "metadata": {},
   "source": [
    "## Simulation"
   ]
  },
  {
   "cell_type": "markdown",
   "metadata": {},
   "source": [
    "**Notation**\n",
    "\n",
    "* discrete time $t \\in \\mathbb{N}$\n",
    "* $B(t)$: blocktime, or time needed for generate $t$-th block (min)\n",
    "* $S(t)$: price in period $t$ (USD)\n",
    "* $H(t)$: hash rate in period $t$ (EH/s)\n",
    "* $W(t)$: \"winning rate\" = \"the probability that one exahash calculation finds out the nonce\" in period $t$\n",
    "* $M(t)$: the block reward in period $t$ (measured by the cryptocurrency)\n",
    "\n",
    "* The timing in period $t$:\n",
    "    - First, $W(t), S(t)$ is determined;\n",
    "    - Then, $H(t)$ is determined;\n",
    "    - Lastly, $B(t)$ realizes.\n",
    "\n",
    "**Ecosystem**\n",
    "\n",
    "1. Price motion\n",
    "$$\n",
    "S(t+1) - S(t) = \\mu S(t)B(t) + \\sigma S(t)\\sqrt{B(t)} \\epsilon(t)\n",
    "$$\n",
    "\n",
    "\n",
    "2. Block generation\n",
    "$$\n",
    "B(t) \\sim \\mathrm{Exp}(W(t)H(t))\n",
    "$$\n",
    "where $\\mathrm{Exp}(\\lambda)$ denotes the exponential distribution with intensity $\\lambda$.\n",
    "\n",
    "\n",
    "3. Hash supply\n",
    "$$\n",
    "H(t) = h(W(t)M(t)S(t))\n",
    "$$\n",
    "where $M(t) \\equiv 12.5$(USD) is a fixed block reward and $R(t) := W(t)M(t)S(t)$ is the expected return in period $t$(USD/EH).\n",
    "\n",
    "\n",
    "4. Difficulty Adjustment (BTC)\n",
    "\n",
    "$T := 2016$\n",
    "$$\n",
    "    W(t+1) = \\begin{cases}\n",
    "        W(t)\\cdot\\cfrac{\\sum_{s = t - T + 1}^{t}B(s)}{T\\cdot \\bar{B}} & \\text{ if }t \\equiv 0 \\;(\\bmod\\; T)\\\\\n",
    "        W(t) & \\text{ otherwise}\n",
    "    \\end{cases}\n",
    "$$\n",
    "\n",
    "* In the real-world, BTC deploys `sim_BTC_bounded`:\n",
    "\n",
    "    - In case $t \\equiv 0 \\mod 2016$\n",
    "$$\n",
    "\\frac{W(t+1)}{W(t)} := \n",
    "\\min \\left\\{\n",
    "\\max \\left\\{\n",
    "0.25,\n",
    "\\frac{\\sum_{s = t - T + 1}^{t}B(s)}{T\\cdot \\bar{B}}\n",
    "\\right\\}, 4\n",
    "\\right\\}\n",
    "\\in [0.25, 4]\n",
    "$$\n",
    "\n",
    "* The update rule of BCH is\n",
    "\n",
    "\\[\n",
    "W(t+1) = \\frac{\\sum_{s=t-T+1}^t B(s)}{B^*} \\cdot \\left( \\sum_{s=t-T+1}^t \\frac{1}{W(s)} \\right)^{-1}\n",
    "\\]\n",
    "\n",
    "* The update rule of DAA-2'(below, `pseudoBCH`) is\n",
    "$$\n",
    "    W(t+1) =\n",
    "    \\cfrac{\\sum_{s=t-T+1}^t W(s)}{T}\n",
    "    \\cdot\n",
    "    \\cfrac{\\sum_{s = t - T + 1}^{t}B(s)}{T\\cdot \\bar{B}}.\n",
    "$$"
   ]
  },
  {
   "cell_type": "markdown",
   "metadata": {},
   "source": [
    "### Volatility $\\sigma$\n",
    "\n",
    "* Historical volatility(/minute) in the target period is $\\hat{\\sigma} := 0.001117728$"
   ]
  },
  {
   "cell_type": "markdown",
   "metadata": {},
   "source": [
    "### Implementation\n",
    "\n",
    "* See `code/simulation_fixed_path.py` for details."
   ]
  },
  {
   "cell_type": "markdown",
   "metadata": {},
   "source": [
    "### Data\n",
    "\n",
    "* The raw data is contained in `BTCdata_2.csv`\n",
    "\n",
    "* As we did in [the notebook for empirical analysis](https://github.com/okuchap/BDA/blob/master/notebook/empirical_analysis.ipynb), we fixed the data on blocktime for the whole dataset. The data with adjusted blocktime is stored in `BTCdata_timeadjusted.csv`.\n",
    "\n",
    "  - See the Appendix of this notebook to see how we make `BTCdata_timeadjusted.csv` and related datesets we use below.\n",
    "\n",
    "* Pick some period from the real-world data used in the simulation."
   ]
  },
  {
   "cell_type": "code",
   "execution_count": 6,
   "metadata": {
    "ExecuteTime": {
     "end_time": "2020-08-13T02:35:01.960744Z",
     "start_time": "2020-08-13T02:35:01.939006Z"
    }
   },
   "outputs": [
    {
     "data": {
      "text/html": [
       "<div>\n",
       "<style scoped>\n",
       "    .dataframe tbody tr th:only-of-type {\n",
       "        vertical-align: middle;\n",
       "    }\n",
       "\n",
       "    .dataframe tbody tr th {\n",
       "        vertical-align: top;\n",
       "    }\n",
       "\n",
       "    .dataframe thead th {\n",
       "        text-align: right;\n",
       "    }\n",
       "</style>\n",
       "<table border=\"1\" class=\"dataframe\">\n",
       "  <thead>\n",
       "    <tr style=\"text-align: right;\">\n",
       "      <th></th>\n",
       "      <th>height</th>\n",
       "      <th>time</th>\n",
       "      <th>block_times</th>\n",
       "      <th>prices</th>\n",
       "      <th>winning_rates</th>\n",
       "      <th>expected return (USD/Eh)</th>\n",
       "    </tr>\n",
       "  </thead>\n",
       "  <tbody>\n",
       "    <tr>\n",
       "      <th>0</th>\n",
       "      <td>549427</td>\n",
       "      <td>2018-11-09 19:26:14</td>\n",
       "      <td>5.783333</td>\n",
       "      <td>6343.32</td>\n",
       "      <td>0.000032</td>\n",
       "      <td>2.587754</td>\n",
       "    </tr>\n",
       "    <tr>\n",
       "      <th>1</th>\n",
       "      <td>549428</td>\n",
       "      <td>2018-11-09 19:26:20</td>\n",
       "      <td>0.100000</td>\n",
       "      <td>6343.32</td>\n",
       "      <td>0.000032</td>\n",
       "      <td>2.574300</td>\n",
       "    </tr>\n",
       "    <tr>\n",
       "      <th>2</th>\n",
       "      <td>549429</td>\n",
       "      <td>2018-11-09 19:37:51</td>\n",
       "      <td>11.516667</td>\n",
       "      <td>6341.26</td>\n",
       "      <td>0.000032</td>\n",
       "      <td>2.593078</td>\n",
       "    </tr>\n",
       "    <tr>\n",
       "      <th>3</th>\n",
       "      <td>549430</td>\n",
       "      <td>2018-11-09 19:45:57</td>\n",
       "      <td>8.100000</td>\n",
       "      <td>6341.26</td>\n",
       "      <td>0.000032</td>\n",
       "      <td>2.595087</td>\n",
       "    </tr>\n",
       "    <tr>\n",
       "      <th>4</th>\n",
       "      <td>549431</td>\n",
       "      <td>2018-11-09 19:54:51</td>\n",
       "      <td>8.900000</td>\n",
       "      <td>6341.26</td>\n",
       "      <td>0.000032</td>\n",
       "      <td>2.591786</td>\n",
       "    </tr>\n",
       "  </tbody>\n",
       "</table>\n",
       "</div>"
      ],
      "text/plain": [
       "   height                time  block_times   prices  winning_rates  \\\n",
       "0  549427 2018-11-09 19:26:14     5.783333  6343.32       0.000032   \n",
       "1  549428 2018-11-09 19:26:20     0.100000  6343.32       0.000032   \n",
       "2  549429 2018-11-09 19:37:51    11.516667  6341.26       0.000032   \n",
       "3  549430 2018-11-09 19:45:57     8.100000  6341.26       0.000032   \n",
       "4  549431 2018-11-09 19:54:51     8.900000  6341.26       0.000032   \n",
       "\n",
       "   expected return (USD/Eh)  \n",
       "0                  2.587754  \n",
       "1                  2.574300  \n",
       "2                  2.593078  \n",
       "3                  2.595087  \n",
       "4                  2.591786  "
      ]
     },
     "execution_count": 6,
     "metadata": {},
     "output_type": "execute_result"
    }
   ],
   "source": [
    "path = '../data/BTCdata_presim.csv'\n",
    "df = pd.read_csv(path)\n",
    "df['time'] = pd.to_datetime(df['time'])\n",
    "df = df.rename(columns={'blocktime': 'block_times', 'price': 'prices', 'probability of success /Eh': 'winning_rates'})\n",
    "df.head()"
   ]
  },
  {
   "cell_type": "code",
   "execution_count": 5,
   "metadata": {
    "ExecuteTime": {
     "end_time": "2020-08-13T02:32:57.195638Z",
     "start_time": "2020-08-13T02:32:57.191729Z"
    }
   },
   "outputs": [
    {
     "data": {
      "text/plain": [
       "(2016, 6)"
      ]
     },
     "execution_count": 5,
     "metadata": {},
     "output_type": "execute_result"
    }
   ],
   "source": [
    "df.shape"
   ]
  },
  {
   "cell_type": "code",
   "execution_count": 6,
   "metadata": {
    "ExecuteTime": {
     "end_time": "2019-06-19T09:56:07.670596Z",
     "start_time": "2019-06-19T09:56:07.471820Z"
    }
   },
   "outputs": [
    {
     "data": {
      "image/png": "[encoded data removed]",
      "text/plain": [
       "<Figure size 432x288 with 1 Axes>"
      ]
     },
     "metadata": {
      "needs_background": "light"
     },
     "output_type": "display_data"
    }
   ],
   "source": [
    "fig = plt.figure()\n",
    "ax = plt.subplot()\n",
    "x = df['time']\n",
    "y = df['expected return (USD/Eh)']\n",
    "ax.plot(x,y)\n",
    "ax.set_title('Expected Reward (USD/EH) in the pre-simulation period')\n",
    "plt.setp(ax.get_xticklabels(), rotation=45)\n",
    "plt.tight_layout()\n",
    "plt.show()"
   ]
  },
  {
   "cell_type": "markdown",
   "metadata": {},
   "source": [
    "### Generate simulation data"
   ]
  },
  {
   "cell_type": "markdown",
   "metadata": {},
   "source": [
    "* First, try generating 1000 observations to see how our code works."
   ]
  },
  {
   "cell_type": "code",
   "execution_count": 7,
   "metadata": {
    "ExecuteTime": {
     "end_time": "2020-08-13T02:35:34.052588Z",
     "start_time": "2020-08-13T02:35:34.032339Z"
    }
   },
   "outputs": [
    {
     "data": {
      "text/html": [
       "<div>\n",
       "<style scoped>\n",
       "    .dataframe tbody tr th:only-of-type {\n",
       "        vertical-align: middle;\n",
       "    }\n",
       "\n",
       "    .dataframe tbody tr th {\n",
       "        vertical-align: top;\n",
       "    }\n",
       "\n",
       "    .dataframe thead th {\n",
       "        text-align: right;\n",
       "    }\n",
       "</style>\n",
       "<table border=\"1\" class=\"dataframe\">\n",
       "  <thead>\n",
       "    <tr style=\"text-align: right;\">\n",
       "      <th></th>\n",
       "      <th>height</th>\n",
       "      <th>time</th>\n",
       "      <th>block_times</th>\n",
       "      <th>prices</th>\n",
       "      <th>winning_rates</th>\n",
       "      <th>expected return (USD/Eh)</th>\n",
       "    </tr>\n",
       "  </thead>\n",
       "  <tbody>\n",
       "    <tr>\n",
       "      <th>2011</th>\n",
       "      <td>551438</td>\n",
       "      <td>2018-11-25 08:35:20</td>\n",
       "      <td>6.250000</td>\n",
       "      <td>3604.59</td>\n",
       "      <td>0.000035</td>\n",
       "      <td>1.591790</td>\n",
       "    </tr>\n",
       "    <tr>\n",
       "      <th>2012</th>\n",
       "      <td>551439</td>\n",
       "      <td>2018-11-25 08:52:45</td>\n",
       "      <td>17.416667</td>\n",
       "      <td>3604.59</td>\n",
       "      <td>0.000035</td>\n",
       "      <td>1.610502</td>\n",
       "    </tr>\n",
       "    <tr>\n",
       "      <th>2013</th>\n",
       "      <td>551440</td>\n",
       "      <td>2018-11-25 09:21:09</td>\n",
       "      <td>28.400000</td>\n",
       "      <td>3604.59</td>\n",
       "      <td>0.000035</td>\n",
       "      <td>1.630853</td>\n",
       "    </tr>\n",
       "    <tr>\n",
       "      <th>2014</th>\n",
       "      <td>551441</td>\n",
       "      <td>2018-11-25 09:22:16</td>\n",
       "      <td>1.116667</td>\n",
       "      <td>3604.59</td>\n",
       "      <td>0.000035</td>\n",
       "      <td>1.585960</td>\n",
       "    </tr>\n",
       "    <tr>\n",
       "      <th>2015</th>\n",
       "      <td>551442</td>\n",
       "      <td>2018-11-25 09:22:42</td>\n",
       "      <td>0.433333</td>\n",
       "      <td>3604.59</td>\n",
       "      <td>0.000035</td>\n",
       "      <td>1.577661</td>\n",
       "    </tr>\n",
       "  </tbody>\n",
       "</table>\n",
       "</div>"
      ],
      "text/plain": [
       "      height                time  block_times   prices  winning_rates  \\\n",
       "2011  551438 2018-11-25 08:35:20     6.250000  3604.59       0.000035   \n",
       "2012  551439 2018-11-25 08:52:45    17.416667  3604.59       0.000035   \n",
       "2013  551440 2018-11-25 09:21:09    28.400000  3604.59       0.000035   \n",
       "2014  551441 2018-11-25 09:22:16     1.116667  3604.59       0.000035   \n",
       "2015  551442 2018-11-25 09:22:42     0.433333  3604.59       0.000035   \n",
       "\n",
       "      expected return (USD/Eh)  \n",
       "2011                  1.591790  \n",
       "2012                  1.610502  \n",
       "2013                  1.630853  \n",
       "2014                  1.585960  \n",
       "2015                  1.577661  "
      ]
     },
     "execution_count": 7,
     "metadata": {},
     "output_type": "execute_result"
    }
   ],
   "source": [
    "from simulation_fixed_path import *\n",
    "\n",
    "path = '../data/BTCdata_presim.csv'\n",
    "df = pd.read_csv(path)\n",
    "df['time'] = pd.to_datetime(df['time'])\n",
    "df = df.rename(columns={'blocktime': 'block_times', 'price': 'prices', 'probability of success /Eh': 'winning_rates'})\n",
    "df.tail()"
   ]
  },
  {
   "cell_type": "code",
   "execution_count": 7,
   "metadata": {
    "ExecuteTime": {
     "end_time": "2019-06-15T07:58:50.395905Z",
     "start_time": "2019-06-15T07:55:19.799330Z"
    }
   },
   "outputs": [],
   "source": [
    "# generate price data (1000 obs.)\n",
    "# price shock = 0\n",
    "init_price = df.loc[143, 'prices']\n",
    "sim = simulation()\n",
    "num_iter = 1000\n",
    "\n",
    "df_price = pd.DataFrame()\n",
    "for iter in range(num_iter):\n",
    "    df_price['iter_{}'.format(iter)] = sim.generate_prices(init_price=init_price)\n",
    "df_price.to_csv('/Volumes/Data/research/BDA/sim_prices_ps=0.csv', index=False)    "
   ]
  },
  {
   "cell_type": "code",
   "execution_count": 13,
   "metadata": {
    "ExecuteTime": {
     "end_time": "2019-06-15T08:06:28.121834Z",
     "start_time": "2019-06-15T08:04:50.941200Z"
    }
   },
   "outputs": [],
   "source": [
    "# generate r.v.'s following Exp(1) (1000 obs.)\n",
    "# price shock = 0\n",
    "sim = simulation()\n",
    "num_iter = 1000\n",
    "\n",
    "df_exprvs = pd.DataFrame()\n",
    "for iter in range(num_iter):\n",
    "    df_exprvs['iter_{}'.format(iter)] = sim.generate_exprvs()\n",
    "df_exprvs.to_csv('/Volumes/Data/research/BDA/sim_exprvs.csv', index=False)    "
   ]
  },
  {
   "cell_type": "code",
   "execution_count": 4,
   "metadata": {
    "ExecuteTime": {
     "end_time": "2019-06-15T13:17:38.645359Z",
     "start_time": "2019-06-15T13:17:09.321625Z"
    }
   },
   "outputs": [],
   "source": [
    "df_exprvs = pd.read_csv('/Volumes/Data/research/BDA/simulation/sim_exprvs.csv')\n",
    "df_price = pd.read_csv('/Volumes/Data/research/BDA/simulation/sim_prices_ps=0.csv')"
   ]
  },
  {
   "cell_type": "markdown",
   "metadata": {},
   "source": [
    "The example below show how we can use the class for simulation defined in `simulation_fixed_path.py`."
   ]
  },
  {
   "cell_type": "code",
   "execution_count": 4,
   "metadata": {
    "ExecuteTime": {
     "end_time": "2019-06-15T10:12:29.017633Z",
     "start_time": "2019-06-15T10:12:29.013821Z"
    }
   },
   "outputs": [],
   "source": [
    "sim = simulation(prev_data=df)"
   ]
  },
  {
   "cell_type": "code",
   "execution_count": 12,
   "metadata": {
    "ExecuteTime": {
     "end_time": "2019-06-15T08:41:40.749236Z",
     "start_time": "2019-06-15T08:41:40.605318Z"
    }
   },
   "outputs": [
    {
     "data": {
      "image/png": "[encoded data removed]",
      "text/plain": [
       "<Figure size 432x288 with 1 Axes>"
      ]
     },
     "metadata": {
      "needs_background": "light"
     },
     "output_type": "display_data"
    }
   ],
   "source": [
    "x = sim.block_times.cumsum()\n",
    "y = sim.winning_rates\n",
    "plt.plot(x,y)\n",
    "plt.show()"
   ]
  },
  {
   "cell_type": "code",
   "execution_count": 13,
   "metadata": {
    "ExecuteTime": {
     "end_time": "2019-06-15T08:41:57.827020Z",
     "start_time": "2019-06-15T08:41:57.678184Z"
    }
   },
   "outputs": [
    {
     "data": {
      "image/png": "[encoded data removed]",
      "text/plain": [
       "<Figure size 432x288 with 1 Axes>"
      ]
     },
     "metadata": {
      "needs_background": "light"
     },
     "output_type": "display_data"
    }
   ],
   "source": [
    "x = sim.block_times.cumsum()\n",
    "y = sim.prices\n",
    "plt.plot(x,y)\n",
    "plt.show()"
   ]
  },
  {
   "cell_type": "code",
   "execution_count": 14,
   "metadata": {
    "ExecuteTime": {
     "end_time": "2019-06-15T08:42:19.037878Z",
     "start_time": "2019-06-15T08:42:18.875638Z"
    },
    "scrolled": false
   },
   "outputs": [
    {
     "data": {
      "image/png": "[encoded data removed]",
      "text/plain": [
       "<Figure size 432x288 with 1 Axes>"
      ]
     },
     "metadata": {
      "needs_background": "light"
     },
     "output_type": "display_data"
    }
   ],
   "source": [
    "x = sim.block_times.cumsum()\n",
    "y = sim.hash_rates\n",
    "plt.plot(x,y)\n",
    "plt.show()"
   ]
  },
  {
   "cell_type": "markdown",
   "metadata": {},
   "source": [
    "#### Simulation with a small data set\n",
    "\n",
    "* Next, generate a small data set to estimate how long the simulation will take if we increase the number of iterations."
   ]
  },
  {
   "cell_type": "code",
   "execution_count": 7,
   "metadata": {
    "ExecuteTime": {
     "end_time": "2019-06-15T11:30:41.182118Z",
     "start_time": "2019-06-15T10:16:08.230382Z"
    }
   },
   "outputs": [],
   "source": [
    "# no price shock\n",
    "## takes 74 minutes\n",
    "\n",
    "num_iter = 1000\n",
    "price_shock = 0\n",
    "\n",
    "df_BTC = pd.DataFrame()\n",
    "df_BCH = pd.DataFrame()\n",
    "df_BTC_bdd = pd.DataFrame()\n",
    "df_BCH_bdd = pd.DataFrame()\n",
    "df_pseudoBCH = pd.DataFrame()\n",
    "df_DAA_4 = pd.DataFrame()\n",
    "\n",
    "for iter in range(num_iter):\n",
    "    prices = df_price.loc[:, 'iter_{}'.format(iter)]\n",
    "    exprvs = df_exprvs.loc[:, 'iter_{}'.format(iter)]\n",
    "    _ = pd.DataFrame()\n",
    "    _['iter_{}'.format(iter)] = sim.sim_BTC(prices=prices, exprvs=exprvs)\n",
    "    df_BTC = pd.concat([df_BTC, _], axis=1)\n",
    "\n",
    "    _ = pd.DataFrame()\n",
    "    _['iter_{}'.format(iter)] = sim.sim_BCH(prices=prices, exprvs=exprvs)\n",
    "    df_BCH = pd.concat([df_BCH, _], axis=1)\n",
    "\n",
    "    _ = pd.DataFrame()\n",
    "    _['iter_{}'.format(iter)] = sim.sim_BTC_bdd(prices=prices, exprvs=exprvs)\n",
    "    df_BTC_bdd = pd.concat([df_BTC_bdd, _], axis=1)\n",
    "\n",
    "    _ = pd.DataFrame()\n",
    "    _['iter_{}'.format(iter)] = sim.sim_BCH_bdd(prices=prices, exprvs=exprvs)\n",
    "    df_BCH_bdd = pd.concat([df_BCH_bdd, _], axis=1)\n",
    "\n",
    "    _ = pd.DataFrame()\n",
    "    _['iter_{}'.format(iter)] = sim.sim_pseudoBCH(prices=prices, exprvs=exprvs)\n",
    "    df_pseudoBCH = pd.concat([df_pseudoBCH, _], axis=1)\n",
    "    \n",
    "    _ = pd.DataFrame()\n",
    "    _['iter_{}'.format(iter)] = sim.sim_DAA_4(prices=prices, exprvs=exprvs)\n",
    "    df_DAA_4 = pd.concat([df_DAA_4, _], axis=1)\n",
    "    \n",
    "df_BTC.to_csv('/Volumes/Data/research/BDA/simulation/BTC_blocktime_ps{}.csv'.format(price_shock))\n",
    "df_BCH.to_csv('/Volumes/Data/research/BDA/simulation/BCH_blocktime_ps{}.csv'.format(price_shock))\n",
    "df_BTC_bdd.to_csv('/Volumes/Data/research/BDA/simulation/BTC_bdd_blocktime_ps{}.csv'.format(price_shock))\n",
    "df_BCH_bdd.to_csv('/Volumes/Data/research/BDA/simulation/BCH_bdd_blocktime_ps{}.csv'.format(price_shock))\n",
    "df_pseudoBCH.to_csv('/Volumes/Data/research/BDA/simulation/pseudoBCH_blocktime_ps{}.csv'.format(price_shock))\n",
    "df_DAA_4.to_csv('/Volumes/Data/research/BDA/simulation/DAA_4_blocktime_ps{}.csv'.format(price_shock))\n"
   ]
  },
  {
   "cell_type": "code",
   "execution_count": 8,
   "metadata": {
    "ExecuteTime": {
     "end_time": "2019-06-15T13:31:12.041007Z",
     "start_time": "2019-06-15T13:30:48.909733Z"
    }
   },
   "outputs": [],
   "source": [
    "df_BTC = pd.read_csv('/Volumes/Data/research/BDA/simulation/BTC_blocktime_ps0.csv', index_col=0)\n",
    "df_BCH = pd.read_csv('/Volumes/Data/research/BDA/simulation/BCH_blocktime_ps0.csv', index_col=0)\n",
    "df_BTC_bdd = pd.read_csv('/Volumes/Data/research/BDA/simulation/BTC_bdd_blocktime_ps0.csv', index_col=0)\n",
    "df_BCH_bdd = pd.read_csv('/Volumes/Data/research/BDA/simulation/BCH_bdd_blocktime_ps0.csv', index_col=0)\n",
    "df_pseudoBCH = pd.read_csv('/Volumes/Data/research/BDA/simulation/pseudoBCH_blocktime_ps0.csv', index_col=0)\n",
    "df_DAA_4 = pd.read_csv('/Volumes/Data/research/BDA/simulation/DAA_4_blocktime_ps0.csv', index_col=0)"
   ]
  },
  {
   "cell_type": "code",
   "execution_count": 70,
   "metadata": {
    "ExecuteTime": {
     "end_time": "2019-06-15T14:05:48.267927Z",
     "start_time": "2019-06-15T14:05:31.173864Z"
    }
   },
   "outputs": [
    {
     "name": "stdout",
     "output_type": "stream",
     "text": [
      "mean: 14.792, std: 21.472, >60: 1.0, >120: 0.911, >180: 0.644\n",
      "mean: 14.784, std: 21.419, >60: 1.0, >120: 0.911, >180: 0.644\n",
      "mean: 10.035, std: 10.223, >60: 1.0, >120: 0.194, >180: 0.001\n",
      "mean: 10.035, std: 10.223, >60: 1.0, >120: 0.194, >180: 0.001\n",
      "mean: 10.017, std: 10.203, >60: 1.0, >120: 0.185, >180: 0.0\n",
      "mean: 10.092, std: 10.311, >60: 1.0, >120: 0.224, >180: 0.004\n"
     ]
    }
   ],
   "source": [
    "for df in [df_BTC, df_BTC_bdd, df_BCH, df_BCH_bdd, df_pseudoBCH, df_DAA_4]:\n",
    "    mean, std, over60, over120, over180 = stats_fixed_path(df)\n",
    "    print('mean: {:.3f}, std: {:.3f}, >60: {}, >120: {}, >180: {}'.format(mean, std, over60, over120, over180))"
   ]
  },
  {
   "cell_type": "markdown",
   "metadata": {},
   "source": [
    "#### Visual comparison among different DAAs"
   ]
  },
  {
   "cell_type": "code",
   "execution_count": 4,
   "metadata": {
    "ExecuteTime": {
     "end_time": "2019-06-21T05:03:50.054066Z",
     "start_time": "2019-06-21T05:03:16.275954Z"
    }
   },
   "outputs": [],
   "source": [
    "# import data\n",
    "path = '../data/BTCdata_presim.csv'\n",
    "df = pd.read_csv(path)\n",
    "df['time'] = pd.to_datetime(df['time'])\n",
    "df = df.rename(columns={'blocktime': 'block_times', 'price': 'prices', 'probability of success /Eh': 'winning_rates'})\n",
    "#df.tail()\n",
    "\n",
    "df_exprvs = pd.read_csv('/Volumes/Data/research/BDA/simulation/sim_exprvs.csv')\n",
    "df_price = pd.read_csv('/Volumes/Data/research/BDA/simulation/sim_prices_ps=0.csv')"
   ]
  },
  {
   "cell_type": "code",
   "execution_count": 5,
   "metadata": {
    "ExecuteTime": {
     "end_time": "2019-06-21T05:04:11.216172Z",
     "start_time": "2019-06-21T05:04:10.370683Z"
    }
   },
   "outputs": [
    {
     "data": {
      "image/png": "[encoded data removed]",
      "text/plain": [
       "<Figure size 720x288 with 2 Axes>"
      ]
     },
     "metadata": {
      "needs_background": "light"
     },
     "output_type": "display_data"
    }
   ],
   "source": [
    "# 22, 482\n",
    "# 3, 6\n",
    "no_iter = 3\n",
    "\n",
    "prices = df_price.loc[:, 'iter_{}'.format(no_iter)]\n",
    "exprvs = df_exprvs.loc[:,'iter_{}'.format(no_iter)]\n",
    "\n",
    "sim_BTC = simulation(prev_data=df)\n",
    "sim_BTC.sim_BTC(prices=prices, exprvs=exprvs)\n",
    "\n",
    "mpl.pyplot.rcParams['figure.figsize'] = (10.0, 4.0)\n",
    "x = sim_BTC.block_times.cumsum()\n",
    "fig = plt.figure()\n",
    "ax1 = fig.add_subplot(1,2,1)\n",
    "ax1.plot(x, sim_BTC.winning_rates)\n",
    "ax1.set_title('Winning rate')\n",
    "ax1.set_ylim(0.00002, 0.0001)\n",
    "#ax1.tick_params(direction = \"inout\", length = 5)\n",
    "ax1.set_xticks(np.array([0,50000,100000]))\n",
    "ax2 = fig.add_subplot(1,2,2)\n",
    "ax2.plot(x, sim_BTC.prices)\n",
    "ax2.set_title('Price')\n",
    "plt.show()"
   ]
  },
  {
   "cell_type": "code",
   "execution_count": 6,
   "metadata": {
    "ExecuteTime": {
     "end_time": "2019-06-21T05:05:51.529996Z",
     "start_time": "2019-06-21T05:05:50.156635Z"
    }
   },
   "outputs": [
    {
     "data": {
      "text/plain": [
       "array([ 0.142,  9.027,  8.86 , ..., 24.216,  0.817, 30.432])"
      ]
     },
     "execution_count": 6,
     "metadata": {},
     "output_type": "execute_result"
    }
   ],
   "source": [
    "sim_BTC = simulation(prev_data=df)\n",
    "sim_BTC.sim_BTC(prices=prices, exprvs=exprvs)\n",
    "sim_BCH = simulation(prev_data=df)\n",
    "sim_BCH.sim_BCH(prices=prices, exprvs=exprvs)"
   ]
  },
  {
   "cell_type": "code",
   "execution_count": 7,
   "metadata": {
    "ExecuteTime": {
     "end_time": "2019-06-21T05:06:26.118555Z",
     "start_time": "2019-06-21T05:06:26.114431Z"
    }
   },
   "outputs": [
    {
     "name": "stdout",
     "output_type": "stream",
     "text": [
      "7703 12048\n"
     ]
    }
   ],
   "source": [
    "# the number of blocks created in the simulations\n",
    "print(sim_BTC.block_times.shape[0], sim_BCH.block_times.shape[0])"
   ]
  },
  {
   "cell_type": "markdown",
   "metadata": {},
   "source": [
    "* Below is Figure 6 in Section 6.2."
   ]
  },
  {
   "cell_type": "code",
   "execution_count": 19,
   "metadata": {
    "ExecuteTime": {
     "end_time": "2019-06-21T05:33:38.387804Z",
     "start_time": "2019-06-21T05:33:11.050952Z"
    }
   },
   "outputs": [
    {
     "data": {
      "image/png": "[encoded data removed]",
      "text/plain": [
       "<Figure size 720x288 with 2 Axes>"
      ]
     },
     "metadata": {
      "needs_background": "light"
     },
     "output_type": "display_data"
    }
   ],
   "source": [
    "mpl.pyplot.rcParams['figure.figsize'] = (10.0, 4.0)\n",
    "\n",
    "fig = plt.figure()\n",
    "time = np.arange(12096)*10/1440\n",
    "ax1 = fig.add_subplot(1,2,1)\n",
    "ax1.plot(time, prices[:12096])\n",
    "ax1.set_xlabel('time (day)')\n",
    "ax1.set_ylabel('Price (USD/BTC)')\n",
    "ax1.set_title('Price Shock')\n",
    "\n",
    "ax2 = fig.add_subplot(1,2,2)\n",
    "ax2.bar(np.arange(12048), exprvs[:12048])\n",
    "ax2.set_xlabel('Block number')\n",
    "ax2.set_ylabel('$\\delta(t) \\sim$ Exp(1)')\n",
    "ax2.set_title('Block Shock')\n",
    "ax2.axvline(x=7703, ls='--', color='magenta')\n",
    "plt.tight_layout()\n",
    "fig.align_labels()\n",
    "plt.show()"
   ]
  },
  {
   "cell_type": "code",
   "execution_count": 7,
   "metadata": {
    "ExecuteTime": {
     "end_time": "2019-06-19T20:30:50.228960Z",
     "start_time": "2019-06-19T20:30:48.901830Z"
    },
    "scrolled": true
   },
   "outputs": [
    {
     "data": {
      "text/plain": [
       "array([ 0.142,  9.027,  8.86 , ..., 24.216,  0.817, 30.432])"
      ]
     },
     "execution_count": 7,
     "metadata": {},
     "output_type": "execute_result"
    }
   ],
   "source": [
    "sim_BTC = simulation(prev_data=df)\n",
    "sim_BTC.sim_BTC(prices=prices, exprvs=exprvs)\n",
    "sim_BCH = simulation(prev_data=df)\n",
    "sim_BCH.sim_BCH(prices=prices, exprvs=exprvs)"
   ]
  },
  {
   "cell_type": "markdown",
   "metadata": {},
   "source": [
    "Given a price $S(t)$, we can compare the realized path with the optimal path.\n",
    "\n",
    "In order to obtain the optimal winning rate in period $t$, $W^*(t)$, we need to solve the following equasion with respect to $W^*(t)$.\n",
    "\n",
    "\\[\n",
    "W^*(t) \\cdot \\Phi(W^*(t) \\cdot M \\cdot S(t)) = 1/(60  B^*)\n",
    "\\]\n",
    ", where\n",
    "\\[\n",
    "\\Phi(R) = u \\cdot \\frac{1}{1 + \\exp(-s(R - c))}\n",
    "\\]\n",
    "Note that $B^*$ is multiplied by 60 in order for the unit of time to be second.\n",
    "\n",
    "\n",
    "The above equasion is equivalent to:\n",
    "\\[\n",
    "W^*(t) = \\frac{-\\frac{1}{s} \\log(W^*(t) \\cdot u \\cdot (60  B^*) - 1) + c}{M \\cdot S(t)} =: f(W^*(t))\n",
    "\\]\n",
    "\n",
    "Though the equasion cannot be solved explicitly, it can be solved numerically since $f$ is a contraction mapping on some interval."
   ]
  },
  {
   "cell_type": "markdown",
   "metadata": {},
   "source": [
    "* Below is Figure 7 in Sectino 6.2."
   ]
  },
  {
   "cell_type": "code",
   "execution_count": 22,
   "metadata": {
    "ExecuteTime": {
     "end_time": "2019-06-21T05:50:36.637737Z",
     "start_time": "2019-06-21T05:43:45.290187Z"
    }
   },
   "outputs": [
    {
     "data": {
      "image/png": "[encoded data removed]",
      "text/plain": [
       "<Figure size 1080x864 with 8 Axes>"
      ]
     },
     "metadata": {
      "needs_background": "light"
     },
     "output_type": "display_data"
    }
   ],
   "source": [
    "%autoreload\n",
    "import warnings\n",
    "warnings.filterwarnings('ignore')\n",
    "mpl.pyplot.rcParams['figure.figsize'] = (15.0, 12.0)\n",
    "\n",
    "sim_list = [sim_BTC, sim_BCH]\n",
    "title_list = ['DAA-1(2016)', 'DAA-2(144)']\n",
    "plot_paths_2(exprvs=exprvs, sim_list=sim_list, title_list=title_list)"
   ]
  },
  {
   "cell_type": "code",
   "execution_count": 15,
   "metadata": {
    "ExecuteTime": {
     "end_time": "2019-06-19T10:10:50.592085Z",
     "start_time": "2019-06-19T10:10:48.151170Z"
    }
   },
   "outputs": [],
   "source": [
    "# save the sample above as a csv\n",
    "df_sample_BTC = pd.DataFrame()\n",
    "df_sample_BTC['BTC_price'] = sim_BTC.prices\n",
    "df_sample_BTC['BTC_winning_rate'] = sim_BTC.winning_rates\n",
    "df_sample_BTC['BTC_blocktime'] = sim_BTC.block_times\n",
    "df_sample_BTC['BTC_reward'] = sim_BTC.prices * sim_BTC.winning_rates * 12.5\n",
    "df_sample_BTC['BTC_hash_rates'] = sim_BTC.hash_rates\n",
    "\n",
    "df_sample_BCH = pd.DataFrame()\n",
    "df_sample_BCH['BCH_price'] = sim_BCH.prices\n",
    "df_sample_BCH['BCH_winning_rate'] = sim_BCH.winning_rates\n",
    "df_sample_BCH['BCH_blocktime'] = sim_BCH.block_times\n",
    "df_sample_BCH['BCH_reward'] = sim_BCH.prices * sim_BCH.winning_rates * 12.5\n",
    "df_sample_BCH['BCH_hash_rates'] = sim_BCH.hash_rates\n",
    "\n",
    "dir_sim='/Volumes/Data/research/BDA/simulation/'\n",
    "df_sample_BTC.to_csv(dir_sim+'sample_path_BTC.csv', index=False)\n",
    "df_sample_BCH.to_csv(dir_sim+'sample_path_BCH.csv', index=False)"
   ]
  },
  {
   "cell_type": "markdown",
   "metadata": {},
   "source": [
    "### Experiment with a larger data set"
   ]
  },
  {
   "cell_type": "markdown",
   "metadata": {},
   "source": [
    "* Additionally generate simulation data.\n",
    "* We use the data with its sample size 5000."
   ]
  },
  {
   "cell_type": "code",
   "execution_count": 5,
   "metadata": {
    "ExecuteTime": {
     "end_time": "2019-06-16T04:38:20.655562Z",
     "start_time": "2019-06-16T04:13:36.833926Z"
    }
   },
   "outputs": [],
   "source": [
    "generate_price_paths(price_shock=0, num_iter=5000, filename='_5000obs')\n",
    "generate_exprvs(num_iter=5000, filename='_5000obs')\n",
    "#generate_price_paths(price_shock=2000, num_iter=5000, filename='_5000obs')"
   ]
  },
  {
   "cell_type": "code",
   "execution_count": 43,
   "metadata": {
    "ExecuteTime": {
     "end_time": "2019-06-20T10:09:19.963925Z",
     "start_time": "2019-06-20T10:09:19.949255Z"
    }
   },
   "outputs": [],
   "source": [
    "path = '../data/BTCdata_presim.csv'\n",
    "df = pd.read_csv(path)\n",
    "df['time'] = pd.to_datetime(df['time'])\n",
    "df = df.rename(columns={'blocktime': 'block_times', 'price': 'prices', 'probability of success /Eh': 'winning_rates'})\n",
    "#df.head()"
   ]
  },
  {
   "cell_type": "code",
   "execution_count": 8,
   "metadata": {
    "ExecuteTime": {
     "end_time": "2019-06-17T06:50:06.375610Z",
     "start_time": "2019-06-16T12:43:40.192533Z"
    },
    "scrolled": false
   },
   "outputs": [],
   "source": [
    "# takes 18 hours\n",
    "generate_simulation_data(num_iter=5000, prev_data=df)"
   ]
  },
  {
   "cell_type": "markdown",
   "metadata": {},
   "source": [
    "#### Statistics"
   ]
  },
  {
   "cell_type": "code",
   "execution_count": 19,
   "metadata": {
    "ExecuteTime": {
     "end_time": "2019-06-19T21:01:12.224743Z",
     "start_time": "2019-06-19T21:01:12.220404Z"
    }
   },
   "outputs": [],
   "source": [
    "dir_sim = '/Volumes/Data/research/BDA/simulation/'\n",
    "filelist = [dir_sim+'BTC_blocktime_ps0_5000obs.csv',\n",
    "            dir_sim+'BCH_blocktime_ps0_5000obs.csv',\n",
    "            dir_sim+'BTC_bdd_blocktime_ps0_5000obs.csv',\n",
    "            dir_sim+'BCH_bdd_blocktime_ps0_5000obs.csv',\n",
    "            dir_sim+'pseudoBCH_blocktime_ps0_5000obs.csv',\n",
    "            dir_sim+'DAA_4_blocktime_ps0_5000obs.csv',\n",
    "            dir_sim+'BTC_blocktime_ps2000_5000obs.csv',\n",
    "            dir_sim+'BCH_blocktime_ps2000_5000obs.csv',\n",
    "            dir_sim+'BTC_bdd_blocktime_ps2000_5000obs.csv',\n",
    "            dir_sim+'BCH_bdd_blocktime_ps2000_5000obs.csv',\n",
    "            dir_sim+'pseudoBCH_blocktime_ps2000_5000obs.csv',\n",
    "            dir_sim+'DAA_4_blocktime_ps2000_5000obs.csv'\n",
    "            ]"
   ]
  },
  {
   "cell_type": "code",
   "execution_count": 35,
   "metadata": {
    "ExecuteTime": {
     "end_time": "2019-06-19T21:19:31.204272Z",
     "start_time": "2019-06-19T21:10:51.810518Z"
    }
   },
   "outputs": [],
   "source": [
    "%autoreload\n",
    "df_stats = make_stats(filelist=filelist, dir_sim=dir_sim)"
   ]
  },
  {
   "cell_type": "markdown",
   "metadata": {},
   "source": [
    "* The table below corresponds to Table 2 in Section 6.3."
   ]
  },
  {
   "cell_type": "code",
   "execution_count": 36,
   "metadata": {
    "ExecuteTime": {
     "end_time": "2019-06-19T21:19:43.385561Z",
     "start_time": "2019-06-19T21:19:43.370077Z"
    }
   },
   "outputs": [
    {
     "data": {
      "text/html": [
       "<div>\n",
       "<style scoped>\n",
       "    .dataframe tbody tr th:only-of-type {\n",
       "        vertical-align: middle;\n",
       "    }\n",
       "\n",
       "    .dataframe tbody tr th {\n",
       "        vertical-align: top;\n",
       "    }\n",
       "\n",
       "    .dataframe thead th {\n",
       "        text-align: right;\n",
       "    }\n",
       "</style>\n",
       "<table border=\"1\" class=\"dataframe\">\n",
       "  <thead>\n",
       "    <tr style=\"text-align: right;\">\n",
       "      <th></th>\n",
       "      <th>BTC_blocktime_ps0_5000obs.csv</th>\n",
       "      <th>BCH_blocktime_ps0_5000obs.csv</th>\n",
       "      <th>BTC_bdd_blocktime_ps0_5000obs.csv</th>\n",
       "      <th>BCH_bdd_blocktime_ps0_5000obs.csv</th>\n",
       "      <th>pseudoBCH_blocktime_ps0_5000obs.csv</th>\n",
       "      <th>DAA_4_blocktime_ps0_5000obs.csv</th>\n",
       "      <th>BTC_blocktime_ps2000_5000obs.csv</th>\n",
       "      <th>BCH_blocktime_ps2000_5000obs.csv</th>\n",
       "      <th>BTC_bdd_blocktime_ps2000_5000obs.csv</th>\n",
       "      <th>BCH_bdd_blocktime_ps2000_5000obs.csv</th>\n",
       "      <th>pseudoBCH_blocktime_ps2000_5000obs.csv</th>\n",
       "      <th>DAA_4_blocktime_ps2000_5000obs.csv</th>\n",
       "    </tr>\n",
       "  </thead>\n",
       "  <tbody>\n",
       "    <tr>\n",
       "      <th>mean</th>\n",
       "      <td>14.044305</td>\n",
       "      <td>11.242365</td>\n",
       "      <td>14.042658</td>\n",
       "      <td>11.242365</td>\n",
       "      <td>11.226132</td>\n",
       "      <td>11.290592</td>\n",
       "      <td>77.352414</td>\n",
       "      <td>11.287808</td>\n",
       "      <td>77.060483</td>\n",
       "      <td>11.287808</td>\n",
       "      <td>11.262357</td>\n",
       "      <td>11.313835</td>\n",
       "    </tr>\n",
       "    <tr>\n",
       "      <th>std</th>\n",
       "      <td>18.139603</td>\n",
       "      <td>10.920091</td>\n",
       "      <td>18.112977</td>\n",
       "      <td>10.920091</td>\n",
       "      <td>10.901839</td>\n",
       "      <td>11.001274</td>\n",
       "      <td>108.690643</td>\n",
       "      <td>11.340362</td>\n",
       "      <td>105.508436</td>\n",
       "      <td>11.340362</td>\n",
       "      <td>11.314051</td>\n",
       "      <td>11.219285</td>\n",
       "    </tr>\n",
       "    <tr>\n",
       "      <th>over60</th>\n",
       "      <td>1.000000</td>\n",
       "      <td>1.000000</td>\n",
       "      <td>1.000000</td>\n",
       "      <td>1.000000</td>\n",
       "      <td>1.000000</td>\n",
       "      <td>1.000000</td>\n",
       "      <td>1.000000</td>\n",
       "      <td>1.000000</td>\n",
       "      <td>1.000000</td>\n",
       "      <td>1.000000</td>\n",
       "      <td>1.000000</td>\n",
       "      <td>1.000000</td>\n",
       "    </tr>\n",
       "    <tr>\n",
       "      <th>over120</th>\n",
       "      <td>0.850430</td>\n",
       "      <td>0.183763</td>\n",
       "      <td>0.850430</td>\n",
       "      <td>0.183763</td>\n",
       "      <td>0.178964</td>\n",
       "      <td>0.212158</td>\n",
       "      <td>1.000000</td>\n",
       "      <td>0.945411</td>\n",
       "      <td>1.000000</td>\n",
       "      <td>0.945411</td>\n",
       "      <td>0.943411</td>\n",
       "      <td>0.735653</td>\n",
       "    </tr>\n",
       "    <tr>\n",
       "      <th>over180</th>\n",
       "      <td>0.533693</td>\n",
       "      <td>0.002400</td>\n",
       "      <td>0.533693</td>\n",
       "      <td>0.002400</td>\n",
       "      <td>0.002000</td>\n",
       "      <td>0.002200</td>\n",
       "      <td>1.000000</td>\n",
       "      <td>0.551890</td>\n",
       "      <td>1.000000</td>\n",
       "      <td>0.551890</td>\n",
       "      <td>0.549090</td>\n",
       "      <td>0.281144</td>\n",
       "    </tr>\n",
       "  </tbody>\n",
       "</table>\n",
       "</div>"
      ],
      "text/plain": [
       "         BTC_blocktime_ps0_5000obs.csv  BCH_blocktime_ps0_5000obs.csv  \\\n",
       "mean                         14.044305                      11.242365   \n",
       "std                          18.139603                      10.920091   \n",
       "over60                        1.000000                       1.000000   \n",
       "over120                       0.850430                       0.183763   \n",
       "over180                       0.533693                       0.002400   \n",
       "\n",
       "         BTC_bdd_blocktime_ps0_5000obs.csv  BCH_bdd_blocktime_ps0_5000obs.csv  \\\n",
       "mean                             14.042658                          11.242365   \n",
       "std                              18.112977                          10.920091   \n",
       "over60                            1.000000                           1.000000   \n",
       "over120                           0.850430                           0.183763   \n",
       "over180                           0.533693                           0.002400   \n",
       "\n",
       "         pseudoBCH_blocktime_ps0_5000obs.csv  DAA_4_blocktime_ps0_5000obs.csv  \\\n",
       "mean                               11.226132                        11.290592   \n",
       "std                                10.901839                        11.001274   \n",
       "over60                              1.000000                         1.000000   \n",
       "over120                             0.178964                         0.212158   \n",
       "over180                             0.002000                         0.002200   \n",
       "\n",
       "         BTC_blocktime_ps2000_5000obs.csv  BCH_blocktime_ps2000_5000obs.csv  \\\n",
       "mean                            77.352414                         11.287808   \n",
       "std                            108.690643                         11.340362   \n",
       "over60                           1.000000                          1.000000   \n",
       "over120                          1.000000                          0.945411   \n",
       "over180                          1.000000                          0.551890   \n",
       "\n",
       "         BTC_bdd_blocktime_ps2000_5000obs.csv  \\\n",
       "mean                                77.060483   \n",
       "std                                105.508436   \n",
       "over60                               1.000000   \n",
       "over120                              1.000000   \n",
       "over180                              1.000000   \n",
       "\n",
       "         BCH_bdd_blocktime_ps2000_5000obs.csv  \\\n",
       "mean                                11.287808   \n",
       "std                                 11.340362   \n",
       "over60                               1.000000   \n",
       "over120                              0.945411   \n",
       "over180                              0.551890   \n",
       "\n",
       "         pseudoBCH_blocktime_ps2000_5000obs.csv  \\\n",
       "mean                                  11.262357   \n",
       "std                                   11.314051   \n",
       "over60                                 1.000000   \n",
       "over120                                0.943411   \n",
       "over180                                0.549090   \n",
       "\n",
       "         DAA_4_blocktime_ps2000_5000obs.csv  \n",
       "mean                              11.313835  \n",
       "std                               11.219285  \n",
       "over60                             1.000000  \n",
       "over120                            0.735653  \n",
       "over180                            0.281144  "
      ]
     },
     "execution_count": 36,
     "metadata": {},
     "output_type": "execute_result"
    }
   ],
   "source": [
    "df_stats"
   ]
  },
  {
   "cell_type": "code",
   "execution_count": 38,
   "metadata": {
    "ExecuteTime": {
     "end_time": "2019-06-19T21:21:30.840271Z",
     "start_time": "2019-06-19T21:21:30.834865Z"
    }
   },
   "outputs": [],
   "source": [
    "df_stats.to_csv(dir_sim+'stats_5000obs.csv')"
   ]
  },
  {
   "cell_type": "markdown",
   "metadata": {},
   "source": [
    "#### Compute optimal $w^*$"
   ]
  },
  {
   "cell_type": "markdown",
   "metadata": {},
   "source": [
    "* (i) the grid size of the interval from which the initial value $w_0$ is chosen and (ii) the tolerance affects whether the contraction mapping successfully converges or not.\n",
    "\n",
    "* For the moment, I choose `tol=1e-9` for (ii). (See the function `optimal_winning_rate` for details)"
   ]
  },
  {
   "cell_type": "markdown",
   "metadata": {},
   "source": [
    "**Strategy**\n",
    "\n",
    "* For $S \\in [0, 10000]$, compute 'optimal_winning_rate'(S) and store the results $(W^*(S))_S$ as 'optimal_winning_rates.csv'.\n",
    "\n",
    "* Compute $(W^*(S))_S$ with sufficiently fine grids; we can use it with interpolation."
   ]
  },
  {
   "cell_type": "code",
   "execution_count": 40,
   "metadata": {
    "ExecuteTime": {
     "end_time": "2019-06-30T08:00:27.399728Z",
     "start_time": "2019-06-30T07:31:47.185885Z"
    }
   },
   "outputs": [
    {
     "name": "stderr",
     "output_type": "stream",
     "text": [
      "../code/simulation_fixed_path.py:922: RuntimeWarning: invalid value encountered in log\n",
      "  \n"
     ]
    }
   ],
   "source": [
    "prices_7000_11000 = np.arange(7000, 11001, 50)\n",
    "res_7000_11000 = []\n",
    "for price in prices_7000_11000:\n",
    "    temp = optimal_winning_rate(price, W_init_low=1e-5, W_init_high=1e-4, W_grid=1e-11, tol=1e-9, num_iter=3000)\n",
    "    res_7000_11000.append(temp)\n",
    "res_7000_11000 = np.array(res_7000_11000)"
   ]
  },
  {
   "cell_type": "code",
   "execution_count": 45,
   "metadata": {
    "ExecuteTime": {
     "end_time": "2019-06-30T08:03:00.797909Z",
     "start_time": "2019-06-30T08:03:00.788316Z"
    }
   },
   "outputs": [
    {
     "data": {
      "text/plain": [
       "(138,)"
      ]
     },
     "execution_count": 45,
     "metadata": {},
     "output_type": "execute_result"
    }
   ],
   "source": [
    "_ = np.arange(100, 7000, 50)\n",
    "_.shape"
   ]
  },
  {
   "cell_type": "code",
   "execution_count": 46,
   "metadata": {
    "ExecuteTime": {
     "end_time": "2019-06-30T08:03:04.695418Z",
     "start_time": "2019-06-30T08:03:04.687184Z"
    }
   },
   "outputs": [
    {
     "data": {
      "text/plain": [
       "(219,)"
      ]
     },
     "execution_count": 46,
     "metadata": {},
     "output_type": "execute_result"
    }
   ],
   "source": [
    "res_ = np.hstack([res_under8000[:138], res_7000_11000])\n",
    "res_.shape"
   ]
  },
  {
   "cell_type": "code",
   "execution_count": 50,
   "metadata": {
    "ExecuteTime": {
     "end_time": "2019-06-30T08:13:37.546211Z",
     "start_time": "2019-06-30T08:06:23.449684Z"
    }
   },
   "outputs": [
    {
     "name": "stderr",
     "output_type": "stream",
     "text": [
      "../code/simulation_fixed_path.py:922: RuntimeWarning: invalid value encountered in log\n",
      "  \n"
     ]
    }
   ],
   "source": [
    "prices_6000_7000 = np.arange(6000, 7000, 50)\n",
    "res_6000_7000 = []\n",
    "for price in prices_6000_7000:\n",
    "    temp = optimal_winning_rate(price, W_init_low=1e-5, W_init_high=1e-4, W_grid=1e-11, tol=1e-9, num_iter=3000)\n",
    "    res_6000_7000.append(temp)\n",
    "res_6000_7000 = np.array(res_6000_7000)"
   ]
  },
  {
   "cell_type": "code",
   "execution_count": 51,
   "metadata": {
    "ExecuteTime": {
     "end_time": "2019-06-30T08:14:47.299692Z",
     "start_time": "2019-06-30T08:14:47.292715Z"
    }
   },
   "outputs": [
    {
     "data": {
      "text/plain": [
       "(101,)"
      ]
     },
     "execution_count": 51,
     "metadata": {},
     "output_type": "execute_result"
    }
   ],
   "source": [
    "res_6000_11000 = np.hstack([res_6000_7000, res_7000_11000])\n",
    "res_6000_11000.shape"
   ]
  },
  {
   "cell_type": "code",
   "execution_count": 54,
   "metadata": {
    "ExecuteTime": {
     "end_time": "2019-06-30T09:20:43.474375Z",
     "start_time": "2019-06-30T08:26:55.602492Z"
    }
   },
   "outputs": [],
   "source": [
    "prices_6000 = np.arange(100, 6000, 50)\n",
    "res_6000 = []\n",
    "for price in prices_6000:\n",
    "    temp = optimal_winning_rate(price, W_init_low=1e-5, W_init_high=1e-3, W_grid=1e-11, tol=1e-9, num_iter=3000)\n",
    "    res_6000.append(temp)\n",
    "res_6000 = np.array(res_6000)"
   ]
  },
  {
   "cell_type": "code",
   "execution_count": 63,
   "metadata": {
    "ExecuteTime": {
     "end_time": "2019-06-30T09:25:39.665053Z",
     "start_time": "2019-06-30T09:25:39.652539Z"
    }
   },
   "outputs": [
    {
     "data": {
      "text/html": [
       "<div>\n",
       "<style scoped>\n",
       "    .dataframe tbody tr th:only-of-type {\n",
       "        vertical-align: middle;\n",
       "    }\n",
       "\n",
       "    .dataframe tbody tr th {\n",
       "        vertical-align: top;\n",
       "    }\n",
       "\n",
       "    .dataframe thead th {\n",
       "        text-align: right;\n",
       "    }\n",
       "</style>\n",
       "<table border=\"1\" class=\"dataframe\">\n",
       "  <thead>\n",
       "    <tr style=\"text-align: right;\">\n",
       "      <th></th>\n",
       "      <th>opt_w</th>\n",
       "    </tr>\n",
       "  </thead>\n",
       "  <tbody>\n",
       "    <tr>\n",
       "      <th>100</th>\n",
       "      <td>0.000480</td>\n",
       "    </tr>\n",
       "    <tr>\n",
       "      <th>150</th>\n",
       "      <td>0.000370</td>\n",
       "    </tr>\n",
       "    <tr>\n",
       "      <th>200</th>\n",
       "      <td>0.000306</td>\n",
       "    </tr>\n",
       "    <tr>\n",
       "      <th>250</th>\n",
       "      <td>0.000263</td>\n",
       "    </tr>\n",
       "    <tr>\n",
       "      <th>300</th>\n",
       "      <td>0.000232</td>\n",
       "    </tr>\n",
       "  </tbody>\n",
       "</table>\n",
       "</div>"
      ],
      "text/plain": [
       "        opt_w\n",
       "100  0.000480\n",
       "150  0.000370\n",
       "200  0.000306\n",
       "250  0.000263\n",
       "300  0.000232"
      ]
     },
     "execution_count": 63,
     "metadata": {},
     "output_type": "execute_result"
    }
   ],
   "source": [
    "df_w = pd.DataFrame()\n",
    "df_w['opt_w'] =res\n",
    "df_w.index = np.arange(100, 11001, 50)\n",
    "df_w.head()"
   ]
  },
  {
   "cell_type": "code",
   "execution_count": 64,
   "metadata": {
    "ExecuteTime": {
     "end_time": "2019-06-30T09:26:07.449031Z",
     "start_time": "2019-06-30T09:26:07.299032Z"
    },
    "scrolled": true
   },
   "outputs": [
    {
     "data": {
      "image/png": "[encoded data removed]",
      "text/plain": [
       "<Figure size 432x288 with 1 Axes>"
      ]
     },
     "metadata": {
      "needs_background": "light"
     },
     "output_type": "display_data"
    }
   ],
   "source": [
    "plt.plot(df_w)\n",
    "plt.show()"
   ]
  },
  {
   "cell_type": "code",
   "execution_count": 69,
   "metadata": {
    "ExecuteTime": {
     "end_time": "2019-06-30T09:27:29.453286Z",
     "start_time": "2019-06-30T09:27:29.441465Z"
    }
   },
   "outputs": [
    {
     "data": {
      "text/plain": [
       "0.0004804473847941309"
      ]
     },
     "execution_count": 69,
     "metadata": {},
     "output_type": "execute_result"
    }
   ],
   "source": [
    "df_w.loc[100, 'opt_w']"
   ]
  },
  {
   "cell_type": "code",
   "execution_count": 71,
   "metadata": {
    "ExecuteTime": {
     "end_time": "2019-06-30T09:28:57.745915Z",
     "start_time": "2019-06-30T09:28:57.738809Z"
    }
   },
   "outputs": [],
   "source": [
    "dir_sim='/Volumes/Data/research/BDA/simulation/'\n",
    "df_w.to_csv(dir_sim+'opt_w.csv', index=True)"
   ]
  },
  {
   "cell_type": "markdown",
   "metadata": {},
   "source": [
    "## Appendix: Data Cleaning"
   ]
  },
  {
   "cell_type": "code",
   "execution_count": 9,
   "metadata": {
    "ExecuteTime": {
     "end_time": "2019-06-15T06:14:21.124196Z",
     "start_time": "2019-06-15T06:14:21.121296Z"
    }
   },
   "outputs": [],
   "source": [
    "# This is the same function defined in the notebook for empirical analysis\n",
    "def adjust_unixtime(raw_times):\n",
    "    '''\n",
    "    adjust block generation time.\n",
    "    Conduct linear interpolation if the order of time stamps are reversed.\n",
    "    \n",
    "    Parameters\n",
    "    ----------\n",
    "    raw_times:\n",
    "        pandas Series containing raw time stamps(unixtime)\n",
    "        The index should starts at zero.\n",
    "        \n",
    "    Returns\n",
    "    -------\n",
    "    times:\n",
    "        Adjusted time stamps.\n",
    "    '''\n",
    "    times = raw_times.copy()\n",
    "    for i in range(times.shape[0] - 1):\n",
    "        if times[i+1] - times[i] < 0:\n",
    "            count = 1\n",
    "            diff = -1\n",
    "            while diff < 0:\n",
    "                count += 1\n",
    "                diff = times[i+count] - times[i]\n",
    "            delta = times[i+count] - times[i]\n",
    "            for j in range(count-1):\n",
    "                times[i+j+1] = times[i] + (delta/count)*(j+1)\n",
    "\n",
    "    return times"
   ]
  },
  {
   "cell_type": "code",
   "execution_count": 3,
   "metadata": {
    "ExecuteTime": {
     "end_time": "2020-08-13T02:21:59.631514Z",
     "start_time": "2020-08-13T02:21:59.084706Z"
    }
   },
   "outputs": [],
   "source": [
    "path = '../data/BTCdata_2.csv'\n",
    "df_original = pd.read_csv(path, header=0)\n",
    "#df_original.head()"
   ]
  },
  {
   "cell_type": "code",
   "execution_count": 13,
   "metadata": {
    "ExecuteTime": {
     "end_time": "2019-06-15T06:15:50.824608Z",
     "start_time": "2019-06-15T06:15:47.946918Z"
    }
   },
   "outputs": [
    {
     "data": {
      "text/html": [
       "<div>\n",
       "<style scoped>\n",
       "    .dataframe tbody tr th:only-of-type {\n",
       "        vertical-align: middle;\n",
       "    }\n",
       "\n",
       "    .dataframe tbody tr th {\n",
       "        vertical-align: top;\n",
       "    }\n",
       "\n",
       "    .dataframe thead th {\n",
       "        text-align: right;\n",
       "    }\n",
       "</style>\n",
       "<table border=\"1\" class=\"dataframe\">\n",
       "  <thead>\n",
       "    <tr style=\"text-align: right;\">\n",
       "      <th></th>\n",
       "      <th>height</th>\n",
       "      <th>unixtime</th>\n",
       "      <th>price</th>\n",
       "      <th>probability of success /Eh</th>\n",
       "      <th>expected return (USD/Eh)</th>\n",
       "      <th>time</th>\n",
       "      <th>adjusted_unixtime</th>\n",
       "      <th>adjusted_blocktime</th>\n",
       "    </tr>\n",
       "  </thead>\n",
       "  <tbody>\n",
       "    <tr>\n",
       "      <th>0</th>\n",
       "      <td>450001</td>\n",
       "      <td>1485382343</td>\n",
       "      <td>895.44</td>\n",
       "      <td>0.000593</td>\n",
       "      <td>6.935004</td>\n",
       "      <td>2017-01-25 22:12:23</td>\n",
       "      <td>1485382343</td>\n",
       "      <td>NaN</td>\n",
       "    </tr>\n",
       "    <tr>\n",
       "      <th>1</th>\n",
       "      <td>450002</td>\n",
       "      <td>1485383957</td>\n",
       "      <td>894.97</td>\n",
       "      <td>0.000593</td>\n",
       "      <td>7.424957</td>\n",
       "      <td>2017-01-25 22:39:17</td>\n",
       "      <td>1485383957</td>\n",
       "      <td>26.900000</td>\n",
       "    </tr>\n",
       "    <tr>\n",
       "      <th>2</th>\n",
       "      <td>450003</td>\n",
       "      <td>1485384299</td>\n",
       "      <td>894.97</td>\n",
       "      <td>0.000593</td>\n",
       "      <td>7.184180</td>\n",
       "      <td>2017-01-25 22:44:59</td>\n",
       "      <td>1485384299</td>\n",
       "      <td>5.700000</td>\n",
       "    </tr>\n",
       "    <tr>\n",
       "      <th>3</th>\n",
       "      <td>450004</td>\n",
       "      <td>1485384419</td>\n",
       "      <td>894.97</td>\n",
       "      <td>0.000593</td>\n",
       "      <td>7.025926</td>\n",
       "      <td>2017-01-25 22:46:59</td>\n",
       "      <td>1485384419</td>\n",
       "      <td>2.000000</td>\n",
       "    </tr>\n",
       "    <tr>\n",
       "      <th>4</th>\n",
       "      <td>450005</td>\n",
       "      <td>1485384847</td>\n",
       "      <td>894.97</td>\n",
       "      <td>0.000593</td>\n",
       "      <td>7.086069</td>\n",
       "      <td>2017-01-25 22:54:07</td>\n",
       "      <td>1485384847</td>\n",
       "      <td>7.133333</td>\n",
       "    </tr>\n",
       "  </tbody>\n",
       "</table>\n",
       "</div>"
      ],
      "text/plain": [
       "   height    unixtime   price  probability of success /Eh  \\\n",
       "0  450001  1485382343  895.44                    0.000593   \n",
       "1  450002  1485383957  894.97                    0.000593   \n",
       "2  450003  1485384299  894.97                    0.000593   \n",
       "3  450004  1485384419  894.97                    0.000593   \n",
       "4  450005  1485384847  894.97                    0.000593   \n",
       "\n",
       "   expected return (USD/Eh)                time  adjusted_unixtime  \\\n",
       "0                  6.935004 2017-01-25 22:12:23         1485382343   \n",
       "1                  7.424957 2017-01-25 22:39:17         1485383957   \n",
       "2                  7.184180 2017-01-25 22:44:59         1485384299   \n",
       "3                  7.025926 2017-01-25 22:46:59         1485384419   \n",
       "4                  7.086069 2017-01-25 22:54:07         1485384847   \n",
       "\n",
       "   adjusted_blocktime  \n",
       "0                 NaN  \n",
       "1           26.900000  \n",
       "2            5.700000  \n",
       "3            2.000000  \n",
       "4            7.133333  "
      ]
     },
     "execution_count": 13,
     "metadata": {},
     "output_type": "execute_result"
    }
   ],
   "source": [
    "columns = ['height', 'unixtime_precise', 'Close', 'probability of success /Eh', 'expected return (USD/Eh)']\n",
    "df = df_original.loc[:, columns]\n",
    "df['time'] = pd.to_datetime(df['unixtime_precise'].astype(int), unit='s')\n",
    "name_dict = {'unixtime_precise':'unixtime', 'Close':'price'}\n",
    "df = df.rename(columns=name_dict)\n",
    "#df.head()\n",
    "\n",
    "df['adjusted_unixtime'] = adjust_unixtime(df['unixtime'])\n",
    "df['adjusted_blocktime'] = df['adjusted_unixtime'].diff()/60.0\n",
    "df.head()"
   ]
  },
  {
   "cell_type": "code",
   "execution_count": 14,
   "metadata": {
    "ExecuteTime": {
     "end_time": "2019-06-15T06:16:55.503716Z",
     "start_time": "2019-06-15T06:16:54.145529Z"
    }
   },
   "outputs": [],
   "source": [
    "df.to_csv('../data/BTCdata_timeadjusted.csv', index=False)"
   ]
  },
  {
   "cell_type": "code",
   "execution_count": 15,
   "metadata": {
    "ExecuteTime": {
     "end_time": "2019-06-15T06:17:55.215165Z",
     "start_time": "2019-06-15T06:17:55.198998Z"
    }
   },
   "outputs": [
    {
     "data": {
      "text/html": [
       "<div>\n",
       "<style scoped>\n",
       "    .dataframe tbody tr th:only-of-type {\n",
       "        vertical-align: middle;\n",
       "    }\n",
       "\n",
       "    .dataframe tbody tr th {\n",
       "        vertical-align: top;\n",
       "    }\n",
       "\n",
       "    .dataframe thead th {\n",
       "        text-align: right;\n",
       "    }\n",
       "</style>\n",
       "<table border=\"1\" class=\"dataframe\">\n",
       "  <thead>\n",
       "    <tr style=\"text-align: right;\">\n",
       "      <th></th>\n",
       "      <th>height</th>\n",
       "      <th>unixtime</th>\n",
       "      <th>price</th>\n",
       "      <th>probability of success /Eh</th>\n",
       "      <th>expected return (USD/Eh)</th>\n",
       "      <th>time</th>\n",
       "      <th>adjusted_unixtime</th>\n",
       "      <th>adjusted_blocktime</th>\n",
       "    </tr>\n",
       "  </thead>\n",
       "  <tbody>\n",
       "    <tr>\n",
       "      <th>0</th>\n",
       "      <td>450001</td>\n",
       "      <td>1485382343</td>\n",
       "      <td>895.44</td>\n",
       "      <td>0.000593</td>\n",
       "      <td>6.935004</td>\n",
       "      <td>2017-01-25 22:12:23</td>\n",
       "      <td>1485382343</td>\n",
       "      <td>NaN</td>\n",
       "    </tr>\n",
       "    <tr>\n",
       "      <th>1</th>\n",
       "      <td>450002</td>\n",
       "      <td>1485383957</td>\n",
       "      <td>894.97</td>\n",
       "      <td>0.000593</td>\n",
       "      <td>7.424957</td>\n",
       "      <td>2017-01-25 22:39:17</td>\n",
       "      <td>1485383957</td>\n",
       "      <td>26.900000</td>\n",
       "    </tr>\n",
       "    <tr>\n",
       "      <th>2</th>\n",
       "      <td>450003</td>\n",
       "      <td>1485384299</td>\n",
       "      <td>894.97</td>\n",
       "      <td>0.000593</td>\n",
       "      <td>7.184180</td>\n",
       "      <td>2017-01-25 22:44:59</td>\n",
       "      <td>1485384299</td>\n",
       "      <td>5.700000</td>\n",
       "    </tr>\n",
       "    <tr>\n",
       "      <th>3</th>\n",
       "      <td>450004</td>\n",
       "      <td>1485384419</td>\n",
       "      <td>894.97</td>\n",
       "      <td>0.000593</td>\n",
       "      <td>7.025926</td>\n",
       "      <td>2017-01-25 22:46:59</td>\n",
       "      <td>1485384419</td>\n",
       "      <td>2.000000</td>\n",
       "    </tr>\n",
       "    <tr>\n",
       "      <th>4</th>\n",
       "      <td>450005</td>\n",
       "      <td>1485384847</td>\n",
       "      <td>894.97</td>\n",
       "      <td>0.000593</td>\n",
       "      <td>7.086069</td>\n",
       "      <td>2017-01-25 22:54:07</td>\n",
       "      <td>1485384847</td>\n",
       "      <td>7.133333</td>\n",
       "    </tr>\n",
       "  </tbody>\n",
       "</table>\n",
       "</div>"
      ],
      "text/plain": [
       "   height    unixtime   price  probability of success /Eh  \\\n",
       "0  450001  1485382343  895.44                    0.000593   \n",
       "1  450002  1485383957  894.97                    0.000593   \n",
       "2  450003  1485384299  894.97                    0.000593   \n",
       "3  450004  1485384419  894.97                    0.000593   \n",
       "4  450005  1485384847  894.97                    0.000593   \n",
       "\n",
       "   expected return (USD/Eh)                time  adjusted_unixtime  \\\n",
       "0                  6.935004 2017-01-25 22:12:23         1485382343   \n",
       "1                  7.424957 2017-01-25 22:39:17         1485383957   \n",
       "2                  7.184180 2017-01-25 22:44:59         1485384299   \n",
       "3                  7.025926 2017-01-25 22:46:59         1485384419   \n",
       "4                  7.086069 2017-01-25 22:54:07         1485384847   \n",
       "\n",
       "   adjusted_blocktime  \n",
       "0                 NaN  \n",
       "1           26.900000  \n",
       "2            5.700000  \n",
       "3            2.000000  \n",
       "4            7.133333  "
      ]
     },
     "execution_count": 15,
     "metadata": {},
     "output_type": "execute_result"
    }
   ],
   "source": [
    "df.head()"
   ]
  },
  {
   "cell_type": "code",
   "execution_count": 16,
   "metadata": {
    "ExecuteTime": {
     "end_time": "2019-06-15T06:19:24.085217Z",
     "start_time": "2019-06-15T06:19:24.067772Z"
    }
   },
   "outputs": [
    {
     "data": {
      "text/html": [
       "<div>\n",
       "<style scoped>\n",
       "    .dataframe tbody tr th:only-of-type {\n",
       "        vertical-align: middle;\n",
       "    }\n",
       "\n",
       "    .dataframe tbody tr th {\n",
       "        vertical-align: top;\n",
       "    }\n",
       "\n",
       "    .dataframe thead th {\n",
       "        text-align: right;\n",
       "    }\n",
       "</style>\n",
       "<table border=\"1\" class=\"dataframe\">\n",
       "  <thead>\n",
       "    <tr style=\"text-align: right;\">\n",
       "      <th></th>\n",
       "      <th>height</th>\n",
       "      <th>unixtime</th>\n",
       "      <th>price</th>\n",
       "      <th>probability of success /Eh</th>\n",
       "      <th>expected return (USD/Eh)</th>\n",
       "      <th>time</th>\n",
       "      <th>adjusted_unixtime</th>\n",
       "      <th>adjusted_blocktime</th>\n",
       "      <th>adjusted_time</th>\n",
       "    </tr>\n",
       "  </thead>\n",
       "  <tbody>\n",
       "    <tr>\n",
       "      <th>0</th>\n",
       "      <td>450001</td>\n",
       "      <td>1485382343</td>\n",
       "      <td>895.44</td>\n",
       "      <td>0.000593</td>\n",
       "      <td>6.935004</td>\n",
       "      <td>2017-01-25 22:12:23</td>\n",
       "      <td>1485382343</td>\n",
       "      <td>NaN</td>\n",
       "      <td>2017-01-25 22:12:23</td>\n",
       "    </tr>\n",
       "    <tr>\n",
       "      <th>1</th>\n",
       "      <td>450002</td>\n",
       "      <td>1485383957</td>\n",
       "      <td>894.97</td>\n",
       "      <td>0.000593</td>\n",
       "      <td>7.424957</td>\n",
       "      <td>2017-01-25 22:39:17</td>\n",
       "      <td>1485383957</td>\n",
       "      <td>26.900000</td>\n",
       "      <td>2017-01-25 22:39:17</td>\n",
       "    </tr>\n",
       "    <tr>\n",
       "      <th>2</th>\n",
       "      <td>450003</td>\n",
       "      <td>1485384299</td>\n",
       "      <td>894.97</td>\n",
       "      <td>0.000593</td>\n",
       "      <td>7.184180</td>\n",
       "      <td>2017-01-25 22:44:59</td>\n",
       "      <td>1485384299</td>\n",
       "      <td>5.700000</td>\n",
       "      <td>2017-01-25 22:44:59</td>\n",
       "    </tr>\n",
       "    <tr>\n",
       "      <th>3</th>\n",
       "      <td>450004</td>\n",
       "      <td>1485384419</td>\n",
       "      <td>894.97</td>\n",
       "      <td>0.000593</td>\n",
       "      <td>7.025926</td>\n",
       "      <td>2017-01-25 22:46:59</td>\n",
       "      <td>1485384419</td>\n",
       "      <td>2.000000</td>\n",
       "      <td>2017-01-25 22:46:59</td>\n",
       "    </tr>\n",
       "    <tr>\n",
       "      <th>4</th>\n",
       "      <td>450005</td>\n",
       "      <td>1485384847</td>\n",
       "      <td>894.97</td>\n",
       "      <td>0.000593</td>\n",
       "      <td>7.086069</td>\n",
       "      <td>2017-01-25 22:54:07</td>\n",
       "      <td>1485384847</td>\n",
       "      <td>7.133333</td>\n",
       "      <td>2017-01-25 22:54:07</td>\n",
       "    </tr>\n",
       "  </tbody>\n",
       "</table>\n",
       "</div>"
      ],
      "text/plain": [
       "   height    unixtime   price  probability of success /Eh  \\\n",
       "0  450001  1485382343  895.44                    0.000593   \n",
       "1  450002  1485383957  894.97                    0.000593   \n",
       "2  450003  1485384299  894.97                    0.000593   \n",
       "3  450004  1485384419  894.97                    0.000593   \n",
       "4  450005  1485384847  894.97                    0.000593   \n",
       "\n",
       "   expected return (USD/Eh)                time  adjusted_unixtime  \\\n",
       "0                  6.935004 2017-01-25 22:12:23         1485382343   \n",
       "1                  7.424957 2017-01-25 22:39:17         1485383957   \n",
       "2                  7.184180 2017-01-25 22:44:59         1485384299   \n",
       "3                  7.025926 2017-01-25 22:46:59         1485384419   \n",
       "4                  7.086069 2017-01-25 22:54:07         1485384847   \n",
       "\n",
       "   adjusted_blocktime       adjusted_time  \n",
       "0                 NaN 2017-01-25 22:12:23  \n",
       "1           26.900000 2017-01-25 22:39:17  \n",
       "2            5.700000 2017-01-25 22:44:59  \n",
       "3            2.000000 2017-01-25 22:46:59  \n",
       "4            7.133333 2017-01-25 22:54:07  "
      ]
     },
     "execution_count": 16,
     "metadata": {},
     "output_type": "execute_result"
    }
   ],
   "source": [
    "df['adjusted_time'] = pd.to_datetime(df['adjusted_unixtime'].astype(int), unit='s')\n",
    "df.head()"
   ]
  },
  {
   "cell_type": "code",
   "execution_count": 17,
   "metadata": {
    "ExecuteTime": {
     "end_time": "2019-06-15T06:21:03.291529Z",
     "start_time": "2019-06-15T06:21:03.266386Z"
    }
   },
   "outputs": [],
   "source": [
    "df_2018OctDec = df[(df['adjusted_time'] >= datetime(2018,10,1)) & (df['adjusted_time'] <= datetime(2019,1,1))]\n",
    "df_2018OctDec = df_2018OctDec.reset_index(drop=True)"
   ]
  },
  {
   "cell_type": "code",
   "execution_count": 18,
   "metadata": {
    "ExecuteTime": {
     "end_time": "2019-06-15T06:21:06.948305Z",
     "start_time": "2019-06-15T06:21:06.926568Z"
    },
    "scrolled": true
   },
   "outputs": [
    {
     "data": {
      "text/html": [
       "<div>\n",
       "<style scoped>\n",
       "    .dataframe tbody tr th:only-of-type {\n",
       "        vertical-align: middle;\n",
       "    }\n",
       "\n",
       "    .dataframe tbody tr th {\n",
       "        vertical-align: top;\n",
       "    }\n",
       "\n",
       "    .dataframe thead th {\n",
       "        text-align: right;\n",
       "    }\n",
       "</style>\n",
       "<table border=\"1\" class=\"dataframe\">\n",
       "  <thead>\n",
       "    <tr style=\"text-align: right;\">\n",
       "      <th></th>\n",
       "      <th>height</th>\n",
       "      <th>unixtime</th>\n",
       "      <th>price</th>\n",
       "      <th>probability of success /Eh</th>\n",
       "      <th>expected return (USD/Eh)</th>\n",
       "      <th>time</th>\n",
       "      <th>adjusted_unixtime</th>\n",
       "      <th>adjusted_blocktime</th>\n",
       "      <th>adjusted_time</th>\n",
       "    </tr>\n",
       "  </thead>\n",
       "  <tbody>\n",
       "    <tr>\n",
       "      <th>0</th>\n",
       "      <td>543835</td>\n",
       "      <td>1538352272</td>\n",
       "      <td>6621.3</td>\n",
       "      <td>0.000033</td>\n",
       "      <td>2.720620</td>\n",
       "      <td>2018-10-01 00:04:32</td>\n",
       "      <td>1538352272</td>\n",
       "      <td>18.633333</td>\n",
       "      <td>2018-10-01 00:04:32</td>\n",
       "    </tr>\n",
       "    <tr>\n",
       "      <th>1</th>\n",
       "      <td>543836</td>\n",
       "      <td>1538352799</td>\n",
       "      <td>6621.3</td>\n",
       "      <td>0.000033</td>\n",
       "      <td>2.711797</td>\n",
       "      <td>2018-10-01 00:13:19</td>\n",
       "      <td>1538352799</td>\n",
       "      <td>8.783333</td>\n",
       "      <td>2018-10-01 00:13:19</td>\n",
       "    </tr>\n",
       "    <tr>\n",
       "      <th>2</th>\n",
       "      <td>543837</td>\n",
       "      <td>1538352841</td>\n",
       "      <td>6621.3</td>\n",
       "      <td>0.000033</td>\n",
       "      <td>2.694189</td>\n",
       "      <td>2018-10-01 00:14:01</td>\n",
       "      <td>1538352841</td>\n",
       "      <td>0.700000</td>\n",
       "      <td>2018-10-01 00:14:01</td>\n",
       "    </tr>\n",
       "    <tr>\n",
       "      <th>3</th>\n",
       "      <td>543838</td>\n",
       "      <td>1538352940</td>\n",
       "      <td>6621.3</td>\n",
       "      <td>0.000033</td>\n",
       "      <td>2.697526</td>\n",
       "      <td>2018-10-01 00:15:40</td>\n",
       "      <td>1538352940</td>\n",
       "      <td>1.650000</td>\n",
       "      <td>2018-10-01 00:15:40</td>\n",
       "    </tr>\n",
       "    <tr>\n",
       "      <th>4</th>\n",
       "      <td>543839</td>\n",
       "      <td>1538353463</td>\n",
       "      <td>6621.3</td>\n",
       "      <td>0.000033</td>\n",
       "      <td>2.714195</td>\n",
       "      <td>2018-10-01 00:24:23</td>\n",
       "      <td>1538353463</td>\n",
       "      <td>8.716667</td>\n",
       "      <td>2018-10-01 00:24:23</td>\n",
       "    </tr>\n",
       "  </tbody>\n",
       "</table>\n",
       "</div>"
      ],
      "text/plain": [
       "   height    unixtime   price  probability of success /Eh  \\\n",
       "0  543835  1538352272  6621.3                    0.000033   \n",
       "1  543836  1538352799  6621.3                    0.000033   \n",
       "2  543837  1538352841  6621.3                    0.000033   \n",
       "3  543838  1538352940  6621.3                    0.000033   \n",
       "4  543839  1538353463  6621.3                    0.000033   \n",
       "\n",
       "   expected return (USD/Eh)                time  adjusted_unixtime  \\\n",
       "0                  2.720620 2018-10-01 00:04:32         1538352272   \n",
       "1                  2.711797 2018-10-01 00:13:19         1538352799   \n",
       "2                  2.694189 2018-10-01 00:14:01         1538352841   \n",
       "3                  2.697526 2018-10-01 00:15:40         1538352940   \n",
       "4                  2.714195 2018-10-01 00:24:23         1538353463   \n",
       "\n",
       "   adjusted_blocktime       adjusted_time  \n",
       "0           18.633333 2018-10-01 00:04:32  \n",
       "1            8.783333 2018-10-01 00:13:19  \n",
       "2            0.700000 2018-10-01 00:14:01  \n",
       "3            1.650000 2018-10-01 00:15:40  \n",
       "4            8.716667 2018-10-01 00:24:23  "
      ]
     },
     "execution_count": 18,
     "metadata": {},
     "output_type": "execute_result"
    }
   ],
   "source": [
    "df_2018OctDec.head()"
   ]
  },
  {
   "cell_type": "code",
   "execution_count": 19,
   "metadata": {
    "ExecuteTime": {
     "end_time": "2019-06-15T06:21:14.419486Z",
     "start_time": "2019-06-15T06:21:14.406254Z"
    }
   },
   "outputs": [
    {
     "data": {
      "text/html": [
       "<div>\n",
       "<style scoped>\n",
       "    .dataframe tbody tr th:only-of-type {\n",
       "        vertical-align: middle;\n",
       "    }\n",
       "\n",
       "    .dataframe tbody tr th {\n",
       "        vertical-align: top;\n",
       "    }\n",
       "\n",
       "    .dataframe thead th {\n",
       "        text-align: right;\n",
       "    }\n",
       "</style>\n",
       "<table border=\"1\" class=\"dataframe\">\n",
       "  <thead>\n",
       "    <tr style=\"text-align: right;\">\n",
       "      <th></th>\n",
       "      <th>height</th>\n",
       "      <th>unixtime</th>\n",
       "      <th>price</th>\n",
       "      <th>probability of success /Eh</th>\n",
       "      <th>expected return (USD/Eh)</th>\n",
       "      <th>time</th>\n",
       "      <th>adjusted_unixtime</th>\n",
       "      <th>adjusted_blocktime</th>\n",
       "      <th>adjusted_time</th>\n",
       "    </tr>\n",
       "  </thead>\n",
       "  <tbody>\n",
       "    <tr>\n",
       "      <th>12619</th>\n",
       "      <td>556454</td>\n",
       "      <td>1546298203</td>\n",
       "      <td>3692.35</td>\n",
       "      <td>0.000041</td>\n",
       "      <td>1.918427</td>\n",
       "      <td>2018-12-31 23:16:43</td>\n",
       "      <td>1546298203</td>\n",
       "      <td>4.900000</td>\n",
       "      <td>2018-12-31 23:16:43</td>\n",
       "    </tr>\n",
       "    <tr>\n",
       "      <th>12620</th>\n",
       "      <td>556455</td>\n",
       "      <td>1546299695</td>\n",
       "      <td>3696.16</td>\n",
       "      <td>0.000041</td>\n",
       "      <td>1.934937</td>\n",
       "      <td>2018-12-31 23:41:35</td>\n",
       "      <td>1546299695</td>\n",
       "      <td>24.866667</td>\n",
       "      <td>2018-12-31 23:41:35</td>\n",
       "    </tr>\n",
       "    <tr>\n",
       "      <th>12621</th>\n",
       "      <td>556456</td>\n",
       "      <td>1546299762</td>\n",
       "      <td>3696.16</td>\n",
       "      <td>0.000041</td>\n",
       "      <td>1.917165</td>\n",
       "      <td>2018-12-31 23:42:42</td>\n",
       "      <td>1546299762</td>\n",
       "      <td>1.116667</td>\n",
       "      <td>2018-12-31 23:42:42</td>\n",
       "    </tr>\n",
       "    <tr>\n",
       "      <th>12622</th>\n",
       "      <td>556457</td>\n",
       "      <td>1546300239</td>\n",
       "      <td>3696.16</td>\n",
       "      <td>0.000041</td>\n",
       "      <td>1.920990</td>\n",
       "      <td>2018-12-31 23:50:39</td>\n",
       "      <td>1546300239</td>\n",
       "      <td>7.950000</td>\n",
       "      <td>2018-12-31 23:50:39</td>\n",
       "    </tr>\n",
       "    <tr>\n",
       "      <th>12623</th>\n",
       "      <td>556458</td>\n",
       "      <td>1546300592</td>\n",
       "      <td>3696.16</td>\n",
       "      <td>0.000041</td>\n",
       "      <td>1.918471</td>\n",
       "      <td>2018-12-31 23:56:32</td>\n",
       "      <td>1546300592</td>\n",
       "      <td>5.883333</td>\n",
       "      <td>2018-12-31 23:56:32</td>\n",
       "    </tr>\n",
       "  </tbody>\n",
       "</table>\n",
       "</div>"
      ],
      "text/plain": [
       "       height    unixtime    price  probability of success /Eh  \\\n",
       "12619  556454  1546298203  3692.35                    0.000041   \n",
       "12620  556455  1546299695  3696.16                    0.000041   \n",
       "12621  556456  1546299762  3696.16                    0.000041   \n",
       "12622  556457  1546300239  3696.16                    0.000041   \n",
       "12623  556458  1546300592  3696.16                    0.000041   \n",
       "\n",
       "       expected return (USD/Eh)                time  adjusted_unixtime  \\\n",
       "12619                  1.918427 2018-12-31 23:16:43         1546298203   \n",
       "12620                  1.934937 2018-12-31 23:41:35         1546299695   \n",
       "12621                  1.917165 2018-12-31 23:42:42         1546299762   \n",
       "12622                  1.920990 2018-12-31 23:50:39         1546300239   \n",
       "12623                  1.918471 2018-12-31 23:56:32         1546300592   \n",
       "\n",
       "       adjusted_blocktime       adjusted_time  \n",
       "12619            4.900000 2018-12-31 23:16:43  \n",
       "12620           24.866667 2018-12-31 23:41:35  \n",
       "12621            1.116667 2018-12-31 23:42:42  \n",
       "12622            7.950000 2018-12-31 23:50:39  \n",
       "12623            5.883333 2018-12-31 23:56:32  "
      ]
     },
     "execution_count": 19,
     "metadata": {},
     "output_type": "execute_result"
    }
   ],
   "source": [
    "df_2018OctDec.tail()"
   ]
  },
  {
   "cell_type": "code",
   "execution_count": 20,
   "metadata": {
    "ExecuteTime": {
     "end_time": "2019-06-15T06:22:01.730702Z",
     "start_time": "2019-06-15T06:22:01.549019Z"
    }
   },
   "outputs": [],
   "source": [
    "df_2018OctDec.to_csv('../data/BTCdata_2018OctDec.csv', index=False)"
   ]
  },
  {
   "cell_type": "code",
   "execution_count": 6,
   "metadata": {
    "ExecuteTime": {
     "end_time": "2019-06-16T08:36:10.448280Z",
     "start_time": "2019-06-16T08:36:10.397173Z"
    }
   },
   "outputs": [
    {
     "data": {
      "text/html": [
       "<div>\n",
       "<style scoped>\n",
       "    .dataframe tbody tr th:only-of-type {\n",
       "        vertical-align: middle;\n",
       "    }\n",
       "\n",
       "    .dataframe tbody tr th {\n",
       "        vertical-align: top;\n",
       "    }\n",
       "\n",
       "    .dataframe thead th {\n",
       "        text-align: right;\n",
       "    }\n",
       "</style>\n",
       "<table border=\"1\" class=\"dataframe\">\n",
       "  <thead>\n",
       "    <tr style=\"text-align: right;\">\n",
       "      <th></th>\n",
       "      <th>height</th>\n",
       "      <th>unixtime</th>\n",
       "      <th>price</th>\n",
       "      <th>probability of success /Eh</th>\n",
       "      <th>expected return (USD/Eh)</th>\n",
       "      <th>time</th>\n",
       "      <th>adjusted_unixtime</th>\n",
       "      <th>adjusted_blocktime</th>\n",
       "      <th>adjusted_time</th>\n",
       "    </tr>\n",
       "  </thead>\n",
       "  <tbody>\n",
       "    <tr>\n",
       "      <th>0</th>\n",
       "      <td>543835</td>\n",
       "      <td>1538352272</td>\n",
       "      <td>6621.3</td>\n",
       "      <td>0.000033</td>\n",
       "      <td>2.720620</td>\n",
       "      <td>2018-10-01 00:04:32</td>\n",
       "      <td>1538352272</td>\n",
       "      <td>18.633333</td>\n",
       "      <td>2018-10-01 00:04:32</td>\n",
       "    </tr>\n",
       "    <tr>\n",
       "      <th>1</th>\n",
       "      <td>543836</td>\n",
       "      <td>1538352799</td>\n",
       "      <td>6621.3</td>\n",
       "      <td>0.000033</td>\n",
       "      <td>2.711797</td>\n",
       "      <td>2018-10-01 00:13:19</td>\n",
       "      <td>1538352799</td>\n",
       "      <td>8.783333</td>\n",
       "      <td>2018-10-01 00:13:19</td>\n",
       "    </tr>\n",
       "    <tr>\n",
       "      <th>2</th>\n",
       "      <td>543837</td>\n",
       "      <td>1538352841</td>\n",
       "      <td>6621.3</td>\n",
       "      <td>0.000033</td>\n",
       "      <td>2.694189</td>\n",
       "      <td>2018-10-01 00:14:01</td>\n",
       "      <td>1538352841</td>\n",
       "      <td>0.700000</td>\n",
       "      <td>2018-10-01 00:14:01</td>\n",
       "    </tr>\n",
       "    <tr>\n",
       "      <th>3</th>\n",
       "      <td>543838</td>\n",
       "      <td>1538352940</td>\n",
       "      <td>6621.3</td>\n",
       "      <td>0.000033</td>\n",
       "      <td>2.697526</td>\n",
       "      <td>2018-10-01 00:15:40</td>\n",
       "      <td>1538352940</td>\n",
       "      <td>1.650000</td>\n",
       "      <td>2018-10-01 00:15:40</td>\n",
       "    </tr>\n",
       "    <tr>\n",
       "      <th>4</th>\n",
       "      <td>543839</td>\n",
       "      <td>1538353463</td>\n",
       "      <td>6621.3</td>\n",
       "      <td>0.000033</td>\n",
       "      <td>2.714195</td>\n",
       "      <td>2018-10-01 00:24:23</td>\n",
       "      <td>1538353463</td>\n",
       "      <td>8.716667</td>\n",
       "      <td>2018-10-01 00:24:23</td>\n",
       "    </tr>\n",
       "  </tbody>\n",
       "</table>\n",
       "</div>"
      ],
      "text/plain": [
       "   height    unixtime   price  probability of success /Eh  \\\n",
       "0  543835  1538352272  6621.3                    0.000033   \n",
       "1  543836  1538352799  6621.3                    0.000033   \n",
       "2  543837  1538352841  6621.3                    0.000033   \n",
       "3  543838  1538352940  6621.3                    0.000033   \n",
       "4  543839  1538353463  6621.3                    0.000033   \n",
       "\n",
       "   expected return (USD/Eh)                 time  adjusted_unixtime  \\\n",
       "0                  2.720620  2018-10-01 00:04:32         1538352272   \n",
       "1                  2.711797  2018-10-01 00:13:19         1538352799   \n",
       "2                  2.694189  2018-10-01 00:14:01         1538352841   \n",
       "3                  2.697526  2018-10-01 00:15:40         1538352940   \n",
       "4                  2.714195  2018-10-01 00:24:23         1538353463   \n",
       "\n",
       "   adjusted_blocktime        adjusted_time  \n",
       "0           18.633333  2018-10-01 00:04:32  \n",
       "1            8.783333  2018-10-01 00:13:19  \n",
       "2            0.700000  2018-10-01 00:14:01  \n",
       "3            1.650000  2018-10-01 00:15:40  \n",
       "4            8.716667  2018-10-01 00:24:23  "
      ]
     },
     "execution_count": 6,
     "metadata": {},
     "output_type": "execute_result"
    }
   ],
   "source": [
    "df_2018OctDec = pd.read_csv('../data/BTCdata_2018OctDec.csv')\n",
    "df_2018OctDec.head()"
   ]
  },
  {
   "cell_type": "code",
   "execution_count": 7,
   "metadata": {
    "ExecuteTime": {
     "end_time": "2019-06-16T08:36:31.916746Z",
     "start_time": "2019-06-16T08:36:31.900991Z"
    }
   },
   "outputs": [
    {
     "data": {
      "text/html": [
       "<div>\n",
       "<style scoped>\n",
       "    .dataframe tbody tr th:only-of-type {\n",
       "        vertical-align: middle;\n",
       "    }\n",
       "\n",
       "    .dataframe tbody tr th {\n",
       "        vertical-align: top;\n",
       "    }\n",
       "\n",
       "    .dataframe thead th {\n",
       "        text-align: right;\n",
       "    }\n",
       "</style>\n",
       "<table border=\"1\" class=\"dataframe\">\n",
       "  <thead>\n",
       "    <tr style=\"text-align: right;\">\n",
       "      <th></th>\n",
       "      <th>height</th>\n",
       "      <th>time</th>\n",
       "      <th>blocktime</th>\n",
       "      <th>price</th>\n",
       "      <th>probability of success /Eh</th>\n",
       "      <th>expected return (USD/Eh)</th>\n",
       "    </tr>\n",
       "  </thead>\n",
       "  <tbody>\n",
       "    <tr>\n",
       "      <th>0</th>\n",
       "      <td>543835</td>\n",
       "      <td>2018-10-01 00:04:32</td>\n",
       "      <td>18.633333</td>\n",
       "      <td>6621.3</td>\n",
       "      <td>0.000033</td>\n",
       "      <td>2.720620</td>\n",
       "    </tr>\n",
       "    <tr>\n",
       "      <th>1</th>\n",
       "      <td>543836</td>\n",
       "      <td>2018-10-01 00:13:19</td>\n",
       "      <td>8.783333</td>\n",
       "      <td>6621.3</td>\n",
       "      <td>0.000033</td>\n",
       "      <td>2.711797</td>\n",
       "    </tr>\n",
       "    <tr>\n",
       "      <th>2</th>\n",
       "      <td>543837</td>\n",
       "      <td>2018-10-01 00:14:01</td>\n",
       "      <td>0.700000</td>\n",
       "      <td>6621.3</td>\n",
       "      <td>0.000033</td>\n",
       "      <td>2.694189</td>\n",
       "    </tr>\n",
       "    <tr>\n",
       "      <th>3</th>\n",
       "      <td>543838</td>\n",
       "      <td>2018-10-01 00:15:40</td>\n",
       "      <td>1.650000</td>\n",
       "      <td>6621.3</td>\n",
       "      <td>0.000033</td>\n",
       "      <td>2.697526</td>\n",
       "    </tr>\n",
       "    <tr>\n",
       "      <th>4</th>\n",
       "      <td>543839</td>\n",
       "      <td>2018-10-01 00:24:23</td>\n",
       "      <td>8.716667</td>\n",
       "      <td>6621.3</td>\n",
       "      <td>0.000033</td>\n",
       "      <td>2.714195</td>\n",
       "    </tr>\n",
       "  </tbody>\n",
       "</table>\n",
       "</div>"
      ],
      "text/plain": [
       "   height                 time  blocktime   price  probability of success /Eh  \\\n",
       "0  543835  2018-10-01 00:04:32  18.633333  6621.3                    0.000033   \n",
       "1  543836  2018-10-01 00:13:19   8.783333  6621.3                    0.000033   \n",
       "2  543837  2018-10-01 00:14:01   0.700000  6621.3                    0.000033   \n",
       "3  543838  2018-10-01 00:15:40   1.650000  6621.3                    0.000033   \n",
       "4  543839  2018-10-01 00:24:23   8.716667  6621.3                    0.000033   \n",
       "\n",
       "   expected return (USD/Eh)  \n",
       "0                  2.720620  \n",
       "1                  2.711797  \n",
       "2                  2.694189  \n",
       "3                  2.697526  \n",
       "4                  2.714195  "
      ]
     },
     "execution_count": 7,
     "metadata": {},
     "output_type": "execute_result"
    }
   ],
   "source": [
    "columns = ['height', 'adjusted_time', 'adjusted_blocktime', 'price', 'probability of success /Eh', 'expected return (USD/Eh)']\n",
    "df_sim = df_2018OctDec.loc[:, columns]\n",
    "name_dict = {'adjusted_time':'time', 'adjusted_blocktime':'blocktime'}\n",
    "df_sim = df_sim.rename(columns=name_dict)\n",
    "df_sim.head()"
   ]
  },
  {
   "cell_type": "code",
   "execution_count": 31,
   "metadata": {
    "ExecuteTime": {
     "end_time": "2019-06-15T06:32:09.904420Z",
     "start_time": "2019-06-15T06:32:09.786136Z"
    }
   },
   "outputs": [],
   "source": [
    "df_sim.to_csv('../data/BTCdata_2018OctDec_sim.csv', index=False)"
   ]
  },
  {
   "cell_type": "code",
   "execution_count": 29,
   "metadata": {
    "ExecuteTime": {
     "end_time": "2019-06-15T06:30:16.334847Z",
     "start_time": "2019-06-15T06:30:16.132926Z"
    }
   },
   "outputs": [
    {
     "data": {
      "image/png": "[encoded data removed]",
      "text/plain": [
       "<Figure size 432x288 with 1 Axes>"
      ]
     },
     "metadata": {
      "needs_background": "light"
     },
     "output_type": "display_data"
    }
   ],
   "source": [
    "fig = plt.figure()\n",
    "ax = plt.subplot()\n",
    "x = df_sim['time']\n",
    "y = df_sim['expected return (USD/Eh)']\n",
    "ax.plot(x,y)\n",
    "plt.setp(ax.get_xticklabels(), rotation=45)\n",
    "plt.tight_layout()\n",
    "plt.show()"
   ]
  },
  {
   "cell_type": "code",
   "execution_count": 16,
   "metadata": {
    "ExecuteTime": {
     "end_time": "2019-06-16T08:40:14.277569Z",
     "start_time": "2019-06-16T08:40:14.257355Z"
    }
   },
   "outputs": [
    {
     "data": {
      "text/html": [
       "<div>\n",
       "<style scoped>\n",
       "    .dataframe tbody tr th:only-of-type {\n",
       "        vertical-align: middle;\n",
       "    }\n",
       "\n",
       "    .dataframe tbody tr th {\n",
       "        vertical-align: top;\n",
       "    }\n",
       "\n",
       "    .dataframe thead th {\n",
       "        text-align: right;\n",
       "    }\n",
       "</style>\n",
       "<table border=\"1\" class=\"dataframe\">\n",
       "  <thead>\n",
       "    <tr style=\"text-align: right;\">\n",
       "      <th></th>\n",
       "      <th>height</th>\n",
       "      <th>time</th>\n",
       "      <th>blocktime</th>\n",
       "      <th>price</th>\n",
       "      <th>probability of success /Eh</th>\n",
       "      <th>expected return (USD/Eh)</th>\n",
       "    </tr>\n",
       "  </thead>\n",
       "  <tbody>\n",
       "    <tr>\n",
       "      <th>4379</th>\n",
       "      <td>548214</td>\n",
       "      <td>2018-11-01 00:18:31</td>\n",
       "      <td>20.666667</td>\n",
       "      <td>6304.82</td>\n",
       "      <td>0.000032</td>\n",
       "      <td>2.578444</td>\n",
       "    </tr>\n",
       "    <tr>\n",
       "      <th>4380</th>\n",
       "      <td>548215</td>\n",
       "      <td>2018-11-01 00:22:32</td>\n",
       "      <td>4.016667</td>\n",
       "      <td>6304.82</td>\n",
       "      <td>0.000032</td>\n",
       "      <td>2.572693</td>\n",
       "    </tr>\n",
       "    <tr>\n",
       "      <th>4381</th>\n",
       "      <td>548216</td>\n",
       "      <td>2018-11-01 00:23:22</td>\n",
       "      <td>0.833333</td>\n",
       "      <td>6304.82</td>\n",
       "      <td>0.000032</td>\n",
       "      <td>2.557799</td>\n",
       "    </tr>\n",
       "    <tr>\n",
       "      <th>4382</th>\n",
       "      <td>548217</td>\n",
       "      <td>2018-11-01 00:24:57</td>\n",
       "      <td>1.583333</td>\n",
       "      <td>6304.82</td>\n",
       "      <td>0.000032</td>\n",
       "      <td>2.558311</td>\n",
       "    </tr>\n",
       "    <tr>\n",
       "      <th>4383</th>\n",
       "      <td>548218</td>\n",
       "      <td>2018-11-01 00:26:47</td>\n",
       "      <td>1.833333</td>\n",
       "      <td>6304.82</td>\n",
       "      <td>0.000032</td>\n",
       "      <td>2.559274</td>\n",
       "    </tr>\n",
       "  </tbody>\n",
       "</table>\n",
       "</div>"
      ],
      "text/plain": [
       "      height                time  blocktime    price  \\\n",
       "4379  548214 2018-11-01 00:18:31  20.666667  6304.82   \n",
       "4380  548215 2018-11-01 00:22:32   4.016667  6304.82   \n",
       "4381  548216 2018-11-01 00:23:22   0.833333  6304.82   \n",
       "4382  548217 2018-11-01 00:24:57   1.583333  6304.82   \n",
       "4383  548218 2018-11-01 00:26:47   1.833333  6304.82   \n",
       "\n",
       "      probability of success /Eh  expected return (USD/Eh)  \n",
       "4379                    0.000032                  2.578444  \n",
       "4380                    0.000032                  2.572693  \n",
       "4381                    0.000032                  2.557799  \n",
       "4382                    0.000032                  2.558311  \n",
       "4383                    0.000032                  2.559274  "
      ]
     },
     "execution_count": 16,
     "metadata": {},
     "output_type": "execute_result"
    }
   ],
   "source": [
    "df_sim['time'] = pd.to_datetime(df_sim['time'])\n",
    "df_Nov = df_sim[(df_sim['time'] >= datetime(2018,11,1)) & (df_sim['time'] <= datetime(2018,12,1))]\n",
    "df_Nov.head()"
   ]
  },
  {
   "cell_type": "code",
   "execution_count": 17,
   "metadata": {
    "ExecuteTime": {
     "end_time": "2019-06-16T08:40:16.474936Z",
     "start_time": "2019-06-16T08:40:16.470964Z"
    }
   },
   "outputs": [
    {
     "data": {
      "text/plain": [
       "(3870, 6)"
      ]
     },
     "execution_count": 17,
     "metadata": {},
     "output_type": "execute_result"
    }
   ],
   "source": [
    "df_Nov.shape"
   ]
  },
  {
   "cell_type": "code",
   "execution_count": 19,
   "metadata": {
    "ExecuteTime": {
     "end_time": "2019-06-16T08:40:25.851890Z",
     "start_time": "2019-06-16T08:40:25.677732Z"
    }
   },
   "outputs": [
    {
     "data": {
      "image/png": "[encoded data removed]",
      "text/plain": [
       "<Figure size 360x288 with 1 Axes>"
      ]
     },
     "metadata": {},
     "output_type": "display_data"
    }
   ],
   "source": [
    "fig = plt.figure()\n",
    "ax = plt.subplot()\n",
    "x = df_Nov['time']\n",
    "y = df_Nov['expected return (USD/Eh)']\n",
    "ax.plot(x,y)\n",
    "plt.setp(ax.get_xticklabels(), rotation=45)\n",
    "plt.tight_layout()\n",
    "plt.show()"
   ]
  },
  {
   "cell_type": "code",
   "execution_count": 20,
   "metadata": {
    "ExecuteTime": {
     "end_time": "2019-06-16T08:40:56.456480Z",
     "start_time": "2019-06-16T08:40:56.451264Z"
    }
   },
   "outputs": [
    {
     "data": {
      "text/plain": [
       "7607"
      ]
     },
     "execution_count": 20,
     "metadata": {},
     "output_type": "execute_result"
    }
   ],
   "source": [
    "df_Nov['expected return (USD/Eh)'].idxmin()"
   ]
  },
  {
   "cell_type": "code",
   "execution_count": 21,
   "metadata": {
    "ExecuteTime": {
     "end_time": "2019-06-16T08:41:07.517459Z",
     "start_time": "2019-06-16T08:41:07.512901Z"
    }
   },
   "outputs": [
    {
     "data": {
      "text/plain": [
       "1.5776613819999998"
      ]
     },
     "execution_count": 21,
     "metadata": {},
     "output_type": "execute_result"
    }
   ],
   "source": [
    "df_Nov['expected return (USD/Eh)'][7607]"
   ]
  },
  {
   "cell_type": "code",
   "execution_count": 22,
   "metadata": {
    "ExecuteTime": {
     "end_time": "2019-06-16T08:41:25.815556Z",
     "start_time": "2019-06-16T08:41:25.810102Z"
    }
   },
   "outputs": [
    {
     "data": {
      "text/plain": [
       "height                                     551442\n",
       "time                          2018-11-25 09:22:42\n",
       "blocktime                                0.433333\n",
       "price                                     3604.59\n",
       "probability of success /Eh            3.49948e-05\n",
       "expected return (USD/Eh)                  1.57766\n",
       "Name: 7607, dtype: object"
      ]
     },
     "execution_count": 22,
     "metadata": {},
     "output_type": "execute_result"
    }
   ],
   "source": [
    "df_Nov.loc[7607]"
   ]
  },
  {
   "cell_type": "markdown",
   "metadata": {},
   "source": [
    "* The lowest expected return is recorded at 2018-11-25 09:22:42(height 551442)."
   ]
  },
  {
   "cell_type": "code",
   "execution_count": 25,
   "metadata": {
    "ExecuteTime": {
     "end_time": "2019-06-16T08:42:27.759389Z",
     "start_time": "2019-06-16T08:42:27.753468Z"
    }
   },
   "outputs": [],
   "source": [
    "height_last = 551442\n",
    "T = 2016\n",
    "df_pre_simulation = df_Nov[(df_Nov['height'] >= height_last-T+1) & (df_Nov['height'] <= height_last)]"
   ]
  },
  {
   "cell_type": "code",
   "execution_count": 26,
   "metadata": {
    "ExecuteTime": {
     "end_time": "2019-06-16T08:42:29.411507Z",
     "start_time": "2019-06-16T08:42:29.401520Z"
    }
   },
   "outputs": [
    {
     "data": {
      "text/html": [
       "<div>\n",
       "<style scoped>\n",
       "    .dataframe tbody tr th:only-of-type {\n",
       "        vertical-align: middle;\n",
       "    }\n",
       "\n",
       "    .dataframe tbody tr th {\n",
       "        vertical-align: top;\n",
       "    }\n",
       "\n",
       "    .dataframe thead th {\n",
       "        text-align: right;\n",
       "    }\n",
       "</style>\n",
       "<table border=\"1\" class=\"dataframe\">\n",
       "  <thead>\n",
       "    <tr style=\"text-align: right;\">\n",
       "      <th></th>\n",
       "      <th>height</th>\n",
       "      <th>time</th>\n",
       "      <th>blocktime</th>\n",
       "      <th>price</th>\n",
       "      <th>probability of success /Eh</th>\n",
       "      <th>expected return (USD/Eh)</th>\n",
       "    </tr>\n",
       "  </thead>\n",
       "  <tbody>\n",
       "    <tr>\n",
       "      <th>5592</th>\n",
       "      <td>549427</td>\n",
       "      <td>2018-11-09 19:26:14</td>\n",
       "      <td>5.783333</td>\n",
       "      <td>6343.32</td>\n",
       "      <td>0.000032</td>\n",
       "      <td>2.587754</td>\n",
       "    </tr>\n",
       "    <tr>\n",
       "      <th>5593</th>\n",
       "      <td>549428</td>\n",
       "      <td>2018-11-09 19:26:20</td>\n",
       "      <td>0.100000</td>\n",
       "      <td>6343.32</td>\n",
       "      <td>0.000032</td>\n",
       "      <td>2.574300</td>\n",
       "    </tr>\n",
       "    <tr>\n",
       "      <th>5594</th>\n",
       "      <td>549429</td>\n",
       "      <td>2018-11-09 19:37:51</td>\n",
       "      <td>11.516667</td>\n",
       "      <td>6341.26</td>\n",
       "      <td>0.000032</td>\n",
       "      <td>2.593078</td>\n",
       "    </tr>\n",
       "    <tr>\n",
       "      <th>5595</th>\n",
       "      <td>549430</td>\n",
       "      <td>2018-11-09 19:45:57</td>\n",
       "      <td>8.100000</td>\n",
       "      <td>6341.26</td>\n",
       "      <td>0.000032</td>\n",
       "      <td>2.595087</td>\n",
       "    </tr>\n",
       "    <tr>\n",
       "      <th>5596</th>\n",
       "      <td>549431</td>\n",
       "      <td>2018-11-09 19:54:51</td>\n",
       "      <td>8.900000</td>\n",
       "      <td>6341.26</td>\n",
       "      <td>0.000032</td>\n",
       "      <td>2.591786</td>\n",
       "    </tr>\n",
       "  </tbody>\n",
       "</table>\n",
       "</div>"
      ],
      "text/plain": [
       "      height                time  blocktime    price  \\\n",
       "5592  549427 2018-11-09 19:26:14   5.783333  6343.32   \n",
       "5593  549428 2018-11-09 19:26:20   0.100000  6343.32   \n",
       "5594  549429 2018-11-09 19:37:51  11.516667  6341.26   \n",
       "5595  549430 2018-11-09 19:45:57   8.100000  6341.26   \n",
       "5596  549431 2018-11-09 19:54:51   8.900000  6341.26   \n",
       "\n",
       "      probability of success /Eh  expected return (USD/Eh)  \n",
       "5592                    0.000032                  2.587754  \n",
       "5593                    0.000032                  2.574300  \n",
       "5594                    0.000032                  2.593078  \n",
       "5595                    0.000032                  2.595087  \n",
       "5596                    0.000032                  2.591786  "
      ]
     },
     "execution_count": 26,
     "metadata": {},
     "output_type": "execute_result"
    }
   ],
   "source": [
    "df_pre_simulation.head()"
   ]
  },
  {
   "cell_type": "code",
   "execution_count": 27,
   "metadata": {
    "ExecuteTime": {
     "end_time": "2019-06-16T08:42:32.886787Z",
     "start_time": "2019-06-16T08:42:32.874627Z"
    }
   },
   "outputs": [
    {
     "data": {
      "text/html": [
       "<div>\n",
       "<style scoped>\n",
       "    .dataframe tbody tr th:only-of-type {\n",
       "        vertical-align: middle;\n",
       "    }\n",
       "\n",
       "    .dataframe tbody tr th {\n",
       "        vertical-align: top;\n",
       "    }\n",
       "\n",
       "    .dataframe thead th {\n",
       "        text-align: right;\n",
       "    }\n",
       "</style>\n",
       "<table border=\"1\" class=\"dataframe\">\n",
       "  <thead>\n",
       "    <tr style=\"text-align: right;\">\n",
       "      <th></th>\n",
       "      <th>height</th>\n",
       "      <th>time</th>\n",
       "      <th>blocktime</th>\n",
       "      <th>price</th>\n",
       "      <th>probability of success /Eh</th>\n",
       "      <th>expected return (USD/Eh)</th>\n",
       "    </tr>\n",
       "  </thead>\n",
       "  <tbody>\n",
       "    <tr>\n",
       "      <th>7603</th>\n",
       "      <td>551438</td>\n",
       "      <td>2018-11-25 08:35:20</td>\n",
       "      <td>6.250000</td>\n",
       "      <td>3604.59</td>\n",
       "      <td>0.000035</td>\n",
       "      <td>1.591790</td>\n",
       "    </tr>\n",
       "    <tr>\n",
       "      <th>7604</th>\n",
       "      <td>551439</td>\n",
       "      <td>2018-11-25 08:52:45</td>\n",
       "      <td>17.416667</td>\n",
       "      <td>3604.59</td>\n",
       "      <td>0.000035</td>\n",
       "      <td>1.610502</td>\n",
       "    </tr>\n",
       "    <tr>\n",
       "      <th>7605</th>\n",
       "      <td>551440</td>\n",
       "      <td>2018-11-25 09:21:09</td>\n",
       "      <td>28.400000</td>\n",
       "      <td>3604.59</td>\n",
       "      <td>0.000035</td>\n",
       "      <td>1.630853</td>\n",
       "    </tr>\n",
       "    <tr>\n",
       "      <th>7606</th>\n",
       "      <td>551441</td>\n",
       "      <td>2018-11-25 09:22:16</td>\n",
       "      <td>1.116667</td>\n",
       "      <td>3604.59</td>\n",
       "      <td>0.000035</td>\n",
       "      <td>1.585960</td>\n",
       "    </tr>\n",
       "    <tr>\n",
       "      <th>7607</th>\n",
       "      <td>551442</td>\n",
       "      <td>2018-11-25 09:22:42</td>\n",
       "      <td>0.433333</td>\n",
       "      <td>3604.59</td>\n",
       "      <td>0.000035</td>\n",
       "      <td>1.577661</td>\n",
       "    </tr>\n",
       "  </tbody>\n",
       "</table>\n",
       "</div>"
      ],
      "text/plain": [
       "      height                time  blocktime    price  \\\n",
       "7603  551438 2018-11-25 08:35:20   6.250000  3604.59   \n",
       "7604  551439 2018-11-25 08:52:45  17.416667  3604.59   \n",
       "7605  551440 2018-11-25 09:21:09  28.400000  3604.59   \n",
       "7606  551441 2018-11-25 09:22:16   1.116667  3604.59   \n",
       "7607  551442 2018-11-25 09:22:42   0.433333  3604.59   \n",
       "\n",
       "      probability of success /Eh  expected return (USD/Eh)  \n",
       "7603                    0.000035                  1.591790  \n",
       "7604                    0.000035                  1.610502  \n",
       "7605                    0.000035                  1.630853  \n",
       "7606                    0.000035                  1.585960  \n",
       "7607                    0.000035                  1.577661  "
      ]
     },
     "execution_count": 27,
     "metadata": {},
     "output_type": "execute_result"
    }
   ],
   "source": [
    "df_pre_simulation.tail()"
   ]
  },
  {
   "cell_type": "code",
   "execution_count": 28,
   "metadata": {
    "ExecuteTime": {
     "end_time": "2019-06-16T08:42:35.382696Z",
     "start_time": "2019-06-16T08:42:35.378758Z"
    }
   },
   "outputs": [
    {
     "data": {
      "text/plain": [
       "(2016, 6)"
      ]
     },
     "execution_count": 28,
     "metadata": {},
     "output_type": "execute_result"
    }
   ],
   "source": [
    "df_pre_simulation.shape"
   ]
  },
  {
   "cell_type": "code",
   "execution_count": 29,
   "metadata": {
    "ExecuteTime": {
     "end_time": "2019-06-16T08:50:04.064107Z",
     "start_time": "2019-06-16T08:50:04.039627Z"
    }
   },
   "outputs": [],
   "source": [
    "df_pre_simulation.to_csv('../data/BTCdata_presim.csv', index=False)"
   ]
  },
  {
   "cell_type": "code",
   "execution_count": null,
   "metadata": {},
   "outputs": [],
   "source": []
  }
 ],
 "metadata": {
  "kernelspec": {
   "display_name": "Python 3",
   "language": "python",
   "name": "python3"
  },
  "language_info": {
   "codemirror_mode": {
    "name": "ipython",
    "version": 3
   },
   "file_extension": ".py",
   "mimetype": "text/x-python",
   "name": "python",
   "nbconvert_exporter": "python",
   "pygments_lexer": "ipython3",
   "version": "3.8.5"
  },
  "latex_envs": {
   "LaTeX_envs_menu_present": true,
   "autoclose": false,
   "autocomplete": true,
   "bibliofile": "biblio.bib",
   "cite_by": "apalike",
   "current_citInitial": 1,
   "eqLabelWithNumbers": true,
   "eqNumInitial": 1,
   "hotkeys": {
    "equation": "Ctrl-E",
    "itemize": "Ctrl-I"
   },
   "labels_anchors": false,
   "latex_user_defs": false,
   "report_style_numbering": false,
   "user_envs_cfg": false
  },
  "toc": {
   "base_numbering": 1,
   "nav_menu": {},
   "number_sections": true,
   "sideBar": true,
   "skip_h1_title": false,
   "title_cell": "Table of Contents",
   "title_sidebar": "Contents",
   "toc_cell": false,
   "toc_position": {},
   "toc_section_display": true,
   "toc_window_display": false
  },
  "varInspector": {
   "cols": {
    "lenName": 16,
    "lenType": 16,
    "lenVar": 40
   },
   "kernels_config": {
    "python": {
     "delete_cmd_postfix": "",
     "delete_cmd_prefix": "del ",
     "library": "var_list.py",
     "varRefreshCmd": "print(var_dic_list())"
    },
    "r": {
     "delete_cmd_postfix": ") ",
     "delete_cmd_prefix": "rm(",
     "library": "var_list.r",
     "varRefreshCmd": "cat(var_dic_list()) "
    }
   },
   "types_to_exclude": [
    "module",
    "function",
    "builtin_function_or_method",
    "instance",
    "_Feature"
   ],
   "window_display": false
  }
 },
 "nbformat": 4,
 "nbformat_minor": 2
}
