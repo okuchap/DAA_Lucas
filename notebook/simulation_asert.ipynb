{
 "cells": [
  {
   "cell_type": "code",
   "execution_count": 1,
   "metadata": {},
   "outputs": [],
   "source": [
    "%matplotlib inline\n",
    "%load_ext autoreload\n",
    "import numpy as np\n",
    "import matplotlib as mpl\n",
    "import matplotlib.pyplot as plt\n",
    "import pandas as pd\n",
    "import pathlib\n",
    "import time\n",
    "from datetime import datetime\n",
    "import scipy.optimize as opt\n",
    "np.set_printoptions(precision=3)\n",
    "np.set_printoptions(suppress=True)\n",
    "plt.style.use(\"ggplot\")\n",
    "mpl.pyplot.rcParams['figure.figsize'] = (5.0, 4.0)\n",
    "plt.rcParams[\"font.size\"] = 13\n",
    "#mpl.rcParams[\"font.family\"] = 'Osaka'\n",
    "\n",
    "import sys\n",
    "sys.path.append('../code/')\n",
    "\n",
    "from simulation_additional import *\n",
    "from simulation_fixed_path import make_stats\n",
    "from hash import *\n",
    "from plot_path import *"
   ]
  },
  {
   "cell_type": "code",
   "execution_count": 2,
   "metadata": {},
   "outputs": [],
   "source": [
    "path = '../data/BTCdata_presim.csv'\n",
    "df = pd.read_csv(path)\n",
    "df['time'] = pd.to_datetime(df['time'])\n",
    "df = df.rename(columns={'blocktime': 'block_times', 'price': 'prices', 'probability of success /Eh': 'winning_rates'})\n",
    "#df.head()"
   ]
  },
  {
   "cell_type": "code",
   "execution_count": 3,
   "metadata": {},
   "outputs": [],
   "source": [
    "# test with small number of iter\n",
    "generate_simulation_data_asert(num_iter=2, prev_data=df)"
   ]
  },
  {
   "cell_type": "code",
   "execution_count": 5,
   "metadata": {},
   "outputs": [],
   "source": [
    "# takes 2 hours\n",
    "generate_simulation_data_asert(num_iter=5000, prev_data=df)"
   ]
  },
  {
   "cell_type": "code",
   "execution_count": 2,
   "metadata": {},
   "outputs": [],
   "source": [
    "dir_sim = '/Users/kyo/prog/DAA_Lucas/simulation/'\n",
    "df_asert_winrate = pd.read_csv(dir_sim + 'DAA_asert_winrate_ps0_5000obs_T=None.csv', index_col=0)\n",
    "df_asert_optwinrate = pd.read_csv(dir_sim + 'DAA_asert_optwinrate_ps0_5000obs_T=None.csv', index_col=0)"
   ]
  },
  {
   "cell_type": "code",
   "execution_count": 3,
   "metadata": {},
   "outputs": [
    {
     "data": {
      "text/plain": [
       "2.0209362721203346e-12"
      ]
     },
     "execution_count": 3,
     "metadata": {},
     "output_type": "execute_result"
    }
   ],
   "source": [
    "error_asert = MSE(df1=df_asert_winrate, df2=df_asert_optwinrate)\n",
    "error_asert"
   ]
  },
  {
   "cell_type": "code",
   "execution_count": 15,
   "metadata": {},
   "outputs": [],
   "source": [
    "error_DAA2 = 5.6909088461042424e-12"
   ]
  },
  {
   "cell_type": "code",
   "execution_count": 16,
   "metadata": {},
   "outputs": [
    {
     "data": {
      "text/plain": [
       "2.81597639896553"
      ]
     },
     "execution_count": 16,
     "metadata": {},
     "output_type": "execute_result"
    }
   ],
   "source": [
    "error_DAA2/error_asert"
   ]
  },
  {
   "cell_type": "code",
   "execution_count": 17,
   "metadata": {},
   "outputs": [
    {
     "data": {
      "text/plain": [
       "67.29554111932036"
      ]
     },
     "execution_count": 17,
     "metadata": {},
     "output_type": "execute_result"
    }
   ],
   "source": [
    "error_DAA1 = 1.36e-10\n",
    "error_DAA1/error_asert"
   ]
  },
  {
   "cell_type": "markdown",
   "metadata": {},
   "source": [
    "## MSE Comparison\n",
    "* MSE of ASERT is $2.02 \\times 10^{-12}$.\n",
    "* MSE of DAA-2 is $5.69 \\times 10^{-12}$.\n",
    "* MSE of DAA-1 is $1.36 \\times 10^{-10}$.\n",
    "\n",
    "* ASERT is the best in terms of MSE among these three\n",
    "* The order is the same as DAA-2, but still it has less MSE."
   ]
  },
  {
   "cell_type": "markdown",
   "metadata": {},
   "source": [
    "## Blocktime Statistics"
   ]
  },
  {
   "cell_type": "code",
   "execution_count": 3,
   "metadata": {},
   "outputs": [],
   "source": [
    "dir_sim = '/Volumes/Data/research/BDA/simulation/'\n",
    "filelist = [dir_sim+'DAA_asert_blocktime_ps0_5000obs_T=None.csv']\n",
    "df_stats = make_stats(filelist=filelist, dir_sim=dir_sim)"
   ]
  },
  {
   "cell_type": "code",
   "execution_count": 4,
   "metadata": {},
   "outputs": [
    {
     "data": {
      "text/html": [
       "<div>\n",
       "<style scoped>\n",
       "    .dataframe tbody tr th:only-of-type {\n",
       "        vertical-align: middle;\n",
       "    }\n",
       "\n",
       "    .dataframe tbody tr th {\n",
       "        vertical-align: top;\n",
       "    }\n",
       "\n",
       "    .dataframe thead th {\n",
       "        text-align: right;\n",
       "    }\n",
       "</style>\n",
       "<table border=\"1\" class=\"dataframe\">\n",
       "  <thead>\n",
       "    <tr style=\"text-align: right;\">\n",
       "      <th></th>\n",
       "      <th>DAA_asert_blocktime_ps0_5000obs_T=None.csv</th>\n",
       "    </tr>\n",
       "  </thead>\n",
       "  <tbody>\n",
       "    <tr>\n",
       "      <th>mean</th>\n",
       "      <td>11.267700</td>\n",
       "    </tr>\n",
       "    <tr>\n",
       "      <th>std</th>\n",
       "      <td>10.821421</td>\n",
       "    </tr>\n",
       "    <tr>\n",
       "      <th>over60</th>\n",
       "      <td>1.000000</td>\n",
       "    </tr>\n",
       "    <tr>\n",
       "      <th>over120</th>\n",
       "      <td>0.114377</td>\n",
       "    </tr>\n",
       "    <tr>\n",
       "      <th>over180</th>\n",
       "      <td>0.000600</td>\n",
       "    </tr>\n",
       "  </tbody>\n",
       "</table>\n",
       "</div>"
      ],
      "text/plain": [
       "         DAA_asert_blocktime_ps0_5000obs_T=None.csv\n",
       "mean                                      11.267700\n",
       "std                                       10.821421\n",
       "over60                                     1.000000\n",
       "over120                                    0.114377\n",
       "over180                                    0.000600"
      ]
     },
     "execution_count": 4,
     "metadata": {},
     "output_type": "execute_result"
    }
   ],
   "source": [
    "df_stats"
   ]
  },
  {
   "cell_type": "code",
   "execution_count": null,
   "metadata": {},
   "outputs": [],
   "source": []
  }
 ],
 "metadata": {
  "interpreter": {
   "hash": "a66e7875295d9875495ad4b4e3c5ee51b4682ae77f4a737838e183715ad654b5"
  },
  "kernelspec": {
   "display_name": "Python 3.8.9 64-bit ('DAA_Lucas-fRXnFA3j': pipenv)",
   "language": "python",
   "name": "python3"
  },
  "language_info": {
   "codemirror_mode": {
    "name": "ipython",
    "version": 3
   },
   "file_extension": ".py",
   "mimetype": "text/x-python",
   "name": "python",
   "nbconvert_exporter": "python",
   "pygments_lexer": "ipython3",
   "version": "3.10.2"
  },
  "orig_nbformat": 4
 },
 "nbformat": 4,
 "nbformat_minor": 2
}
