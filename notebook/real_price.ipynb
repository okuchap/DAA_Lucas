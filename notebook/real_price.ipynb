{
 "cells": [
  {
   "cell_type": "code",
   "execution_count": 2,
   "metadata": {
    "ExecuteTime": {
     "end_time": "2020-08-07T09:47:14.948641Z",
     "start_time": "2020-08-07T09:47:13.920763Z"
    },
    "scrolled": true
   },
   "outputs": [],
   "source": [
    "%matplotlib inline\n",
    "%load_ext autoreload\n",
    "import numpy as np\n",
    "import matplotlib as mpl\n",
    "import matplotlib.pyplot as plt\n",
    "import pandas as pd\n",
    "import pathlib\n",
    "import time\n",
    "from datetime import datetime\n",
    "import scipy.optimize as opt\n",
    "np.set_printoptions(precision=3)\n",
    "np.set_printoptions(suppress=True)\n",
    "plt.style.use(\"ggplot\")\n",
    "mpl.pyplot.rcParams['figure.figsize'] = (5.0, 4.0)\n",
    "plt.rcParams[\"font.size\"] = 13\n",
    "#mpl.rcParams[\"font.family\"] = 'Osaka'"
   ]
  },
  {
   "cell_type": "markdown",
   "metadata": {},
   "source": [
    "## Real Prices"
   ]
  },
  {
   "cell_type": "code",
   "execution_count": 2,
   "metadata": {
    "ExecuteTime": {
     "end_time": "2020-08-06T12:28:02.695830Z",
     "start_time": "2020-08-06T12:28:02.150353Z"
    }
   },
   "outputs": [
    {
     "data": {
      "text/html": [
       "<div>\n",
       "<style scoped>\n",
       "    .dataframe tbody tr th:only-of-type {\n",
       "        vertical-align: middle;\n",
       "    }\n",
       "\n",
       "    .dataframe tbody tr th {\n",
       "        vertical-align: top;\n",
       "    }\n",
       "\n",
       "    .dataframe thead th {\n",
       "        text-align: right;\n",
       "    }\n",
       "</style>\n",
       "<table border=\"1\" class=\"dataframe\">\n",
       "  <thead>\n",
       "    <tr style=\"text-align: right;\">\n",
       "      <th></th>\n",
       "      <th>height</th>\n",
       "      <th>unixtime</th>\n",
       "      <th>Open</th>\n",
       "      <th>High</th>\n",
       "      <th>Low</th>\n",
       "      <th>Close</th>\n",
       "      <th>probability of success /Eh</th>\n",
       "      <th>expected return (USD/Eh)</th>\n",
       "      <th>time</th>\n",
       "    </tr>\n",
       "  </thead>\n",
       "  <tbody>\n",
       "    <tr>\n",
       "      <th>0</th>\n",
       "      <td>450001</td>\n",
       "      <td>1485382343</td>\n",
       "      <td>896.66</td>\n",
       "      <td>896.66</td>\n",
       "      <td>895.43</td>\n",
       "      <td>895.44</td>\n",
       "      <td>0.000593</td>\n",
       "      <td>6.935004</td>\n",
       "      <td>2017-01-25 22:12:23</td>\n",
       "    </tr>\n",
       "    <tr>\n",
       "      <th>1</th>\n",
       "      <td>450002</td>\n",
       "      <td>1485383957</td>\n",
       "      <td>895.44</td>\n",
       "      <td>895.86</td>\n",
       "      <td>893.23</td>\n",
       "      <td>894.97</td>\n",
       "      <td>0.000593</td>\n",
       "      <td>7.424957</td>\n",
       "      <td>2017-01-25 22:39:17</td>\n",
       "    </tr>\n",
       "    <tr>\n",
       "      <th>2</th>\n",
       "      <td>450003</td>\n",
       "      <td>1485384299</td>\n",
       "      <td>895.44</td>\n",
       "      <td>895.86</td>\n",
       "      <td>893.23</td>\n",
       "      <td>894.97</td>\n",
       "      <td>0.000593</td>\n",
       "      <td>7.184180</td>\n",
       "      <td>2017-01-25 22:44:59</td>\n",
       "    </tr>\n",
       "    <tr>\n",
       "      <th>3</th>\n",
       "      <td>450004</td>\n",
       "      <td>1485384419</td>\n",
       "      <td>895.44</td>\n",
       "      <td>895.86</td>\n",
       "      <td>893.23</td>\n",
       "      <td>894.97</td>\n",
       "      <td>0.000593</td>\n",
       "      <td>7.025926</td>\n",
       "      <td>2017-01-25 22:46:59</td>\n",
       "    </tr>\n",
       "    <tr>\n",
       "      <th>4</th>\n",
       "      <td>450005</td>\n",
       "      <td>1485384847</td>\n",
       "      <td>895.44</td>\n",
       "      <td>895.86</td>\n",
       "      <td>893.23</td>\n",
       "      <td>894.97</td>\n",
       "      <td>0.000593</td>\n",
       "      <td>7.086069</td>\n",
       "      <td>2017-01-25 22:54:07</td>\n",
       "    </tr>\n",
       "  </tbody>\n",
       "</table>\n",
       "</div>"
      ],
      "text/plain": [
       "   height    unixtime    Open    High     Low   Close  \\\n",
       "0  450001  1485382343  896.66  896.66  895.43  895.44   \n",
       "1  450002  1485383957  895.44  895.86  893.23  894.97   \n",
       "2  450003  1485384299  895.44  895.86  893.23  894.97   \n",
       "3  450004  1485384419  895.44  895.86  893.23  894.97   \n",
       "4  450005  1485384847  895.44  895.86  893.23  894.97   \n",
       "\n",
       "   probability of success /Eh  expected return (USD/Eh)                time  \n",
       "0                    0.000593                  6.935004 2017-01-25 22:12:23  \n",
       "1                    0.000593                  7.424957 2017-01-25 22:39:17  \n",
       "2                    0.000593                  7.184180 2017-01-25 22:44:59  \n",
       "3                    0.000593                  7.025926 2017-01-25 22:46:59  \n",
       "4                    0.000593                  7.086069 2017-01-25 22:54:07  "
      ]
     },
     "execution_count": 2,
     "metadata": {},
     "output_type": "execute_result"
    }
   ],
   "source": [
    "path = '../data/BTCdata_2.csv'\n",
    "df_BTC = pd.read_csv(path, header=0)\n",
    "df_BTC = df_BTC.rename(columns={'unixtime_precise': 'unixtime'})\n",
    "df_BTC = df_BTC.loc[: ,['height', 'unixtime', 'Open', 'High', 'Low', 'Close', 'probability of success /Eh', 'expected return (USD/Eh)']]\n",
    "df_BTC['time'] = pd.to_datetime(df_BTC['unixtime'].astype(int), unit='s')\n",
    "df_BTC = df_BTC.sort_values(by='height', ascending=True)\n",
    "df_BTC.head()"
   ]
  },
  {
   "cell_type": "markdown",
   "metadata": {},
   "source": [
    "* Prices were recorded hourly.\n",
    "* Simulation starts from the block with height 551443."
   ]
  },
  {
   "cell_type": "code",
   "execution_count": 3,
   "metadata": {
    "ExecuteTime": {
     "end_time": "2020-08-06T12:28:02.716484Z",
     "start_time": "2020-08-06T12:28:02.698834Z"
    }
   },
   "outputs": [
    {
     "data": {
      "text/html": [
       "<div>\n",
       "<style scoped>\n",
       "    .dataframe tbody tr th:only-of-type {\n",
       "        vertical-align: middle;\n",
       "    }\n",
       "\n",
       "    .dataframe tbody tr th {\n",
       "        vertical-align: top;\n",
       "    }\n",
       "\n",
       "    .dataframe thead th {\n",
       "        text-align: right;\n",
       "    }\n",
       "</style>\n",
       "<table border=\"1\" class=\"dataframe\">\n",
       "  <thead>\n",
       "    <tr style=\"text-align: right;\">\n",
       "      <th></th>\n",
       "      <th>height</th>\n",
       "      <th>unixtime</th>\n",
       "      <th>Open</th>\n",
       "      <th>High</th>\n",
       "      <th>Low</th>\n",
       "      <th>Close</th>\n",
       "      <th>probability of success /Eh</th>\n",
       "      <th>expected return (USD/Eh)</th>\n",
       "      <th>time</th>\n",
       "    </tr>\n",
       "  </thead>\n",
       "  <tbody>\n",
       "    <tr>\n",
       "      <th>101441</th>\n",
       "      <td>551442</td>\n",
       "      <td>1543137762</td>\n",
       "      <td>3685.01</td>\n",
       "      <td>3700.28</td>\n",
       "      <td>3591.11</td>\n",
       "      <td>3604.59</td>\n",
       "      <td>0.000035</td>\n",
       "      <td>1.577661</td>\n",
       "      <td>2018-11-25 09:22:42</td>\n",
       "    </tr>\n",
       "  </tbody>\n",
       "</table>\n",
       "</div>"
      ],
      "text/plain": [
       "        height    unixtime     Open     High      Low    Close  \\\n",
       "101441  551442  1543137762  3685.01  3700.28  3591.11  3604.59   \n",
       "\n",
       "        probability of success /Eh  expected return (USD/Eh)  \\\n",
       "101441                    0.000035                  1.577661   \n",
       "\n",
       "                      time  \n",
       "101441 2018-11-25 09:22:42  "
      ]
     },
     "execution_count": 3,
     "metadata": {},
     "output_type": "execute_result"
    }
   ],
   "source": [
    "df_BTC[df_BTC['height'].isin([551442])]"
   ]
  },
  {
   "cell_type": "markdown",
   "metadata": {},
   "source": [
    "* The unit of `unixtime` is a second.\n",
    "* Our simulation lasts 84 days, which is equivalent to 84 x 1440 x 60 seconds."
   ]
  },
  {
   "cell_type": "code",
   "execution_count": 4,
   "metadata": {
    "ExecuteTime": {
     "end_time": "2020-08-06T12:28:02.738834Z",
     "start_time": "2020-08-06T12:28:02.719279Z"
    }
   },
   "outputs": [
    {
     "data": {
      "text/html": [
       "<div>\n",
       "<style scoped>\n",
       "    .dataframe tbody tr th:only-of-type {\n",
       "        vertical-align: middle;\n",
       "    }\n",
       "\n",
       "    .dataframe tbody tr th {\n",
       "        vertical-align: top;\n",
       "    }\n",
       "\n",
       "    .dataframe thead th {\n",
       "        text-align: right;\n",
       "    }\n",
       "</style>\n",
       "<table border=\"1\" class=\"dataframe\">\n",
       "  <thead>\n",
       "    <tr style=\"text-align: right;\">\n",
       "      <th></th>\n",
       "      <th>height</th>\n",
       "      <th>unixtime</th>\n",
       "      <th>Open</th>\n",
       "      <th>High</th>\n",
       "      <th>Low</th>\n",
       "      <th>Close</th>\n",
       "      <th>probability of success /Eh</th>\n",
       "      <th>expected return (USD/Eh)</th>\n",
       "      <th>time</th>\n",
       "    </tr>\n",
       "  </thead>\n",
       "  <tbody>\n",
       "    <tr>\n",
       "      <th>101441</th>\n",
       "      <td>551442</td>\n",
       "      <td>1543137762</td>\n",
       "      <td>3685.01</td>\n",
       "      <td>3700.28</td>\n",
       "      <td>3591.11</td>\n",
       "      <td>3604.59</td>\n",
       "      <td>0.000035</td>\n",
       "      <td>1.577661</td>\n",
       "      <td>2018-11-25 09:22:42</td>\n",
       "    </tr>\n",
       "    <tr>\n",
       "      <th>101442</th>\n",
       "      <td>551443</td>\n",
       "      <td>1543137894</td>\n",
       "      <td>3685.01</td>\n",
       "      <td>3700.28</td>\n",
       "      <td>3591.11</td>\n",
       "      <td>3604.59</td>\n",
       "      <td>0.000035</td>\n",
       "      <td>1.584459</td>\n",
       "      <td>2018-11-25 09:24:54</td>\n",
       "    </tr>\n",
       "    <tr>\n",
       "      <th>101443</th>\n",
       "      <td>551444</td>\n",
       "      <td>1543138811</td>\n",
       "      <td>3604.59</td>\n",
       "      <td>3677.84</td>\n",
       "      <td>3473.00</td>\n",
       "      <td>3645.60</td>\n",
       "      <td>0.000035</td>\n",
       "      <td>1.631278</td>\n",
       "      <td>2018-11-25 09:40:11</td>\n",
       "    </tr>\n",
       "    <tr>\n",
       "      <th>101444</th>\n",
       "      <td>551445</td>\n",
       "      <td>1543138983</td>\n",
       "      <td>3604.59</td>\n",
       "      <td>3677.84</td>\n",
       "      <td>3473.00</td>\n",
       "      <td>3645.60</td>\n",
       "      <td>0.000035</td>\n",
       "      <td>1.602982</td>\n",
       "      <td>2018-11-25 09:43:03</td>\n",
       "    </tr>\n",
       "    <tr>\n",
       "      <th>101445</th>\n",
       "      <td>551446</td>\n",
       "      <td>1543139843</td>\n",
       "      <td>3604.59</td>\n",
       "      <td>3677.84</td>\n",
       "      <td>3473.00</td>\n",
       "      <td>3645.60</td>\n",
       "      <td>0.000035</td>\n",
       "      <td>1.627151</td>\n",
       "      <td>2018-11-25 09:57:23</td>\n",
       "    </tr>\n",
       "  </tbody>\n",
       "</table>\n",
       "</div>"
      ],
      "text/plain": [
       "        height    unixtime     Open     High      Low    Close  \\\n",
       "101441  551442  1543137762  3685.01  3700.28  3591.11  3604.59   \n",
       "101442  551443  1543137894  3685.01  3700.28  3591.11  3604.59   \n",
       "101443  551444  1543138811  3604.59  3677.84  3473.00  3645.60   \n",
       "101444  551445  1543138983  3604.59  3677.84  3473.00  3645.60   \n",
       "101445  551446  1543139843  3604.59  3677.84  3473.00  3645.60   \n",
       "\n",
       "        probability of success /Eh  expected return (USD/Eh)  \\\n",
       "101441                    0.000035                  1.577661   \n",
       "101442                    0.000035                  1.584459   \n",
       "101443                    0.000035                  1.631278   \n",
       "101444                    0.000035                  1.602982   \n",
       "101445                    0.000035                  1.627151   \n",
       "\n",
       "                      time  \n",
       "101441 2018-11-25 09:22:42  \n",
       "101442 2018-11-25 09:24:54  \n",
       "101443 2018-11-25 09:40:11  \n",
       "101444 2018-11-25 09:43:03  \n",
       "101445 2018-11-25 09:57:23  "
      ]
     },
     "execution_count": 4,
     "metadata": {},
     "output_type": "execute_result"
    }
   ],
   "source": [
    "sim_length = 84*1440*60\n",
    "start_unixtime = 1543137762\n",
    "df_BTC_sim_period = df_BTC[df_BTC['unixtime']>=start_unixtime]\n",
    "df_BTC_sim_period = df_BTC_sim_period[df_BTC_sim_period['unixtime']<=start_unixtime + sim_length]\n",
    "df_BTC_sim_period.head()"
   ]
  },
  {
   "cell_type": "code",
   "execution_count": 5,
   "metadata": {
    "ExecuteTime": {
     "end_time": "2020-08-06T12:28:02.752051Z",
     "start_time": "2020-08-06T12:28:02.740720Z"
    }
   },
   "outputs": [
    {
     "data": {
      "text/html": [
       "<div>\n",
       "<style scoped>\n",
       "    .dataframe tbody tr th:only-of-type {\n",
       "        vertical-align: middle;\n",
       "    }\n",
       "\n",
       "    .dataframe tbody tr th {\n",
       "        vertical-align: top;\n",
       "    }\n",
       "\n",
       "    .dataframe thead th {\n",
       "        text-align: right;\n",
       "    }\n",
       "</style>\n",
       "<table border=\"1\" class=\"dataframe\">\n",
       "  <thead>\n",
       "    <tr style=\"text-align: right;\">\n",
       "      <th></th>\n",
       "      <th>height</th>\n",
       "      <th>unixtime</th>\n",
       "      <th>Open</th>\n",
       "      <th>High</th>\n",
       "      <th>Low</th>\n",
       "      <th>Close</th>\n",
       "      <th>probability of success /Eh</th>\n",
       "      <th>expected return (USD/Eh)</th>\n",
       "      <th>time</th>\n",
       "    </tr>\n",
       "  </thead>\n",
       "  <tbody>\n",
       "    <tr>\n",
       "      <th>113414</th>\n",
       "      <td>563415</td>\n",
       "      <td>1550391691</td>\n",
       "      <td>3599.10</td>\n",
       "      <td>3600.47</td>\n",
       "      <td>3598.01</td>\n",
       "      <td>3598.02</td>\n",
       "      <td>0.000038</td>\n",
       "      <td>1.733188</td>\n",
       "      <td>2019-02-17 08:21:31</td>\n",
       "    </tr>\n",
       "    <tr>\n",
       "      <th>113415</th>\n",
       "      <td>563416</td>\n",
       "      <td>1550391772</td>\n",
       "      <td>3599.10</td>\n",
       "      <td>3600.47</td>\n",
       "      <td>3598.01</td>\n",
       "      <td>3598.02</td>\n",
       "      <td>0.000038</td>\n",
       "      <td>1.729134</td>\n",
       "      <td>2019-02-17 08:22:52</td>\n",
       "    </tr>\n",
       "    <tr>\n",
       "      <th>113416</th>\n",
       "      <td>563417</td>\n",
       "      <td>1550392109</td>\n",
       "      <td>3599.10</td>\n",
       "      <td>3600.47</td>\n",
       "      <td>3598.01</td>\n",
       "      <td>3598.02</td>\n",
       "      <td>0.000038</td>\n",
       "      <td>1.737419</td>\n",
       "      <td>2019-02-17 08:28:29</td>\n",
       "    </tr>\n",
       "    <tr>\n",
       "      <th>113417</th>\n",
       "      <td>563418</td>\n",
       "      <td>1550392145</td>\n",
       "      <td>3599.10</td>\n",
       "      <td>3600.47</td>\n",
       "      <td>3598.01</td>\n",
       "      <td>3598.02</td>\n",
       "      <td>0.000038</td>\n",
       "      <td>1.727610</td>\n",
       "      <td>2019-02-17 08:29:05</td>\n",
       "    </tr>\n",
       "    <tr>\n",
       "      <th>113418</th>\n",
       "      <td>563419</td>\n",
       "      <td>1550392681</td>\n",
       "      <td>3598.02</td>\n",
       "      <td>3600.30</td>\n",
       "      <td>3597.59</td>\n",
       "      <td>3600.18</td>\n",
       "      <td>0.000038</td>\n",
       "      <td>1.745050</td>\n",
       "      <td>2019-02-17 08:38:01</td>\n",
       "    </tr>\n",
       "  </tbody>\n",
       "</table>\n",
       "</div>"
      ],
      "text/plain": [
       "        height    unixtime     Open     High      Low    Close  \\\n",
       "113414  563415  1550391691  3599.10  3600.47  3598.01  3598.02   \n",
       "113415  563416  1550391772  3599.10  3600.47  3598.01  3598.02   \n",
       "113416  563417  1550392109  3599.10  3600.47  3598.01  3598.02   \n",
       "113417  563418  1550392145  3599.10  3600.47  3598.01  3598.02   \n",
       "113418  563419  1550392681  3598.02  3600.30  3597.59  3600.18   \n",
       "\n",
       "        probability of success /Eh  expected return (USD/Eh)  \\\n",
       "113414                    0.000038                  1.733188   \n",
       "113415                    0.000038                  1.729134   \n",
       "113416                    0.000038                  1.737419   \n",
       "113417                    0.000038                  1.727610   \n",
       "113418                    0.000038                  1.745050   \n",
       "\n",
       "                      time  \n",
       "113414 2019-02-17 08:21:31  \n",
       "113415 2019-02-17 08:22:52  \n",
       "113416 2019-02-17 08:28:29  \n",
       "113417 2019-02-17 08:29:05  \n",
       "113418 2019-02-17 08:38:01  "
      ]
     },
     "execution_count": 5,
     "metadata": {},
     "output_type": "execute_result"
    }
   ],
   "source": [
    "df_BTC_sim_period.tail()"
   ]
  },
  {
   "cell_type": "code",
   "execution_count": 6,
   "metadata": {
    "ExecuteTime": {
     "end_time": "2020-08-06T12:28:02.901827Z",
     "start_time": "2020-08-06T12:28:02.754383Z"
    }
   },
   "outputs": [],
   "source": [
    "df_BTC_sim_period.to_csv('../data/BTC_sim_period.csv')"
   ]
  },
  {
   "cell_type": "code",
   "execution_count": 4,
   "metadata": {
    "ExecuteTime": {
     "end_time": "2020-08-07T00:50:20.293843Z",
     "start_time": "2020-08-07T00:50:20.259308Z"
    }
   },
   "outputs": [],
   "source": [
    "df_BTC_sim_period = pd.read_csv('../data/BTC_sim_period.csv', index_col=0)"
   ]
  },
  {
   "cell_type": "markdown",
   "metadata": {},
   "source": [
    "* We will use the closing prices for our analysis."
   ]
  },
  {
   "cell_type": "code",
   "execution_count": 7,
   "metadata": {
    "ExecuteTime": {
     "end_time": "2020-08-06T12:28:02.910024Z",
     "start_time": "2020-08-06T12:28:02.905145Z"
    }
   },
   "outputs": [],
   "source": [
    "prices_real = df_BTC_sim_period['Close'].values"
   ]
  },
  {
   "cell_type": "code",
   "execution_count": 8,
   "metadata": {
    "ExecuteTime": {
     "end_time": "2020-08-06T12:28:03.126082Z",
     "start_time": "2020-08-06T12:28:02.916317Z"
    }
   },
   "outputs": [
    {
     "data": {
      "image/png": "[encoded data removed]",
      "text/plain": [
       "<Figure size 360x288 with 1 Axes>"
      ]
     },
     "metadata": {},
     "output_type": "display_data"
    }
   ],
   "source": [
    "plt.plot(prices_real)\n",
    "plt.show()"
   ]
  },
  {
   "cell_type": "code",
   "execution_count": 9,
   "metadata": {
    "ExecuteTime": {
     "end_time": "2020-08-06T12:28:03.135094Z",
     "start_time": "2020-08-06T12:28:03.129138Z"
    }
   },
   "outputs": [
    {
     "data": {
      "text/plain": [
       "array([ 0.   ,  0.002,  0.012, ..., 83.962, 83.963, 83.969])"
      ]
     },
     "execution_count": 9,
     "metadata": {},
     "output_type": "execute_result"
    }
   ],
   "source": [
    "time_real = df_BTC_sim_period['unixtime'].values\n",
    "time_real = time_real - time_real[0]\n",
    "time_real = time_real/(1440*60)\n",
    "time_real"
   ]
  },
  {
   "cell_type": "markdown",
   "metadata": {},
   "source": [
    "* See how the real winning rate behaved."
   ]
  },
  {
   "cell_type": "code",
   "execution_count": 10,
   "metadata": {
    "ExecuteTime": {
     "end_time": "2020-08-06T12:28:03.139151Z",
     "start_time": "2020-08-06T12:28:03.136584Z"
    }
   },
   "outputs": [],
   "source": [
    "winning_rates_real = df_BTC_sim_period['probability of success /Eh'].values"
   ]
  },
  {
   "cell_type": "code",
   "execution_count": 11,
   "metadata": {
    "ExecuteTime": {
     "end_time": "2020-08-06T12:28:03.309252Z",
     "start_time": "2020-08-06T12:28:03.140979Z"
    }
   },
   "outputs": [
    {
     "data": {
      "image/png": "[encoded data removed]",
      "text/plain": [
       "<Figure size 360x288 with 1 Axes>"
      ]
     },
     "metadata": {},
     "output_type": "display_data"
    }
   ],
   "source": [
    "plt.plot(winning_rates_real)\n",
    "plt.show()"
   ]
  },
  {
   "cell_type": "markdown",
   "metadata": {},
   "source": [
    "## Comparison of Real Prices and Simulated Prices"
   ]
  },
  {
   "cell_type": "code",
   "execution_count": 12,
   "metadata": {
    "ExecuteTime": {
     "end_time": "2020-08-06T12:28:17.027477Z",
     "start_time": "2020-08-06T12:28:03.311016Z"
    }
   },
   "outputs": [],
   "source": [
    "# This path is used in the main text of our paper\n",
    "df_exprvs = pd.read_csv('/Volumes/Data/research/BDA/simulation/sim_exprvs.csv')\n",
    "df_price = pd.read_csv('/Volumes/Data/research/BDA/simulation/sim_prices_ps=0.csv')"
   ]
  },
  {
   "cell_type": "code",
   "execution_count": 13,
   "metadata": {
    "ExecuteTime": {
     "end_time": "2020-08-06T12:28:17.035118Z",
     "start_time": "2020-08-06T12:28:17.029499Z"
    }
   },
   "outputs": [],
   "source": [
    "no_iter = 3\n",
    "\n",
    "prices = df_price.loc[:, 'iter_{}'.format(no_iter)]\n",
    "exprvs = df_exprvs.loc[:,'iter_{}'.format(no_iter)]"
   ]
  },
  {
   "cell_type": "code",
   "execution_count": 14,
   "metadata": {
    "ExecuteTime": {
     "end_time": "2020-08-06T12:28:17.201708Z",
     "start_time": "2020-08-06T12:28:17.037744Z"
    }
   },
   "outputs": [
    {
     "data": {
      "image/png": "[encoded data removed]",
      "text/plain": [
       "<Figure size 360x288 with 1 Axes>"
      ]
     },
     "metadata": {},
     "output_type": "display_data"
    }
   ],
   "source": [
    "plt.plot(prices[:12096])\n",
    "plt.show()"
   ]
  },
  {
   "cell_type": "code",
   "execution_count": 15,
   "metadata": {
    "ExecuteTime": {
     "end_time": "2020-08-06T12:28:17.553864Z",
     "start_time": "2020-08-06T12:28:17.203483Z"
    }
   },
   "outputs": [
    {
     "data": {
      "image/png": "[encoded data removed]",
      "text/plain": [
       "<Figure size 720x288 with 2 Axes>"
      ]
     },
     "metadata": {},
     "output_type": "display_data"
    }
   ],
   "source": [
    "mpl.pyplot.rcParams['figure.figsize'] = (10.0, 4.0)\n",
    "\n",
    "fig = plt.figure()\n",
    "time = np.arange(12096)*10/1440\n",
    "ax1 = fig.add_subplot(1,2,1)\n",
    "ax1.plot(time_real, prices_real)\n",
    "ax1.set_xlabel('time (day)')\n",
    "ax1.set_ylabel('Price (USD/BTC)')\n",
    "ax1.set_title('Real Price')\n",
    "\n",
    "ax2 = fig.add_subplot(1,2,2)\n",
    "ax2.plot(time, prices[:12096])\n",
    "ax2.set_xlabel('time (day)')\n",
    "ax2.set_ylabel('Price (USD/BTC)')\n",
    "ax2.set_title('Simulated Price')\n",
    "\n",
    "plt.tight_layout()\n",
    "fig.align_labels()\n",
    "plt.show()"
   ]
  },
  {
   "cell_type": "code",
   "execution_count": 16,
   "metadata": {
    "ExecuteTime": {
     "end_time": "2020-08-06T12:28:17.761299Z",
     "start_time": "2020-08-06T12:28:17.555914Z"
    }
   },
   "outputs": [
    {
     "data": {
      "image/png": "[encoded data removed]",
      "text/plain": [
       "<Figure size 576x432 with 1 Axes>"
      ]
     },
     "metadata": {},
     "output_type": "display_data"
    }
   ],
   "source": [
    "mpl.pyplot.rcParams['figure.figsize'] = (8.0, 6.0)\n",
    "\n",
    "plt.plot(time, prices[:12096], label='simulated')\n",
    "plt.plot(time_real, prices_real, label='real')\n",
    "plt.xlabel('time (day)')\n",
    "plt.ylabel('Price (USD/BTC)')\n",
    "plt.legend(loc='best')\n",
    "plt.show()"
   ]
  },
  {
   "cell_type": "markdown",
   "metadata": {},
   "source": [
    "## Estimated Real Hashrates and Real Expected Rewards"
   ]
  },
  {
   "cell_type": "code",
   "execution_count": 5,
   "metadata": {
    "ExecuteTime": {
     "end_time": "2020-08-07T00:50:34.823378Z",
     "start_time": "2020-08-07T00:50:31.865530Z"
    }
   },
   "outputs": [],
   "source": [
    "df_real = pd.read_excel('../data/forscatterplot3.xlsx')"
   ]
  },
  {
   "cell_type": "code",
   "execution_count": 7,
   "metadata": {
    "ExecuteTime": {
     "end_time": "2020-08-07T00:53:04.282666Z",
     "start_time": "2020-08-07T00:53:04.261690Z"
    }
   },
   "outputs": [
    {
     "data": {
      "text/html": [
       "<div>\n",
       "<style scoped>\n",
       "    .dataframe tbody tr th:only-of-type {\n",
       "        vertical-align: middle;\n",
       "    }\n",
       "\n",
       "    .dataframe tbody tr th {\n",
       "        vertical-align: top;\n",
       "    }\n",
       "\n",
       "    .dataframe thead th {\n",
       "        text-align: right;\n",
       "    }\n",
       "</style>\n",
       "<table border=\"1\" class=\"dataframe\">\n",
       "  <thead>\n",
       "    <tr style=\"text-align: right;\">\n",
       "      <th></th>\n",
       "      <th>height</th>\n",
       "      <th>unixtime</th>\n",
       "      <th>time_precise</th>\n",
       "      <th>block_generation_time</th>\n",
       "      <th>probability of success /Eh</th>\n",
       "      <th>expected return (USD/Eh)</th>\n",
       "      <th>adjusted block time</th>\n",
       "      <th>MA144</th>\n",
       "      <th>hashrate</th>\n",
       "    </tr>\n",
       "  </thead>\n",
       "  <tbody>\n",
       "    <tr>\n",
       "      <th>0</th>\n",
       "      <td>543520</td>\n",
       "      <td>1538179345</td>\n",
       "      <td>2018-09-29 00:02:25.152</td>\n",
       "      <td>963</td>\n",
       "      <td>0.000033</td>\n",
       "      <td>2.708674</td>\n",
       "      <td>0.031347</td>\n",
       "      <td>NaN</td>\n",
       "      <td>NaN</td>\n",
       "    </tr>\n",
       "    <tr>\n",
       "      <th>1</th>\n",
       "      <td>543521</td>\n",
       "      <td>1538179517</td>\n",
       "      <td>2018-09-29 00:05:17.088</td>\n",
       "      <td>172</td>\n",
       "      <td>0.000033</td>\n",
       "      <td>2.688363</td>\n",
       "      <td>0.005599</td>\n",
       "      <td>NaN</td>\n",
       "      <td>NaN</td>\n",
       "    </tr>\n",
       "    <tr>\n",
       "      <th>2</th>\n",
       "      <td>543522</td>\n",
       "      <td>1538179809</td>\n",
       "      <td>2018-09-29 00:10:09.120</td>\n",
       "      <td>292</td>\n",
       "      <td>0.000033</td>\n",
       "      <td>2.681469</td>\n",
       "      <td>0.009505</td>\n",
       "      <td>NaN</td>\n",
       "      <td>NaN</td>\n",
       "    </tr>\n",
       "    <tr>\n",
       "      <th>3</th>\n",
       "      <td>543523</td>\n",
       "      <td>1538180877</td>\n",
       "      <td>2018-09-29 00:27:57.024</td>\n",
       "      <td>1068</td>\n",
       "      <td>0.000033</td>\n",
       "      <td>2.694467</td>\n",
       "      <td>0.034765</td>\n",
       "      <td>NaN</td>\n",
       "      <td>NaN</td>\n",
       "    </tr>\n",
       "    <tr>\n",
       "      <th>4</th>\n",
       "      <td>543524</td>\n",
       "      <td>1538180923</td>\n",
       "      <td>2018-09-29 00:28:42.816</td>\n",
       "      <td>46</td>\n",
       "      <td>0.000033</td>\n",
       "      <td>2.713028</td>\n",
       "      <td>0.001497</td>\n",
       "      <td>NaN</td>\n",
       "      <td>NaN</td>\n",
       "    </tr>\n",
       "  </tbody>\n",
       "</table>\n",
       "</div>"
      ],
      "text/plain": [
       "   height    unixtime            time_precise  block_generation_time  \\\n",
       "0  543520  1538179345 2018-09-29 00:02:25.152                    963   \n",
       "1  543521  1538179517 2018-09-29 00:05:17.088                    172   \n",
       "2  543522  1538179809 2018-09-29 00:10:09.120                    292   \n",
       "3  543523  1538180877 2018-09-29 00:27:57.024                   1068   \n",
       "4  543524  1538180923 2018-09-29 00:28:42.816                     46   \n",
       "\n",
       "   probability of success /Eh  expected return (USD/Eh)  adjusted block time  \\\n",
       "0                    0.000033                  2.708674             0.031347   \n",
       "1                    0.000033                  2.688363             0.005599   \n",
       "2                    0.000033                  2.681469             0.009505   \n",
       "3                    0.000033                  2.694467             0.034765   \n",
       "4                    0.000033                  2.713028             0.001497   \n",
       "\n",
       "   MA144  hashrate  \n",
       "0    NaN       NaN  \n",
       "1    NaN       NaN  \n",
       "2    NaN       NaN  \n",
       "3    NaN       NaN  \n",
       "4    NaN       NaN  "
      ]
     },
     "execution_count": 7,
     "metadata": {},
     "output_type": "execute_result"
    }
   ],
   "source": [
    "df_real = df_real.rename(columns={'unixtime_precise': 'unixtime'})\n",
    "df_real.head()"
   ]
  },
  {
   "cell_type": "code",
   "execution_count": 8,
   "metadata": {
    "ExecuteTime": {
     "end_time": "2020-08-07T00:53:21.396559Z",
     "start_time": "2020-08-07T00:53:21.371814Z"
    }
   },
   "outputs": [
    {
     "data": {
      "text/html": [
       "<div>\n",
       "<style scoped>\n",
       "    .dataframe tbody tr th:only-of-type {\n",
       "        vertical-align: middle;\n",
       "    }\n",
       "\n",
       "    .dataframe tbody tr th {\n",
       "        vertical-align: top;\n",
       "    }\n",
       "\n",
       "    .dataframe thead th {\n",
       "        text-align: right;\n",
       "    }\n",
       "</style>\n",
       "<table border=\"1\" class=\"dataframe\">\n",
       "  <thead>\n",
       "    <tr style=\"text-align: right;\">\n",
       "      <th></th>\n",
       "      <th>height</th>\n",
       "      <th>unixtime</th>\n",
       "      <th>time_precise</th>\n",
       "      <th>block_generation_time</th>\n",
       "      <th>probability of success /Eh</th>\n",
       "      <th>expected return (USD/Eh)</th>\n",
       "      <th>adjusted block time</th>\n",
       "      <th>MA144</th>\n",
       "      <th>hashrate</th>\n",
       "    </tr>\n",
       "  </thead>\n",
       "  <tbody>\n",
       "    <tr>\n",
       "      <th>7922</th>\n",
       "      <td>551442</td>\n",
       "      <td>1543137762</td>\n",
       "      <td>2018-11-25 09:22:41.664</td>\n",
       "      <td>26</td>\n",
       "      <td>0.000035</td>\n",
       "      <td>1.577661</td>\n",
       "      <td>0.000910</td>\n",
       "      <td>0.021363</td>\n",
       "      <td>46.809183</td>\n",
       "    </tr>\n",
       "    <tr>\n",
       "      <th>7923</th>\n",
       "      <td>551443</td>\n",
       "      <td>1543137894</td>\n",
       "      <td>2018-11-25 09:24:53.856</td>\n",
       "      <td>132</td>\n",
       "      <td>0.000035</td>\n",
       "      <td>1.584459</td>\n",
       "      <td>0.004619</td>\n",
       "      <td>0.021119</td>\n",
       "      <td>47.351058</td>\n",
       "    </tr>\n",
       "    <tr>\n",
       "      <th>7924</th>\n",
       "      <td>551444</td>\n",
       "      <td>1543138811</td>\n",
       "      <td>2018-11-25 09:40:11.424</td>\n",
       "      <td>917</td>\n",
       "      <td>0.000035</td>\n",
       "      <td>1.631278</td>\n",
       "      <td>0.032090</td>\n",
       "      <td>0.021293</td>\n",
       "      <td>46.964113</td>\n",
       "    </tr>\n",
       "    <tr>\n",
       "      <th>7925</th>\n",
       "      <td>551445</td>\n",
       "      <td>1543138983</td>\n",
       "      <td>2018-11-25 09:43:03.360</td>\n",
       "      <td>172</td>\n",
       "      <td>0.000035</td>\n",
       "      <td>1.602982</td>\n",
       "      <td>0.006019</td>\n",
       "      <td>0.021304</td>\n",
       "      <td>46.938934</td>\n",
       "    </tr>\n",
       "    <tr>\n",
       "      <th>7926</th>\n",
       "      <td>551446</td>\n",
       "      <td>1543139843</td>\n",
       "      <td>2018-11-25 09:57:23.040</td>\n",
       "      <td>860</td>\n",
       "      <td>0.000035</td>\n",
       "      <td>1.627151</td>\n",
       "      <td>0.030095</td>\n",
       "      <td>0.021418</td>\n",
       "      <td>46.690211</td>\n",
       "    </tr>\n",
       "  </tbody>\n",
       "</table>\n",
       "</div>"
      ],
      "text/plain": [
       "      height    unixtime            time_precise  block_generation_time  \\\n",
       "7922  551442  1543137762 2018-11-25 09:22:41.664                     26   \n",
       "7923  551443  1543137894 2018-11-25 09:24:53.856                    132   \n",
       "7924  551444  1543138811 2018-11-25 09:40:11.424                    917   \n",
       "7925  551445  1543138983 2018-11-25 09:43:03.360                    172   \n",
       "7926  551446  1543139843 2018-11-25 09:57:23.040                    860   \n",
       "\n",
       "      probability of success /Eh  expected return (USD/Eh)  \\\n",
       "7922                    0.000035                  1.577661   \n",
       "7923                    0.000035                  1.584459   \n",
       "7924                    0.000035                  1.631278   \n",
       "7925                    0.000035                  1.602982   \n",
       "7926                    0.000035                  1.627151   \n",
       "\n",
       "      adjusted block time     MA144   hashrate  \n",
       "7922             0.000910  0.021363  46.809183  \n",
       "7923             0.004619  0.021119  47.351058  \n",
       "7924             0.032090  0.021293  46.964113  \n",
       "7925             0.006019  0.021304  46.938934  \n",
       "7926             0.030095  0.021418  46.690211  "
      ]
     },
     "execution_count": 8,
     "metadata": {},
     "output_type": "execute_result"
    }
   ],
   "source": [
    "sim_length = 84*1440*60\n",
    "start_unixtime = 1543137762\n",
    "df_real_sim_period = df_real[df_real['unixtime']>=start_unixtime]\n",
    "df_real_sim_period = df_real_sim_period[df_real_sim_period['unixtime']<=start_unixtime + sim_length]\n",
    "df_real_sim_period.head()"
   ]
  },
  {
   "cell_type": "code",
   "execution_count": 9,
   "metadata": {
    "ExecuteTime": {
     "end_time": "2020-08-07T00:58:16.431848Z",
     "start_time": "2020-08-07T00:58:16.421683Z"
    }
   },
   "outputs": [
    {
     "data": {
      "text/plain": [
       "101441    3604.59\n",
       "101442    3604.59\n",
       "101443    3645.60\n",
       "101444    3645.60\n",
       "101445    3645.60\n",
       "           ...   \n",
       "113414    3598.02\n",
       "113415    3598.02\n",
       "113416    3598.02\n",
       "113417    3598.02\n",
       "113418    3600.18\n",
       "Name: Close, Length: 11978, dtype: float64"
      ]
     },
     "execution_count": 9,
     "metadata": {},
     "output_type": "execute_result"
    }
   ],
   "source": [
    "df_BTC_sim_period['Close']"
   ]
  },
  {
   "cell_type": "code",
   "execution_count": 15,
   "metadata": {
    "ExecuteTime": {
     "end_time": "2020-08-07T01:00:50.449692Z",
     "start_time": "2020-08-07T01:00:50.432462Z"
    }
   },
   "outputs": [
    {
     "data": {
      "text/html": [
       "<div>\n",
       "<style scoped>\n",
       "    .dataframe tbody tr th:only-of-type {\n",
       "        vertical-align: middle;\n",
       "    }\n",
       "\n",
       "    .dataframe tbody tr th {\n",
       "        vertical-align: top;\n",
       "    }\n",
       "\n",
       "    .dataframe thead th {\n",
       "        text-align: right;\n",
       "    }\n",
       "</style>\n",
       "<table border=\"1\" class=\"dataframe\">\n",
       "  <thead>\n",
       "    <tr style=\"text-align: right;\">\n",
       "      <th></th>\n",
       "      <th>height</th>\n",
       "      <th>unixtime</th>\n",
       "      <th>time_precise</th>\n",
       "      <th>block_generation_time</th>\n",
       "      <th>probability of success /Eh</th>\n",
       "      <th>expected return (USD/Eh)</th>\n",
       "      <th>adjusted block time</th>\n",
       "      <th>MA144</th>\n",
       "      <th>hashrate</th>\n",
       "    </tr>\n",
       "  </thead>\n",
       "  <tbody>\n",
       "    <tr>\n",
       "      <th>7922</th>\n",
       "      <td>551442</td>\n",
       "      <td>1543137762</td>\n",
       "      <td>2018-11-25 09:22:41.664</td>\n",
       "      <td>26</td>\n",
       "      <td>0.000035</td>\n",
       "      <td>1.577661</td>\n",
       "      <td>0.000910</td>\n",
       "      <td>0.021363</td>\n",
       "      <td>46.809183</td>\n",
       "    </tr>\n",
       "    <tr>\n",
       "      <th>7923</th>\n",
       "      <td>551443</td>\n",
       "      <td>1543137894</td>\n",
       "      <td>2018-11-25 09:24:53.856</td>\n",
       "      <td>132</td>\n",
       "      <td>0.000035</td>\n",
       "      <td>1.584459</td>\n",
       "      <td>0.004619</td>\n",
       "      <td>0.021119</td>\n",
       "      <td>47.351058</td>\n",
       "    </tr>\n",
       "    <tr>\n",
       "      <th>7924</th>\n",
       "      <td>551444</td>\n",
       "      <td>1543138811</td>\n",
       "      <td>2018-11-25 09:40:11.424</td>\n",
       "      <td>917</td>\n",
       "      <td>0.000035</td>\n",
       "      <td>1.631278</td>\n",
       "      <td>0.032090</td>\n",
       "      <td>0.021293</td>\n",
       "      <td>46.964113</td>\n",
       "    </tr>\n",
       "    <tr>\n",
       "      <th>7925</th>\n",
       "      <td>551445</td>\n",
       "      <td>1543138983</td>\n",
       "      <td>2018-11-25 09:43:03.360</td>\n",
       "      <td>172</td>\n",
       "      <td>0.000035</td>\n",
       "      <td>1.602982</td>\n",
       "      <td>0.006019</td>\n",
       "      <td>0.021304</td>\n",
       "      <td>46.938934</td>\n",
       "    </tr>\n",
       "    <tr>\n",
       "      <th>7926</th>\n",
       "      <td>551446</td>\n",
       "      <td>1543139843</td>\n",
       "      <td>2018-11-25 09:57:23.040</td>\n",
       "      <td>860</td>\n",
       "      <td>0.000035</td>\n",
       "      <td>1.627151</td>\n",
       "      <td>0.030095</td>\n",
       "      <td>0.021418</td>\n",
       "      <td>46.690211</td>\n",
       "    </tr>\n",
       "  </tbody>\n",
       "</table>\n",
       "</div>"
      ],
      "text/plain": [
       "      height    unixtime            time_precise  block_generation_time  \\\n",
       "7922  551442  1543137762 2018-11-25 09:22:41.664                     26   \n",
       "7923  551443  1543137894 2018-11-25 09:24:53.856                    132   \n",
       "7924  551444  1543138811 2018-11-25 09:40:11.424                    917   \n",
       "7925  551445  1543138983 2018-11-25 09:43:03.360                    172   \n",
       "7926  551446  1543139843 2018-11-25 09:57:23.040                    860   \n",
       "\n",
       "      probability of success /Eh  expected return (USD/Eh)  \\\n",
       "7922                    0.000035                  1.577661   \n",
       "7923                    0.000035                  1.584459   \n",
       "7924                    0.000035                  1.631278   \n",
       "7925                    0.000035                  1.602982   \n",
       "7926                    0.000035                  1.627151   \n",
       "\n",
       "      adjusted block time     MA144   hashrate  \n",
       "7922             0.000910  0.021363  46.809183  \n",
       "7923             0.004619  0.021119  47.351058  \n",
       "7924             0.032090  0.021293  46.964113  \n",
       "7925             0.006019  0.021304  46.938934  \n",
       "7926             0.030095  0.021418  46.690211  "
      ]
     },
     "execution_count": 15,
     "metadata": {},
     "output_type": "execute_result"
    }
   ],
   "source": [
    "df_real_sim_period = df_real_sim_period.drop('Close (USD)', axis=1)\n",
    "df_real_sim_period.head()"
   ]
  },
  {
   "cell_type": "code",
   "execution_count": 16,
   "metadata": {
    "ExecuteTime": {
     "end_time": "2020-08-07T01:01:34.829608Z",
     "start_time": "2020-08-07T01:01:34.810287Z"
    }
   },
   "outputs": [
    {
     "ename": "ValueError",
     "evalue": "Length of values (11978) does not match length of index (5017)",
     "output_type": "error",
     "traceback": [
      "\u001b[0;31m---------------------------------------------------------------------------\u001b[0m",
      "\u001b[0;31mValueError\u001b[0m                                Traceback (most recent call last)",
      "\u001b[0;32m<ipython-input-16-c6e73f582e18>\u001b[0m in \u001b[0;36m<module>\u001b[0;34m\u001b[0m\n\u001b[0;32m----> 1\u001b[0;31m \u001b[0mdf_real_sim_period\u001b[0m\u001b[0;34m[\u001b[0m\u001b[0;34m'Close (USD)'\u001b[0m\u001b[0;34m]\u001b[0m \u001b[0;34m=\u001b[0m \u001b[0mdf_BTC_sim_period\u001b[0m\u001b[0;34m[\u001b[0m\u001b[0;34m'Close'\u001b[0m\u001b[0;34m]\u001b[0m\u001b[0;34m.\u001b[0m\u001b[0mvalues\u001b[0m\u001b[0;34m\u001b[0m\u001b[0;34m\u001b[0m\u001b[0m\n\u001b[0m\u001b[1;32m      2\u001b[0m \u001b[0mdf_real_sim_period\u001b[0m\u001b[0;34m.\u001b[0m\u001b[0mhead\u001b[0m\u001b[0;34m(\u001b[0m\u001b[0;34m)\u001b[0m\u001b[0;34m\u001b[0m\u001b[0;34m\u001b[0m\u001b[0m\n",
      "\u001b[0;32m~/prog/DAA_Lucas/.venv/lib/python3.8/site-packages/pandas/core/frame.py\u001b[0m in \u001b[0;36m__setitem__\u001b[0;34m(self, key, value)\u001b[0m\n\u001b[1;32m   3035\u001b[0m         \u001b[0;32melse\u001b[0m\u001b[0;34m:\u001b[0m\u001b[0;34m\u001b[0m\u001b[0;34m\u001b[0m\u001b[0m\n\u001b[1;32m   3036\u001b[0m             \u001b[0;31m# set column\u001b[0m\u001b[0;34m\u001b[0m\u001b[0;34m\u001b[0m\u001b[0;34m\u001b[0m\u001b[0m\n\u001b[0;32m-> 3037\u001b[0;31m             \u001b[0mself\u001b[0m\u001b[0;34m.\u001b[0m\u001b[0m_set_item\u001b[0m\u001b[0;34m(\u001b[0m\u001b[0mkey\u001b[0m\u001b[0;34m,\u001b[0m \u001b[0mvalue\u001b[0m\u001b[0;34m)\u001b[0m\u001b[0;34m\u001b[0m\u001b[0;34m\u001b[0m\u001b[0m\n\u001b[0m\u001b[1;32m   3038\u001b[0m \u001b[0;34m\u001b[0m\u001b[0m\n\u001b[1;32m   3039\u001b[0m     \u001b[0;32mdef\u001b[0m \u001b[0m_setitem_slice\u001b[0m\u001b[0;34m(\u001b[0m\u001b[0mself\u001b[0m\u001b[0;34m,\u001b[0m \u001b[0mkey\u001b[0m\u001b[0;34m:\u001b[0m \u001b[0mslice\u001b[0m\u001b[0;34m,\u001b[0m \u001b[0mvalue\u001b[0m\u001b[0;34m)\u001b[0m\u001b[0;34m:\u001b[0m\u001b[0;34m\u001b[0m\u001b[0;34m\u001b[0m\u001b[0m\n",
      "\u001b[0;32m~/prog/DAA_Lucas/.venv/lib/python3.8/site-packages/pandas/core/frame.py\u001b[0m in \u001b[0;36m_set_item\u001b[0;34m(self, key, value)\u001b[0m\n\u001b[1;32m   3111\u001b[0m         \"\"\"\n\u001b[1;32m   3112\u001b[0m         \u001b[0mself\u001b[0m\u001b[0;34m.\u001b[0m\u001b[0m_ensure_valid_index\u001b[0m\u001b[0;34m(\u001b[0m\u001b[0mvalue\u001b[0m\u001b[0;34m)\u001b[0m\u001b[0;34m\u001b[0m\u001b[0;34m\u001b[0m\u001b[0m\n\u001b[0;32m-> 3113\u001b[0;31m         \u001b[0mvalue\u001b[0m \u001b[0;34m=\u001b[0m \u001b[0mself\u001b[0m\u001b[0;34m.\u001b[0m\u001b[0m_sanitize_column\u001b[0m\u001b[0;34m(\u001b[0m\u001b[0mkey\u001b[0m\u001b[0;34m,\u001b[0m \u001b[0mvalue\u001b[0m\u001b[0;34m)\u001b[0m\u001b[0;34m\u001b[0m\u001b[0;34m\u001b[0m\u001b[0m\n\u001b[0m\u001b[1;32m   3114\u001b[0m         \u001b[0mNDFrame\u001b[0m\u001b[0;34m.\u001b[0m\u001b[0m_set_item\u001b[0m\u001b[0;34m(\u001b[0m\u001b[0mself\u001b[0m\u001b[0;34m,\u001b[0m \u001b[0mkey\u001b[0m\u001b[0;34m,\u001b[0m \u001b[0mvalue\u001b[0m\u001b[0;34m)\u001b[0m\u001b[0;34m\u001b[0m\u001b[0;34m\u001b[0m\u001b[0m\n\u001b[1;32m   3115\u001b[0m \u001b[0;34m\u001b[0m\u001b[0m\n",
      "\u001b[0;32m~/prog/DAA_Lucas/.venv/lib/python3.8/site-packages/pandas/core/frame.py\u001b[0m in \u001b[0;36m_sanitize_column\u001b[0;34m(self, key, value, broadcast)\u001b[0m\n\u001b[1;32m   3756\u001b[0m \u001b[0;34m\u001b[0m\u001b[0m\n\u001b[1;32m   3757\u001b[0m             \u001b[0;31m# turn me into an ndarray\u001b[0m\u001b[0;34m\u001b[0m\u001b[0;34m\u001b[0m\u001b[0;34m\u001b[0m\u001b[0m\n\u001b[0;32m-> 3758\u001b[0;31m             \u001b[0mvalue\u001b[0m \u001b[0;34m=\u001b[0m \u001b[0msanitize_index\u001b[0m\u001b[0;34m(\u001b[0m\u001b[0mvalue\u001b[0m\u001b[0;34m,\u001b[0m \u001b[0mself\u001b[0m\u001b[0;34m.\u001b[0m\u001b[0mindex\u001b[0m\u001b[0;34m)\u001b[0m\u001b[0;34m\u001b[0m\u001b[0;34m\u001b[0m\u001b[0m\n\u001b[0m\u001b[1;32m   3759\u001b[0m             \u001b[0;32mif\u001b[0m \u001b[0;32mnot\u001b[0m \u001b[0misinstance\u001b[0m\u001b[0;34m(\u001b[0m\u001b[0mvalue\u001b[0m\u001b[0;34m,\u001b[0m \u001b[0;34m(\u001b[0m\u001b[0mnp\u001b[0m\u001b[0;34m.\u001b[0m\u001b[0mndarray\u001b[0m\u001b[0;34m,\u001b[0m \u001b[0mIndex\u001b[0m\u001b[0;34m)\u001b[0m\u001b[0;34m)\u001b[0m\u001b[0;34m:\u001b[0m\u001b[0;34m\u001b[0m\u001b[0;34m\u001b[0m\u001b[0m\n\u001b[1;32m   3760\u001b[0m                 \u001b[0;32mif\u001b[0m \u001b[0misinstance\u001b[0m\u001b[0;34m(\u001b[0m\u001b[0mvalue\u001b[0m\u001b[0;34m,\u001b[0m \u001b[0mlist\u001b[0m\u001b[0;34m)\u001b[0m \u001b[0;32mand\u001b[0m \u001b[0mlen\u001b[0m\u001b[0;34m(\u001b[0m\u001b[0mvalue\u001b[0m\u001b[0;34m)\u001b[0m \u001b[0;34m>\u001b[0m \u001b[0;36m0\u001b[0m\u001b[0;34m:\u001b[0m\u001b[0;34m\u001b[0m\u001b[0;34m\u001b[0m\u001b[0m\n",
      "\u001b[0;32m~/prog/DAA_Lucas/.venv/lib/python3.8/site-packages/pandas/core/internals/construction.py\u001b[0m in \u001b[0;36msanitize_index\u001b[0;34m(data, index)\u001b[0m\n\u001b[1;32m    745\u001b[0m     \"\"\"\n\u001b[1;32m    746\u001b[0m     \u001b[0;32mif\u001b[0m \u001b[0mlen\u001b[0m\u001b[0;34m(\u001b[0m\u001b[0mdata\u001b[0m\u001b[0;34m)\u001b[0m \u001b[0;34m!=\u001b[0m \u001b[0mlen\u001b[0m\u001b[0;34m(\u001b[0m\u001b[0mindex\u001b[0m\u001b[0;34m)\u001b[0m\u001b[0;34m:\u001b[0m\u001b[0;34m\u001b[0m\u001b[0;34m\u001b[0m\u001b[0m\n\u001b[0;32m--> 747\u001b[0;31m         raise ValueError(\n\u001b[0m\u001b[1;32m    748\u001b[0m             \u001b[0;34m\"Length of values \"\u001b[0m\u001b[0;34m\u001b[0m\u001b[0;34m\u001b[0m\u001b[0m\n\u001b[1;32m    749\u001b[0m             \u001b[0;34mf\"({len(data)}) \"\u001b[0m\u001b[0;34m\u001b[0m\u001b[0;34m\u001b[0m\u001b[0m\n",
      "\u001b[0;31mValueError\u001b[0m: Length of values (11978) does not match length of index (5017)"
     ]
    }
   ],
   "source": [
    "df_real_sim_period['Close (USD)'] = df_BTC_sim_period['Close'].values\n",
    "df_real_sim_period.head()"
   ]
  },
  {
   "cell_type": "code",
   "execution_count": 17,
   "metadata": {
    "ExecuteTime": {
     "end_time": "2020-08-07T01:02:16.237759Z",
     "start_time": "2020-08-07T01:02:16.181775Z"
    },
    "scrolled": true
   },
   "outputs": [
    {
     "data": {
      "text/html": [
       "<div>\n",
       "<style scoped>\n",
       "    .dataframe tbody tr th:only-of-type {\n",
       "        vertical-align: middle;\n",
       "    }\n",
       "\n",
       "    .dataframe tbody tr th {\n",
       "        vertical-align: top;\n",
       "    }\n",
       "\n",
       "    .dataframe thead th {\n",
       "        text-align: right;\n",
       "    }\n",
       "</style>\n",
       "<table border=\"1\" class=\"dataframe\">\n",
       "  <thead>\n",
       "    <tr style=\"text-align: right;\">\n",
       "      <th></th>\n",
       "      <th>height</th>\n",
       "      <th>unixtime</th>\n",
       "      <th>time_precise</th>\n",
       "      <th>block_generation_time</th>\n",
       "      <th>probability of success /Eh</th>\n",
       "      <th>expected return (USD/Eh)</th>\n",
       "      <th>adjusted block time</th>\n",
       "      <th>MA144</th>\n",
       "      <th>hashrate</th>\n",
       "    </tr>\n",
       "  </thead>\n",
       "  <tbody>\n",
       "    <tr>\n",
       "      <th>12934</th>\n",
       "      <td>556454</td>\n",
       "      <td>1546298203</td>\n",
       "      <td>2018-12-31 23:16:42.816</td>\n",
       "      <td>294</td>\n",
       "      <td>0.000041</td>\n",
       "      <td>1.918427</td>\n",
       "      <td>0.012183</td>\n",
       "      <td>0.024980</td>\n",
       "      <td>40.031675</td>\n",
       "    </tr>\n",
       "    <tr>\n",
       "      <th>12935</th>\n",
       "      <td>556455</td>\n",
       "      <td>1546299695</td>\n",
       "      <td>2018-12-31 23:41:34.944</td>\n",
       "      <td>1492</td>\n",
       "      <td>0.000041</td>\n",
       "      <td>1.934937</td>\n",
       "      <td>0.061827</td>\n",
       "      <td>0.025393</td>\n",
       "      <td>39.380760</td>\n",
       "    </tr>\n",
       "    <tr>\n",
       "      <th>12936</th>\n",
       "      <td>556456</td>\n",
       "      <td>1546299762</td>\n",
       "      <td>2018-12-31 23:42:42.336</td>\n",
       "      <td>67</td>\n",
       "      <td>0.000041</td>\n",
       "      <td>1.917165</td>\n",
       "      <td>0.002776</td>\n",
       "      <td>0.025246</td>\n",
       "      <td>39.609492</td>\n",
       "    </tr>\n",
       "    <tr>\n",
       "      <th>12937</th>\n",
       "      <td>556457</td>\n",
       "      <td>1546300239</td>\n",
       "      <td>2018-12-31 23:50:39.264</td>\n",
       "      <td>477</td>\n",
       "      <td>0.000041</td>\n",
       "      <td>1.920990</td>\n",
       "      <td>0.019767</td>\n",
       "      <td>0.024872</td>\n",
       "      <td>40.205763</td>\n",
       "    </tr>\n",
       "    <tr>\n",
       "      <th>12938</th>\n",
       "      <td>556458</td>\n",
       "      <td>1546300592</td>\n",
       "      <td>2018-12-31 23:56:31.776</td>\n",
       "      <td>353</td>\n",
       "      <td>0.000041</td>\n",
       "      <td>1.918471</td>\n",
       "      <td>0.014628</td>\n",
       "      <td>0.024673</td>\n",
       "      <td>40.530404</td>\n",
       "    </tr>\n",
       "  </tbody>\n",
       "</table>\n",
       "</div>"
      ],
      "text/plain": [
       "       height    unixtime            time_precise  block_generation_time  \\\n",
       "12934  556454  1546298203 2018-12-31 23:16:42.816                    294   \n",
       "12935  556455  1546299695 2018-12-31 23:41:34.944                   1492   \n",
       "12936  556456  1546299762 2018-12-31 23:42:42.336                     67   \n",
       "12937  556457  1546300239 2018-12-31 23:50:39.264                    477   \n",
       "12938  556458  1546300592 2018-12-31 23:56:31.776                    353   \n",
       "\n",
       "       probability of success /Eh  expected return (USD/Eh)  \\\n",
       "12934                    0.000041                  1.918427   \n",
       "12935                    0.000041                  1.934937   \n",
       "12936                    0.000041                  1.917165   \n",
       "12937                    0.000041                  1.920990   \n",
       "12938                    0.000041                  1.918471   \n",
       "\n",
       "       adjusted block time     MA144   hashrate  \n",
       "12934             0.012183  0.024980  40.031675  \n",
       "12935             0.061827  0.025393  39.380760  \n",
       "12936             0.002776  0.025246  39.609492  \n",
       "12937             0.019767  0.024872  40.205763  \n",
       "12938             0.014628  0.024673  40.530404  "
      ]
     },
     "execution_count": 17,
     "metadata": {},
     "output_type": "execute_result"
    }
   ],
   "source": [
    "df_real_sim_period.tail()"
   ]
  },
  {
   "cell_type": "markdown",
   "metadata": {},
   "source": [
    "野田さんのデータは12月末までしかないっぽい．自分で作る必要あり．"
   ]
  },
  {
   "cell_type": "markdown",
   "metadata": {},
   "source": [
    "### Data Cleaning"
   ]
  },
  {
   "cell_type": "markdown",
   "metadata": {},
   "source": [
    "We need to\n",
    "* Estimate hash rates\n",
    "* Adjust block generation time\n",
    "* Compute estimated expected rewards"
   ]
  },
  {
   "cell_type": "markdown",
   "metadata": {},
   "source": [
    "* Let the window length $T := 144$.\n",
    "* The hash rate at height $n$ can be estimated by the following formula (cf. Eq. (5) in Section 2.2.1. of the paper):\n",
    "\\[\n",
    "\\hat{H}(n) := \\left[ \\frac{\\sum_{s=n-T}^{n-1}W(s) B(s)}{T} \\right]^{-1},\n",
    "\\]\n",
    "where $W(s)$ is the winning rate at height $s$ and $B(s)$ is the block time at height $s$.\n",
    "* Note that the unit of blocktime is minute and the unit of hashrate is Eh/s. We need to adjust the measurement units."
   ]
  },
  {
   "cell_type": "code",
   "execution_count": 23,
   "metadata": {
    "ExecuteTime": {
     "end_time": "2020-08-07T08:06:16.404240Z",
     "start_time": "2020-08-07T08:06:16.238429Z"
    }
   },
   "outputs": [
    {
     "data": {
      "text/html": [
       "<div>\n",
       "<style scoped>\n",
       "    .dataframe tbody tr th:only-of-type {\n",
       "        vertical-align: middle;\n",
       "    }\n",
       "\n",
       "    .dataframe tbody tr th {\n",
       "        vertical-align: top;\n",
       "    }\n",
       "\n",
       "    .dataframe thead th {\n",
       "        text-align: right;\n",
       "    }\n",
       "</style>\n",
       "<table border=\"1\" class=\"dataframe\">\n",
       "  <thead>\n",
       "    <tr style=\"text-align: right;\">\n",
       "      <th></th>\n",
       "      <th>height</th>\n",
       "      <th>unixtime</th>\n",
       "      <th>price</th>\n",
       "      <th>probability of success /Eh</th>\n",
       "      <th>expected return (USD/Eh)</th>\n",
       "      <th>time</th>\n",
       "      <th>adjusted_unixtime</th>\n",
       "      <th>adjusted_blocktime</th>\n",
       "    </tr>\n",
       "  </thead>\n",
       "  <tbody>\n",
       "    <tr>\n",
       "      <th>0</th>\n",
       "      <td>450001</td>\n",
       "      <td>1485382343</td>\n",
       "      <td>895.44</td>\n",
       "      <td>0.000593</td>\n",
       "      <td>6.935004</td>\n",
       "      <td>2017-01-25 22:12:23</td>\n",
       "      <td>1485382343</td>\n",
       "      <td>NaN</td>\n",
       "    </tr>\n",
       "    <tr>\n",
       "      <th>1</th>\n",
       "      <td>450002</td>\n",
       "      <td>1485383957</td>\n",
       "      <td>894.97</td>\n",
       "      <td>0.000593</td>\n",
       "      <td>7.424957</td>\n",
       "      <td>2017-01-25 22:39:17</td>\n",
       "      <td>1485383957</td>\n",
       "      <td>26.900000</td>\n",
       "    </tr>\n",
       "    <tr>\n",
       "      <th>2</th>\n",
       "      <td>450003</td>\n",
       "      <td>1485384299</td>\n",
       "      <td>894.97</td>\n",
       "      <td>0.000593</td>\n",
       "      <td>7.184180</td>\n",
       "      <td>2017-01-25 22:44:59</td>\n",
       "      <td>1485384299</td>\n",
       "      <td>5.700000</td>\n",
       "    </tr>\n",
       "    <tr>\n",
       "      <th>3</th>\n",
       "      <td>450004</td>\n",
       "      <td>1485384419</td>\n",
       "      <td>894.97</td>\n",
       "      <td>0.000593</td>\n",
       "      <td>7.025926</td>\n",
       "      <td>2017-01-25 22:46:59</td>\n",
       "      <td>1485384419</td>\n",
       "      <td>2.000000</td>\n",
       "    </tr>\n",
       "    <tr>\n",
       "      <th>4</th>\n",
       "      <td>450005</td>\n",
       "      <td>1485384847</td>\n",
       "      <td>894.97</td>\n",
       "      <td>0.000593</td>\n",
       "      <td>7.086069</td>\n",
       "      <td>2017-01-25 22:54:07</td>\n",
       "      <td>1485384847</td>\n",
       "      <td>7.133333</td>\n",
       "    </tr>\n",
       "  </tbody>\n",
       "</table>\n",
       "</div>"
      ],
      "text/plain": [
       "   height    unixtime   price  probability of success /Eh  \\\n",
       "0  450001  1485382343  895.44                    0.000593   \n",
       "1  450002  1485383957  894.97                    0.000593   \n",
       "2  450003  1485384299  894.97                    0.000593   \n",
       "3  450004  1485384419  894.97                    0.000593   \n",
       "4  450005  1485384847  894.97                    0.000593   \n",
       "\n",
       "   expected return (USD/Eh)                 time  adjusted_unixtime  \\\n",
       "0                  6.935004  2017-01-25 22:12:23         1485382343   \n",
       "1                  7.424957  2017-01-25 22:39:17         1485383957   \n",
       "2                  7.184180  2017-01-25 22:44:59         1485384299   \n",
       "3                  7.025926  2017-01-25 22:46:59         1485384419   \n",
       "4                  7.086069  2017-01-25 22:54:07         1485384847   \n",
       "\n",
       "   adjusted_blocktime  \n",
       "0                 NaN  \n",
       "1           26.900000  \n",
       "2            5.700000  \n",
       "3            2.000000  \n",
       "4            7.133333  "
      ]
     },
     "execution_count": 23,
     "metadata": {},
     "output_type": "execute_result"
    }
   ],
   "source": [
    "path = '../data/BTCdata_timeadjusted.csv'\n",
    "df_BTC = pd.read_csv(path, header=0)\n",
    "# df_BTC = df_BTC.rename(columns={'unixtime_precise': 'unixtime'})\n",
    "# df_BTC = df_BTC.loc[: ,['height', 'unixtime', 'Close', 'probability of success /Eh', 'block_generation_time', 'expected return (USD/Eh)']]\n",
    "# df_BTC['time'] = pd.to_datetime(df_BTC['unixtime'].astype(int), unit='s')\n",
    "# df_BTC = df_BTC.sort_values(by='height', ascending=True)\n",
    "df_BTC.head()"
   ]
  },
  {
   "cell_type": "code",
   "execution_count": 28,
   "metadata": {
    "ExecuteTime": {
     "end_time": "2020-08-07T08:11:24.418666Z",
     "start_time": "2020-08-07T08:11:24.404486Z"
    }
   },
   "outputs": [
    {
     "data": {
      "text/html": [
       "<div>\n",
       "<style scoped>\n",
       "    .dataframe tbody tr th:only-of-type {\n",
       "        vertical-align: middle;\n",
       "    }\n",
       "\n",
       "    .dataframe tbody tr th {\n",
       "        vertical-align: top;\n",
       "    }\n",
       "\n",
       "    .dataframe thead th {\n",
       "        text-align: right;\n",
       "    }\n",
       "</style>\n",
       "<table border=\"1\" class=\"dataframe\">\n",
       "  <thead>\n",
       "    <tr style=\"text-align: right;\">\n",
       "      <th></th>\n",
       "      <th>height</th>\n",
       "      <th>unixtime</th>\n",
       "      <th>price</th>\n",
       "      <th>probability of success /Eh</th>\n",
       "      <th>expected return (USD/Eh)</th>\n",
       "      <th>time</th>\n",
       "      <th>adjusted_unixtime</th>\n",
       "      <th>adjusted_blocktime</th>\n",
       "      <th>winrate*blocktime</th>\n",
       "    </tr>\n",
       "  </thead>\n",
       "  <tbody>\n",
       "    <tr>\n",
       "      <th>0</th>\n",
       "      <td>450001</td>\n",
       "      <td>1485382343</td>\n",
       "      <td>895.44</td>\n",
       "      <td>0.000593</td>\n",
       "      <td>6.935004</td>\n",
       "      <td>2017-01-25 22:12:23</td>\n",
       "      <td>1485382343</td>\n",
       "      <td>NaN</td>\n",
       "      <td>NaN</td>\n",
       "    </tr>\n",
       "    <tr>\n",
       "      <th>1</th>\n",
       "      <td>450002</td>\n",
       "      <td>1485383957</td>\n",
       "      <td>894.97</td>\n",
       "      <td>0.000593</td>\n",
       "      <td>7.424957</td>\n",
       "      <td>2017-01-25 22:39:17</td>\n",
       "      <td>1485383957</td>\n",
       "      <td>26.900000</td>\n",
       "      <td>0.015938</td>\n",
       "    </tr>\n",
       "    <tr>\n",
       "      <th>2</th>\n",
       "      <td>450003</td>\n",
       "      <td>1485384299</td>\n",
       "      <td>894.97</td>\n",
       "      <td>0.000593</td>\n",
       "      <td>7.184180</td>\n",
       "      <td>2017-01-25 22:44:59</td>\n",
       "      <td>1485384299</td>\n",
       "      <td>5.700000</td>\n",
       "      <td>0.003377</td>\n",
       "    </tr>\n",
       "    <tr>\n",
       "      <th>3</th>\n",
       "      <td>450004</td>\n",
       "      <td>1485384419</td>\n",
       "      <td>894.97</td>\n",
       "      <td>0.000593</td>\n",
       "      <td>7.025926</td>\n",
       "      <td>2017-01-25 22:46:59</td>\n",
       "      <td>1485384419</td>\n",
       "      <td>2.000000</td>\n",
       "      <td>0.001185</td>\n",
       "    </tr>\n",
       "    <tr>\n",
       "      <th>4</th>\n",
       "      <td>450005</td>\n",
       "      <td>1485384847</td>\n",
       "      <td>894.97</td>\n",
       "      <td>0.000593</td>\n",
       "      <td>7.086069</td>\n",
       "      <td>2017-01-25 22:54:07</td>\n",
       "      <td>1485384847</td>\n",
       "      <td>7.133333</td>\n",
       "      <td>0.004227</td>\n",
       "    </tr>\n",
       "  </tbody>\n",
       "</table>\n",
       "</div>"
      ],
      "text/plain": [
       "   height    unixtime   price  probability of success /Eh  \\\n",
       "0  450001  1485382343  895.44                    0.000593   \n",
       "1  450002  1485383957  894.97                    0.000593   \n",
       "2  450003  1485384299  894.97                    0.000593   \n",
       "3  450004  1485384419  894.97                    0.000593   \n",
       "4  450005  1485384847  894.97                    0.000593   \n",
       "\n",
       "   expected return (USD/Eh)                 time  adjusted_unixtime  \\\n",
       "0                  6.935004  2017-01-25 22:12:23         1485382343   \n",
       "1                  7.424957  2017-01-25 22:39:17         1485383957   \n",
       "2                  7.184180  2017-01-25 22:44:59         1485384299   \n",
       "3                  7.025926  2017-01-25 22:46:59         1485384419   \n",
       "4                  7.086069  2017-01-25 22:54:07         1485384847   \n",
       "\n",
       "   adjusted_blocktime  winrate*blocktime  \n",
       "0                 NaN                NaN  \n",
       "1           26.900000           0.015938  \n",
       "2            5.700000           0.003377  \n",
       "3            2.000000           0.001185  \n",
       "4            7.133333           0.004227  "
      ]
     },
     "execution_count": 28,
     "metadata": {},
     "output_type": "execute_result"
    }
   ],
   "source": [
    "df_BTC['winrate*blocktime'] = df_BTC['probability of success /Eh'] * df_BTC['adjusted_blocktime']\n",
    "df_BTC.head()"
   ]
  },
  {
   "cell_type": "code",
   "execution_count": 44,
   "metadata": {
    "ExecuteTime": {
     "end_time": "2020-08-07T08:43:30.723860Z",
     "start_time": "2020-08-07T08:43:30.701932Z"
    }
   },
   "outputs": [
    {
     "data": {
      "text/html": [
       "<div>\n",
       "<style scoped>\n",
       "    .dataframe tbody tr th:only-of-type {\n",
       "        vertical-align: middle;\n",
       "    }\n",
       "\n",
       "    .dataframe tbody tr th {\n",
       "        vertical-align: top;\n",
       "    }\n",
       "\n",
       "    .dataframe thead th {\n",
       "        text-align: right;\n",
       "    }\n",
       "</style>\n",
       "<table border=\"1\" class=\"dataframe\">\n",
       "  <thead>\n",
       "    <tr style=\"text-align: right;\">\n",
       "      <th></th>\n",
       "      <th>height</th>\n",
       "      <th>unixtime</th>\n",
       "      <th>price</th>\n",
       "      <th>probability of success /Eh</th>\n",
       "      <th>expected return (USD/Eh)</th>\n",
       "      <th>time</th>\n",
       "      <th>adjusted_unixtime</th>\n",
       "      <th>adjusted_blocktime</th>\n",
       "      <th>winrate*blocktime</th>\n",
       "      <th>hashrate_estimated</th>\n",
       "    </tr>\n",
       "  </thead>\n",
       "  <tbody>\n",
       "    <tr>\n",
       "      <th>0</th>\n",
       "      <td>450001</td>\n",
       "      <td>1485382343</td>\n",
       "      <td>895.44</td>\n",
       "      <td>0.000593</td>\n",
       "      <td>6.935004</td>\n",
       "      <td>2017-01-25 22:12:23</td>\n",
       "      <td>1485382343</td>\n",
       "      <td>NaN</td>\n",
       "      <td>NaN</td>\n",
       "      <td>NaN</td>\n",
       "    </tr>\n",
       "    <tr>\n",
       "      <th>1</th>\n",
       "      <td>450002</td>\n",
       "      <td>1485383957</td>\n",
       "      <td>894.97</td>\n",
       "      <td>0.000593</td>\n",
       "      <td>7.424957</td>\n",
       "      <td>2017-01-25 22:39:17</td>\n",
       "      <td>1485383957</td>\n",
       "      <td>26.900000</td>\n",
       "      <td>0.015938</td>\n",
       "      <td>NaN</td>\n",
       "    </tr>\n",
       "    <tr>\n",
       "      <th>2</th>\n",
       "      <td>450003</td>\n",
       "      <td>1485384299</td>\n",
       "      <td>894.97</td>\n",
       "      <td>0.000593</td>\n",
       "      <td>7.184180</td>\n",
       "      <td>2017-01-25 22:44:59</td>\n",
       "      <td>1485384299</td>\n",
       "      <td>5.700000</td>\n",
       "      <td>0.003377</td>\n",
       "      <td>NaN</td>\n",
       "    </tr>\n",
       "    <tr>\n",
       "      <th>3</th>\n",
       "      <td>450004</td>\n",
       "      <td>1485384419</td>\n",
       "      <td>894.97</td>\n",
       "      <td>0.000593</td>\n",
       "      <td>7.025926</td>\n",
       "      <td>2017-01-25 22:46:59</td>\n",
       "      <td>1485384419</td>\n",
       "      <td>2.000000</td>\n",
       "      <td>0.001185</td>\n",
       "      <td>NaN</td>\n",
       "    </tr>\n",
       "    <tr>\n",
       "      <th>4</th>\n",
       "      <td>450005</td>\n",
       "      <td>1485384847</td>\n",
       "      <td>894.97</td>\n",
       "      <td>0.000593</td>\n",
       "      <td>7.086069</td>\n",
       "      <td>2017-01-25 22:54:07</td>\n",
       "      <td>1485384847</td>\n",
       "      <td>7.133333</td>\n",
       "      <td>0.004227</td>\n",
       "      <td>NaN</td>\n",
       "    </tr>\n",
       "  </tbody>\n",
       "</table>\n",
       "</div>"
      ],
      "text/plain": [
       "   height    unixtime   price  probability of success /Eh  \\\n",
       "0  450001  1485382343  895.44                    0.000593   \n",
       "1  450002  1485383957  894.97                    0.000593   \n",
       "2  450003  1485384299  894.97                    0.000593   \n",
       "3  450004  1485384419  894.97                    0.000593   \n",
       "4  450005  1485384847  894.97                    0.000593   \n",
       "\n",
       "   expected return (USD/Eh)                 time  adjusted_unixtime  \\\n",
       "0                  6.935004  2017-01-25 22:12:23         1485382343   \n",
       "1                  7.424957  2017-01-25 22:39:17         1485383957   \n",
       "2                  7.184180  2017-01-25 22:44:59         1485384299   \n",
       "3                  7.025926  2017-01-25 22:46:59         1485384419   \n",
       "4                  7.086069  2017-01-25 22:54:07         1485384847   \n",
       "\n",
       "   adjusted_blocktime  winrate*blocktime  hashrate_estimated  \n",
       "0                 NaN                NaN                 NaN  \n",
       "1           26.900000           0.015938                 NaN  \n",
       "2            5.700000           0.003377                 NaN  \n",
       "3            2.000000           0.001185                 NaN  \n",
       "4            7.133333           0.004227                 NaN  "
      ]
     },
     "execution_count": 44,
     "metadata": {},
     "output_type": "execute_result"
    }
   ],
   "source": [
    "window_length = 144\n",
    "temp = df_BTC['winrate*blocktime'].rolling(window_length).mean()\n",
    "hashrate_estimated = 1/temp\n",
    "hashrate_estimated = hashrate_estimated/60 # adjust the measurement unit\n",
    "df_BTC['hashrate_estimated'] = hashrate_estimated\n",
    "df_BTC.head()"
   ]
  },
  {
   "cell_type": "code",
   "execution_count": 47,
   "metadata": {
    "ExecuteTime": {
     "end_time": "2020-08-07T08:49:29.336090Z",
     "start_time": "2020-08-07T08:49:28.073995Z"
    }
   },
   "outputs": [],
   "source": [
    "df_BTC.to_csv('../data/BTCdata_timeadjusted_hashestimated.csv', index=False)"
   ]
  },
  {
   "cell_type": "code",
   "execution_count": 45,
   "metadata": {
    "ExecuteTime": {
     "end_time": "2020-08-07T08:44:44.038708Z",
     "start_time": "2020-08-07T08:44:44.012531Z"
    }
   },
   "outputs": [
    {
     "data": {
      "text/html": [
       "<div>\n",
       "<style scoped>\n",
       "    .dataframe tbody tr th:only-of-type {\n",
       "        vertical-align: middle;\n",
       "    }\n",
       "\n",
       "    .dataframe tbody tr th {\n",
       "        vertical-align: top;\n",
       "    }\n",
       "\n",
       "    .dataframe thead th {\n",
       "        text-align: right;\n",
       "    }\n",
       "</style>\n",
       "<table border=\"1\" class=\"dataframe\">\n",
       "  <thead>\n",
       "    <tr style=\"text-align: right;\">\n",
       "      <th></th>\n",
       "      <th>height</th>\n",
       "      <th>unixtime</th>\n",
       "      <th>price</th>\n",
       "      <th>probability of success /Eh</th>\n",
       "      <th>expected return (USD/Eh)</th>\n",
       "      <th>time</th>\n",
       "      <th>adjusted_unixtime</th>\n",
       "      <th>adjusted_blocktime</th>\n",
       "      <th>winrate*blocktime</th>\n",
       "      <th>hashrate_estimated</th>\n",
       "    </tr>\n",
       "  </thead>\n",
       "  <tbody>\n",
       "    <tr>\n",
       "      <th>101441</th>\n",
       "      <td>551442</td>\n",
       "      <td>1543137762</td>\n",
       "      <td>3604.59</td>\n",
       "      <td>0.000035</td>\n",
       "      <td>1.577661</td>\n",
       "      <td>2018-11-25 09:22:42</td>\n",
       "      <td>1543137762</td>\n",
       "      <td>0.433333</td>\n",
       "      <td>0.000015</td>\n",
       "      <td>46.809131</td>\n",
       "    </tr>\n",
       "    <tr>\n",
       "      <th>101442</th>\n",
       "      <td>551443</td>\n",
       "      <td>1543137894</td>\n",
       "      <td>3604.59</td>\n",
       "      <td>0.000035</td>\n",
       "      <td>1.584459</td>\n",
       "      <td>2018-11-25 09:24:54</td>\n",
       "      <td>1543137894</td>\n",
       "      <td>2.200000</td>\n",
       "      <td>0.000077</td>\n",
       "      <td>47.351005</td>\n",
       "    </tr>\n",
       "    <tr>\n",
       "      <th>101443</th>\n",
       "      <td>551444</td>\n",
       "      <td>1543138811</td>\n",
       "      <td>3645.60</td>\n",
       "      <td>0.000035</td>\n",
       "      <td>1.631278</td>\n",
       "      <td>2018-11-25 09:40:11</td>\n",
       "      <td>1543138811</td>\n",
       "      <td>15.283333</td>\n",
       "      <td>0.000535</td>\n",
       "      <td>46.964061</td>\n",
       "    </tr>\n",
       "    <tr>\n",
       "      <th>101444</th>\n",
       "      <td>551445</td>\n",
       "      <td>1543138983</td>\n",
       "      <td>3645.60</td>\n",
       "      <td>0.000035</td>\n",
       "      <td>1.602982</td>\n",
       "      <td>2018-11-25 09:43:03</td>\n",
       "      <td>1543138983</td>\n",
       "      <td>2.866667</td>\n",
       "      <td>0.000100</td>\n",
       "      <td>46.938882</td>\n",
       "    </tr>\n",
       "    <tr>\n",
       "      <th>101445</th>\n",
       "      <td>551446</td>\n",
       "      <td>1543139843</td>\n",
       "      <td>3645.60</td>\n",
       "      <td>0.000035</td>\n",
       "      <td>1.627151</td>\n",
       "      <td>2018-11-25 09:57:23</td>\n",
       "      <td>1543139843</td>\n",
       "      <td>14.333333</td>\n",
       "      <td>0.000502</td>\n",
       "      <td>46.690159</td>\n",
       "    </tr>\n",
       "  </tbody>\n",
       "</table>\n",
       "</div>"
      ],
      "text/plain": [
       "        height    unixtime    price  probability of success /Eh  \\\n",
       "101441  551442  1543137762  3604.59                    0.000035   \n",
       "101442  551443  1543137894  3604.59                    0.000035   \n",
       "101443  551444  1543138811  3645.60                    0.000035   \n",
       "101444  551445  1543138983  3645.60                    0.000035   \n",
       "101445  551446  1543139843  3645.60                    0.000035   \n",
       "\n",
       "        expected return (USD/Eh)                 time  adjusted_unixtime  \\\n",
       "101441                  1.577661  2018-11-25 09:22:42         1543137762   \n",
       "101442                  1.584459  2018-11-25 09:24:54         1543137894   \n",
       "101443                  1.631278  2018-11-25 09:40:11         1543138811   \n",
       "101444                  1.602982  2018-11-25 09:43:03         1543138983   \n",
       "101445                  1.627151  2018-11-25 09:57:23         1543139843   \n",
       "\n",
       "        adjusted_blocktime  winrate*blocktime  hashrate_estimated  \n",
       "101441            0.433333           0.000015           46.809131  \n",
       "101442            2.200000           0.000077           47.351005  \n",
       "101443           15.283333           0.000535           46.964061  \n",
       "101444            2.866667           0.000100           46.938882  \n",
       "101445           14.333333           0.000502           46.690159  "
      ]
     },
     "execution_count": 45,
     "metadata": {},
     "output_type": "execute_result"
    }
   ],
   "source": [
    "sim_length = 84*1440*60\n",
    "start_unixtime = 1543137762\n",
    "df_BTC_sim_period = df_BTC[df_BTC['unixtime']>=start_unixtime]\n",
    "df_BTC_sim_period = df_BTC_sim_period[df_BTC_sim_period['unixtime']<=start_unixtime + sim_length]\n",
    "df_BTC_sim_period.head()"
   ]
  },
  {
   "cell_type": "code",
   "execution_count": 46,
   "metadata": {
    "ExecuteTime": {
     "end_time": "2020-08-07T08:45:15.197528Z",
     "start_time": "2020-08-07T08:45:15.184052Z"
    }
   },
   "outputs": [
    {
     "data": {
      "text/html": [
       "<div>\n",
       "<style scoped>\n",
       "    .dataframe tbody tr th:only-of-type {\n",
       "        vertical-align: middle;\n",
       "    }\n",
       "\n",
       "    .dataframe tbody tr th {\n",
       "        vertical-align: top;\n",
       "    }\n",
       "\n",
       "    .dataframe thead th {\n",
       "        text-align: right;\n",
       "    }\n",
       "</style>\n",
       "<table border=\"1\" class=\"dataframe\">\n",
       "  <thead>\n",
       "    <tr style=\"text-align: right;\">\n",
       "      <th></th>\n",
       "      <th>height</th>\n",
       "      <th>unixtime</th>\n",
       "      <th>price</th>\n",
       "      <th>probability of success /Eh</th>\n",
       "      <th>expected return (USD/Eh)</th>\n",
       "      <th>time</th>\n",
       "      <th>adjusted_unixtime</th>\n",
       "      <th>adjusted_blocktime</th>\n",
       "      <th>winrate*blocktime</th>\n",
       "      <th>hashrate_estimated</th>\n",
       "    </tr>\n",
       "  </thead>\n",
       "  <tbody>\n",
       "    <tr>\n",
       "      <th>113414</th>\n",
       "      <td>563415</td>\n",
       "      <td>1550391691</td>\n",
       "      <td>3598.02</td>\n",
       "      <td>0.000038</td>\n",
       "      <td>1.733188</td>\n",
       "      <td>2019-02-17 08:21:31</td>\n",
       "      <td>1550391691</td>\n",
       "      <td>2.700000</td>\n",
       "      <td>0.000104</td>\n",
       "      <td>54.049059</td>\n",
       "    </tr>\n",
       "    <tr>\n",
       "      <th>113415</th>\n",
       "      <td>563416</td>\n",
       "      <td>1550391772</td>\n",
       "      <td>3598.02</td>\n",
       "      <td>0.000038</td>\n",
       "      <td>1.729134</td>\n",
       "      <td>2019-02-17 08:22:52</td>\n",
       "      <td>1550391772</td>\n",
       "      <td>1.350000</td>\n",
       "      <td>0.000052</td>\n",
       "      <td>54.150551</td>\n",
       "    </tr>\n",
       "    <tr>\n",
       "      <th>113416</th>\n",
       "      <td>563417</td>\n",
       "      <td>1550392109</td>\n",
       "      <td>3598.02</td>\n",
       "      <td>0.000038</td>\n",
       "      <td>1.737419</td>\n",
       "      <td>2019-02-17 08:28:29</td>\n",
       "      <td>1550392109</td>\n",
       "      <td>5.616667</td>\n",
       "      <td>0.000216</td>\n",
       "      <td>54.660594</td>\n",
       "    </tr>\n",
       "    <tr>\n",
       "      <th>113417</th>\n",
       "      <td>563418</td>\n",
       "      <td>1550392145</td>\n",
       "      <td>3598.02</td>\n",
       "      <td>0.000038</td>\n",
       "      <td>1.727610</td>\n",
       "      <td>2019-02-17 08:29:05</td>\n",
       "      <td>1550392145</td>\n",
       "      <td>0.600000</td>\n",
       "      <td>0.000023</td>\n",
       "      <td>54.778001</td>\n",
       "    </tr>\n",
       "    <tr>\n",
       "      <th>113418</th>\n",
       "      <td>563419</td>\n",
       "      <td>1550392681</td>\n",
       "      <td>3600.18</td>\n",
       "      <td>0.000038</td>\n",
       "      <td>1.745050</td>\n",
       "      <td>2019-02-17 08:38:01</td>\n",
       "      <td>1550392681</td>\n",
       "      <td>8.933333</td>\n",
       "      <td>0.000343</td>\n",
       "      <td>54.724426</td>\n",
       "    </tr>\n",
       "  </tbody>\n",
       "</table>\n",
       "</div>"
      ],
      "text/plain": [
       "        height    unixtime    price  probability of success /Eh  \\\n",
       "113414  563415  1550391691  3598.02                    0.000038   \n",
       "113415  563416  1550391772  3598.02                    0.000038   \n",
       "113416  563417  1550392109  3598.02                    0.000038   \n",
       "113417  563418  1550392145  3598.02                    0.000038   \n",
       "113418  563419  1550392681  3600.18                    0.000038   \n",
       "\n",
       "        expected return (USD/Eh)                 time  adjusted_unixtime  \\\n",
       "113414                  1.733188  2019-02-17 08:21:31         1550391691   \n",
       "113415                  1.729134  2019-02-17 08:22:52         1550391772   \n",
       "113416                  1.737419  2019-02-17 08:28:29         1550392109   \n",
       "113417                  1.727610  2019-02-17 08:29:05         1550392145   \n",
       "113418                  1.745050  2019-02-17 08:38:01         1550392681   \n",
       "\n",
       "        adjusted_blocktime  winrate*blocktime  hashrate_estimated  \n",
       "113414            2.700000           0.000104           54.049059  \n",
       "113415            1.350000           0.000052           54.150551  \n",
       "113416            5.616667           0.000216           54.660594  \n",
       "113417            0.600000           0.000023           54.778001  \n",
       "113418            8.933333           0.000343           54.724426  "
      ]
     },
     "execution_count": 46,
     "metadata": {},
     "output_type": "execute_result"
    }
   ],
   "source": [
    "df_BTC_sim_period.tail()"
   ]
  },
  {
   "cell_type": "code",
   "execution_count": 48,
   "metadata": {
    "ExecuteTime": {
     "end_time": "2020-08-07T08:50:39.488667Z",
     "start_time": "2020-08-07T08:50:39.342449Z"
    }
   },
   "outputs": [],
   "source": [
    "df_BTC_sim_period.to_csv('../data/BTC_sim_period.csv')"
   ]
  },
  {
   "cell_type": "markdown",
   "metadata": {},
   "source": [
    "### Plot"
   ]
  },
  {
   "cell_type": "code",
   "execution_count": 3,
   "metadata": {
    "ExecuteTime": {
     "end_time": "2020-08-07T09:47:27.393720Z",
     "start_time": "2020-08-07T09:47:27.346212Z"
    }
   },
   "outputs": [
    {
     "data": {
      "text/html": [
       "<div>\n",
       "<style scoped>\n",
       "    .dataframe tbody tr th:only-of-type {\n",
       "        vertical-align: middle;\n",
       "    }\n",
       "\n",
       "    .dataframe tbody tr th {\n",
       "        vertical-align: top;\n",
       "    }\n",
       "\n",
       "    .dataframe thead th {\n",
       "        text-align: right;\n",
       "    }\n",
       "</style>\n",
       "<table border=\"1\" class=\"dataframe\">\n",
       "  <thead>\n",
       "    <tr style=\"text-align: right;\">\n",
       "      <th></th>\n",
       "      <th>height</th>\n",
       "      <th>unixtime</th>\n",
       "      <th>price</th>\n",
       "      <th>probability of success /Eh</th>\n",
       "      <th>expected return (USD/Eh)</th>\n",
       "      <th>time</th>\n",
       "      <th>adjusted_unixtime</th>\n",
       "      <th>adjusted_blocktime</th>\n",
       "      <th>winrate*blocktime</th>\n",
       "      <th>hashrate_estimated</th>\n",
       "    </tr>\n",
       "  </thead>\n",
       "  <tbody>\n",
       "    <tr>\n",
       "      <th>101441</th>\n",
       "      <td>551442</td>\n",
       "      <td>1543137762</td>\n",
       "      <td>3604.59</td>\n",
       "      <td>0.000035</td>\n",
       "      <td>1.577661</td>\n",
       "      <td>2018-11-25 09:22:42</td>\n",
       "      <td>1543137762</td>\n",
       "      <td>0.433333</td>\n",
       "      <td>0.000015</td>\n",
       "      <td>46.809131</td>\n",
       "    </tr>\n",
       "    <tr>\n",
       "      <th>101442</th>\n",
       "      <td>551443</td>\n",
       "      <td>1543137894</td>\n",
       "      <td>3604.59</td>\n",
       "      <td>0.000035</td>\n",
       "      <td>1.584459</td>\n",
       "      <td>2018-11-25 09:24:54</td>\n",
       "      <td>1543137894</td>\n",
       "      <td>2.200000</td>\n",
       "      <td>0.000077</td>\n",
       "      <td>47.351005</td>\n",
       "    </tr>\n",
       "    <tr>\n",
       "      <th>101443</th>\n",
       "      <td>551444</td>\n",
       "      <td>1543138811</td>\n",
       "      <td>3645.60</td>\n",
       "      <td>0.000035</td>\n",
       "      <td>1.631278</td>\n",
       "      <td>2018-11-25 09:40:11</td>\n",
       "      <td>1543138811</td>\n",
       "      <td>15.283333</td>\n",
       "      <td>0.000535</td>\n",
       "      <td>46.964061</td>\n",
       "    </tr>\n",
       "    <tr>\n",
       "      <th>101444</th>\n",
       "      <td>551445</td>\n",
       "      <td>1543138983</td>\n",
       "      <td>3645.60</td>\n",
       "      <td>0.000035</td>\n",
       "      <td>1.602982</td>\n",
       "      <td>2018-11-25 09:43:03</td>\n",
       "      <td>1543138983</td>\n",
       "      <td>2.866667</td>\n",
       "      <td>0.000100</td>\n",
       "      <td>46.938882</td>\n",
       "    </tr>\n",
       "    <tr>\n",
       "      <th>101445</th>\n",
       "      <td>551446</td>\n",
       "      <td>1543139843</td>\n",
       "      <td>3645.60</td>\n",
       "      <td>0.000035</td>\n",
       "      <td>1.627151</td>\n",
       "      <td>2018-11-25 09:57:23</td>\n",
       "      <td>1543139843</td>\n",
       "      <td>14.333333</td>\n",
       "      <td>0.000502</td>\n",
       "      <td>46.690159</td>\n",
       "    </tr>\n",
       "  </tbody>\n",
       "</table>\n",
       "</div>"
      ],
      "text/plain": [
       "        height    unixtime    price  probability of success /Eh  \\\n",
       "101441  551442  1543137762  3604.59                    0.000035   \n",
       "101442  551443  1543137894  3604.59                    0.000035   \n",
       "101443  551444  1543138811  3645.60                    0.000035   \n",
       "101444  551445  1543138983  3645.60                    0.000035   \n",
       "101445  551446  1543139843  3645.60                    0.000035   \n",
       "\n",
       "        expected return (USD/Eh)                 time  adjusted_unixtime  \\\n",
       "101441                  1.577661  2018-11-25 09:22:42         1543137762   \n",
       "101442                  1.584459  2018-11-25 09:24:54         1543137894   \n",
       "101443                  1.631278  2018-11-25 09:40:11         1543138811   \n",
       "101444                  1.602982  2018-11-25 09:43:03         1543138983   \n",
       "101445                  1.627151  2018-11-25 09:57:23         1543139843   \n",
       "\n",
       "        adjusted_blocktime  winrate*blocktime  hashrate_estimated  \n",
       "101441            0.433333           0.000015           46.809131  \n",
       "101442            2.200000           0.000077           47.351005  \n",
       "101443           15.283333           0.000535           46.964061  \n",
       "101444            2.866667           0.000100           46.938882  \n",
       "101445           14.333333           0.000502           46.690159  "
      ]
     },
     "execution_count": 3,
     "metadata": {},
     "output_type": "execute_result"
    }
   ],
   "source": [
    "df_BTC_sim_period = pd.read_csv('../data/BTC_sim_period.csv', index_col=0)\n",
    "df_BTC_sim_period.head()"
   ]
  },
  {
   "cell_type": "code",
   "execution_count": 4,
   "metadata": {
    "ExecuteTime": {
     "end_time": "2020-08-07T09:47:34.512173Z",
     "start_time": "2020-08-07T09:47:34.496649Z"
    }
   },
   "outputs": [
    {
     "data": {
      "text/html": [
       "<div>\n",
       "<style scoped>\n",
       "    .dataframe tbody tr th:only-of-type {\n",
       "        vertical-align: middle;\n",
       "    }\n",
       "\n",
       "    .dataframe tbody tr th {\n",
       "        vertical-align: top;\n",
       "    }\n",
       "\n",
       "    .dataframe thead th {\n",
       "        text-align: right;\n",
       "    }\n",
       "</style>\n",
       "<table border=\"1\" class=\"dataframe\">\n",
       "  <thead>\n",
       "    <tr style=\"text-align: right;\">\n",
       "      <th></th>\n",
       "      <th>height</th>\n",
       "      <th>unixtime</th>\n",
       "      <th>price</th>\n",
       "      <th>probability of success /Eh</th>\n",
       "      <th>expected return (USD/Eh)</th>\n",
       "      <th>time</th>\n",
       "      <th>adjusted_unixtime</th>\n",
       "      <th>adjusted_blocktime</th>\n",
       "      <th>winrate*blocktime</th>\n",
       "      <th>hashrate_estimated</th>\n",
       "    </tr>\n",
       "  </thead>\n",
       "  <tbody>\n",
       "    <tr>\n",
       "      <th>113414</th>\n",
       "      <td>563415</td>\n",
       "      <td>1550391691</td>\n",
       "      <td>3598.02</td>\n",
       "      <td>0.000038</td>\n",
       "      <td>1.733188</td>\n",
       "      <td>2019-02-17 08:21:31</td>\n",
       "      <td>1550391691</td>\n",
       "      <td>2.700000</td>\n",
       "      <td>0.000104</td>\n",
       "      <td>54.049059</td>\n",
       "    </tr>\n",
       "    <tr>\n",
       "      <th>113415</th>\n",
       "      <td>563416</td>\n",
       "      <td>1550391772</td>\n",
       "      <td>3598.02</td>\n",
       "      <td>0.000038</td>\n",
       "      <td>1.729134</td>\n",
       "      <td>2019-02-17 08:22:52</td>\n",
       "      <td>1550391772</td>\n",
       "      <td>1.350000</td>\n",
       "      <td>0.000052</td>\n",
       "      <td>54.150551</td>\n",
       "    </tr>\n",
       "    <tr>\n",
       "      <th>113416</th>\n",
       "      <td>563417</td>\n",
       "      <td>1550392109</td>\n",
       "      <td>3598.02</td>\n",
       "      <td>0.000038</td>\n",
       "      <td>1.737419</td>\n",
       "      <td>2019-02-17 08:28:29</td>\n",
       "      <td>1550392109</td>\n",
       "      <td>5.616667</td>\n",
       "      <td>0.000216</td>\n",
       "      <td>54.660594</td>\n",
       "    </tr>\n",
       "    <tr>\n",
       "      <th>113417</th>\n",
       "      <td>563418</td>\n",
       "      <td>1550392145</td>\n",
       "      <td>3598.02</td>\n",
       "      <td>0.000038</td>\n",
       "      <td>1.727610</td>\n",
       "      <td>2019-02-17 08:29:05</td>\n",
       "      <td>1550392145</td>\n",
       "      <td>0.600000</td>\n",
       "      <td>0.000023</td>\n",
       "      <td>54.778001</td>\n",
       "    </tr>\n",
       "    <tr>\n",
       "      <th>113418</th>\n",
       "      <td>563419</td>\n",
       "      <td>1550392681</td>\n",
       "      <td>3600.18</td>\n",
       "      <td>0.000038</td>\n",
       "      <td>1.745050</td>\n",
       "      <td>2019-02-17 08:38:01</td>\n",
       "      <td>1550392681</td>\n",
       "      <td>8.933333</td>\n",
       "      <td>0.000343</td>\n",
       "      <td>54.724426</td>\n",
       "    </tr>\n",
       "  </tbody>\n",
       "</table>\n",
       "</div>"
      ],
      "text/plain": [
       "        height    unixtime    price  probability of success /Eh  \\\n",
       "113414  563415  1550391691  3598.02                    0.000038   \n",
       "113415  563416  1550391772  3598.02                    0.000038   \n",
       "113416  563417  1550392109  3598.02                    0.000038   \n",
       "113417  563418  1550392145  3598.02                    0.000038   \n",
       "113418  563419  1550392681  3600.18                    0.000038   \n",
       "\n",
       "        expected return (USD/Eh)                 time  adjusted_unixtime  \\\n",
       "113414                  1.733188  2019-02-17 08:21:31         1550391691   \n",
       "113415                  1.729134  2019-02-17 08:22:52         1550391772   \n",
       "113416                  1.737419  2019-02-17 08:28:29         1550392109   \n",
       "113417                  1.727610  2019-02-17 08:29:05         1550392145   \n",
       "113418                  1.745050  2019-02-17 08:38:01         1550392681   \n",
       "\n",
       "        adjusted_blocktime  winrate*blocktime  hashrate_estimated  \n",
       "113414            2.700000           0.000104           54.049059  \n",
       "113415            1.350000           0.000052           54.150551  \n",
       "113416            5.616667           0.000216           54.660594  \n",
       "113417            0.600000           0.000023           54.778001  \n",
       "113418            8.933333           0.000343           54.724426  "
      ]
     },
     "execution_count": 4,
     "metadata": {},
     "output_type": "execute_result"
    }
   ],
   "source": [
    "df_BTC_sim_period.tail()"
   ]
  },
  {
   "cell_type": "code",
   "execution_count": 6,
   "metadata": {
    "ExecuteTime": {
     "end_time": "2020-08-07T09:49:12.678952Z",
     "start_time": "2020-08-07T09:49:12.673634Z"
    }
   },
   "outputs": [
    {
     "data": {
      "text/plain": [
       "array([ 0.   ,  0.002,  0.012, ..., 83.962, 83.963, 83.969])"
      ]
     },
     "execution_count": 6,
     "metadata": {},
     "output_type": "execute_result"
    }
   ],
   "source": [
    "time_real = df_BTC_sim_period['unixtime'].values\n",
    "time_real = time_real - time_real[0]\n",
    "time_real = time_real/(1440*60)\n",
    "time_real"
   ]
  },
  {
   "cell_type": "code",
   "execution_count": 7,
   "metadata": {
    "ExecuteTime": {
     "end_time": "2020-08-07T09:49:15.417223Z",
     "start_time": "2020-08-07T09:49:14.134591Z"
    },
    "scrolled": false
   },
   "outputs": [
    {
     "data": {
      "image/png": "[encoded data removed]",
      "text/plain": [
       "<Figure size 576x1080 with 5 Axes>"
      ]
     },
     "metadata": {},
     "output_type": "display_data"
    }
   ],
   "source": [
    "mpl.pyplot.rcParams['figure.figsize'] = (8.0, 15.0)\n",
    "\n",
    "# 指数表示を禁止する方法がわからない(8/7)\n",
    "np.set_printoptions(suppress=True)\n",
    "\n",
    "win_rates = df_BTC_sim_period['probability of success /Eh'].values\n",
    "rewards = df_BTC_sim_period['expected return (USD/Eh)'].values\n",
    "hash_rates = df_BTC_sim_period['hashrate_estimated'].values\n",
    "block_times = df_BTC_sim_period['adjusted_blocktime'].values\n",
    "prices = df_BTC_sim_period['price'].values\n",
    "\n",
    "fig = plt.figure()\n",
    "ax1 = fig.add_subplot(5,1,1)\n",
    "ax1.get_yaxis().get_major_formatter().set_useOffset(False)\n",
    "ax1.plot(time_real, win_rates)\n",
    "ax1.set_xlabel('time (day)')\n",
    "ax1.set_ylabel('Winning Rate $W(t)$\\n(Pr(Success)/Ehash)')\n",
    "ax1.set_title('Real Data')\n",
    "\n",
    "ax2 = fig.add_subplot(5,1,2)\n",
    "ax2.plot(time_real, rewards)\n",
    "ax2.set_xlabel('time (day)')\n",
    "ax2.set_ylabel('Reward $R(t)$\\n(USD/Ehash)')\n",
    "\n",
    "ax3 = fig.add_subplot(5,1,3)\n",
    "ax3.plot(time_real, hash_rates)\n",
    "ax3.set_xlabel('time (day)')\n",
    "ax3.set_ylabel('Hash Rate $H(t)$\\n(Ehash/s)')\n",
    "\n",
    "ax4 = fig.add_subplot(5,1,4)\n",
    "ax4.plot(time_real, block_times)\n",
    "ax4.set_xlabel('time (day)')\n",
    "ax4.set_ylabel('Block Time $B(t)$\\n(min.)')\n",
    "\n",
    "ax5 = fig.add_subplot(5,1,5)\n",
    "ax5.plot(time_real, prices)\n",
    "ax5.set_xlabel('time (day)')\n",
    "ax5.set_ylabel('Price $S(t)$\\n(USD)')\n",
    "\n",
    "\n",
    "plt.tight_layout()\n",
    "fig.align_labels()\n",
    "plt.show()"
   ]
  },
  {
   "cell_type": "code",
   "execution_count": null,
   "metadata": {},
   "outputs": [],
   "source": []
  }
 ],
 "metadata": {
  "kernelspec": {
   "display_name": "Python 3",
   "language": "python",
   "name": "python3"
  },
  "language_info": {
   "codemirror_mode": {
    "name": "ipython",
    "version": 3
   },
   "file_extension": ".py",
   "mimetype": "text/x-python",
   "name": "python",
   "nbconvert_exporter": "python",
   "pygments_lexer": "ipython3",
   "version": "3.8.5"
  },
  "latex_envs": {
   "LaTeX_envs_menu_present": true,
   "autoclose": false,
   "autocomplete": true,
   "bibliofile": "biblio.bib",
   "cite_by": "apalike",
   "current_citInitial": 1,
   "eqLabelWithNumbers": true,
   "eqNumInitial": 1,
   "hotkeys": {
    "equation": "Ctrl-E",
    "itemize": "Ctrl-I"
   },
   "labels_anchors": false,
   "latex_user_defs": false,
   "report_style_numbering": false,
   "user_envs_cfg": false
  },
  "varInspector": {
   "cols": {
    "lenName": 16,
    "lenType": 16,
    "lenVar": 40
   },
   "kernels_config": {
    "python": {
     "delete_cmd_postfix": "",
     "delete_cmd_prefix": "del ",
     "library": "var_list.py",
     "varRefreshCmd": "print(var_dic_list())"
    },
    "r": {
     "delete_cmd_postfix": ") ",
     "delete_cmd_prefix": "rm(",
     "library": "var_list.r",
     "varRefreshCmd": "cat(var_dic_list()) "
    }
   },
   "types_to_exclude": [
    "module",
    "function",
    "builtin_function_or_method",
    "instance",
    "_Feature"
   ],
   "window_display": false
  }
 },
 "nbformat": 4,
 "nbformat_minor": 4
}
