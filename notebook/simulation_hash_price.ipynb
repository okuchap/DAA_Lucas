{
 "cells": [
  {
   "cell_type": "code",
   "execution_count": 1,
   "metadata": {},
   "outputs": [],
   "source": [
    "%matplotlib inline\n",
    "%load_ext autoreload\n",
    "import numpy as np\n",
    "import matplotlib as mpl\n",
    "import matplotlib.pyplot as plt\n",
    "import pandas as pd\n",
    "import pathlib\n",
    "import time\n",
    "from datetime import datetime\n",
    "import scipy.optimize as opt\n",
    "np.set_printoptions(precision=3)\n",
    "np.set_printoptions(suppress=True)\n",
    "plt.style.use(\"ggplot\")\n",
    "mpl.pyplot.rcParams['figure.figsize'] = (5.0, 4.0)\n",
    "plt.rcParams[\"font.size\"] = 13\n",
    "#mpl.rcParams[\"font.family\"] = 'Osaka'\n",
    "\n",
    "import sys\n",
    "sys.path.append('../code/')\n",
    "\n",
    "from simulation_hash_price import *\n",
    "from simulation_fixed_path import make_stats\n",
    "from hash import *\n",
    "from plot_path import *"
   ]
  },
  {
   "cell_type": "markdown",
   "metadata": {},
   "source": [
    "## Setup"
   ]
  },
  {
   "cell_type": "code",
   "execution_count": 2,
   "metadata": {},
   "outputs": [
    {
     "data": {
      "text/plain": [
       "(543835, 556458)"
      ]
     },
     "execution_count": 2,
     "metadata": {},
     "output_type": "execute_result"
    }
   ],
   "source": [
    "path = '../data/BTCdata_2018OctDec.csv'\n",
    "df_oct_dec = pd.read_csv(path)\n",
    "df_oct_dec = df_oct_dec.dropna()\n",
    "df_oct_dec['height'].min(), df_oct_dec['height'].max()"
   ]
  },
  {
   "cell_type": "code",
   "execution_count": 3,
   "metadata": {},
   "outputs": [],
   "source": [
    "path = '../data/BTCdata_2.csv'\n",
    "df_full = pd.read_csv(path)\n",
    "df_full = df_full.dropna()"
   ]
  },
  {
   "cell_type": "code",
   "execution_count": 4,
   "metadata": {},
   "outputs": [],
   "source": [
    "df_full = df_full[df_full['height']<=556458]\n",
    "df = df_full[543835<=df_full['height']]"
   ]
  },
  {
   "cell_type": "code",
   "execution_count": 5,
   "metadata": {},
   "outputs": [
    {
     "data": {
      "text/plain": [
       "(31.518279011878057, 67.11306695962713)"
      ]
     },
     "execution_count": 5,
     "metadata": {},
     "output_type": "execute_result"
    }
   ],
   "source": [
    "df['hashrate'].min(), df['hashrate'].max()"
   ]
  },
  {
   "cell_type": "code",
   "execution_count": 7,
   "metadata": {},
   "outputs": [
    {
     "data": {
      "text/plain": [
       "2.201776649746193e-06"
      ]
     },
     "execution_count": 7,
     "metadata": {},
     "output_type": "execute_result"
    }
   ],
   "source": [
    "6.94 * (10**(-5)) / 31.52"
   ]
  },
  {
   "cell_type": "markdown",
   "metadata": {},
   "source": [
    "* Let $H_{min} := H(0) = 31.52$.\n",
    "* Assume a positive relation between hash rate and drift\n",
    "  - more hash rate -> less probability of system's collapse -> the present value of bitcoin goes up\n",
    "* Let $\\mu(t)$ be period-$t$ drift and assume the following version of geometric Brownian motion:\n",
    "$$\n",
    "S(t+1) - S(t) = \\mu(t) S(t) B(t) + \\sigma S(t) \\sqrt{B(t)} \\epsilon (t),\n",
    "$$\n",
    "where $\\epsilon(t)$ i.i.d.-drawn from $\\mathcal{N}(0,1)$.\n",
    "* We assume the following functional form:\n",
    "$$\n",
    "\\mu(t) = \\beta (H(t) - H(0)),\n",
    "$$\n",
    "* We tried different $\\beta \\in \\{1.0 \\times 10^{-6}, 1.5 \\times 10^{-6}, 2.0 \\times 10^{-6}, 2.5 \\times 10^{-6}, 3.0 \\times 10^{-6}\\}$.\n",
    "  - The drift is assumed to be (1) zero if the hash rate stays at the same level as the one on the first day of the simulation, and (2) -10%/day if the hash rate is zero when $\\beta = 2.20  \\times 10^{-6}$."
   ]
  },
  {
   "cell_type": "markdown",
   "metadata": {},
   "source": [
    "## Simulation"
   ]
  },
  {
   "cell_type": "code",
   "execution_count": null,
   "metadata": {},
   "outputs": [],
   "source": [
    "# generate epsilons\n",
    "num_iter = 5000\n",
    "\n",
    "df_epsilon = pd.DataFrame()\n",
    "for iter in range(num_iter):\n",
    "    df_epsilon['iter_{}'.format(iter)] = np.random.normal(size=20000)\n",
    "df_epsilon.to_csv('/Volumes/Data/research/BDA/simulation/sim_epsilons_{}obs.csv'.format(num_iter), index=False)    "
   ]
  },
  {
   "cell_type": "code",
   "execution_count": 6,
   "metadata": {},
   "outputs": [],
   "source": [
    "path = '../data/BTCdata_presim.csv'\n",
    "df = pd.read_csv(path)\n",
    "df['time'] = pd.to_datetime(df['time'])\n",
    "df = df.rename(columns={'blocktime': 'block_times', 'price': 'prices', 'probability of success /Eh': 'winning_rates'})"
   ]
  },
  {
   "cell_type": "code",
   "execution_count": 13,
   "metadata": {},
   "outputs": [],
   "source": [
    "beta_list = np.arange(1, 3.5, 0.5)*(10**(-6))"
   ]
  },
  {
   "cell_type": "code",
   "execution_count": 10,
   "metadata": {},
   "outputs": [],
   "source": [
    "beta_list = np.arange(2, 3.5, 0.5)*(10**(-6))"
   ]
  },
  {
   "cell_type": "code",
   "execution_count": 12,
   "metadata": {},
   "outputs": [
    {
     "name": "stdout",
     "output_type": "stream",
     "text": [
      "2e-06\n",
      "2022-06-07 21:01:12.022533\n",
      "2022-06-08 00:05:49.914893\n",
      "2022-06-08 01:42:05.241552\n",
      "2022-06-08 03:20:14.586901\n",
      "2.4999999999999998e-06\n",
      "2022-06-08 03:20:14.587074\n",
      "2022-06-08 06:20:51.650392\n",
      "2022-06-08 07:55:28.591876\n",
      "2022-06-08 09:33:53.617928\n",
      "3e-06\n",
      "2022-06-08 09:33:53.618404\n",
      "2022-06-08 12:26:20.819424\n",
      "2022-06-08 14:01:19.596019\n",
      "2022-06-08 15:40:12.253181\n"
     ]
    }
   ],
   "source": [
    "# takes ?? hours\n",
    "for beta in beta_list:\n",
    "    print(beta)\n",
    "    print(datetime.now())\n",
    "    generate_simulation_data(beta=beta, num_iter=5000, prev_data=df)\n",
    "    print(datetime.now())\n",
    "    generate_simulation_data_DAA0(beta=beta, num_iter=5000, prev_data=df)\n",
    "    print(datetime.now())\n",
    "    generate_simulation_data_asert(beta=beta, num_iter=5000, prev_data=df)\n",
    "    print(datetime.now())"
   ]
  },
  {
   "cell_type": "markdown",
   "metadata": {},
   "source": [
    "## Block statistics"
   ]
  },
  {
   "cell_type": "code",
   "execution_count": 20,
   "metadata": {},
   "outputs": [
    {
     "name": "stdout",
     "output_type": "stream",
     "text": [
      "beta = 1.0\n",
      "         hash-price_DAA_asert_blocktime_ps0_5000obs_T=None_beta1.0.csv  \\\n",
      "mean                                               9.97151               \n",
      "std                                               10.01071               \n",
      "over60                                             1.00000               \n",
      "over120                                            0.08880               \n",
      "over180                                            0.00060               \n",
      "\n",
      "         hash-price_DAA-0_blocktime_ps0_5000obs_beta1.0.csv  \\\n",
      "mean                                              9.971293    \n",
      "std                                               9.969095    \n",
      "over60                                            1.000000    \n",
      "over120                                           0.065000    \n",
      "over180                                           0.000400    \n",
      "\n",
      "         hash-price_DAA-1_blocktime_ps0_5000obs_T=None_beta1.0.csv  \\\n",
      "mean                                             17.059890           \n",
      "std                                              33.064603           \n",
      "over60                                            1.000000           \n",
      "over120                                           0.603800           \n",
      "over180                                           0.346800           \n",
      "\n",
      "         hash-price_DAA-2_blocktime_ps0_5000obs_T=None_beta1.0.csv  \n",
      "mean                                             10.020441          \n",
      "std                                              10.128920          \n",
      "over60                                            1.000000          \n",
      "over120                                           0.127000          \n",
      "over180                                           0.000600          \n",
      "\n",
      "beta = 1.5\n",
      "         hash-price_DAA_asert_blocktime_ps0_5000obs_T=None_beta1.5.csv  \\\n",
      "mean                                              9.967471               \n",
      "std                                              10.001957               \n",
      "over60                                            1.000000               \n",
      "over120                                           0.086400               \n",
      "over180                                           0.000600               \n",
      "\n",
      "         hash-price_DAA-0_blocktime_ps0_5000obs_beta1.5.csv  \\\n",
      "mean                                              9.982777    \n",
      "std                                               9.980506    \n",
      "over60                                            1.000000    \n",
      "over120                                           0.065800    \n",
      "over180                                           0.000400    \n",
      "\n",
      "         hash-price_DAA-1_blocktime_ps0_5000obs_T=None_beta1.5.csv  \\\n",
      "mean                                             28.780379           \n",
      "std                                              59.327994           \n",
      "over60                                            1.000000           \n",
      "over120                                           0.603600           \n",
      "over180                                           0.364200           \n",
      "\n",
      "         hash-price_DAA-2_blocktime_ps0_5000obs_T=None_beta1.5.csv  \n",
      "mean                                             10.020924          \n",
      "std                                              10.114525          \n",
      "over60                                            1.000000          \n",
      "over120                                           0.117800          \n",
      "over180                                           0.000400          \n",
      "\n",
      "beta = 2.0\n",
      "         hash-price_DAA_asert_blocktime_ps0_5000obs_T=None_beta2.0.csv  \\\n",
      "mean                                              9.966677               \n",
      "std                                               9.999151               \n",
      "over60                                            1.000000               \n",
      "over120                                           0.086600               \n",
      "over180                                           0.000600               \n",
      "\n",
      "         hash-price_DAA-0_blocktime_ps0_5000obs_beta2.0.csv  \\\n",
      "mean                                              9.987376    \n",
      "std                                               9.985101    \n",
      "over60                                            1.000000    \n",
      "over120                                           0.066200    \n",
      "over180                                           0.000400    \n",
      "\n",
      "         hash-price_DAA-1_blocktime_ps0_5000obs_T=None_beta2.0.csv  \\\n",
      "mean                                             46.638837           \n",
      "std                                             103.882354           \n",
      "over60                                            1.000000           \n",
      "over120                                           0.618400           \n",
      "over180                                           0.419200           \n",
      "\n",
      "         hash-price_DAA-2_blocktime_ps0_5000obs_T=None_beta2.0.csv  \n",
      "mean                                             10.021440          \n",
      "std                                              10.108243          \n",
      "over60                                            1.000000          \n",
      "over120                                           0.114200          \n",
      "over180                                           0.000400          \n",
      "\n",
      "beta = 2.5\n",
      "         hash-price_DAA_asert_blocktime_ps0_5000obs_T=None_beta2.5.csv  \\\n",
      "mean                                              9.966600               \n",
      "std                                               9.998189               \n",
      "over60                                            1.000000               \n",
      "over120                                           0.086200               \n",
      "over180                                           0.000600               \n",
      "\n",
      "         hash-price_DAA-0_blocktime_ps0_5000obs_beta2.5.csv  \\\n",
      "mean                                              9.989646    \n",
      "std                                               9.987349    \n",
      "over60                                            1.000000    \n",
      "over120                                           0.066400    \n",
      "over180                                           0.000400    \n",
      "\n",
      "         hash-price_DAA-1_blocktime_ps0_5000obs_T=None_beta2.5.csv  \\\n",
      "mean                                             64.576696           \n",
      "std                                             150.443308           \n",
      "over60                                            1.000000           \n",
      "over120                                           0.635000           \n",
      "over180                                           0.484400           \n",
      "\n",
      "         hash-price_DAA-2_blocktime_ps0_5000obs_T=None_beta2.5.csv  \n",
      "mean                                             10.021757          \n",
      "std                                              10.104914          \n",
      "over60                                            1.000000          \n",
      "over120                                           0.112200          \n",
      "over180                                           0.000400          \n",
      "\n",
      "beta = 3.0\n",
      "         hash-price_DAA_asert_blocktime_ps0_5000obs_T=None_beta3.0.csv  \\\n",
      "mean                                              9.966476               \n",
      "std                                               9.997621               \n",
      "over60                                            1.000000               \n",
      "over120                                           0.086200               \n",
      "over180                                           0.000600               \n",
      "\n",
      "         hash-price_DAA-0_blocktime_ps0_5000obs_beta3.0.csv  \\\n",
      "mean                                              9.991084    \n",
      "std                                               9.988788    \n",
      "over60                                            1.000000    \n",
      "over120                                           0.066200    \n",
      "over180                                           0.000400    \n",
      "\n",
      "         hash-price_DAA-1_blocktime_ps0_5000obs_T=None_beta3.0.csv  \\\n",
      "mean                                             80.122692           \n",
      "std                                             191.056745           \n",
      "over60                                            1.000000           \n",
      "over120                                           0.649400           \n",
      "over180                                           0.529200           \n",
      "\n",
      "         hash-price_DAA-2_blocktime_ps0_5000obs_T=None_beta3.0.csv  \n",
      "mean                                             10.021989          \n",
      "std                                              10.102908          \n",
      "over60                                            1.000000          \n",
      "over120                                           0.111200          \n",
      "over180                                           0.000400          \n",
      "\n"
     ]
    }
   ],
   "source": [
    "dir_sim = '/Volumes/Data/research/BDA/simulation/'\n",
    "for beta in np.arange(1, 3.5, 0.5):\n",
    "    print('beta = {}'.format(beta))\n",
    "    filelist = [dir_sim+'hash-price_DAA_asert_blocktime_ps0_5000obs_T=None_beta{}.csv'.format(beta),\n",
    "                dir_sim+'hash-price_DAA-0_blocktime_ps0_5000obs_beta{}.csv'.format(beta),\n",
    "                dir_sim+'hash-price_DAA-1_blocktime_ps0_5000obs_T=None_beta{}.csv'.format(beta),\n",
    "                dir_sim+'hash-price_DAA-2_blocktime_ps0_5000obs_T=None_beta{}.csv'.format(beta)]\n",
    "    df_stats = make_stats(filelist=filelist, dir_sim=dir_sim)\n",
    "    print(df_stats)\n",
    "    print()"
   ]
  },
  {
   "cell_type": "code",
   "execution_count": null,
   "metadata": {},
   "outputs": [],
   "source": []
  }
 ],
 "metadata": {
  "interpreter": {
   "hash": "ebad9a9b3adef449618e73362aa11e3412ef08f15cb10dfd0a8292549b15413e"
  },
  "kernelspec": {
   "display_name": "Python 3.8.9 ('.venv': pipenv)",
   "language": "python",
   "name": "python3"
  },
  "language_info": {
   "codemirror_mode": {
    "name": "ipython",
    "version": 3
   },
   "file_extension": ".py",
   "mimetype": "text/x-python",
   "name": "python",
   "nbconvert_exporter": "python",
   "pygments_lexer": "ipython3",
   "version": "3.8.9"
  },
  "orig_nbformat": 4
 },
 "nbformat": 4,
 "nbformat_minor": 2
}
