{
 "cells": [
  {
   "cell_type": "code",
   "execution_count": 1,
   "metadata": {},
   "outputs": [],
   "source": [
    "%matplotlib inline\n",
    "%load_ext autoreload\n",
    "import numpy as np\n",
    "import matplotlib as mpl\n",
    "import matplotlib.pyplot as plt\n",
    "import pandas as pd\n",
    "import pathlib\n",
    "import time\n",
    "from datetime import datetime\n",
    "import scipy.optimize as opt\n",
    "np.set_printoptions(precision=3)\n",
    "np.set_printoptions(suppress=True)\n",
    "plt.style.use(\"ggplot\")\n",
    "mpl.pyplot.rcParams['figure.figsize'] = (5.0, 4.0)\n",
    "plt.rcParams[\"font.size\"] = 13\n",
    "#mpl.rcParams[\"font.family\"] = 'Osaka'\n",
    "\n",
    "import sys\n",
    "sys.path.append('../code/')\n",
    "\n",
    "from simulation_hash_price import *\n",
    "from simulation_fixed_path import make_stats\n",
    "from hash import *\n",
    "from plot_path import *"
   ]
  },
  {
   "cell_type": "markdown",
   "metadata": {},
   "source": [
    "## Setup"
   ]
  },
  {
   "cell_type": "code",
   "execution_count": 2,
   "metadata": {},
   "outputs": [
    {
     "data": {
      "text/plain": [
       "(543835, 556458)"
      ]
     },
     "execution_count": 2,
     "metadata": {},
     "output_type": "execute_result"
    }
   ],
   "source": [
    "path = '../data/BTCdata_2018OctDec.csv'\n",
    "df_oct_dec = pd.read_csv(path)\n",
    "df_oct_dec = df_oct_dec.dropna()\n",
    "df_oct_dec['height'].min(), df_oct_dec['height'].max()"
   ]
  },
  {
   "cell_type": "code",
   "execution_count": 3,
   "metadata": {},
   "outputs": [],
   "source": [
    "path = '../data/BTCdata_2.csv'\n",
    "df_full = pd.read_csv(path)\n",
    "df_full = df_full.dropna()"
   ]
  },
  {
   "cell_type": "code",
   "execution_count": 4,
   "metadata": {},
   "outputs": [],
   "source": [
    "df_full = df_full[df_full['height']<=556458]\n",
    "df = df_full[543835<=df_full['height']]"
   ]
  },
  {
   "cell_type": "code",
   "execution_count": 5,
   "metadata": {},
   "outputs": [
    {
     "data": {
      "text/plain": [
       "(31.518279011878057, 67.11306695962713)"
      ]
     },
     "execution_count": 5,
     "metadata": {},
     "output_type": "execute_result"
    }
   ],
   "source": [
    "df['hashrate'].min(), df['hashrate'].max()"
   ]
  },
  {
   "cell_type": "code",
   "execution_count": 9,
   "metadata": {},
   "outputs": [
    {
     "data": {
      "text/plain": [
       "6.944444444444444e-05"
      ]
     },
     "execution_count": 9,
     "metadata": {},
     "output_type": "execute_result"
    }
   ],
   "source": [
    "0.1 / (24*60)"
   ]
  },
  {
   "cell_type": "code",
   "execution_count": 11,
   "metadata": {},
   "outputs": [
    {
     "data": {
      "text/plain": [
       "2.2033069895178425e-06"
      ]
     },
     "execution_count": 11,
     "metadata": {},
     "output_type": "execute_result"
    }
   ],
   "source": [
    "H_min = 31.518279011878057\n",
    "beta = -0.1 / (24*60)\n",
    "alpha = -beta/H_min\n",
    "alpha"
   ]
  },
  {
   "cell_type": "markdown",
   "metadata": {},
   "source": [
    "* Let $H_{min} := 31.52$.\n",
    "* Assume a positive relation between hash rate and drift\n",
    "  - more hash rate -> less probability of system's collapse -> the present value of bitcoin goes up\n",
    "* Let $\\mu(t)$ be period-$t$ drift and assume the following version of geometric Brownian motion:\n",
    "$$\n",
    "S(t+1) - S(t) = \\mu(t) S(t) B(t) + \\sigma S(t) \\sqrt{B(t)} \\epsilon (t),\n",
    "$$\n",
    "where $\\epsilon(t)$ i.i.d.-drawn from $\\mathcal{N}(0,1)$.\n",
    "* We assume the following affine functional form:\n",
    "$$\n",
    "\\mu(t) = \\alpha H(t) + \\beta,\n",
    "$$\n",
    "that satisfies\n",
    "$$\n",
    "\\beta \\approx -6.94 \\times 10^{-5}, \\alpha H_{min} + \\beta = 0.\n",
    "$$\n",
    "  - $\\alpha \\approx 2.20 \\times 10^{-6}$.\n",
    "  - $\\beta$/min $\\approx -0.1$/day\n",
    "  - The drift is assumed to be (1) zero if the hash rate stays at the same level as the one on the first day of the simulation, and (2) -10%/day if the hash rate is zero."
   ]
  },
  {
   "cell_type": "markdown",
   "metadata": {},
   "source": [
    "## Simulation"
   ]
  },
  {
   "cell_type": "code",
   "execution_count": null,
   "metadata": {},
   "outputs": [],
   "source": [
    "# generate epsilons\n",
    "num_iter = 5000\n",
    "\n",
    "df_epsilon = pd.DataFrame()\n",
    "for iter in range(num_iter):\n",
    "    df_epsilon['iter_{}'.format(iter)] = np.random.normal(size=20000)\n",
    "df_epsilon.to_csv('/Volumes/Data/research/BDA/simulation/sim_epsilons_{}obs.csv'.format(num_iter), index=False)    "
   ]
  },
  {
   "cell_type": "code",
   "execution_count": 5,
   "metadata": {},
   "outputs": [],
   "source": [
    "path = '../data/BTCdata_presim.csv'\n",
    "df = pd.read_csv(path)\n",
    "df['time'] = pd.to_datetime(df['time'])\n",
    "df = df.rename(columns={'blocktime': 'block_times', 'price': 'prices', 'probability of success /Eh': 'winning_rates'})"
   ]
  },
  {
   "cell_type": "code",
   "execution_count": 6,
   "metadata": {},
   "outputs": [
    {
     "name": "stdout",
     "output_type": "stream",
     "text": [
      "2022-02-26 15:25:19.773698\n",
      "2022-02-26 18:39:54.259987\n",
      "2022-02-26 20:23:23.718430\n",
      "2022-02-26 22:09:50.689070\n"
     ]
    }
   ],
   "source": [
    "# takes ?? hours\n",
    "print(datetime.now())\n",
    "generate_simulation_data(num_iter=5000, prev_data=df)\n",
    "print(datetime.now())\n",
    "generate_simulation_data_DAA0(num_iter=5000, prev_data=df)\n",
    "print(datetime.now())\n",
    "generate_simulation_data_asert(num_iter=5000, prev_data=df)\n",
    "print(datetime.now())"
   ]
  },
  {
   "cell_type": "markdown",
   "metadata": {},
   "source": [
    "## Block statistics"
   ]
  },
  {
   "cell_type": "code",
   "execution_count": 7,
   "metadata": {},
   "outputs": [],
   "source": [
    "dir_sim = '/Volumes/Data/research/BDA/simulation/'\n",
    "filelist = [dir_sim+'hash-price_DAA_asert_blocktime_ps0_5000obs_T=None.csv',\n",
    "            dir_sim+'hash-price_DAA-0_blocktime_ps0_5000obs.csv',\n",
    "            dir_sim+'hash-price_DAA-1_blocktime_ps0_5000obs_T=None.csv',\n",
    "            dir_sim+'hash-price_DAA-2_blocktime_ps0_5000obs_T=None.csv']\n",
    "df_stats = make_stats(filelist=filelist, dir_sim=dir_sim)"
   ]
  },
  {
   "cell_type": "code",
   "execution_count": 8,
   "metadata": {},
   "outputs": [
    {
     "data": {
      "text/html": [
       "<div>\n",
       "<style scoped>\n",
       "    .dataframe tbody tr th:only-of-type {\n",
       "        vertical-align: middle;\n",
       "    }\n",
       "\n",
       "    .dataframe tbody tr th {\n",
       "        vertical-align: top;\n",
       "    }\n",
       "\n",
       "    .dataframe thead th {\n",
       "        text-align: right;\n",
       "    }\n",
       "</style>\n",
       "<table border=\"1\" class=\"dataframe\">\n",
       "  <thead>\n",
       "    <tr style=\"text-align: right;\">\n",
       "      <th></th>\n",
       "      <th>hash-price_DAA_asert_blocktime_ps0_5000obs_T=None.csv</th>\n",
       "      <th>hash-price_DAA-0_blocktime_ps0_5000obs.csv</th>\n",
       "      <th>hash-price_DAA-1_blocktime_ps0_5000obs_T=None.csv</th>\n",
       "      <th>hash-price_DAA-2_blocktime_ps0_5000obs_T=None.csv</th>\n",
       "    </tr>\n",
       "  </thead>\n",
       "  <tbody>\n",
       "    <tr>\n",
       "      <th>mean</th>\n",
       "      <td>9.966584</td>\n",
       "      <td>9.988460</td>\n",
       "      <td>54.159598</td>\n",
       "      <td>10.021586</td>\n",
       "    </tr>\n",
       "    <tr>\n",
       "      <th>std</th>\n",
       "      <td>9.998612</td>\n",
       "      <td>9.986182</td>\n",
       "      <td>123.340693</td>\n",
       "      <td>10.106663</td>\n",
       "    </tr>\n",
       "    <tr>\n",
       "      <th>over60</th>\n",
       "      <td>1.000000</td>\n",
       "      <td>1.000000</td>\n",
       "      <td>1.000000</td>\n",
       "      <td>1.000000</td>\n",
       "    </tr>\n",
       "    <tr>\n",
       "      <th>over120</th>\n",
       "      <td>0.086400</td>\n",
       "      <td>0.066200</td>\n",
       "      <td>0.626400</td>\n",
       "      <td>0.113200</td>\n",
       "    </tr>\n",
       "    <tr>\n",
       "      <th>over180</th>\n",
       "      <td>0.000600</td>\n",
       "      <td>0.000400</td>\n",
       "      <td>0.447600</td>\n",
       "      <td>0.000400</td>\n",
       "    </tr>\n",
       "  </tbody>\n",
       "</table>\n",
       "</div>"
      ],
      "text/plain": [
       "         hash-price_DAA_asert_blocktime_ps0_5000obs_T=None.csv  \\\n",
       "mean                                              9.966584       \n",
       "std                                               9.998612       \n",
       "over60                                            1.000000       \n",
       "over120                                           0.086400       \n",
       "over180                                           0.000600       \n",
       "\n",
       "         hash-price_DAA-0_blocktime_ps0_5000obs.csv  \\\n",
       "mean                                       9.988460   \n",
       "std                                        9.986182   \n",
       "over60                                     1.000000   \n",
       "over120                                    0.066200   \n",
       "over180                                    0.000400   \n",
       "\n",
       "         hash-price_DAA-1_blocktime_ps0_5000obs_T=None.csv  \\\n",
       "mean                                             54.159598   \n",
       "std                                             123.340693   \n",
       "over60                                            1.000000   \n",
       "over120                                           0.626400   \n",
       "over180                                           0.447600   \n",
       "\n",
       "         hash-price_DAA-2_blocktime_ps0_5000obs_T=None.csv  \n",
       "mean                                             10.021586  \n",
       "std                                              10.106663  \n",
       "over60                                            1.000000  \n",
       "over120                                           0.113200  \n",
       "over180                                           0.000400  "
      ]
     },
     "execution_count": 8,
     "metadata": {},
     "output_type": "execute_result"
    }
   ],
   "source": [
    "df_stats"
   ]
  },
  {
   "cell_type": "code",
   "execution_count": null,
   "metadata": {},
   "outputs": [],
   "source": []
  }
 ],
 "metadata": {
  "interpreter": {
   "hash": "ebad9a9b3adef449618e73362aa11e3412ef08f15cb10dfd0a8292549b15413e"
  },
  "kernelspec": {
   "display_name": "Python 3.8.9 ('.venv': pipenv)",
   "language": "python",
   "name": "python3"
  },
  "language_info": {
   "codemirror_mode": {
    "name": "ipython",
    "version": 3
   },
   "file_extension": ".py",
   "mimetype": "text/x-python",
   "name": "python",
   "nbconvert_exporter": "python",
   "pygments_lexer": "ipython3",
   "version": "3.8.9"
  },
  "orig_nbformat": 4
 },
 "nbformat": 4,
 "nbformat_minor": 2
}
