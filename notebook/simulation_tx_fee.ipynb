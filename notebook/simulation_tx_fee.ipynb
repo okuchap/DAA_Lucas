{
 "cells": [
  {
   "cell_type": "code",
   "execution_count": 1,
   "metadata": {},
   "outputs": [],
   "source": [
    "%matplotlib inline\n",
    "%load_ext autoreload\n",
    "import numpy as np\n",
    "import matplotlib as mpl\n",
    "import matplotlib.pyplot as plt\n",
    "import pandas as pd\n",
    "import pathlib\n",
    "import time\n",
    "from datetime import datetime\n",
    "import statsmodels.formula.api as smf\n",
    "import statsmodels.api as sm\n",
    "\n",
    "np.set_printoptions(precision=3)\n",
    "np.set_printoptions(suppress=True)\n",
    "plt.style.use(\"ggplot\")\n",
    "mpl.pyplot.rcParams['figure.figsize'] = (5.0, 4.0)\n",
    "plt.rcParams[\"font.size\"] = 13\n",
    "#mpl.rcParams[\"font.family\"] = 'Osaka'\n",
    "\n",
    "import sys\n",
    "sys.path.append('../code/')\n",
    "\n",
    "from simulation_tx_fee import *\n",
    "from simulation_fixed_path import make_stats, stats_tx\n",
    "from hash import *\n",
    "from plot_path import *"
   ]
  },
  {
   "cell_type": "markdown",
   "metadata": {},
   "source": [
    "## Reduced form analysis for transaction fee"
   ]
  },
  {
   "cell_type": "markdown",
   "metadata": {},
   "source": [
    "* See the Appendix in `simulation.ipynb` for the construction of `BTCdata_2018OctDec.csv`."
   ]
  },
  {
   "cell_type": "code",
   "execution_count": 2,
   "metadata": {},
   "outputs": [],
   "source": [
    "path = '../data/BTCdata_2.csv'\n",
    "df_full = pd.read_csv(path, header=0)\n",
    "\n",
    "# during the period, the block reward was 12.5 BTC\n",
    "df_full['tx_fee'] = df_full['reward_BTC'] - 12.5\n",
    "df_full['tx_fee_USD'] = df_full['tx_fee']*df_full['Close']\n",
    "df_tx = df_full[['height', 'tx_fee', 'tx_fee_USD']]\n",
    "\n",
    "path = '../data/BTCdata_2018OctDec.csv'\n",
    "df = pd.read_csv(path, header=0)\n",
    "\n",
    "df = pd.merge(df, df_tx, on='height')"
   ]
  },
  {
   "cell_type": "code",
   "execution_count": 3,
   "metadata": {},
   "outputs": [
    {
     "data": {
      "text/plain": [
       "2117"
      ]
     },
     "execution_count": 3,
     "metadata": {},
     "output_type": "execute_result"
    }
   ],
   "source": [
    "# price data were collected every one hour?\n",
    "df['price'].unique().shape[0]"
   ]
  },
  {
   "cell_type": "markdown",
   "metadata": {},
   "source": [
    "**Problem: price data was collected every one hour**\n",
    "* Price difference is used to measure the speed of price change\n",
    "  - Logic: the faster the price changes, the more transaction investors wants to make, which may increases the transaction fee.\n",
    "* Below, I assume that price difference (= the speed of price change) is constant in each time window (one hour)   "
   ]
  },
  {
   "cell_type": "code",
   "execution_count": 4,
   "metadata": {},
   "outputs": [
    {
     "data": {
      "text/html": [
       "<div>\n",
       "<style scoped>\n",
       "    .dataframe tbody tr th:only-of-type {\n",
       "        vertical-align: middle;\n",
       "    }\n",
       "\n",
       "    .dataframe tbody tr th {\n",
       "        vertical-align: top;\n",
       "    }\n",
       "\n",
       "    .dataframe thead th {\n",
       "        text-align: right;\n",
       "    }\n",
       "</style>\n",
       "<table border=\"1\" class=\"dataframe\">\n",
       "  <thead>\n",
       "    <tr style=\"text-align: right;\">\n",
       "      <th></th>\n",
       "      <th>height</th>\n",
       "      <th>unixtime</th>\n",
       "      <th>price</th>\n",
       "      <th>probability of success /Eh</th>\n",
       "      <th>expected return (USD/Eh)</th>\n",
       "      <th>time</th>\n",
       "      <th>adjusted_unixtime</th>\n",
       "      <th>adjusted_blocktime</th>\n",
       "      <th>adjusted_time</th>\n",
       "      <th>tx_fee</th>\n",
       "      <th>tx_fee_USD</th>\n",
       "      <th>price_diff</th>\n",
       "      <th>ave_blocktime</th>\n",
       "    </tr>\n",
       "  </thead>\n",
       "  <tbody>\n",
       "    <tr>\n",
       "      <th>0</th>\n",
       "      <td>543835</td>\n",
       "      <td>1538352272</td>\n",
       "      <td>6621.3</td>\n",
       "      <td>0.000033</td>\n",
       "      <td>2.720620</td>\n",
       "      <td>2018-10-01 00:04:32</td>\n",
       "      <td>1538352272</td>\n",
       "      <td>18.633333</td>\n",
       "      <td>2018-10-01 00:04:32</td>\n",
       "      <td>0.122639</td>\n",
       "      <td>812.029743</td>\n",
       "      <td>NaN</td>\n",
       "      <td>NaN</td>\n",
       "    </tr>\n",
       "    <tr>\n",
       "      <th>1</th>\n",
       "      <td>543836</td>\n",
       "      <td>1538352799</td>\n",
       "      <td>6621.3</td>\n",
       "      <td>0.000033</td>\n",
       "      <td>2.711797</td>\n",
       "      <td>2018-10-01 00:13:19</td>\n",
       "      <td>1538352799</td>\n",
       "      <td>8.783333</td>\n",
       "      <td>2018-10-01 00:13:19</td>\n",
       "      <td>0.081705</td>\n",
       "      <td>540.990006</td>\n",
       "      <td>11.31</td>\n",
       "      <td>NaN</td>\n",
       "    </tr>\n",
       "    <tr>\n",
       "      <th>2</th>\n",
       "      <td>543837</td>\n",
       "      <td>1538352841</td>\n",
       "      <td>6621.3</td>\n",
       "      <td>0.000033</td>\n",
       "      <td>2.694189</td>\n",
       "      <td>2018-10-01 00:14:01</td>\n",
       "      <td>1538352841</td>\n",
       "      <td>0.700000</td>\n",
       "      <td>2018-10-01 00:14:01</td>\n",
       "      <td>0.000014</td>\n",
       "      <td>0.090579</td>\n",
       "      <td>11.31</td>\n",
       "      <td>NaN</td>\n",
       "    </tr>\n",
       "    <tr>\n",
       "      <th>3</th>\n",
       "      <td>543838</td>\n",
       "      <td>1538352940</td>\n",
       "      <td>6621.3</td>\n",
       "      <td>0.000033</td>\n",
       "      <td>2.697526</td>\n",
       "      <td>2018-10-01 00:15:40</td>\n",
       "      <td>1538352940</td>\n",
       "      <td>1.650000</td>\n",
       "      <td>2018-10-01 00:15:40</td>\n",
       "      <td>0.015493</td>\n",
       "      <td>102.584595</td>\n",
       "      <td>11.31</td>\n",
       "      <td>NaN</td>\n",
       "    </tr>\n",
       "    <tr>\n",
       "      <th>4</th>\n",
       "      <td>543839</td>\n",
       "      <td>1538353463</td>\n",
       "      <td>6621.3</td>\n",
       "      <td>0.000033</td>\n",
       "      <td>2.714195</td>\n",
       "      <td>2018-10-01 00:24:23</td>\n",
       "      <td>1538353463</td>\n",
       "      <td>8.716667</td>\n",
       "      <td>2018-10-01 00:24:23</td>\n",
       "      <td>0.092831</td>\n",
       "      <td>614.664218</td>\n",
       "      <td>11.31</td>\n",
       "      <td>NaN</td>\n",
       "    </tr>\n",
       "  </tbody>\n",
       "</table>\n",
       "</div>"
      ],
      "text/plain": [
       "   height    unixtime   price  probability of success /Eh  \\\n",
       "0  543835  1538352272  6621.3                    0.000033   \n",
       "1  543836  1538352799  6621.3                    0.000033   \n",
       "2  543837  1538352841  6621.3                    0.000033   \n",
       "3  543838  1538352940  6621.3                    0.000033   \n",
       "4  543839  1538353463  6621.3                    0.000033   \n",
       "\n",
       "   expected return (USD/Eh)                 time  adjusted_unixtime  \\\n",
       "0                  2.720620  2018-10-01 00:04:32         1538352272   \n",
       "1                  2.711797  2018-10-01 00:13:19         1538352799   \n",
       "2                  2.694189  2018-10-01 00:14:01         1538352841   \n",
       "3                  2.697526  2018-10-01 00:15:40         1538352940   \n",
       "4                  2.714195  2018-10-01 00:24:23         1538353463   \n",
       "\n",
       "   adjusted_blocktime        adjusted_time    tx_fee  tx_fee_USD  price_diff  \\\n",
       "0           18.633333  2018-10-01 00:04:32  0.122639  812.029743         NaN   \n",
       "1            8.783333  2018-10-01 00:13:19  0.081705  540.990006       11.31   \n",
       "2            0.700000  2018-10-01 00:14:01  0.000014    0.090579       11.31   \n",
       "3            1.650000  2018-10-01 00:15:40  0.015493  102.584595       11.31   \n",
       "4            8.716667  2018-10-01 00:24:23  0.092831  614.664218       11.31   \n",
       "\n",
       "   ave_blocktime  \n",
       "0            NaN  \n",
       "1            NaN  \n",
       "2            NaN  \n",
       "3            NaN  \n",
       "4            NaN  "
      ]
     },
     "execution_count": 4,
     "metadata": {},
     "output_type": "execute_result"
    }
   ],
   "source": [
    "price_diff = df['price'].diff().values\n",
    "temp = 0\n",
    "for i in range(price_diff.shape[0]):\n",
    "    if not np.isclose(price_diff[i], 0):\n",
    "        price_diff[temp:i] = price_diff[i]\n",
    "        temp = i+1\n",
    "df['price_diff'] = np.abs(price_diff)\n",
    "\n",
    "window = 10\n",
    "df['ave_blocktime'] = df[\"adjusted_blocktime\"].rolling(window).mean()\n",
    "\n",
    "df.head()"
   ]
  },
  {
   "cell_type": "markdown",
   "metadata": {},
   "source": [
    "* Run a regression:\n",
    "$$\n",
    "\\log \\text{Tx fee}_t = \\beta_0 + \\beta_1 \\log \\text{Ave. blocktime}_t + \\beta_2 \\log \\text{price}_t + \\beta_3 \\log \\text{price diff}_t + \\epsilon_t,\n",
    "$$\n",
    "where $\\text{price diff}_t := \\text{price}_t - \\text{price}_{t-1}$.\n",
    "\n",
    "* Ave. blocktime is computed using 10 recent blocks."
   ]
  },
  {
   "cell_type": "code",
   "execution_count": 5,
   "metadata": {},
   "outputs": [
    {
     "data": {
      "text/plain": [
       "(12624, 13)"
      ]
     },
     "execution_count": 5,
     "metadata": {},
     "output_type": "execute_result"
    }
   ],
   "source": [
    "df.shape"
   ]
  },
  {
   "cell_type": "code",
   "execution_count": 6,
   "metadata": {},
   "outputs": [
    {
     "data": {
      "text/plain": [
       "(12520, 13)"
      ]
     },
     "execution_count": 6,
     "metadata": {},
     "output_type": "execute_result"
    }
   ],
   "source": [
    "df = df[df['price_diff']!=0]\n",
    "df = df[df['tx_fee']!=0]\n",
    "df = df[df['tx_fee_USD']<10000]\n",
    "df.shape"
   ]
  },
  {
   "cell_type": "code",
   "execution_count": 7,
   "metadata": {},
   "outputs": [],
   "source": [
    "df_reg = df.dropna()\n",
    "X = df_reg[['ave_blocktime', 'price', 'price_diff']]\n",
    "Y = df_reg['tx_fee_USD']"
   ]
  },
  {
   "cell_type": "code",
   "execution_count": 8,
   "metadata": {},
   "outputs": [],
   "source": [
    "results = smf.ols('np.log(tx_fee_USD) ~ np.log(ave_blocktime) + np.log(price) + np.log(price_diff)', data=df_reg).fit()"
   ]
  },
  {
   "cell_type": "code",
   "execution_count": 9,
   "metadata": {},
   "outputs": [
    {
     "data": {
      "text/html": [
       "<table class=\"simpletable\">\n",
       "<caption>OLS Regression Results</caption>\n",
       "<tr>\n",
       "  <th>Dep. Variable:</th>    <td>np.log(tx_fee_USD)</td> <th>  R-squared:         </th> <td>   0.189</td> \n",
       "</tr>\n",
       "<tr>\n",
       "  <th>Model:</th>                    <td>OLS</td>        <th>  Adj. R-squared:    </th> <td>   0.189</td> \n",
       "</tr>\n",
       "<tr>\n",
       "  <th>Method:</th>              <td>Least Squares</td>   <th>  F-statistic:       </th> <td>   973.2</td> \n",
       "</tr>\n",
       "<tr>\n",
       "  <th>Date:</th>              <td>Mon, 06 Jun 2022</td>  <th>  Prob (F-statistic):</th>  <td>  0.00</td>  \n",
       "</tr>\n",
       "<tr>\n",
       "  <th>Time:</th>                  <td>20:56:26</td>      <th>  Log-Likelihood:    </th> <td> -18141.</td> \n",
       "</tr>\n",
       "<tr>\n",
       "  <th>No. Observations:</th>       <td> 12511</td>       <th>  AIC:               </th> <td>3.629e+04</td>\n",
       "</tr>\n",
       "<tr>\n",
       "  <th>Df Residuals:</th>           <td> 12507</td>       <th>  BIC:               </th> <td>3.632e+04</td>\n",
       "</tr>\n",
       "<tr>\n",
       "  <th>Df Model:</th>               <td>     3</td>       <th>                     </th>     <td> </td>    \n",
       "</tr>\n",
       "<tr>\n",
       "  <th>Covariance Type:</th>       <td>nonrobust</td>     <th>                     </th>     <td> </td>    \n",
       "</tr>\n",
       "</table>\n",
       "<table class=\"simpletable\">\n",
       "<tr>\n",
       "            <td></td>               <th>coef</th>     <th>std err</th>      <th>t</th>      <th>P>|t|</th>  <th>[0.025</th>    <th>0.975]</th>  \n",
       "</tr>\n",
       "<tr>\n",
       "  <th>Intercept</th>             <td>   -2.7377</td> <td>    0.323</td> <td>   -8.464</td> <td> 0.000</td> <td>   -3.372</td> <td>   -2.104</td>\n",
       "</tr>\n",
       "<tr>\n",
       "  <th>np.log(ave_blocktime)</th> <td>    1.3849</td> <td>    0.028</td> <td>   49.474</td> <td> 0.000</td> <td>    1.330</td> <td>    1.440</td>\n",
       "</tr>\n",
       "<tr>\n",
       "  <th>np.log(price)</th>         <td>    0.6563</td> <td>    0.037</td> <td>   17.931</td> <td> 0.000</td> <td>    0.585</td> <td>    0.728</td>\n",
       "</tr>\n",
       "<tr>\n",
       "  <th>np.log(price_diff)</th>    <td>    0.1056</td> <td>    0.007</td> <td>   15.768</td> <td> 0.000</td> <td>    0.092</td> <td>    0.119</td>\n",
       "</tr>\n",
       "</table>\n",
       "<table class=\"simpletable\">\n",
       "<tr>\n",
       "  <th>Omnibus:</th>       <td>3955.346</td> <th>  Durbin-Watson:     </th> <td>   1.471</td> \n",
       "</tr>\n",
       "<tr>\n",
       "  <th>Prob(Omnibus):</th>  <td> 0.000</td>  <th>  Jarque-Bera (JB):  </th> <td>19053.590</td>\n",
       "</tr>\n",
       "<tr>\n",
       "  <th>Skew:</th>           <td>-1.460</td>  <th>  Prob(JB):          </th> <td>    0.00</td> \n",
       "</tr>\n",
       "<tr>\n",
       "  <th>Kurtosis:</th>       <td> 8.294</td>  <th>  Cond. No.          </th> <td>    323.</td> \n",
       "</tr>\n",
       "</table><br/><br/>Notes:<br/>[1] Standard Errors assume that the covariance matrix of the errors is correctly specified."
      ],
      "text/plain": [
       "<class 'statsmodels.iolib.summary.Summary'>\n",
       "\"\"\"\n",
       "                            OLS Regression Results                            \n",
       "==============================================================================\n",
       "Dep. Variable:     np.log(tx_fee_USD)   R-squared:                       0.189\n",
       "Model:                            OLS   Adj. R-squared:                  0.189\n",
       "Method:                 Least Squares   F-statistic:                     973.2\n",
       "Date:                Mon, 06 Jun 2022   Prob (F-statistic):               0.00\n",
       "Time:                        20:56:26   Log-Likelihood:                -18141.\n",
       "No. Observations:               12511   AIC:                         3.629e+04\n",
       "Df Residuals:                   12507   BIC:                         3.632e+04\n",
       "Df Model:                           3                                         \n",
       "Covariance Type:            nonrobust                                         \n",
       "=========================================================================================\n",
       "                            coef    std err          t      P>|t|      [0.025      0.975]\n",
       "-----------------------------------------------------------------------------------------\n",
       "Intercept                -2.7377      0.323     -8.464      0.000      -3.372      -2.104\n",
       "np.log(ave_blocktime)     1.3849      0.028     49.474      0.000       1.330       1.440\n",
       "np.log(price)             0.6563      0.037     17.931      0.000       0.585       0.728\n",
       "np.log(price_diff)        0.1056      0.007     15.768      0.000       0.092       0.119\n",
       "==============================================================================\n",
       "Omnibus:                     3955.346   Durbin-Watson:                   1.471\n",
       "Prob(Omnibus):                  0.000   Jarque-Bera (JB):            19053.590\n",
       "Skew:                          -1.460   Prob(JB):                         0.00\n",
       "Kurtosis:                       8.294   Cond. No.                         323.\n",
       "==============================================================================\n",
       "\n",
       "Notes:\n",
       "[1] Standard Errors assume that the covariance matrix of the errors is correctly specified.\n",
       "\"\"\""
      ]
     },
     "execution_count": 9,
     "metadata": {},
     "output_type": "execute_result"
    }
   ],
   "source": [
    "results.summary()"
   ]
  },
  {
   "cell_type": "markdown",
   "metadata": {},
   "source": [
    "* Simple linear regression yields R-square 0.189.\n",
    "* Can we make it higher by adding higher-degree polynomials?"
   ]
  },
  {
   "cell_type": "code",
   "execution_count": 38,
   "metadata": {},
   "outputs": [],
   "source": [
    "df_poly = df_reg.copy()\n",
    "deg_poly = 3\n",
    "\n",
    "reg_var_list = []\n",
    "cov_list = ['ave_blocktime', 'price', 'price_diff']\n",
    "for var_name in cov_list:\n",
    "    for i in range(1,deg_poly+1):\n",
    "        col_name = 'log_' + var_name + '_{}'.format(i)\n",
    "        val = np.log(df_poly[var_name])**i\n",
    "        df_poly[col_name] = val\n",
    "        reg_var_list.append(col_name)\n",
    "df_poly['log_tx_fee'] = np.log(df_poly['tx_fee_USD'])"
   ]
  },
  {
   "cell_type": "code",
   "execution_count": 39,
   "metadata": {},
   "outputs": [
    {
     "data": {
      "text/html": [
       "<table class=\"simpletable\">\n",
       "<caption>OLS Regression Results</caption>\n",
       "<tr>\n",
       "  <th>Dep. Variable:</th>       <td>log_tx_fee</td>    <th>  R-squared:         </th> <td>   0.210</td> \n",
       "</tr>\n",
       "<tr>\n",
       "  <th>Model:</th>                   <td>OLS</td>       <th>  Adj. R-squared:    </th> <td>   0.209</td> \n",
       "</tr>\n",
       "<tr>\n",
       "  <th>Method:</th>             <td>Least Squares</td>  <th>  F-statistic:       </th> <td>   368.1</td> \n",
       "</tr>\n",
       "<tr>\n",
       "  <th>Date:</th>             <td>Mon, 06 Jun 2022</td> <th>  Prob (F-statistic):</th>  <td>  0.00</td>  \n",
       "</tr>\n",
       "<tr>\n",
       "  <th>Time:</th>                 <td>21:02:41</td>     <th>  Log-Likelihood:    </th> <td> -17983.</td> \n",
       "</tr>\n",
       "<tr>\n",
       "  <th>No. Observations:</th>      <td> 12511</td>      <th>  AIC:               </th> <td>3.599e+04</td>\n",
       "</tr>\n",
       "<tr>\n",
       "  <th>Df Residuals:</th>          <td> 12501</td>      <th>  BIC:               </th> <td>3.606e+04</td>\n",
       "</tr>\n",
       "<tr>\n",
       "  <th>Df Model:</th>              <td>     9</td>      <th>                     </th>     <td> </td>    \n",
       "</tr>\n",
       "<tr>\n",
       "  <th>Covariance Type:</th>      <td>nonrobust</td>    <th>                     </th>     <td> </td>    \n",
       "</tr>\n",
       "</table>\n",
       "<table class=\"simpletable\">\n",
       "<tr>\n",
       "           <td></td>              <th>coef</th>     <th>std err</th>      <th>t</th>      <th>P>|t|</th>  <th>[0.025</th>    <th>0.975]</th>  \n",
       "</tr>\n",
       "<tr>\n",
       "  <th>const</th>               <td> 3939.6505</td> <td>  839.532</td> <td>    4.693</td> <td> 0.000</td> <td> 2294.040</td> <td> 5585.261</td>\n",
       "</tr>\n",
       "<tr>\n",
       "  <th>log_ave_blocktime_1</th> <td>   -2.7877</td> <td>    1.334</td> <td>   -2.090</td> <td> 0.037</td> <td>   -5.402</td> <td>   -0.173</td>\n",
       "</tr>\n",
       "<tr>\n",
       "  <th>log_ave_blocktime_2</th> <td>    1.9753</td> <td>    0.615</td> <td>    3.212</td> <td> 0.001</td> <td>    0.770</td> <td>    3.181</td>\n",
       "</tr>\n",
       "<tr>\n",
       "  <th>log_ave_blocktime_3</th> <td>   -0.3051</td> <td>    0.093</td> <td>   -3.273</td> <td> 0.001</td> <td>   -0.488</td> <td>   -0.122</td>\n",
       "</tr>\n",
       "<tr>\n",
       "  <th>log_price_1</th>         <td>-1440.0836</td> <td>  299.352</td> <td>   -4.811</td> <td> 0.000</td> <td>-2026.860</td> <td> -853.307</td>\n",
       "</tr>\n",
       "<tr>\n",
       "  <th>log_price_2</th>         <td>  175.3985</td> <td>   35.566</td> <td>    4.932</td> <td> 0.000</td> <td>  105.683</td> <td>  245.114</td>\n",
       "</tr>\n",
       "<tr>\n",
       "  <th>log_price_3</th>         <td>   -7.1082</td> <td>    1.408</td> <td>   -5.048</td> <td> 0.000</td> <td>   -9.868</td> <td>   -4.348</td>\n",
       "</tr>\n",
       "<tr>\n",
       "  <th>log_price_diff_1</th>    <td>    0.0388</td> <td>    0.012</td> <td>    3.342</td> <td> 0.001</td> <td>    0.016</td> <td>    0.061</td>\n",
       "</tr>\n",
       "<tr>\n",
       "  <th>log_price_diff_2</th>    <td>    0.0074</td> <td>    0.003</td> <td>    2.469</td> <td> 0.014</td> <td>    0.002</td> <td>    0.013</td>\n",
       "</tr>\n",
       "<tr>\n",
       "  <th>log_price_diff_3</th>    <td>    0.0012</td> <td>    0.001</td> <td>    1.542</td> <td> 0.123</td> <td>   -0.000</td> <td>    0.003</td>\n",
       "</tr>\n",
       "</table>\n",
       "<table class=\"simpletable\">\n",
       "<tr>\n",
       "  <th>Omnibus:</th>       <td>4064.664</td> <th>  Durbin-Watson:     </th> <td>   1.508</td> \n",
       "</tr>\n",
       "<tr>\n",
       "  <th>Prob(Omnibus):</th>  <td> 0.000</td>  <th>  Jarque-Bera (JB):  </th> <td>19839.860</td>\n",
       "</tr>\n",
       "<tr>\n",
       "  <th>Skew:</th>           <td>-1.500</td>  <th>  Prob(JB):          </th> <td>    0.00</td> \n",
       "</tr>\n",
       "<tr>\n",
       "  <th>Kurtosis:</th>       <td> 8.391</td>  <th>  Cond. No.          </th> <td>6.14e+07</td> \n",
       "</tr>\n",
       "</table><br/><br/>Notes:<br/>[1] Standard Errors assume that the covariance matrix of the errors is correctly specified.<br/>[2] The condition number is large, 6.14e+07. This might indicate that there are<br/>strong multicollinearity or other numerical problems."
      ],
      "text/plain": [
       "<class 'statsmodels.iolib.summary.Summary'>\n",
       "\"\"\"\n",
       "                            OLS Regression Results                            \n",
       "==============================================================================\n",
       "Dep. Variable:             log_tx_fee   R-squared:                       0.210\n",
       "Model:                            OLS   Adj. R-squared:                  0.209\n",
       "Method:                 Least Squares   F-statistic:                     368.1\n",
       "Date:                Mon, 06 Jun 2022   Prob (F-statistic):               0.00\n",
       "Time:                        21:02:41   Log-Likelihood:                -17983.\n",
       "No. Observations:               12511   AIC:                         3.599e+04\n",
       "Df Residuals:                   12501   BIC:                         3.606e+04\n",
       "Df Model:                           9                                         \n",
       "Covariance Type:            nonrobust                                         \n",
       "=======================================================================================\n",
       "                          coef    std err          t      P>|t|      [0.025      0.975]\n",
       "---------------------------------------------------------------------------------------\n",
       "const                3939.6505    839.532      4.693      0.000    2294.040    5585.261\n",
       "log_ave_blocktime_1    -2.7877      1.334     -2.090      0.037      -5.402      -0.173\n",
       "log_ave_blocktime_2     1.9753      0.615      3.212      0.001       0.770       3.181\n",
       "log_ave_blocktime_3    -0.3051      0.093     -3.273      0.001      -0.488      -0.122\n",
       "log_price_1         -1440.0836    299.352     -4.811      0.000   -2026.860    -853.307\n",
       "log_price_2           175.3985     35.566      4.932      0.000     105.683     245.114\n",
       "log_price_3            -7.1082      1.408     -5.048      0.000      -9.868      -4.348\n",
       "log_price_diff_1        0.0388      0.012      3.342      0.001       0.016       0.061\n",
       "log_price_diff_2        0.0074      0.003      2.469      0.014       0.002       0.013\n",
       "log_price_diff_3        0.0012      0.001      1.542      0.123      -0.000       0.003\n",
       "==============================================================================\n",
       "Omnibus:                     4064.664   Durbin-Watson:                   1.508\n",
       "Prob(Omnibus):                  0.000   Jarque-Bera (JB):            19839.860\n",
       "Skew:                          -1.500   Prob(JB):                         0.00\n",
       "Kurtosis:                       8.391   Cond. No.                     6.14e+07\n",
       "==============================================================================\n",
       "\n",
       "Notes:\n",
       "[1] Standard Errors assume that the covariance matrix of the errors is correctly specified.\n",
       "[2] The condition number is large, 6.14e+07. This might indicate that there are\n",
       "strong multicollinearity or other numerical problems.\n",
       "\"\"\""
      ]
     },
     "execution_count": 39,
     "metadata": {},
     "output_type": "execute_result"
    }
   ],
   "source": [
    "X_poly = df_poly[reg_var_list]\n",
    "X_poly = sm.add_constant(X_poly)\n",
    "Y_poly = df_poly['log_tx_fee']\n",
    "\n",
    "model_poly = sm.OLS(Y_poly, X_poly)\n",
    "res_poly = model_poly.fit()\n",
    "res_poly.summary()"
   ]
  },
  {
   "cell_type": "code",
   "execution_count": 16,
   "metadata": {},
   "outputs": [
    {
     "data": {
      "image/png": "[encoded data removed]",
      "text/plain": [
       "<Figure size 360x288 with 1 Axes>"
      ]
     },
     "metadata": {},
     "output_type": "display_data"
    }
   ],
   "source": [
    "plt.scatter(df_reg['ave_blocktime'], Y)\n",
    "plt.show()"
   ]
  },
  {
   "cell_type": "markdown",
   "metadata": {},
   "source": [
    "$$\n",
    "\\log \\text{Tx fee}_t = \\beta_0 + \\beta_1 \\log \\text{Ave. blocktime}_t + \\beta_2 \\log \\text{price}_t + \\beta_3 \\log \\text{price diff}_t + \\epsilon_t,\n",
    "$$"
   ]
  },
  {
   "cell_type": "markdown",
   "metadata": {},
   "source": [
    "$$\n",
    "\\hat \\beta_0 = -2.74, \\hat \\beta_1 = 1.385, \\hat \\beta_2 = 0.656, \\hat \\beta_3 = 0.106.\n",
    "$$"
   ]
  },
  {
   "cell_type": "markdown",
   "metadata": {},
   "source": [
    "## Simulation"
   ]
  },
  {
   "cell_type": "markdown",
   "metadata": {},
   "source": [
    "* In each period $t$, hash supply $H_t$ is computed given the transaction fee $T_t$.\n",
    "  - the expected reward is changed to be $(S_t M_t + T_t)W_t$.\n",
    "  - in the baseline model, it was $S_t M_t W_t$."
   ]
  },
  {
   "cell_type": "code",
   "execution_count": 10,
   "metadata": {},
   "outputs": [],
   "source": [
    "path = '../data/BTCdata_presim.csv'\n",
    "df = pd.read_csv(path)\n",
    "df['time'] = pd.to_datetime(df['time'])\n",
    "df = df.rename(columns={'blocktime': 'block_times', 'price': 'prices', 'probability of success /Eh': 'winning_rates'})"
   ]
  },
  {
   "cell_type": "code",
   "execution_count": null,
   "metadata": {},
   "outputs": [],
   "source": [
    "generate_simulation_data(num_iter=5000, prev_data=df)\n",
    "print('DAA-1 and DAA-2 are done.')"
   ]
  },
  {
   "cell_type": "code",
   "execution_count": 12,
   "metadata": {},
   "outputs": [
    {
     "name": "stdout",
     "output_type": "stream",
     "text": [
      "ASERT is done.\n"
     ]
    }
   ],
   "source": [
    "generate_simulation_data_asert(num_iter=5000, prev_data=df)\n",
    "print('ASERT is done.')"
   ]
  },
  {
   "cell_type": "code",
   "execution_count": 13,
   "metadata": {},
   "outputs": [],
   "source": [
    "dir_sim = '/Volumes/Data/research/BDA/simulation/'\n",
    "filelist = [dir_sim+'tx_DAA-1_blocktime_ps0_5000obs_T=None.csv',\n",
    "            dir_sim+'tx_DAA-2_blocktime_ps0_5000obs_T=None.csv',\n",
    "            dir_sim+'tx_DAA_asert_blocktime_ps0_5000obs_T=None.csv',\n",
    "            ]\n",
    "df_stats_ = make_stats(filelist=filelist, dir_sim=dir_sim)"
   ]
  },
  {
   "cell_type": "code",
   "execution_count": 14,
   "metadata": {},
   "outputs": [
    {
     "data": {
      "text/html": [
       "<div>\n",
       "<style scoped>\n",
       "    .dataframe tbody tr th:only-of-type {\n",
       "        vertical-align: middle;\n",
       "    }\n",
       "\n",
       "    .dataframe tbody tr th {\n",
       "        vertical-align: top;\n",
       "    }\n",
       "\n",
       "    .dataframe thead th {\n",
       "        text-align: right;\n",
       "    }\n",
       "</style>\n",
       "<table border=\"1\" class=\"dataframe\">\n",
       "  <thead>\n",
       "    <tr style=\"text-align: right;\">\n",
       "      <th></th>\n",
       "      <th>tx_DAA-1_blocktime_ps0_5000obs_T=None.csv</th>\n",
       "      <th>tx_DAA-2_blocktime_ps0_5000obs_T=None.csv</th>\n",
       "      <th>tx_DAA_asert_blocktime_ps0_5000obs_T=None.csv</th>\n",
       "    </tr>\n",
       "  </thead>\n",
       "  <tbody>\n",
       "    <tr>\n",
       "      <th>mean</th>\n",
       "      <td>12.109877</td>\n",
       "      <td>10.034051</td>\n",
       "      <td>10.053141</td>\n",
       "    </tr>\n",
       "    <tr>\n",
       "      <th>std</th>\n",
       "      <td>15.458327</td>\n",
       "      <td>10.218585</td>\n",
       "      <td>10.120250</td>\n",
       "    </tr>\n",
       "    <tr>\n",
       "      <th>over60</th>\n",
       "      <td>1.000000</td>\n",
       "      <td>1.000000</td>\n",
       "      <td>1.000000</td>\n",
       "    </tr>\n",
       "    <tr>\n",
       "      <th>over120</th>\n",
       "      <td>0.807400</td>\n",
       "      <td>0.176600</td>\n",
       "      <td>0.112800</td>\n",
       "    </tr>\n",
       "    <tr>\n",
       "      <th>over180</th>\n",
       "      <td>0.446600</td>\n",
       "      <td>0.001600</td>\n",
       "      <td>0.000400</td>\n",
       "    </tr>\n",
       "  </tbody>\n",
       "</table>\n",
       "</div>"
      ],
      "text/plain": [
       "         tx_DAA-1_blocktime_ps0_5000obs_T=None.csv  \\\n",
       "mean                                     12.109877   \n",
       "std                                      15.458327   \n",
       "over60                                    1.000000   \n",
       "over120                                   0.807400   \n",
       "over180                                   0.446600   \n",
       "\n",
       "         tx_DAA-2_blocktime_ps0_5000obs_T=None.csv  \\\n",
       "mean                                     10.034051   \n",
       "std                                      10.218585   \n",
       "over60                                    1.000000   \n",
       "over120                                   0.176600   \n",
       "over180                                   0.001600   \n",
       "\n",
       "         tx_DAA_asert_blocktime_ps0_5000obs_T=None.csv  \n",
       "mean                                         10.053141  \n",
       "std                                          10.120250  \n",
       "over60                                        1.000000  \n",
       "over120                                       0.112800  \n",
       "over180                                       0.000400  "
      ]
     },
     "execution_count": 14,
     "metadata": {},
     "output_type": "execute_result"
    }
   ],
   "source": [
    "# DAA-1 gets slightly better, but almost the same as before\n",
    "# the winning rate is determined before the tx fee in the same period is calculated; DAA-0 is not exactly the optimal anymore\n",
    "df_stats_"
   ]
  },
  {
   "cell_type": "code",
   "execution_count": 17,
   "metadata": {},
   "outputs": [],
   "source": [
    "dir_sim = '/Volumes/Data/research/BDA/simulation/'\n",
    "filelist = [dir_sim+'tx_DAA-1_tx_fee_ps0_5000obs_T=None.csv',\n",
    "            dir_sim+'tx_DAA-2_tx_fee_ps0_5000obs_T=None.csv',\n",
    "            dir_sim+'tx_DAA_asert_tx_fee_ps0_5000obs_T=None.csv']\n",
    "df_stats = stats_tx(filelist, dir_sim)"
   ]
  },
  {
   "cell_type": "code",
   "execution_count": 18,
   "metadata": {},
   "outputs": [
    {
     "data": {
      "text/html": [
       "<div>\n",
       "<style scoped>\n",
       "    .dataframe tbody tr th:only-of-type {\n",
       "        vertical-align: middle;\n",
       "    }\n",
       "\n",
       "    .dataframe tbody tr th {\n",
       "        vertical-align: top;\n",
       "    }\n",
       "\n",
       "    .dataframe thead th {\n",
       "        text-align: right;\n",
       "    }\n",
       "</style>\n",
       "<table border=\"1\" class=\"dataframe\">\n",
       "  <thead>\n",
       "    <tr style=\"text-align: right;\">\n",
       "      <th></th>\n",
       "      <th>tx_DAA-1_tx_fee_ps0_5000obs_T=None.csv</th>\n",
       "      <th>tx_DAA-2_tx_fee_ps0_5000obs_T=None.csv</th>\n",
       "      <th>tx_DAA_asert_tx_fee_ps0_5000obs_T=None.csv</th>\n",
       "    </tr>\n",
       "  </thead>\n",
       "  <tbody>\n",
       "    <tr>\n",
       "      <th>mean</th>\n",
       "      <td>567.211748</td>\n",
       "      <td>409.869201</td>\n",
       "      <td>410.111457</td>\n",
       "    </tr>\n",
       "    <tr>\n",
       "      <th>std</th>\n",
       "      <td>575.427539</td>\n",
       "      <td>265.652641</td>\n",
       "      <td>261.127387</td>\n",
       "    </tr>\n",
       "    <tr>\n",
       "      <th>over3000</th>\n",
       "      <td>0.949600</td>\n",
       "      <td>0.212400</td>\n",
       "      <td>0.176600</td>\n",
       "    </tr>\n",
       "    <tr>\n",
       "      <th>over3500</th>\n",
       "      <td>0.822200</td>\n",
       "      <td>0.080800</td>\n",
       "      <td>0.061600</td>\n",
       "    </tr>\n",
       "    <tr>\n",
       "      <th>over4000</th>\n",
       "      <td>0.675400</td>\n",
       "      <td>0.029000</td>\n",
       "      <td>0.019400</td>\n",
       "    </tr>\n",
       "    <tr>\n",
       "      <th>over4500</th>\n",
       "      <td>0.565400</td>\n",
       "      <td>0.010400</td>\n",
       "      <td>0.007800</td>\n",
       "    </tr>\n",
       "    <tr>\n",
       "      <th>over5000</th>\n",
       "      <td>0.479200</td>\n",
       "      <td>0.004200</td>\n",
       "      <td>0.003000</td>\n",
       "    </tr>\n",
       "    <tr>\n",
       "      <th>over5500</th>\n",
       "      <td>0.405800</td>\n",
       "      <td>0.001600</td>\n",
       "      <td>0.001800</td>\n",
       "    </tr>\n",
       "    <tr>\n",
       "      <th>over6000</th>\n",
       "      <td>0.352800</td>\n",
       "      <td>0.000800</td>\n",
       "      <td>0.000600</td>\n",
       "    </tr>\n",
       "  </tbody>\n",
       "</table>\n",
       "</div>"
      ],
      "text/plain": [
       "          tx_DAA-1_tx_fee_ps0_5000obs_T=None.csv  \\\n",
       "mean                                  567.211748   \n",
       "std                                   575.427539   \n",
       "over3000                                0.949600   \n",
       "over3500                                0.822200   \n",
       "over4000                                0.675400   \n",
       "over4500                                0.565400   \n",
       "over5000                                0.479200   \n",
       "over5500                                0.405800   \n",
       "over6000                                0.352800   \n",
       "\n",
       "          tx_DAA-2_tx_fee_ps0_5000obs_T=None.csv  \\\n",
       "mean                                  409.869201   \n",
       "std                                   265.652641   \n",
       "over3000                                0.212400   \n",
       "over3500                                0.080800   \n",
       "over4000                                0.029000   \n",
       "over4500                                0.010400   \n",
       "over5000                                0.004200   \n",
       "over5500                                0.001600   \n",
       "over6000                                0.000800   \n",
       "\n",
       "          tx_DAA_asert_tx_fee_ps0_5000obs_T=None.csv  \n",
       "mean                                      410.111457  \n",
       "std                                       261.127387  \n",
       "over3000                                    0.176600  \n",
       "over3500                                    0.061600  \n",
       "over4000                                    0.019400  \n",
       "over4500                                    0.007800  \n",
       "over5000                                    0.003000  \n",
       "over5500                                    0.001800  \n",
       "over6000                                    0.000600  "
      ]
     },
     "execution_count": 18,
     "metadata": {},
     "output_type": "execute_result"
    }
   ],
   "source": [
    "# tx_fee\n",
    "df_stats"
   ]
  },
  {
   "cell_type": "markdown",
   "metadata": {},
   "source": []
  }
 ],
 "metadata": {
  "interpreter": {
   "hash": "a66e7875295d9875495ad4b4e3c5ee51b4682ae77f4a737838e183715ad654b5"
  },
  "kernelspec": {
   "display_name": "Python 3.8.9 ('DAA_Lucas-fRXnFA3j')",
   "language": "python",
   "name": "python3"
  },
  "language_info": {
   "codemirror_mode": {
    "name": "ipython",
    "version": 3
   },
   "file_extension": ".py",
   "mimetype": "text/x-python",
   "name": "python",
   "nbconvert_exporter": "python",
   "pygments_lexer": "ipython3",
   "version": "3.8.9"
  },
  "orig_nbformat": 4
 },
 "nbformat": 4,
 "nbformat_minor": 2
}
