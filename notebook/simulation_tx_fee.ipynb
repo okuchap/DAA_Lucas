{
 "cells": [
  {
   "cell_type": "code",
   "execution_count": 1,
   "metadata": {},
   "outputs": [],
   "source": [
    "%matplotlib inline\n",
    "%load_ext autoreload\n",
    "import numpy as np\n",
    "import matplotlib as mpl\n",
    "import matplotlib.pyplot as plt\n",
    "import pandas as pd\n",
    "import pathlib\n",
    "import time\n",
    "from datetime import datetime\n",
    "import scipy.optimize as opt\n",
    "from sklearn.linear_model import LinearRegression\n",
    "\n",
    "np.set_printoptions(precision=3)\n",
    "np.set_printoptions(suppress=True)\n",
    "plt.style.use(\"ggplot\")\n",
    "mpl.pyplot.rcParams['figure.figsize'] = (5.0, 4.0)\n",
    "plt.rcParams[\"font.size\"] = 13\n",
    "#mpl.rcParams[\"font.family\"] = 'Osaka'\n",
    "\n",
    "import sys\n",
    "sys.path.append('../code/')\n",
    "\n",
    "from simulation_tx_fee import *\n",
    "from simulation_fixed_path import make_stats\n",
    "from hash import *\n",
    "from plot_path import *"
   ]
  },
  {
   "cell_type": "markdown",
   "metadata": {},
   "source": [
    "## Reduced form analysis for transaction fee"
   ]
  },
  {
   "cell_type": "markdown",
   "metadata": {},
   "source": [
    "* See the Appendix in `simulation.ipynb` for the construction of `BTCdata_2018OctDec.csv`."
   ]
  },
  {
   "cell_type": "code",
   "execution_count": 20,
   "metadata": {},
   "outputs": [],
   "source": [
    "path = '../data/BTCdata_2.csv'\n",
    "df_full = pd.read_csv(path, header=0)\n",
    "\n",
    "# during the period, the block reward was 12.5 BTC\n",
    "df_full['tx_fee'] = df_full['reward_BTC'] - 12.5\n",
    "df_full['tx_fee_USD'] = df_full['tx_fee']*df_full['Close']\n",
    "df_tx = df_full[['height', 'tx_fee', 'tx_fee_USD']]\n",
    "\n",
    "path = '../data/BTCdata_2018OctDec.csv'\n",
    "df = pd.read_csv(path, header=0)\n",
    "\n",
    "df = pd.merge(df, df_tx, on='height')"
   ]
  },
  {
   "cell_type": "code",
   "execution_count": 21,
   "metadata": {},
   "outputs": [
    {
     "data": {
      "text/html": [
       "<div>\n",
       "<style scoped>\n",
       "    .dataframe tbody tr th:only-of-type {\n",
       "        vertical-align: middle;\n",
       "    }\n",
       "\n",
       "    .dataframe tbody tr th {\n",
       "        vertical-align: top;\n",
       "    }\n",
       "\n",
       "    .dataframe thead th {\n",
       "        text-align: right;\n",
       "    }\n",
       "</style>\n",
       "<table border=\"1\" class=\"dataframe\">\n",
       "  <thead>\n",
       "    <tr style=\"text-align: right;\">\n",
       "      <th></th>\n",
       "      <th>height</th>\n",
       "      <th>unixtime</th>\n",
       "      <th>price</th>\n",
       "      <th>probability of success /Eh</th>\n",
       "      <th>expected return (USD/Eh)</th>\n",
       "      <th>time</th>\n",
       "      <th>adjusted_unixtime</th>\n",
       "      <th>adjusted_blocktime</th>\n",
       "      <th>adjusted_time</th>\n",
       "      <th>tx_fee</th>\n",
       "      <th>tx_fee_USD</th>\n",
       "    </tr>\n",
       "  </thead>\n",
       "  <tbody>\n",
       "    <tr>\n",
       "      <th>0</th>\n",
       "      <td>543835</td>\n",
       "      <td>1538352272</td>\n",
       "      <td>6621.3</td>\n",
       "      <td>0.000033</td>\n",
       "      <td>2.720620</td>\n",
       "      <td>2018-10-01 00:04:32</td>\n",
       "      <td>1538352272</td>\n",
       "      <td>18.633333</td>\n",
       "      <td>2018-10-01 00:04:32</td>\n",
       "      <td>0.122639</td>\n",
       "      <td>812.029743</td>\n",
       "    </tr>\n",
       "    <tr>\n",
       "      <th>1</th>\n",
       "      <td>543836</td>\n",
       "      <td>1538352799</td>\n",
       "      <td>6621.3</td>\n",
       "      <td>0.000033</td>\n",
       "      <td>2.711797</td>\n",
       "      <td>2018-10-01 00:13:19</td>\n",
       "      <td>1538352799</td>\n",
       "      <td>8.783333</td>\n",
       "      <td>2018-10-01 00:13:19</td>\n",
       "      <td>0.081705</td>\n",
       "      <td>540.990006</td>\n",
       "    </tr>\n",
       "    <tr>\n",
       "      <th>2</th>\n",
       "      <td>543837</td>\n",
       "      <td>1538352841</td>\n",
       "      <td>6621.3</td>\n",
       "      <td>0.000033</td>\n",
       "      <td>2.694189</td>\n",
       "      <td>2018-10-01 00:14:01</td>\n",
       "      <td>1538352841</td>\n",
       "      <td>0.700000</td>\n",
       "      <td>2018-10-01 00:14:01</td>\n",
       "      <td>0.000014</td>\n",
       "      <td>0.090579</td>\n",
       "    </tr>\n",
       "    <tr>\n",
       "      <th>3</th>\n",
       "      <td>543838</td>\n",
       "      <td>1538352940</td>\n",
       "      <td>6621.3</td>\n",
       "      <td>0.000033</td>\n",
       "      <td>2.697526</td>\n",
       "      <td>2018-10-01 00:15:40</td>\n",
       "      <td>1538352940</td>\n",
       "      <td>1.650000</td>\n",
       "      <td>2018-10-01 00:15:40</td>\n",
       "      <td>0.015493</td>\n",
       "      <td>102.584595</td>\n",
       "    </tr>\n",
       "    <tr>\n",
       "      <th>4</th>\n",
       "      <td>543839</td>\n",
       "      <td>1538353463</td>\n",
       "      <td>6621.3</td>\n",
       "      <td>0.000033</td>\n",
       "      <td>2.714195</td>\n",
       "      <td>2018-10-01 00:24:23</td>\n",
       "      <td>1538353463</td>\n",
       "      <td>8.716667</td>\n",
       "      <td>2018-10-01 00:24:23</td>\n",
       "      <td>0.092831</td>\n",
       "      <td>614.664218</td>\n",
       "    </tr>\n",
       "  </tbody>\n",
       "</table>\n",
       "</div>"
      ],
      "text/plain": [
       "   height    unixtime   price  probability of success /Eh  \\\n",
       "0  543835  1538352272  6621.3                    0.000033   \n",
       "1  543836  1538352799  6621.3                    0.000033   \n",
       "2  543837  1538352841  6621.3                    0.000033   \n",
       "3  543838  1538352940  6621.3                    0.000033   \n",
       "4  543839  1538353463  6621.3                    0.000033   \n",
       "\n",
       "   expected return (USD/Eh)                 time  adjusted_unixtime  \\\n",
       "0                  2.720620  2018-10-01 00:04:32         1538352272   \n",
       "1                  2.711797  2018-10-01 00:13:19         1538352799   \n",
       "2                  2.694189  2018-10-01 00:14:01         1538352841   \n",
       "3                  2.697526  2018-10-01 00:15:40         1538352940   \n",
       "4                  2.714195  2018-10-01 00:24:23         1538353463   \n",
       "\n",
       "   adjusted_blocktime        adjusted_time    tx_fee  tx_fee_USD  \n",
       "0           18.633333  2018-10-01 00:04:32  0.122639  812.029743  \n",
       "1            8.783333  2018-10-01 00:13:19  0.081705  540.990006  \n",
       "2            0.700000  2018-10-01 00:14:01  0.000014    0.090579  \n",
       "3            1.650000  2018-10-01 00:15:40  0.015493  102.584595  \n",
       "4            8.716667  2018-10-01 00:24:23  0.092831  614.664218  "
      ]
     },
     "execution_count": 21,
     "metadata": {},
     "output_type": "execute_result"
    }
   ],
   "source": [
    "df.head()"
   ]
  },
  {
   "cell_type": "code",
   "execution_count": 25,
   "metadata": {},
   "outputs": [
    {
     "data": {
      "text/plain": [
       "2117"
      ]
     },
     "execution_count": 25,
     "metadata": {},
     "output_type": "execute_result"
    }
   ],
   "source": [
    "# price data were collected every one hour?\n",
    "df['price'].unique().shape[0]"
   ]
  },
  {
   "cell_type": "code",
   "execution_count": 147,
   "metadata": {},
   "outputs": [
    {
     "data": {
      "text/html": [
       "<div>\n",
       "<style scoped>\n",
       "    .dataframe tbody tr th:only-of-type {\n",
       "        vertical-align: middle;\n",
       "    }\n",
       "\n",
       "    .dataframe tbody tr th {\n",
       "        vertical-align: top;\n",
       "    }\n",
       "\n",
       "    .dataframe thead th {\n",
       "        text-align: right;\n",
       "    }\n",
       "</style>\n",
       "<table border=\"1\" class=\"dataframe\">\n",
       "  <thead>\n",
       "    <tr style=\"text-align: right;\">\n",
       "      <th></th>\n",
       "      <th>height</th>\n",
       "      <th>unixtime</th>\n",
       "      <th>price</th>\n",
       "      <th>probability of success /Eh</th>\n",
       "      <th>expected return (USD/Eh)</th>\n",
       "      <th>time</th>\n",
       "      <th>adjusted_unixtime</th>\n",
       "      <th>adjusted_blocktime</th>\n",
       "      <th>adjusted_time</th>\n",
       "      <th>tx_fee</th>\n",
       "      <th>tx_fee_USD</th>\n",
       "      <th>price_diff</th>\n",
       "      <th>ave_blocktime</th>\n",
       "    </tr>\n",
       "  </thead>\n",
       "  <tbody>\n",
       "    <tr>\n",
       "      <th>0</th>\n",
       "      <td>543835</td>\n",
       "      <td>1538352272</td>\n",
       "      <td>6621.3</td>\n",
       "      <td>0.000033</td>\n",
       "      <td>2.720620</td>\n",
       "      <td>2018-10-01 00:04:32</td>\n",
       "      <td>1538352272</td>\n",
       "      <td>18.633333</td>\n",
       "      <td>2018-10-01 00:04:32</td>\n",
       "      <td>0.122639</td>\n",
       "      <td>812.029743</td>\n",
       "      <td>NaN</td>\n",
       "      <td>NaN</td>\n",
       "    </tr>\n",
       "    <tr>\n",
       "      <th>1</th>\n",
       "      <td>543836</td>\n",
       "      <td>1538352799</td>\n",
       "      <td>6621.3</td>\n",
       "      <td>0.000033</td>\n",
       "      <td>2.711797</td>\n",
       "      <td>2018-10-01 00:13:19</td>\n",
       "      <td>1538352799</td>\n",
       "      <td>8.783333</td>\n",
       "      <td>2018-10-01 00:13:19</td>\n",
       "      <td>0.081705</td>\n",
       "      <td>540.990006</td>\n",
       "      <td>11.31</td>\n",
       "      <td>NaN</td>\n",
       "    </tr>\n",
       "    <tr>\n",
       "      <th>2</th>\n",
       "      <td>543837</td>\n",
       "      <td>1538352841</td>\n",
       "      <td>6621.3</td>\n",
       "      <td>0.000033</td>\n",
       "      <td>2.694189</td>\n",
       "      <td>2018-10-01 00:14:01</td>\n",
       "      <td>1538352841</td>\n",
       "      <td>0.700000</td>\n",
       "      <td>2018-10-01 00:14:01</td>\n",
       "      <td>0.000014</td>\n",
       "      <td>0.090579</td>\n",
       "      <td>11.31</td>\n",
       "      <td>NaN</td>\n",
       "    </tr>\n",
       "    <tr>\n",
       "      <th>3</th>\n",
       "      <td>543838</td>\n",
       "      <td>1538352940</td>\n",
       "      <td>6621.3</td>\n",
       "      <td>0.000033</td>\n",
       "      <td>2.697526</td>\n",
       "      <td>2018-10-01 00:15:40</td>\n",
       "      <td>1538352940</td>\n",
       "      <td>1.650000</td>\n",
       "      <td>2018-10-01 00:15:40</td>\n",
       "      <td>0.015493</td>\n",
       "      <td>102.584595</td>\n",
       "      <td>11.31</td>\n",
       "      <td>NaN</td>\n",
       "    </tr>\n",
       "    <tr>\n",
       "      <th>4</th>\n",
       "      <td>543839</td>\n",
       "      <td>1538353463</td>\n",
       "      <td>6621.3</td>\n",
       "      <td>0.000033</td>\n",
       "      <td>2.714195</td>\n",
       "      <td>2018-10-01 00:24:23</td>\n",
       "      <td>1538353463</td>\n",
       "      <td>8.716667</td>\n",
       "      <td>2018-10-01 00:24:23</td>\n",
       "      <td>0.092831</td>\n",
       "      <td>614.664218</td>\n",
       "      <td>11.31</td>\n",
       "      <td>NaN</td>\n",
       "    </tr>\n",
       "  </tbody>\n",
       "</table>\n",
       "</div>"
      ],
      "text/plain": [
       "   height    unixtime   price  probability of success /Eh  \\\n",
       "0  543835  1538352272  6621.3                    0.000033   \n",
       "1  543836  1538352799  6621.3                    0.000033   \n",
       "2  543837  1538352841  6621.3                    0.000033   \n",
       "3  543838  1538352940  6621.3                    0.000033   \n",
       "4  543839  1538353463  6621.3                    0.000033   \n",
       "\n",
       "   expected return (USD/Eh)                 time  adjusted_unixtime  \\\n",
       "0                  2.720620  2018-10-01 00:04:32         1538352272   \n",
       "1                  2.711797  2018-10-01 00:13:19         1538352799   \n",
       "2                  2.694189  2018-10-01 00:14:01         1538352841   \n",
       "3                  2.697526  2018-10-01 00:15:40         1538352940   \n",
       "4                  2.714195  2018-10-01 00:24:23         1538353463   \n",
       "\n",
       "   adjusted_blocktime        adjusted_time    tx_fee  tx_fee_USD  price_diff  \\\n",
       "0           18.633333  2018-10-01 00:04:32  0.122639  812.029743         NaN   \n",
       "1            8.783333  2018-10-01 00:13:19  0.081705  540.990006       11.31   \n",
       "2            0.700000  2018-10-01 00:14:01  0.000014    0.090579       11.31   \n",
       "3            1.650000  2018-10-01 00:15:40  0.015493  102.584595       11.31   \n",
       "4            8.716667  2018-10-01 00:24:23  0.092831  614.664218       11.31   \n",
       "\n",
       "   ave_blocktime  \n",
       "0            NaN  \n",
       "1            NaN  \n",
       "2            NaN  \n",
       "3            NaN  \n",
       "4            NaN  "
      ]
     },
     "execution_count": 147,
     "metadata": {},
     "output_type": "execute_result"
    }
   ],
   "source": [
    "price_diff = df['price'].diff().values\n",
    "temp = 0\n",
    "for i in range(price_diff.shape[0]):\n",
    "    if not np.isclose(price_diff[i], 0):\n",
    "        price_diff[temp:i] = price_diff[i]\n",
    "        temp = i+1\n",
    "df['price_diff'] = np.abs(price_diff)\n",
    "\n",
    "window = 10\n",
    "df['ave_blocktime'] = df[\"adjusted_blocktime\"].rolling(window).mean()\n",
    "\n",
    "df.head()"
   ]
  },
  {
   "cell_type": "markdown",
   "metadata": {},
   "source": [
    "Run a regression:\n",
    "$$\n",
    "\\log \\text{Tx fee}_t = \\beta_0 + \\beta_1 \\log \\text{Ave. blocktime}_t + \\beta_2 \\log \\text{price}_t + \\beta_3 \\log \\text{price diff}_t + \\epsilon_t.\n",
    "$$"
   ]
  },
  {
   "cell_type": "code",
   "execution_count": 148,
   "metadata": {},
   "outputs": [
    {
     "data": {
      "text/plain": [
       "(12520, 13)"
      ]
     },
     "execution_count": 148,
     "metadata": {},
     "output_type": "execute_result"
    }
   ],
   "source": [
    "df.shape"
   ]
  },
  {
   "cell_type": "code",
   "execution_count": 149,
   "metadata": {},
   "outputs": [
    {
     "data": {
      "text/plain": [
       "(12520, 13)"
      ]
     },
     "execution_count": 149,
     "metadata": {},
     "output_type": "execute_result"
    }
   ],
   "source": [
    "df = df[df['price_diff']!=0]\n",
    "df = df[df['tx_fee']!=0]\n",
    "df = df[df['tx_fee_USD']<10000]\n",
    "df.shape"
   ]
  },
  {
   "cell_type": "code",
   "execution_count": 150,
   "metadata": {},
   "outputs": [],
   "source": [
    "df_reg = df.dropna()\n",
    "# df_reg['ave_bt**2'] = df_reg['ave_blocktime']**2\n",
    "X = df_reg[['ave_blocktime', 'price', 'price_diff']]\n",
    "Y = df_reg['tx_fee_USD']\n",
    "reg = LinearRegression().fit(np.log(X), np.log(Y))"
   ]
  },
  {
   "cell_type": "code",
   "execution_count": 151,
   "metadata": {},
   "outputs": [
    {
     "data": {
      "image/png": "[encoded data removed]",
      "text/plain": [
       "<Figure size 360x288 with 1 Axes>"
      ]
     },
     "metadata": {},
     "output_type": "display_data"
    }
   ],
   "source": [
    "plt.scatter(df_reg['ave_blocktime'], Y)\n",
    "plt.show()"
   ]
  },
  {
   "cell_type": "code",
   "execution_count": 152,
   "metadata": {},
   "outputs": [
    {
     "data": {
      "text/plain": [
       "array([1.412, 0.651, 0.104])"
      ]
     },
     "execution_count": 152,
     "metadata": {},
     "output_type": "execute_result"
    }
   ],
   "source": [
    "reg.coef_"
   ]
  },
  {
   "cell_type": "code",
   "execution_count": 153,
   "metadata": {},
   "outputs": [
    {
     "data": {
      "text/plain": [
       "-2.7644610527259497"
      ]
     },
     "execution_count": 153,
     "metadata": {},
     "output_type": "execute_result"
    }
   ],
   "source": [
    "reg.intercept_"
   ]
  },
  {
   "cell_type": "markdown",
   "metadata": {},
   "source": [
    "$$\n",
    "\\hat \\beta_0 = -2.76, \\hat \\beta_1 = 1.412, \\hat \\beta_2 = 0.651, \\hat \\beta_3 = 0.104.\n",
    "$$"
   ]
  },
  {
   "cell_type": "markdown",
   "metadata": {},
   "source": [
    "## Simulation"
   ]
  },
  {
   "cell_type": "markdown",
   "metadata": {},
   "source": [
    "* In each period $t$, hash supply $H_t$ is computed given the transaction fee $T_t$.\n",
    "  - the expected reward is changed to be $(P_t B_t + T_t)W_t$.\n",
    "  - in the baseline model, it was $P_t B_t W_t$."
   ]
  },
  {
   "cell_type": "code",
   "execution_count": 2,
   "metadata": {},
   "outputs": [],
   "source": [
    "path = '../data/BTCdata_presim.csv'\n",
    "df = pd.read_csv(path)\n",
    "df['time'] = pd.to_datetime(df['time'])\n",
    "df = df.rename(columns={'blocktime': 'block_times', 'price': 'prices', 'probability of success /Eh': 'winning_rates'})"
   ]
  },
  {
   "cell_type": "code",
   "execution_count": 3,
   "metadata": {},
   "outputs": [
    {
     "name": "stdout",
     "output_type": "stream",
     "text": [
      "DAA-1 and DAA-2 are done.\n",
      "DAA-0 is done.\n",
      "ASERT is done.\n"
     ]
    }
   ],
   "source": [
    "generate_simulation_data(num_iter=5000, prev_data=df)\n",
    "print('DAA-1 and DAA-2 are done.')\n",
    "generate_simulation_data_DAA0(num_iter=5000, prev_data=df)\n",
    "print('DAA-0 is done.')\n",
    "generate_simulation_data_asert(num_iter=5000, prev_data=df)\n",
    "print('ASERT is done.')"
   ]
  },
  {
   "cell_type": "code",
   "execution_count": 5,
   "metadata": {},
   "outputs": [],
   "source": [
    "dir_sim = '/Volumes/Data/research/BDA/simulation/'\n",
    "filelist = [dir_sim+'tx_DAA-1_blocktime_ps0_5000obs_T=None.csv',\n",
    "            dir_sim+'tx_DAA-2_blocktime_ps0_5000obs_T=None.csv',\n",
    "            dir_sim+'tx_DAA_asert_blocktime_ps0_5000obs_T=None.csv',\n",
    "            dir_sim+'tx_DAA-0_blocktime_ps0_5000obs.csv'\n",
    "            ]\n",
    "df_stats = make_stats(filelist=filelist, dir_sim=dir_sim)"
   ]
  },
  {
   "cell_type": "code",
   "execution_count": 6,
   "metadata": {},
   "outputs": [
    {
     "data": {
      "text/html": [
       "<div>\n",
       "<style scoped>\n",
       "    .dataframe tbody tr th:only-of-type {\n",
       "        vertical-align: middle;\n",
       "    }\n",
       "\n",
       "    .dataframe tbody tr th {\n",
       "        vertical-align: top;\n",
       "    }\n",
       "\n",
       "    .dataframe thead th {\n",
       "        text-align: right;\n",
       "    }\n",
       "</style>\n",
       "<table border=\"1\" class=\"dataframe\">\n",
       "  <thead>\n",
       "    <tr style=\"text-align: right;\">\n",
       "      <th></th>\n",
       "      <th>tx_DAA-1_blocktime_ps0_5000obs_T=None.csv</th>\n",
       "      <th>tx_DAA-2_blocktime_ps0_5000obs_T=None.csv</th>\n",
       "      <th>tx_DAA_asert_blocktime_ps0_5000obs_T=None.csv</th>\n",
       "      <th>tx_DAA-0_blocktime_ps0_5000obs.csv</th>\n",
       "    </tr>\n",
       "  </thead>\n",
       "  <tbody>\n",
       "    <tr>\n",
       "      <th>mean</th>\n",
       "      <td>12.097660</td>\n",
       "      <td>10.034037</td>\n",
       "      <td>10.053136</td>\n",
       "      <td>9.759111</td>\n",
       "    </tr>\n",
       "    <tr>\n",
       "      <th>std</th>\n",
       "      <td>15.421153</td>\n",
       "      <td>10.218531</td>\n",
       "      <td>10.120275</td>\n",
       "      <td>9.758652</td>\n",
       "    </tr>\n",
       "    <tr>\n",
       "      <th>over60</th>\n",
       "      <td>1.000000</td>\n",
       "      <td>1.000000</td>\n",
       "      <td>1.000000</td>\n",
       "      <td>1.000000</td>\n",
       "    </tr>\n",
       "    <tr>\n",
       "      <th>over120</th>\n",
       "      <td>0.807400</td>\n",
       "      <td>0.176200</td>\n",
       "      <td>0.112800</td>\n",
       "      <td>0.053800</td>\n",
       "    </tr>\n",
       "    <tr>\n",
       "      <th>over180</th>\n",
       "      <td>0.442600</td>\n",
       "      <td>0.001600</td>\n",
       "      <td>0.000400</td>\n",
       "      <td>0.000000</td>\n",
       "    </tr>\n",
       "  </tbody>\n",
       "</table>\n",
       "</div>"
      ],
      "text/plain": [
       "         tx_DAA-1_blocktime_ps0_5000obs_T=None.csv  \\\n",
       "mean                                     12.097660   \n",
       "std                                      15.421153   \n",
       "over60                                    1.000000   \n",
       "over120                                   0.807400   \n",
       "over180                                   0.442600   \n",
       "\n",
       "         tx_DAA-2_blocktime_ps0_5000obs_T=None.csv  \\\n",
       "mean                                     10.034037   \n",
       "std                                      10.218531   \n",
       "over60                                    1.000000   \n",
       "over120                                   0.176200   \n",
       "over180                                   0.001600   \n",
       "\n",
       "         tx_DAA_asert_blocktime_ps0_5000obs_T=None.csv  \\\n",
       "mean                                         10.053136   \n",
       "std                                          10.120275   \n",
       "over60                                        1.000000   \n",
       "over120                                       0.112800   \n",
       "over180                                       0.000400   \n",
       "\n",
       "         tx_DAA-0_blocktime_ps0_5000obs.csv  \n",
       "mean                               9.759111  \n",
       "std                                9.758652  \n",
       "over60                             1.000000  \n",
       "over120                            0.053800  \n",
       "over180                            0.000000  "
      ]
     },
     "execution_count": 6,
     "metadata": {},
     "output_type": "execute_result"
    }
   ],
   "source": [
    "# DAA-0のW(t)はtx feeが決まる前に決まっている\n",
    "## DAA-1は「まあ多少はマシになっている」くらい\n",
    "df_stats"
   ]
  },
  {
   "cell_type": "code",
   "execution_count": null,
   "metadata": {},
   "outputs": [],
   "source": []
  }
 ],
 "metadata": {
  "interpreter": {
   "hash": "a66e7875295d9875495ad4b4e3c5ee51b4682ae77f4a737838e183715ad654b5"
  },
  "kernelspec": {
   "display_name": "Python 3.8.9 ('DAA_Lucas-fRXnFA3j')",
   "language": "python",
   "name": "python3"
  },
  "language_info": {
   "codemirror_mode": {
    "name": "ipython",
    "version": 3
   },
   "file_extension": ".py",
   "mimetype": "text/x-python",
   "name": "python",
   "nbconvert_exporter": "python",
   "pygments_lexer": "ipython3",
   "version": "3.8.9"
  },
  "orig_nbformat": 4
 },
 "nbformat": 4,
 "nbformat_minor": 2
}
